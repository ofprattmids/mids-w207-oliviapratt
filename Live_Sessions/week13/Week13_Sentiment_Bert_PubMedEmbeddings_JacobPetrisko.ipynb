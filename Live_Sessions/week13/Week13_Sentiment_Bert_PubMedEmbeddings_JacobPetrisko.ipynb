{
 "cells": [
  {
   "cell_type": "code",
   "execution_count": 1,
   "id": "equivalent-puzzle",
   "metadata": {},
   "outputs": [
    {
     "name": "stderr",
     "output_type": "stream",
     "text": [
      "2022-07-21 00:54:17.315232: I tensorflow/core/common_runtime/pluggable_device/pluggable_device_factory.cc:305] Could not identify NUMA node of platform GPU ID 0, defaulting to 0. Your kernel may not have been built with NUMA support.\n",
      "2022-07-21 00:54:17.315327: I tensorflow/core/common_runtime/pluggable_device/pluggable_device_factory.cc:271] Created TensorFlow device (/job:localhost/replica:0/task:0/device:GPU:0 with 0 MB memory) -> physical PluggableDevice (device: 0, name: METAL, pci bus id: <undefined>)\n"
     ]
    },
    {
     "name": "stdout",
     "output_type": "stream",
     "text": [
      "Metal device set to: Apple M1 Max\n"
     ]
    }
   ],
   "source": [
    "# standard\n",
    "import pandas as pd\n",
    "import numpy as np\n",
    "import random\n",
    "import os\n",
    "\n",
    "# sklearn\n",
    "from sklearn.model_selection import train_test_split\n",
    "from sklearn.dummy import DummyClassifier\n",
    "from sklearn.model_selection import cross_val_score\n",
    "\n",
    "# tf and keras\n",
    "import tensorflow as tf\n",
    "from tensorflow import keras\n",
    "from tensorflow.keras import Sequential\n",
    "from tensorflow.keras.layers import Dense\n",
    "from tensorflow.keras.layers import Flatten\n",
    "from tensorflow.keras.layers import Conv1D\n",
    "from tensorflow.keras.layers import MaxPooling1D\n",
    "from tensorflow.keras.layers import GlobalAveragePooling1D\n",
    "from tensorflow.keras.layers import Embedding\n",
    "from tensorflow.keras.preprocessing.text import Tokenizer\n",
    "from tensorflow.keras.preprocessing import sequence\n",
    "from sklearn.preprocessing import LabelEncoder\n",
    "import tensorflow_datasets as tfds\n",
    "\n",
    "# BERT\n",
    "from transformers import AutoTokenizer, TFAutoModel\n",
    "from transformers import TFAutoModelForSequenceClassification\n",
    "from transformers import BertTokenizer, TFBertForSequenceClassification\n",
    "\n",
    "# plots and images\n",
    "import seaborn as sns\n",
    "import matplotlib.pyplot as plt\n",
    "from IPython.display import Image\n",
    "\n",
    "# others\n",
    "import re\n",
    "import tqdm\n",
    "import warnings\n",
    "warnings.filterwarnings(\"ignore\")\n",
    "\n",
    "#silence TF\n",
    "os.environ['TF_CPP_MIN_LOG_LEVEL'] = '3' \n",
    "\n",
    "\n",
    "random.seed(2)\n",
    "%matplotlib inline\n",
    "\n",
    "# FILL IN CODE HERE #\n",
    "DATA_PATH = './' # replace with your path"
   ]
  },
  {
   "cell_type": "markdown",
   "id": "undefined-landing",
   "metadata": {},
   "source": [
    "``Functions``"
   ]
  },
  {
   "cell_type": "code",
   "execution_count": 2,
   "id": "overall-relation",
   "metadata": {},
   "outputs": [],
   "source": [
    "def preprocessor(text):\n",
    "    text = re.sub('<[^>]*>', '', text)\n",
    "    emoticons = re.findall('(?::|;|=)(?:-)?(?:\\)|\\(|D|P)',\n",
    "                           text)\n",
    "    text = (re.sub('[\\W]+', ' ', text.lower()) +\n",
    "            ' '.join(emoticons).replace('-', ''))\n",
    "    return text"
   ]
  },
  {
   "cell_type": "code",
   "execution_count": 3,
   "id": "closing-royalty",
   "metadata": {},
   "outputs": [],
   "source": [
    "def confusion_matrix_plot(conf_matrix):\n",
    "    \"\"\" Confusion matrix matplotlib plot\n",
    "    # param conf_matrix: nested list of TP, TN, FP, FN\n",
    "    # return: None\n",
    "    \"\"\"\n",
    "    fig, ax = plt.subplots(figsize=(2.5, 2.5))\n",
    "    ax.matshow(conf_matrix, cmap=plt.cm.Blues, alpha=0.3)\n",
    "    for i in range(conf_matrix.shape[0]):\n",
    "        for j in range(conf_matrix.shape[1]):\n",
    "            ax.text(x=j, y=i, s=conf_matrix[i, j], va='center', ha='center')\n",
    "\n",
    "    plt.xlabel('Predicted label')\n",
    "    plt.ylabel('True label')\n",
    "\n",
    "    plt.tight_layout()\n",
    "    plt.show()"
   ]
  },
  {
   "cell_type": "markdown",
   "id": "sharp-asset",
   "metadata": {},
   "source": [
    "---\n",
    "## Read data"
   ]
  },
  {
   "cell_type": "code",
   "execution_count": 4,
   "id": "labeled-wallpaper",
   "metadata": {},
   "outputs": [
    {
     "name": "stdout",
     "output_type": "stream",
     "text": [
      "Number of reviews: 215063\n",
      "Reviews collected between: April 1, 2008 and  September 9, 2017\n",
      "Unique rating values: [ 1.  2.  3.  4.  5.  6.  7.  8.  9. 10.]\n"
     ]
    },
    {
     "data": {
      "text/html": [
       "<div>\n",
       "<style scoped>\n",
       "    .dataframe tbody tr th:only-of-type {\n",
       "        vertical-align: middle;\n",
       "    }\n",
       "\n",
       "    .dataframe tbody tr th {\n",
       "        vertical-align: top;\n",
       "    }\n",
       "\n",
       "    .dataframe thead th {\n",
       "        text-align: right;\n",
       "    }\n",
       "</style>\n",
       "<table border=\"1\" class=\"dataframe\">\n",
       "  <thead>\n",
       "    <tr style=\"text-align: right;\">\n",
       "      <th></th>\n",
       "      <th>Unnamed: 0</th>\n",
       "      <th>drugName</th>\n",
       "      <th>condition</th>\n",
       "      <th>review</th>\n",
       "      <th>rating</th>\n",
       "      <th>date</th>\n",
       "      <th>usefulCount</th>\n",
       "    </tr>\n",
       "  </thead>\n",
       "  <tbody>\n",
       "    <tr>\n",
       "      <th>0</th>\n",
       "      <td>0</td>\n",
       "      <td>Valsartan</td>\n",
       "      <td>Left Ventricular Dysfunction</td>\n",
       "      <td>\"It has no side effect, I take it in combinati...</td>\n",
       "      <td>9.0</td>\n",
       "      <td>May 20, 2012</td>\n",
       "      <td>27</td>\n",
       "    </tr>\n",
       "    <tr>\n",
       "      <th>1</th>\n",
       "      <td>1</td>\n",
       "      <td>Guanfacine</td>\n",
       "      <td>ADHD</td>\n",
       "      <td>\"My son is halfway through his fourth week of ...</td>\n",
       "      <td>8.0</td>\n",
       "      <td>April 27, 2010</td>\n",
       "      <td>192</td>\n",
       "    </tr>\n",
       "    <tr>\n",
       "      <th>2</th>\n",
       "      <td>2</td>\n",
       "      <td>Lybrel</td>\n",
       "      <td>Birth Control</td>\n",
       "      <td>\"I used to take another oral contraceptive, wh...</td>\n",
       "      <td>5.0</td>\n",
       "      <td>December 14, 2009</td>\n",
       "      <td>17</td>\n",
       "    </tr>\n",
       "    <tr>\n",
       "      <th>3</th>\n",
       "      <td>3</td>\n",
       "      <td>Ortho Evra</td>\n",
       "      <td>Birth Control</td>\n",
       "      <td>\"This is my first time using any form of birth...</td>\n",
       "      <td>8.0</td>\n",
       "      <td>November 3, 2015</td>\n",
       "      <td>10</td>\n",
       "    </tr>\n",
       "    <tr>\n",
       "      <th>4</th>\n",
       "      <td>4</td>\n",
       "      <td>Buprenorphine / naloxone</td>\n",
       "      <td>Opiate Dependence</td>\n",
       "      <td>\"Suboxone has completely turned my life around...</td>\n",
       "      <td>9.0</td>\n",
       "      <td>November 27, 2016</td>\n",
       "      <td>37</td>\n",
       "    </tr>\n",
       "  </tbody>\n",
       "</table>\n",
       "</div>"
      ],
      "text/plain": [
       "   Unnamed: 0                  drugName                     condition  \\\n",
       "0           0                 Valsartan  Left Ventricular Dysfunction   \n",
       "1           1                Guanfacine                          ADHD   \n",
       "2           2                    Lybrel                 Birth Control   \n",
       "3           3                Ortho Evra                 Birth Control   \n",
       "4           4  Buprenorphine / naloxone             Opiate Dependence   \n",
       "\n",
       "                                              review  rating  \\\n",
       "0  \"It has no side effect, I take it in combinati...     9.0   \n",
       "1  \"My son is halfway through his fourth week of ...     8.0   \n",
       "2  \"I used to take another oral contraceptive, wh...     5.0   \n",
       "3  \"This is my first time using any form of birth...     8.0   \n",
       "4  \"Suboxone has completely turned my life around...     9.0   \n",
       "\n",
       "                date  usefulCount  \n",
       "0       May 20, 2012           27  \n",
       "1     April 27, 2010          192  \n",
       "2  December 14, 2009           17  \n",
       "3   November 3, 2015           10  \n",
       "4  November 27, 2016           37  "
      ]
     },
     "execution_count": 4,
     "metadata": {},
     "output_type": "execute_result"
    }
   ],
   "source": [
    "df_init = pd.read_csv('./drugs_raw.csv')\n",
    "print('Number of reviews:', df_init.shape[0])\n",
    "print('Reviews collected between:', df_init.date.min(), 'and ', df_init.date.max())\n",
    "print('Unique rating values:', np.sort(df_init.rating.unique()))\n",
    "df_init.head()"
   ]
  },
  {
   "cell_type": "markdown",
   "id": "former-direction",
   "metadata": {},
   "source": [
    "---\n",
    "## Data preprocessing"
   ]
  },
  {
   "cell_type": "markdown",
   "id": "printable-criminal",
   "metadata": {},
   "source": [
    "When building a neural network, it is import to get the data into the proper form. Let's do a couple of text preprocessing steps."
   ]
  },
  {
   "cell_type": "markdown",
   "id": "therapeutic-evanescence",
   "metadata": {},
   "source": [
    "``Step 1: Remove unwanted review characters``"
   ]
  },
  {
   "cell_type": "code",
   "execution_count": 5,
   "id": "catholic-irish",
   "metadata": {},
   "outputs": [],
   "source": [
    "# remove HTML markup, punctuation, and other non-letter characters\n",
    "df_init['review'] = df_init['review'].apply(preprocessor)"
   ]
  },
  {
   "cell_type": "markdown",
   "id": "ruled-blond",
   "metadata": {},
   "source": [
    "``Step 2: Remove outlier reviews``"
   ]
  },
  {
   "cell_type": "markdown",
   "id": "weighted-prime",
   "metadata": {},
   "source": [
    "I want to remove any reviews with no text or extremely long text. Let's see if we find any such reviews."
   ]
  },
  {
   "cell_type": "code",
   "execution_count": 6,
   "id": "coordinated-guide",
   "metadata": {},
   "outputs": [
    {
     "name": "stdout",
     "output_type": "stream",
     "text": [
      "Zero-length reviews: 2\n"
     ]
    },
    {
     "data": {
      "text/html": [
       "<div>\n",
       "<style scoped>\n",
       "    .dataframe tbody tr th:only-of-type {\n",
       "        vertical-align: middle;\n",
       "    }\n",
       "\n",
       "    .dataframe tbody tr th {\n",
       "        vertical-align: top;\n",
       "    }\n",
       "\n",
       "    .dataframe thead th {\n",
       "        text-align: right;\n",
       "    }\n",
       "</style>\n",
       "<table border=\"1\" class=\"dataframe\">\n",
       "  <thead>\n",
       "    <tr style=\"text-align: right;\">\n",
       "      <th></th>\n",
       "      <th>Unnamed: 0</th>\n",
       "      <th>drugName</th>\n",
       "      <th>condition</th>\n",
       "      <th>review</th>\n",
       "      <th>rating</th>\n",
       "      <th>date</th>\n",
       "      <th>usefulCount</th>\n",
       "    </tr>\n",
       "  </thead>\n",
       "  <tbody>\n",
       "    <tr>\n",
       "      <th>123174</th>\n",
       "      <td>123174</td>\n",
       "      <td>Ifosfamide</td>\n",
       "      <td>Testicular Cance</td>\n",
       "      <td></td>\n",
       "      <td>10.0</td>\n",
       "      <td>January 8, 2017</td>\n",
       "      <td>0</td>\n",
       "    </tr>\n",
       "    <tr>\n",
       "      <th>128652</th>\n",
       "      <td>128652</td>\n",
       "      <td>Ifex</td>\n",
       "      <td>Testicular Cance</td>\n",
       "      <td></td>\n",
       "      <td>10.0</td>\n",
       "      <td>January 8, 2017</td>\n",
       "      <td>0</td>\n",
       "    </tr>\n",
       "  </tbody>\n",
       "</table>\n",
       "</div>"
      ],
      "text/plain": [
       "        Unnamed: 0    drugName         condition review  rating  \\\n",
       "123174      123174  Ifosfamide  Testicular Cance           10.0   \n",
       "128652      128652        Ifex  Testicular Cance           10.0   \n",
       "\n",
       "                   date  usefulCount  \n",
       "123174  January 8, 2017            0  \n",
       "128652  January 8, 2017            0  "
      ]
     },
     "metadata": {},
     "output_type": "display_data"
    }
   ],
   "source": [
    "# find zero-length reviews\n",
    "zero_len_reviews = df_init[df_init['review'].str.len().eq(1)]\n",
    "print(\"Zero-length reviews: {}\".format(zero_len_reviews.shape[0]))\n",
    "display(zero_len_reviews)"
   ]
  },
  {
   "cell_type": "code",
   "execution_count": 7,
   "id": "average-proceeding",
   "metadata": {},
   "outputs": [
    {
     "name": "stdout",
     "output_type": "stream",
     "text": [
      "Distribution of review length:\n"
     ]
    },
    {
     "data": {
      "text/plain": [
       "count    215063.000000\n",
       "mean        444.877552\n",
       "std         233.744124\n",
       "min           1.000000\n",
       "25%         254.000000\n",
       "50%         443.000000\n",
       "75%         670.000000\n",
       "max       10416.000000\n",
       "Name: review, dtype: float64"
      ]
     },
     "metadata": {},
     "output_type": "display_data"
    },
    {
     "name": "stdout",
     "output_type": "stream",
     "text": [
      "\n",
      "Reviews with more than 800 tokens: 690\n"
     ]
    }
   ],
   "source": [
    "# find extremely long text reviews\n",
    "print('Distribution of review length:')\n",
    "display(df_init.review.str.len().describe())\n",
    "\n",
    "# print number of reviews with more than 800 tokens\n",
    "print('\\nReviews with more than 800 tokens:', df_init[df_init.review.str.len().gt(800)].shape[0])"
   ]
  },
  {
   "cell_type": "markdown",
   "id": "positive-protest",
   "metadata": {},
   "source": [
    "It seems that I have two reviews with zero length and 374 reviews with more than 1000 tokens. I am going to remove them from our data."
   ]
  },
  {
   "cell_type": "code",
   "execution_count": 8,
   "id": "crude-breath",
   "metadata": {},
   "outputs": [
    {
     "name": "stdout",
     "output_type": "stream",
     "text": [
      "Number of reviews: 214371\n"
     ]
    }
   ],
   "source": [
    "# remove zero length and extremely long reviews\n",
    "df_init = df_init[df_init['review'].str.len().gt(1) & df_init['review'].str.len().le(800)]\n",
    "print('Number of reviews:', df_init.shape[0])"
   ]
  },
  {
   "cell_type": "markdown",
   "id": "restricted-genetics",
   "metadata": {},
   "source": [
    "Finally, let's look at the distribution of our reviews length after preprocessing"
   ]
  },
  {
   "cell_type": "code",
   "execution_count": 9,
   "id": "prerequisite-tiger",
   "metadata": {},
   "outputs": [
    {
     "data": {
      "text/plain": [
       "Text(0.5, 0, 'Number of tokens per review')"
      ]
     },
     "execution_count": 9,
     "metadata": {},
     "output_type": "execute_result"
    },
    {
     "data": {
      "image/png": "[encoded data removed]",
      "text/plain": [
       "<Figure size 432x288 with 1 Axes>"
      ]
     },
     "metadata": {
      "needs_background": "light"
     },
     "output_type": "display_data"
    }
   ],
   "source": [
    "plt.hist(df_init.review.str.len());\n",
    "plt.ylabel('Count of reviews')\n",
    "plt.xlabel('Number of tokens per review')"
   ]
  },
  {
   "cell_type": "markdown",
   "id": "velvet-uruguay",
   "metadata": {},
   "source": [
    "``Step 2: Create binary sentiment column``"
   ]
  },
  {
   "cell_type": "markdown",
   "id": "trained-texture",
   "metadata": {},
   "source": [
    "We will define our sentiment column as follows:\n",
    "\n",
    "   - positive (1) if rating score is between 8-10\n",
    "   - negative (0) if rating score is between 1-3\n",
    "    \n",
    "We dill drop any reviews that are netural, i.e., rating is between 4-7."
   ]
  },
  {
   "cell_type": "code",
   "execution_count": 10,
   "id": "answering-marker",
   "metadata": {},
   "outputs": [],
   "source": [
    "# create sentiment column\n",
    "df_init['sentiment'] = np.where(df_init.rating.isin((1, 2, 3)), 'negative',\n",
    "                          np.where(df_init.rating.isin((8,9,10)), 'positive', 'neutral'))\n",
    "\n",
    "# drop review if sentiment is netural\n",
    "df = df_init[~df_init.sentiment.eq('neutral')]\n",
    "\n",
    "# rename sentiment to positive = 1, negative = 0\n",
    "df['sentiment'] = np.where(df.sentiment.eq('positive'), 1, 0)"
   ]
  },
  {
   "cell_type": "markdown",
   "id": "favorite-inspiration",
   "metadata": {},
   "source": [
    "Let's do a quick inspection of our rating and sentiment columns"
   ]
  },
  {
   "cell_type": "code",
   "execution_count": 11,
   "id": "employed-respect",
   "metadata": {},
   "outputs": [
    {
     "data": {
      "image/png": "[encoded data removed]",
      "text/plain": [
       "<Figure size 720x216 with 2 Axes>"
      ]
     },
     "metadata": {
      "needs_background": "light"
     },
     "output_type": "display_data"
    }
   ],
   "source": [
    "# rating and sentiment histogram after preprocessing\n",
    "cols = ['rating', 'sentiment']\n",
    "nrows, ncols = 1, 2\n",
    "\n",
    "f, axs = plt.subplots(1, 2, figsize=(10,3))\n",
    "for idx, ax in enumerate(axs):\n",
    "    sns.histplot(\n",
    "    data=df,\n",
    "    stat=\"count\",\n",
    "    x = cols[idx],\n",
    "    ax=ax\n",
    "    )\n",
    "\n",
    "    # add labels and ticks\n",
    "    ax.set(xlabel=cols[idx])\n",
    "    #plt.xticks(np.arange(1,11,1))\n",
    "    sns.despine()"
   ]
  },
  {
   "cell_type": "markdown",
   "id": "seasonal-festival",
   "metadata": {},
   "source": [
    "Our dataset is very imbalanced. We will correct for class imbalance by taking only 46,000 random examples from each class."
   ]
  },
  {
   "cell_type": "code",
   "execution_count": 12,
   "id": "persistent-snake",
   "metadata": {},
   "outputs": [
    {
     "name": "stdout",
     "output_type": "stream",
     "text": [
      "After preprocessing, our data contains 92000 reviews.\n"
     ]
    }
   ],
   "source": [
    "# randomly draw 46000 examples from each class\n",
    "temp_positive = df[df.sentiment.eq(1)].sample(\n",
    "    n=46000,\n",
    "    replace=False\n",
    ")\n",
    "\n",
    "temp_negative = df[df.sentiment.eq(0)].sample(\n",
    "    n=46000,\n",
    "    replace=False\n",
    ")\n",
    "\n",
    "df_balanced = pd.concat(\n",
    "    [temp_positive, temp_negative],\n",
    "    axis=0)\n",
    "\n",
    "# shuffle df_balanced\n",
    "df_balanced.sample(frac=1) # frac=1 retains all the data\n",
    "df_balanced.reset_index(drop=True, inplace=True) # reset index\n",
    "\n",
    "print('After preprocessing, our data contains', df_balanced.shape[0], 'reviews.')"
   ]
  },
  {
   "cell_type": "markdown",
   "id": "quarterly-bibliography",
   "metadata": {},
   "source": [
    "``Step 3: Split data into training, val, test``"
   ]
  },
  {
   "cell_type": "markdown",
   "id": "crucial-annex",
   "metadata": {},
   "source": [
    "We will do a [60, 20, 20] split between training, validation and test sets"
   ]
  },
  {
   "cell_type": "code",
   "execution_count": 13,
   "id": "abandoned-values",
   "metadata": {},
   "outputs": [
    {
     "data": {
      "text/html": [
       "<div>\n",
       "<style scoped>\n",
       "    .dataframe tbody tr th:only-of-type {\n",
       "        vertical-align: middle;\n",
       "    }\n",
       "\n",
       "    .dataframe tbody tr th {\n",
       "        vertical-align: top;\n",
       "    }\n",
       "\n",
       "    .dataframe thead th {\n",
       "        text-align: right;\n",
       "    }\n",
       "</style>\n",
       "<table border=\"1\" class=\"dataframe\">\n",
       "  <thead>\n",
       "    <tr style=\"text-align: right;\">\n",
       "      <th></th>\n",
       "      <th>review</th>\n",
       "      <th>sentiment</th>\n",
       "    </tr>\n",
       "  </thead>\n",
       "  <tbody>\n",
       "    <tr>\n",
       "      <th>0</th>\n",
       "      <td>prior to starting med school i was having num...</td>\n",
       "      <td>1</td>\n",
       "    </tr>\n",
       "    <tr>\n",
       "      <th>1</th>\n",
       "      <td>i 039 ve smoked for four years started at age...</td>\n",
       "      <td>1</td>\n",
       "    </tr>\n",
       "    <tr>\n",
       "      <th>2</th>\n",
       "      <td>i have been using yaz birth control since jul...</td>\n",
       "      <td>1</td>\n",
       "    </tr>\n",
       "    <tr>\n",
       "      <th>3</th>\n",
       "      <td>this medicine was given to me after dental wo...</td>\n",
       "      <td>1</td>\n",
       "    </tr>\n",
       "    <tr>\n",
       "      <th>4</th>\n",
       "      <td>there are no two ways about it vivitrol saved...</td>\n",
       "      <td>1</td>\n",
       "    </tr>\n",
       "  </tbody>\n",
       "</table>\n",
       "</div>"
      ],
      "text/plain": [
       "                                              review  sentiment\n",
       "0   prior to starting med school i was having num...          1\n",
       "1   i 039 ve smoked for four years started at age...          1\n",
       "2   i have been using yaz birth control since jul...          1\n",
       "3   this medicine was given to me after dental wo...          1\n",
       "4   there are no two ways about it vivitrol saved...          1"
      ]
     },
     "execution_count": 13,
     "metadata": {},
     "output_type": "execute_result"
    }
   ],
   "source": [
    "# first, keep only review and sentiment from df_balanced\n",
    "df_balanced = df_balanced[['review', 'sentiment']]\n",
    "df_balanced.head(5)"
   ]
  },
  {
   "cell_type": "code",
   "execution_count": 14,
   "id": "affiliated-wichita",
   "metadata": {},
   "outputs": [],
   "source": [
    "# split = [60, 20, 20]\n",
    "train_valid_reviews, test_reviews, train_valid_labels, test_labels =train_test_split(\n",
    "    df_balanced.review,\n",
    "    df_balanced.sentiment,\n",
    "    test_size=0.20,\n",
    "    random_state=1,\n",
    "    shuffle=True\n",
    ")\n",
    "\n",
    "train_reviews, valid_reviews, train_labels, valid_labels = train_test_split(\n",
    "    train_valid_reviews,\n",
    "    train_valid_labels,\n",
    "    test_size=0.20,\n",
    "    random_state=1,\n",
    "    shuffle=True\n",
    ")"
   ]
  },
  {
   "cell_type": "code",
   "execution_count": 15,
   "id": "consolidated-optics",
   "metadata": {},
   "outputs": [
    {
     "name": "stdout",
     "output_type": "stream",
     "text": [
      "Size train reviews: 58880\n",
      "Size dev reviews 14720\n",
      "Size test reviews 18400\n"
     ]
    }
   ],
   "source": [
    "print('Size train reviews:', len(train_reviews))\n",
    "print('Size dev reviews', len(valid_reviews))\n",
    "print('Size test reviews', len(test_reviews))"
   ]
  },
  {
   "cell_type": "markdown",
   "id": "wrong-windsor",
   "metadata": {},
   "source": [
    "``Step 4: Transfer learning on BERT (trainable BERT layers)``"
   ]
  },
  {
   "cell_type": "markdown",
   "id": "dedicated-december",
   "metadata": {},
   "source": [
    "Supporting functions"
   ]
  },
  {
   "cell_type": "code",
   "execution_count": 50,
   "id": "cubic-humanity",
   "metadata": {},
   "outputs": [],
   "source": [
    "def batch_encode(X, tokenizer, max_seq_len):\n",
    "    return tokenizer.batch_encode_plus(\n",
    "    X,\n",
    "    max_length=max_seq_len,\n",
    "    add_special_tokens=True,\n",
    "    return_attention_mask=True,\n",
    "    return_token_type_ids=False,\n",
    "    pad_to_max_length=True,\n",
    "    return_tensors='tf'\n",
    ")"
   ]
  },
  {
   "cell_type": "code",
   "execution_count": 51,
   "id": "fiscal-sense",
   "metadata": {},
   "outputs": [],
   "source": [
    "def create_model(max_sequence_len, model_name, num_labels):\n",
    "    # BERT layers are trainable by default\n",
    "    bert_model = TFBertForSequenceClassification.from_pretrained(model_name, num_labels=num_labels)\n",
    "\n",
    "    input_ids = keras.layers.Input(shape=(max_sequence_len,), dtype=tf.int32, name='input_ids')\n",
    "    attention_mask = keras.layers.Input((max_sequence_len,), dtype=tf.int32, name='attention_mask')\n",
    "    \n",
    "    # Use input_ids and attention_mask as input to BERT\n",
    "    output = bert_model([input_ids, attention_mask])[0]\n",
    "\n",
    "    # Append our classification layer to BERT\n",
    "    output = keras.layers.Dense(num_labels, activation='sigmoid')(output)\n",
    "\n",
    "    model = keras.models.Model(inputs=[input_ids, attention_mask], outputs=output)\n",
    "    \n",
    "    return model"
   ]
  },
  {
   "cell_type": "code",
   "execution_count": 52,
   "id": "biblical-flash",
   "metadata": {},
   "outputs": [],
   "source": [
    "max_seq_len = 128\n",
    "model_name = \"cambridgeltl/SapBERT-from-PubMedBERT-fulltext\" "
   ]
  },
  {
   "cell_type": "code",
   "execution_count": 53,
   "id": "latter-opera",
   "metadata": {},
   "outputs": [],
   "source": [
    "# Load PubMedBERT tokenizer\n",
    "\n",
    "tokenizer = BertTokenizer.from_pretrained(model_name)"
   ]
  },
  {
   "cell_type": "code",
   "execution_count": 54,
   "id": "downtown-latvia",
   "metadata": {},
   "outputs": [
    {
     "name": "stderr",
     "output_type": "stream",
     "text": [
      "Truncation was not explicitly activated but `max_length` is provided a specific value, please use `truncation=True` to explicitly truncate examples to max length. Defaulting to 'longest_first' truncation strategy. If you encode pairs of sequences (GLUE-style) with the tokenizer you can select this strategy more precisely by providing a specific strategy to `truncation`.\n"
     ]
    }
   ],
   "source": [
    "# Prepare our input values (tokenizing, adding special tokens, padding, and attention mask)\n",
    "\n",
    "train_x = batch_encode(train_reviews, tokenizer, max_seq_len)\n",
    "val_x = batch_encode(valid_reviews, tokenizer, max_seq_len)\n",
    "test_x = batch_encode(test_reviews, tokenizer, max_seq_len)\n",
    "\n",
    "train_y = train_labels\n",
    "val_y = valid_labels\n",
    "test_y = test_labels"
   ]
  },
  {
   "cell_type": "code",
   "execution_count": 21,
   "id": "wireless-melissa",
   "metadata": {},
   "outputs": [
    {
     "name": "stderr",
     "output_type": "stream",
     "text": [
      "All model checkpoint layers were used when initializing TFBertForSequenceClassification.\n",
      "\n",
      "Some layers of TFBertForSequenceClassification were not initialized from the model checkpoint at cambridgeltl/SapBERT-from-PubMedBERT-fulltext and are newly initialized: ['classifier']\n",
      "You should probably TRAIN this model on a down-stream task to be able to use it for predictions and inference.\n"
     ]
    }
   ],
   "source": [
    "# Create and compile model\n",
    "\n",
    "model = create_model(max_seq_len, model_name, 1)\n",
    "\n",
    "model.compile(optimizer=keras.optimizers.Adam(learning_rate=3e-5), \n",
    "              loss='binary_crossentropy', \n",
    "              metrics=['binary_accuracy'])"
   ]
  },
  {
   "cell_type": "code",
   "execution_count": 22,
   "id": "protecting-trainer",
   "metadata": {},
   "outputs": [
    {
     "name": "stdout",
     "output_type": "stream",
     "text": [
      "Epoch 1/25\n"
     ]
    },
    {
     "name": "stderr",
     "output_type": "stream",
     "text": [
      "2022-07-21 00:57:30.001540: W tensorflow/core/platform/profile_utils/cpu_utils.cc:128] Failed to get CPU frequency: 0 Hz\n"
     ]
    },
    {
     "name": "stdout",
     "output_type": "stream",
     "text": [
      "1840/1840 [==============================] - ETA: 0s - loss: 0.2660 - binary_accuracy: 0.8901\n",
      "Epoch 1: val_binary_accuracy improved from -inf to 0.93132, saving model to ./transfer_models/01-0.931\n"
     ]
    },
    {
     "name": "stderr",
     "output_type": "stream",
     "text": [
      "2022-07-21 01:17:46.546442: W tensorflow/python/util/util.cc:368] Sets are not currently considered sequences, but this may change in the future, so consider avoiding using them.\n",
      "WARNING:absl:Found untraced functions such as embeddings_layer_call_fn, embeddings_layer_call_and_return_conditional_losses, encoder_layer_call_fn, encoder_layer_call_and_return_conditional_losses, pooler_layer_call_fn while saving (showing 5 of 420). These functions will not be directly callable after loading.\n"
     ]
    },
    {
     "name": "stdout",
     "output_type": "stream",
     "text": [
      "INFO:tensorflow:Assets written to: ./transfer_models/01-0.931/assets\n"
     ]
    },
    {
     "name": "stderr",
     "output_type": "stream",
     "text": [
      "INFO:tensorflow:Assets written to: ./transfer_models/01-0.931/assets\n"
     ]
    },
    {
     "name": "stdout",
     "output_type": "stream",
     "text": [
      "1840/1840 [==============================] - 1248s 674ms/step - loss: 0.2660 - binary_accuracy: 0.8901 - val_loss: 0.1867 - val_binary_accuracy: 0.9313\n",
      "Epoch 2/25\n",
      "1840/1840 [==============================] - ETA: 0s - loss: 0.1451 - binary_accuracy: 0.9469\n",
      "Epoch 2: val_binary_accuracy improved from 0.93132 to 0.93302, saving model to ./transfer_models/02-0.933\n"
     ]
    },
    {
     "name": "stderr",
     "output_type": "stream",
     "text": [
      "WARNING:absl:Found untraced functions such as embeddings_layer_call_fn, embeddings_layer_call_and_return_conditional_losses, encoder_layer_call_fn, encoder_layer_call_and_return_conditional_losses, pooler_layer_call_fn while saving (showing 5 of 420). These functions will not be directly callable after loading.\n"
     ]
    },
    {
     "name": "stdout",
     "output_type": "stream",
     "text": [
      "INFO:tensorflow:Assets written to: ./transfer_models/02-0.933/assets\n"
     ]
    },
    {
     "name": "stderr",
     "output_type": "stream",
     "text": [
      "INFO:tensorflow:Assets written to: ./transfer_models/02-0.933/assets\n"
     ]
    },
    {
     "name": "stdout",
     "output_type": "stream",
     "text": [
      "1840/1840 [==============================] - 1173s 637ms/step - loss: 0.1451 - binary_accuracy: 0.9469 - val_loss: 0.1766 - val_binary_accuracy: 0.9330\n",
      "Epoch 3/25\n",
      "1840/1840 [==============================] - ETA: 0s - loss: 0.0892 - binary_accuracy: 0.9690\n",
      "Epoch 3: val_binary_accuracy improved from 0.93302 to 0.94355, saving model to ./transfer_models/03-0.944\n"
     ]
    },
    {
     "name": "stderr",
     "output_type": "stream",
     "text": [
      "WARNING:absl:Found untraced functions such as embeddings_layer_call_fn, embeddings_layer_call_and_return_conditional_losses, encoder_layer_call_fn, encoder_layer_call_and_return_conditional_losses, pooler_layer_call_fn while saving (showing 5 of 420). These functions will not be directly callable after loading.\n"
     ]
    },
    {
     "name": "stdout",
     "output_type": "stream",
     "text": [
      "INFO:tensorflow:Assets written to: ./transfer_models/03-0.944/assets\n"
     ]
    },
    {
     "name": "stderr",
     "output_type": "stream",
     "text": [
      "INFO:tensorflow:Assets written to: ./transfer_models/03-0.944/assets\n"
     ]
    },
    {
     "name": "stdout",
     "output_type": "stream",
     "text": [
      "1840/1840 [==============================] - 1146s 623ms/step - loss: 0.0892 - binary_accuracy: 0.9690 - val_loss: 0.1806 - val_binary_accuracy: 0.9435\n",
      "Epoch 4/25\n",
      "1840/1840 [==============================] - ETA: 0s - loss: 0.0593 - binary_accuracy: 0.9805\n",
      "Epoch 4: val_binary_accuracy improved from 0.94355 to 0.94375, saving model to ./transfer_models/04-0.944\n"
     ]
    },
    {
     "name": "stderr",
     "output_type": "stream",
     "text": [
      "WARNING:absl:Found untraced functions such as embeddings_layer_call_fn, embeddings_layer_call_and_return_conditional_losses, encoder_layer_call_fn, encoder_layer_call_and_return_conditional_losses, pooler_layer_call_fn while saving (showing 5 of 420). These functions will not be directly callable after loading.\n"
     ]
    },
    {
     "name": "stdout",
     "output_type": "stream",
     "text": [
      "INFO:tensorflow:Assets written to: ./transfer_models/04-0.944/assets\n"
     ]
    },
    {
     "name": "stderr",
     "output_type": "stream",
     "text": [
      "INFO:tensorflow:Assets written to: ./transfer_models/04-0.944/assets\n"
     ]
    },
    {
     "name": "stdout",
     "output_type": "stream",
     "text": [
      "1840/1840 [==============================] - 1139s 619ms/step - loss: 0.0593 - binary_accuracy: 0.9805 - val_loss: 0.1809 - val_binary_accuracy: 0.9438\n",
      "Epoch 5/25\n",
      "1840/1840 [==============================] - ETA: 0s - loss: 0.0463 - binary_accuracy: 0.9850\n",
      "Epoch 5: val_binary_accuracy improved from 0.94375 to 0.94667, saving model to ./transfer_models/05-0.947\n"
     ]
    },
    {
     "name": "stderr",
     "output_type": "stream",
     "text": [
      "WARNING:absl:Found untraced functions such as embeddings_layer_call_fn, embeddings_layer_call_and_return_conditional_losses, encoder_layer_call_fn, encoder_layer_call_and_return_conditional_losses, pooler_layer_call_fn while saving (showing 5 of 420). These functions will not be directly callable after loading.\n"
     ]
    },
    {
     "name": "stdout",
     "output_type": "stream",
     "text": [
      "INFO:tensorflow:Assets written to: ./transfer_models/05-0.947/assets\n"
     ]
    },
    {
     "name": "stderr",
     "output_type": "stream",
     "text": [
      "INFO:tensorflow:Assets written to: ./transfer_models/05-0.947/assets\n"
     ]
    },
    {
     "name": "stdout",
     "output_type": "stream",
     "text": [
      "1840/1840 [==============================] - 1135s 617ms/step - loss: 0.0463 - binary_accuracy: 0.9850 - val_loss: 0.1840 - val_binary_accuracy: 0.9467\n",
      "Epoch 6/25\n",
      "1840/1840 [==============================] - ETA: 0s - loss: 0.0377 - binary_accuracy: 0.9878\n",
      "Epoch 6: val_binary_accuracy did not improve from 0.94667\n",
      "1840/1840 [==============================] - 1094s 595ms/step - loss: 0.0377 - binary_accuracy: 0.9878 - val_loss: 0.2108 - val_binary_accuracy: 0.9442\n",
      "Epoch 7/25\n",
      "1840/1840 [==============================] - ETA: 0s - loss: 0.0312 - binary_accuracy: 0.9896\n",
      "Epoch 7: val_binary_accuracy did not improve from 0.94667\n",
      "1840/1840 [==============================] - 1104s 600ms/step - loss: 0.0312 - binary_accuracy: 0.9896 - val_loss: 0.2810 - val_binary_accuracy: 0.9448\n",
      "Epoch 8/25\n",
      "1840/1840 [==============================] - ETA: 0s - loss: 0.0286 - binary_accuracy: 0.9908\n",
      "Epoch 8: val_binary_accuracy did not improve from 0.94667\n",
      "1840/1840 [==============================] - 1100s 598ms/step - loss: 0.0286 - binary_accuracy: 0.9908 - val_loss: 0.2471 - val_binary_accuracy: 0.9363\n",
      "Epoch 9/25\n",
      "1840/1840 [==============================] - ETA: 0s - loss: 0.0245 - binary_accuracy: 0.9922\n",
      "Epoch 9: val_binary_accuracy did not improve from 0.94667\n",
      "1840/1840 [==============================] - 1097s 596ms/step - loss: 0.0245 - binary_accuracy: 0.9922 - val_loss: 0.2770 - val_binary_accuracy: 0.9435\n",
      "Epoch 10/25\n",
      "1840/1840 [==============================] - ETA: 0s - loss: 0.0236 - binary_accuracy: 0.9921\n",
      "Epoch 10: val_binary_accuracy did not improve from 0.94667\n",
      "1840/1840 [==============================] - 1095s 595ms/step - loss: 0.0236 - binary_accuracy: 0.9921 - val_loss: 0.2450 - val_binary_accuracy: 0.9451\n",
      "Epoch 11/25\n",
      "1840/1840 [==============================] - ETA: 0s - loss: 0.0206 - binary_accuracy: 0.9930\n",
      "Epoch 11: val_binary_accuracy did not improve from 0.94667\n",
      "1840/1840 [==============================] - 1094s 595ms/step - loss: 0.0206 - binary_accuracy: 0.9930 - val_loss: 0.2624 - val_binary_accuracy: 0.9438\n",
      "Epoch 12/25\n",
      "1840/1840 [==============================] - ETA: 0s - loss: 0.0200 - binary_accuracy: 0.9934\n",
      "Epoch 12: val_binary_accuracy did not improve from 0.94667\n",
      "1840/1840 [==============================] - 1092s 593ms/step - loss: 0.0200 - binary_accuracy: 0.9934 - val_loss: 0.2385 - val_binary_accuracy: 0.9451\n",
      "Epoch 13/25\n",
      "1840/1840 [==============================] - ETA: 0s - loss: 0.0187 - binary_accuracy: 0.9940\n",
      "Epoch 13: val_binary_accuracy improved from 0.94667 to 0.94885, saving model to ./transfer_models/13-0.949\n"
     ]
    },
    {
     "name": "stderr",
     "output_type": "stream",
     "text": [
      "WARNING:absl:Found untraced functions such as embeddings_layer_call_fn, embeddings_layer_call_and_return_conditional_losses, encoder_layer_call_fn, encoder_layer_call_and_return_conditional_losses, pooler_layer_call_fn while saving (showing 5 of 420). These functions will not be directly callable after loading.\n"
     ]
    },
    {
     "name": "stdout",
     "output_type": "stream",
     "text": [
      "INFO:tensorflow:Assets written to: ./transfer_models/13-0.949/assets\n"
     ]
    },
    {
     "name": "stderr",
     "output_type": "stream",
     "text": [
      "INFO:tensorflow:Assets written to: ./transfer_models/13-0.949/assets\n"
     ]
    },
    {
     "name": "stdout",
     "output_type": "stream",
     "text": [
      "1840/1840 [==============================] - 1128s 613ms/step - loss: 0.0187 - binary_accuracy: 0.9940 - val_loss: 0.2445 - val_binary_accuracy: 0.9488\n",
      "Epoch 14/25\n",
      "1840/1840 [==============================] - ETA: 0s - loss: 0.0184 - binary_accuracy: 0.9944\n",
      "Epoch 14: val_binary_accuracy did not improve from 0.94885\n",
      "1840/1840 [==============================] - 1082s 588ms/step - loss: 0.0184 - binary_accuracy: 0.9944 - val_loss: 0.2414 - val_binary_accuracy: 0.9484\n",
      "Epoch 15/25\n",
      "1840/1840 [==============================] - ETA: 0s - loss: 0.0175 - binary_accuracy: 0.9943\n",
      "Epoch 15: val_binary_accuracy did not improve from 0.94885\n",
      "1840/1840 [==============================] - 1084s 589ms/step - loss: 0.0175 - binary_accuracy: 0.9943 - val_loss: 0.2677 - val_binary_accuracy: 0.9480\n",
      "Epoch 16/25\n",
      "1840/1840 [==============================] - ETA: 0s - loss: 0.0159 - binary_accuracy: 0.9948\n",
      "Epoch 16: val_binary_accuracy improved from 0.94885 to 0.94980, saving model to ./transfer_models/16-0.950\n"
     ]
    },
    {
     "name": "stderr",
     "output_type": "stream",
     "text": [
      "WARNING:absl:Found untraced functions such as embeddings_layer_call_fn, embeddings_layer_call_and_return_conditional_losses, encoder_layer_call_fn, encoder_layer_call_and_return_conditional_losses, pooler_layer_call_fn while saving (showing 5 of 420). These functions will not be directly callable after loading.\n"
     ]
    },
    {
     "name": "stdout",
     "output_type": "stream",
     "text": [
      "INFO:tensorflow:Assets written to: ./transfer_models/16-0.950/assets\n"
     ]
    },
    {
     "name": "stderr",
     "output_type": "stream",
     "text": [
      "INFO:tensorflow:Assets written to: ./transfer_models/16-0.950/assets\n"
     ]
    },
    {
     "name": "stdout",
     "output_type": "stream",
     "text": [
      "1840/1840 [==============================] - 1120s 609ms/step - loss: 0.0159 - binary_accuracy: 0.9948 - val_loss: 0.2463 - val_binary_accuracy: 0.9498\n",
      "Epoch 17/25\n",
      "1840/1840 [==============================] - ETA: 0s - loss: 0.0154 - binary_accuracy: 0.9950\n",
      "Epoch 17: val_binary_accuracy did not improve from 0.94980\n",
      "1840/1840 [==============================] - 1082s 588ms/step - loss: 0.0154 - binary_accuracy: 0.9950 - val_loss: 0.2755 - val_binary_accuracy: 0.9471\n",
      "Epoch 18/25\n",
      "1840/1840 [==============================] - ETA: 0s - loss: 0.0152 - binary_accuracy: 0.9955\n",
      "Epoch 18: val_binary_accuracy did not improve from 0.94980\n",
      "1840/1840 [==============================] - 1084s 589ms/step - loss: 0.0152 - binary_accuracy: 0.9955 - val_loss: 0.2889 - val_binary_accuracy: 0.9436\n",
      "Epoch 19/25\n",
      "1840/1840 [==============================] - ETA: 0s - loss: 0.0143 - binary_accuracy: 0.9954\n",
      "Epoch 19: val_binary_accuracy did not improve from 0.94980\n",
      "1840/1840 [==============================] - 1083s 589ms/step - loss: 0.0143 - binary_accuracy: 0.9954 - val_loss: 0.2577 - val_binary_accuracy: 0.9498\n",
      "Epoch 20/25\n",
      "1840/1840 [==============================] - ETA: 0s - loss: 0.0135 - binary_accuracy: 0.9957\n",
      "Epoch 20: val_binary_accuracy did not improve from 0.94980\n",
      "1840/1840 [==============================] - 1083s 589ms/step - loss: 0.0135 - binary_accuracy: 0.9957 - val_loss: 0.2726 - val_binary_accuracy: 0.9478\n",
      "Epoch 21/25\n",
      "1840/1840 [==============================] - ETA: 0s - loss: 0.0133 - binary_accuracy: 0.9959\n",
      "Epoch 21: val_binary_accuracy did not improve from 0.94980\n",
      "1840/1840 [==============================] - 1083s 589ms/step - loss: 0.0133 - binary_accuracy: 0.9959 - val_loss: 0.2636 - val_binary_accuracy: 0.9481\n",
      "Epoch 22/25\n",
      "1840/1840 [==============================] - ETA: 0s - loss: 0.0118 - binary_accuracy: 0.9964\n",
      "Epoch 22: val_binary_accuracy did not improve from 0.94980\n",
      "1840/1840 [==============================] - 1084s 589ms/step - loss: 0.0118 - binary_accuracy: 0.9964 - val_loss: 0.2937 - val_binary_accuracy: 0.9441\n",
      "Epoch 23/25\n",
      "1840/1840 [==============================] - ETA: 0s - loss: 0.0118 - binary_accuracy: 0.9963\n",
      "Epoch 23: val_binary_accuracy did not improve from 0.94980\n",
      "1840/1840 [==============================] - 1082s 588ms/step - loss: 0.0118 - binary_accuracy: 0.9963 - val_loss: 0.2586 - val_binary_accuracy: 0.9459\n",
      "Epoch 24/25\n",
      "1840/1840 [==============================] - ETA: 0s - loss: 0.0120 - binary_accuracy: 0.9961\n",
      "Epoch 24: val_binary_accuracy did not improve from 0.94980\n",
      "1840/1840 [==============================] - 1085s 589ms/step - loss: 0.0120 - binary_accuracy: 0.9961 - val_loss: 0.3059 - val_binary_accuracy: 0.9416\n",
      "Epoch 25/25\n",
      "1840/1840 [==============================] - ETA: 0s - loss: 0.0124 - binary_accuracy: 0.9959\n",
      "Epoch 25: val_binary_accuracy did not improve from 0.94980\n",
      "1840/1840 [==============================] - 1109s 602ms/step - loss: 0.0124 - binary_accuracy: 0.9959 - val_loss: 0.2530 - val_binary_accuracy: 0.9444\n"
     ]
    }
   ],
   "source": [
    "checkpoint = keras.callbacks.ModelCheckpoint(\"./transfer_models/{epoch:02d}-{val_binary_accuracy:.3f}\", \n",
    "                                             monitor=\"val_binary_accuracy\", \n",
    "                                             mode=\"max\",\n",
    "                                             save_best_only=True,\n",
    "                                             weights_only=False,\n",
    "                                             verbose=1)\n",
    "\n",
    "hist = model.fit(\n",
    "    x=train_x.values(),\n",
    "    y=train_y,\n",
    "    validation_data=(val_x.values(), val_y),\n",
    "    epochs=25,\n",
    "    batch_size=32,\n",
    "    callbacks=[checkpoint]\n",
    ")"
   ]
  },
  {
   "cell_type": "code",
   "execution_count": 23,
   "id": "proprietary-nightmare",
   "metadata": {},
   "outputs": [
    {
     "data": {
      "image/png": "[encoded data removed]",
      "text/plain": [
       "<Figure size 1152x288 with 2 Axes>"
      ]
     },
     "metadata": {
      "needs_background": "light"
     },
     "output_type": "display_data"
    }
   ],
   "source": [
    "# grab history\n",
    "history = hist.history\n",
    "\n",
    "# plot loss for train and validation\n",
    "fig = plt.figure(figsize=(16, 4))\n",
    "ax = fig.add_subplot(1, 3, 1)\n",
    "plt.plot(history['loss'], lw=2, color='darkgoldenrod')\n",
    "plt.plot(history['val_loss'], lw=2, color='indianred')\n",
    "plt.legend(['Train', 'Validation'], fontsize=10)\n",
    "#plt.ylim(0.5,0.7)\n",
    "ax.set_xlabel('Epochs', size=10)\n",
    "ax.set_title('Loss');\n",
    "\n",
    "# plot accuracy for train and validation\n",
    "ax = fig.add_subplot(1, 3, 2)\n",
    "plt.plot(history['binary_accuracy'], lw=2, color='darkgoldenrod')\n",
    "plt.plot(history['val_binary_accuracy'], lw=2, color='indianred')\n",
    "plt.legend(['Train', 'Validation'], fontsize=10)\n",
    "#plt.ylim(0.7,0.8)\n",
    "ax.set_xlabel('Epochs', size=10)\n",
    "ax.set_title('Accuracy');"
   ]
  },
  {
   "cell_type": "code",
   "execution_count": 24,
   "id": "based-daisy",
   "metadata": {},
   "outputs": [
    {
     "name": "stdout",
     "output_type": "stream",
     "text": [
      "After training this model, evaluation on the validation data shows an accuracy of: 94.44 %\n"
     ]
    }
   ],
   "source": [
    "print('After training this model, evaluation on the validation data shows an accuracy of:',\n",
    "      np.round(history['val_binary_accuracy'][-1]*100,2), '%'\n",
    ")"
   ]
  },
  {
   "cell_type": "code",
   "execution_count": 26,
   "id": "victorian-compromise",
   "metadata": {},
   "outputs": [
    {
     "name": "stdout",
     "output_type": "stream",
     "text": [
      "Greatest validation accuracy: 94.98 %\n"
     ]
    }
   ],
   "source": [
    "print('Greatest validation accuracy:',\n",
    "      np.round(max(history['val_binary_accuracy'])*100,2), '%'\n",
    ")"
   ]
  },
  {
   "cell_type": "markdown",
   "id": "charming-range",
   "metadata": {},
   "source": [
    "How good is this score? Let's compare it with a dummy classifier.\n",
    "\n",
    "<span style=\"color:chocolate\">Question: </span> what is a dummy classifier?"
   ]
  },
  {
   "cell_type": "code",
   "execution_count": 29,
   "id": "operational-soundtrack",
   "metadata": {},
   "outputs": [
    {
     "name": "stdout",
     "output_type": "stream",
     "text": [
      "Dummy classifier score: 0.501 (+/- 0.00)\n"
     ]
    }
   ],
   "source": [
    "clf = DummyClassifier() # uses Sklearn \n",
    "\n",
    "scores = cross_val_score(clf, train_reviews, train_labels)\n",
    "print(\"Dummy classifier score: %0.3f (+/- %0.2f)\" % (scores.mean(), scores.std() * 2))"
   ]
  },
  {
   "cell_type": "markdown",
   "id": "dedicated-interim",
   "metadata": {},
   "source": [
    "---\n",
    "## Evaluation"
   ]
  },
  {
   "cell_type": "markdown",
   "id": "cathedral-facial",
   "metadata": {},
   "source": [
    "<span style=\"color:chocolate\">predictions on test data</span> "
   ]
  },
  {
   "cell_type": "code",
   "execution_count": 55,
   "id": "unavailable-survival",
   "metadata": {},
   "outputs": [
    {
     "data": {
      "text/plain": [
       "array([0, 0, 1, 0, 0, 1, 1, 0, 0, 0])"
      ]
     },
     "execution_count": 55,
     "metadata": {},
     "output_type": "execute_result"
    }
   ],
   "source": [
    "# run the trained model on the test data (the model outputs probabilities)\n",
    "y_test_pred_p = model.predict(x=test_x.values()).flatten()\n",
    "\n",
    "# apply the threshold function to create a 0, 1 outcome\n",
    "y_test_pred = np.where(y_test_pred_p>=0.5, 1, 0)\n",
    "y_test_pred[:10] # first 10 only"
   ]
  },
  {
   "cell_type": "markdown",
   "id": "fuzzy-construction",
   "metadata": {},
   "source": [
    "<span style=\"color:chocolate\">confussion matrix</span> "
   ]
  },
  {
   "cell_type": "code",
   "execution_count": 56,
   "id": "fatty-psychiatry",
   "metadata": {},
   "outputs": [
    {
     "data": {
      "image/png": "[encoded data removed]",
      "text/plain": [
       "<Figure size 180x180 with 1 Axes>"
      ]
     },
     "metadata": {
      "needs_background": "light"
     },
     "output_type": "display_data"
    }
   ],
   "source": [
    "conf_matrix = tf.math.confusion_matrix(\n",
    "    test_y,\n",
    "    y_test_pred,\n",
    "    num_classes=None,\n",
    "    weights=None,\n",
    "    dtype=tf.dtypes.int32,\n",
    "    name=None\n",
    ")\n",
    "\n",
    "confusion_matrix_plot(conf_matrix.numpy())"
   ]
  },
  {
   "cell_type": "markdown",
   "id": "chubby-department",
   "metadata": {},
   "source": [
    "<span style=\"color:chocolate\">precision score</span> "
   ]
  },
  {
   "cell_type": "code",
   "execution_count": 57,
   "id": "smooth-retention",
   "metadata": {},
   "outputs": [
    {
     "name": "stdout",
     "output_type": "stream",
     "text": [
      "Precision score: 0.963768\n"
     ]
    }
   ],
   "source": [
    "# note that TensorFlow assumes that the positive class is cultivar 1\n",
    "p = tf.keras.metrics.Precision(\n",
    "    thresholds=None, top_k=None, class_id=None, name=None, dtype=None\n",
    ")\n",
    "p.update_state(test_y, y_test_pred)  #18/(18+3)\n",
    "print(\"Precision score: %3f\" %p.result().numpy())"
   ]
  },
  {
   "cell_type": "markdown",
   "id": "behavioral-vocabulary",
   "metadata": {},
   "source": [
    "<span style=\"color:chocolate\">recall score</span> "
   ]
  },
  {
   "cell_type": "code",
   "execution_count": 58,
   "id": "sunset-battlefield",
   "metadata": {},
   "outputs": [
    {
     "name": "stdout",
     "output_type": "stream",
     "text": [
      "Recall score: 0.924\n"
     ]
    }
   ],
   "source": [
    "# note that TensorFlow assumes that the positive class is cultivar 1\n",
    "r = tf.keras.metrics.Recall(\n",
    "    thresholds=None, top_k=None, class_id=None, name=None, dtype=None\n",
    ")\n",
    "r.update_state(test_y, y_test_pred) #18/(18+1)\n",
    "print(\"Recall score: %.3f\" %r.result().numpy())"
   ]
  },
  {
   "cell_type": "markdown",
   "id": "weekly-howard",
   "metadata": {},
   "source": [
    "<span style=\"color:chocolate\">F1 score</span> "
   ]
  },
  {
   "cell_type": "code",
   "execution_count": 59,
   "id": "permanent-cigarette",
   "metadata": {},
   "outputs": [
    {
     "name": "stdout",
     "output_type": "stream",
     "text": [
      "F1 score: 0.9436807632446289\n"
     ]
    }
   ],
   "source": [
    "print(\"F1 score:\",\n",
    "    2*((p.result().numpy()*r.result().numpy())/(p.result().numpy()+r.result().numpy())))"
   ]
  },
  {
   "cell_type": "markdown",
   "id": "conditional-vault",
   "metadata": {},
   "source": [
    "<span style=\"color:chocolate\">ROC AUC</span> "
   ]
  },
  {
   "cell_type": "code",
   "execution_count": 60,
   "id": "theoretical-detroit",
   "metadata": {},
   "outputs": [
    {
     "name": "stdout",
     "output_type": "stream",
     "text": [
      "ROC AUC: 0.983\n"
     ]
    },
    {
     "data": {
      "image/png": "[encoded data removed]",
      "text/plain": [
       "<Figure size 432x288 with 1 Axes>"
      ]
     },
     "metadata": {
      "needs_background": "light"
     },
     "output_type": "display_data"
    }
   ],
   "source": [
    "from sklearn import datasets, metrics, model_selection, svm\n",
    "fpr, tpr, _ = metrics.roc_curve(test_y,  y_test_pred_p)\n",
    "auc = metrics.roc_auc_score(test_y, y_test_pred_p)\n",
    "plt.plot(fpr,tpr,label=\"data, auc=\"+str(np.round(auc,3)))\n",
    "plt.legend(loc=4)\n",
    "plt.xlabel('False Positive Rate')\n",
    "plt.ylabel('True Positive Rate')\n",
    "\n",
    "\n",
    "# add dummy classifier\n",
    "plt.plot([0, 1], [0, 1], linestyle='--', lw=2, color='r',\n",
    "         label='dummy (chance)', alpha=.8)\n",
    "\n",
    "plt.legend(loc=4)\n",
    "print('ROC AUC:', np.round(auc,3))"
   ]
  },
  {
   "cell_type": "code",
   "execution_count": null,
   "id": "orange-creativity",
   "metadata": {},
   "outputs": [],
   "source": []
  }
 ],
 "metadata": {
  "kernelspec": {
   "display_name": "Python 3",
   "language": "python",
   "name": "python3"
  },
  "language_info": {
   "codemirror_mode": {
    "name": "ipython",
    "version": 3
   },
   "file_extension": ".py",
   "mimetype": "text/x-python",
   "name": "python",
   "nbconvert_exporter": "python",
   "pygments_lexer": "ipython3",
   "version": "3.8.3"
  }
 },
 "nbformat": 4,
 "nbformat_minor": 5
}
