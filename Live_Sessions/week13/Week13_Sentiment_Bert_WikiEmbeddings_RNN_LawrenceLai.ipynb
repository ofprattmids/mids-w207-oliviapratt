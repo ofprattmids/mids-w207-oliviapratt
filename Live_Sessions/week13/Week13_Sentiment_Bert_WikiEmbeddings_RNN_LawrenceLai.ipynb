{
  "metadata": {
    "kernelspec": {
      "language": "python",
      "display_name": "Python 3",
      "name": "python3"
    },
    "language_info": {
      "name": "python",
      "version": "3.7.12",
      "mimetype": "text/x-python",
      "codemirror_mode": {
        "name": "ipython",
        "version": 3
      },
      "pygments_lexer": "ipython3",
      "nbconvert_exporter": "python",
      "file_extension": ".py"
    },
    "colab": {
      "name": "lawrence-lai_sentiment-bert-embeddings-rnn.ipynb",
      "provenance": [],
      "collapsed_sections": [
        "00xn12M8VMkv"
      ]
    },
    "accelerator": "GPU",
    "gpuClass": "standard",
    "widgets": {
      "application/vnd.jupyter.widget-state+json": {
        "d413df53df00455793e218b345e412bf": {
          "model_module": "@jupyter-widgets/controls",
          "model_name": "HBoxModel",
          "model_module_version": "1.5.0",
          "state": {
            "_dom_classes": [],
            "_model_module": "@jupyter-widgets/controls",
            "_model_module_version": "1.5.0",
            "_model_name": "HBoxModel",
            "_view_count": null,
            "_view_module": "@jupyter-widgets/controls",
            "_view_module_version": "1.5.0",
            "_view_name": "HBoxView",
            "box_style": "",
            "children": [
              "IPY_MODEL_4a5342672ab84c02994aaec3f9ac8e71",
              "IPY_MODEL_09d38f36ab40411da8dd36ead8444f66",
              "IPY_MODEL_49e4a027c44b4197b26c01705660fc7c"
            ],
            "layout": "IPY_MODEL_6cf78f5143e34cf5a36ca080fdd326f9"
          }
        },
        "4a5342672ab84c02994aaec3f9ac8e71": {
          "model_module": "@jupyter-widgets/controls",
          "model_name": "HTMLModel",
          "model_module_version": "1.5.0",
          "state": {
            "_dom_classes": [],
            "_model_module": "@jupyter-widgets/controls",
            "_model_module_version": "1.5.0",
            "_model_name": "HTMLModel",
            "_view_count": null,
            "_view_module": "@jupyter-widgets/controls",
            "_view_module_version": "1.5.0",
            "_view_name": "HTMLView",
            "description": "",
            "description_tooltip": null,
            "layout": "IPY_MODEL_27634b2d4de04f03a90a2267c3e71a34",
            "placeholder": "​",
            "style": "IPY_MODEL_d8788214861f43b1a8f1615cde335704",
            "value": "Downloading tokenizer_config.json: 100%"
          }
        },
        "09d38f36ab40411da8dd36ead8444f66": {
          "model_module": "@jupyter-widgets/controls",
          "model_name": "FloatProgressModel",
          "model_module_version": "1.5.0",
          "state": {
            "_dom_classes": [],
            "_model_module": "@jupyter-widgets/controls",
            "_model_module_version": "1.5.0",
            "_model_name": "FloatProgressModel",
            "_view_count": null,
            "_view_module": "@jupyter-widgets/controls",
            "_view_module_version": "1.5.0",
            "_view_name": "ProgressView",
            "bar_style": "success",
            "description": "",
            "description_tooltip": null,
            "layout": "IPY_MODEL_a58995cf1b084c2c84e0fada922765dc",
            "max": 198,
            "min": 0,
            "orientation": "horizontal",
            "style": "IPY_MODEL_7db21b24506040b792c6db34b1d76ac1",
            "value": 198
          }
        },
        "49e4a027c44b4197b26c01705660fc7c": {
          "model_module": "@jupyter-widgets/controls",
          "model_name": "HTMLModel",
          "model_module_version": "1.5.0",
          "state": {
            "_dom_classes": [],
            "_model_module": "@jupyter-widgets/controls",
            "_model_module_version": "1.5.0",
            "_model_name": "HTMLModel",
            "_view_count": null,
            "_view_module": "@jupyter-widgets/controls",
            "_view_module_version": "1.5.0",
            "_view_name": "HTMLView",
            "description": "",
            "description_tooltip": null,
            "layout": "IPY_MODEL_133906bd6c374f3586da825c7accc7bf",
            "placeholder": "​",
            "style": "IPY_MODEL_914a15810f714225b4b29fd6a429af93",
            "value": " 198/198 [00:00&lt;00:00, 4.92kB/s]"
          }
        },
        "6cf78f5143e34cf5a36ca080fdd326f9": {
          "model_module": "@jupyter-widgets/base",
          "model_name": "LayoutModel",
          "model_module_version": "1.2.0",
          "state": {
            "_model_module": "@jupyter-widgets/base",
            "_model_module_version": "1.2.0",
            "_model_name": "LayoutModel",
            "_view_count": null,
            "_view_module": "@jupyter-widgets/base",
            "_view_module_version": "1.2.0",
            "_view_name": "LayoutView",
            "align_content": null,
            "align_items": null,
            "align_self": null,
            "border": null,
            "bottom": null,
            "display": null,
            "flex": null,
            "flex_flow": null,
            "grid_area": null,
            "grid_auto_columns": null,
            "grid_auto_flow": null,
            "grid_auto_rows": null,
            "grid_column": null,
            "grid_gap": null,
            "grid_row": null,
            "grid_template_areas": null,
            "grid_template_columns": null,
            "grid_template_rows": null,
            "height": null,
            "justify_content": null,
            "justify_items": null,
            "left": null,
            "margin": null,
            "max_height": null,
            "max_width": null,
            "min_height": null,
            "min_width": null,
            "object_fit": null,
            "object_position": null,
            "order": null,
            "overflow": null,
            "overflow_x": null,
            "overflow_y": null,
            "padding": null,
            "right": null,
            "top": null,
            "visibility": null,
            "width": null
          }
        },
        "27634b2d4de04f03a90a2267c3e71a34": {
          "model_module": "@jupyter-widgets/base",
          "model_name": "LayoutModel",
          "model_module_version": "1.2.0",
          "state": {
            "_model_module": "@jupyter-widgets/base",
            "_model_module_version": "1.2.0",
            "_model_name": "LayoutModel",
            "_view_count": null,
            "_view_module": "@jupyter-widgets/base",
            "_view_module_version": "1.2.0",
            "_view_name": "LayoutView",
            "align_content": null,
            "align_items": null,
            "align_self": null,
            "border": null,
            "bottom": null,
            "display": null,
            "flex": null,
            "flex_flow": null,
            "grid_area": null,
            "grid_auto_columns": null,
            "grid_auto_flow": null,
            "grid_auto_rows": null,
            "grid_column": null,
            "grid_gap": null,
            "grid_row": null,
            "grid_template_areas": null,
            "grid_template_columns": null,
            "grid_template_rows": null,
            "height": null,
            "justify_content": null,
            "justify_items": null,
            "left": null,
            "margin": null,
            "max_height": null,
            "max_width": null,
            "min_height": null,
            "min_width": null,
            "object_fit": null,
            "object_position": null,
            "order": null,
            "overflow": null,
            "overflow_x": null,
            "overflow_y": null,
            "padding": null,
            "right": null,
            "top": null,
            "visibility": null,
            "width": null
          }
        },
        "d8788214861f43b1a8f1615cde335704": {
          "model_module": "@jupyter-widgets/controls",
          "model_name": "DescriptionStyleModel",
          "model_module_version": "1.5.0",
          "state": {
            "_model_module": "@jupyter-widgets/controls",
            "_model_module_version": "1.5.0",
            "_model_name": "DescriptionStyleModel",
            "_view_count": null,
            "_view_module": "@jupyter-widgets/base",
            "_view_module_version": "1.2.0",
            "_view_name": "StyleView",
            "description_width": ""
          }
        },
        "a58995cf1b084c2c84e0fada922765dc": {
          "model_module": "@jupyter-widgets/base",
          "model_name": "LayoutModel",
          "model_module_version": "1.2.0",
          "state": {
            "_model_module": "@jupyter-widgets/base",
            "_model_module_version": "1.2.0",
            "_model_name": "LayoutModel",
            "_view_count": null,
            "_view_module": "@jupyter-widgets/base",
            "_view_module_version": "1.2.0",
            "_view_name": "LayoutView",
            "align_content": null,
            "align_items": null,
            "align_self": null,
            "border": null,
            "bottom": null,
            "display": null,
            "flex": null,
            "flex_flow": null,
            "grid_area": null,
            "grid_auto_columns": null,
            "grid_auto_flow": null,
            "grid_auto_rows": null,
            "grid_column": null,
            "grid_gap": null,
            "grid_row": null,
            "grid_template_areas": null,
            "grid_template_columns": null,
            "grid_template_rows": null,
            "height": null,
            "justify_content": null,
            "justify_items": null,
            "left": null,
            "margin": null,
            "max_height": null,
            "max_width": null,
            "min_height": null,
            "min_width": null,
            "object_fit": null,
            "object_position": null,
            "order": null,
            "overflow": null,
            "overflow_x": null,
            "overflow_y": null,
            "padding": null,
            "right": null,
            "top": null,
            "visibility": null,
            "width": null
          }
        },
        "7db21b24506040b792c6db34b1d76ac1": {
          "model_module": "@jupyter-widgets/controls",
          "model_name": "ProgressStyleModel",
          "model_module_version": "1.5.0",
          "state": {
            "_model_module": "@jupyter-widgets/controls",
            "_model_module_version": "1.5.0",
            "_model_name": "ProgressStyleModel",
            "_view_count": null,
            "_view_module": "@jupyter-widgets/base",
            "_view_module_version": "1.2.0",
            "_view_name": "StyleView",
            "bar_color": null,
            "description_width": ""
          }
        },
        "133906bd6c374f3586da825c7accc7bf": {
          "model_module": "@jupyter-widgets/base",
          "model_name": "LayoutModel",
          "model_module_version": "1.2.0",
          "state": {
            "_model_module": "@jupyter-widgets/base",
            "_model_module_version": "1.2.0",
            "_model_name": "LayoutModel",
            "_view_count": null,
            "_view_module": "@jupyter-widgets/base",
            "_view_module_version": "1.2.0",
            "_view_name": "LayoutView",
            "align_content": null,
            "align_items": null,
            "align_self": null,
            "border": null,
            "bottom": null,
            "display": null,
            "flex": null,
            "flex_flow": null,
            "grid_area": null,
            "grid_auto_columns": null,
            "grid_auto_flow": null,
            "grid_auto_rows": null,
            "grid_column": null,
            "grid_gap": null,
            "grid_row": null,
            "grid_template_areas": null,
            "grid_template_columns": null,
            "grid_template_rows": null,
            "height": null,
            "justify_content": null,
            "justify_items": null,
            "left": null,
            "margin": null,
            "max_height": null,
            "max_width": null,
            "min_height": null,
            "min_width": null,
            "object_fit": null,
            "object_position": null,
            "order": null,
            "overflow": null,
            "overflow_x": null,
            "overflow_y": null,
            "padding": null,
            "right": null,
            "top": null,
            "visibility": null,
            "width": null
          }
        },
        "914a15810f714225b4b29fd6a429af93": {
          "model_module": "@jupyter-widgets/controls",
          "model_name": "DescriptionStyleModel",
          "model_module_version": "1.5.0",
          "state": {
            "_model_module": "@jupyter-widgets/controls",
            "_model_module_version": "1.5.0",
            "_model_name": "DescriptionStyleModel",
            "_view_count": null,
            "_view_module": "@jupyter-widgets/base",
            "_view_module_version": "1.2.0",
            "_view_name": "StyleView",
            "description_width": ""
          }
        },
        "2a0583e29876451f912e69b5f032c885": {
          "model_module": "@jupyter-widgets/controls",
          "model_name": "HBoxModel",
          "model_module_version": "1.5.0",
          "state": {
            "_dom_classes": [],
            "_model_module": "@jupyter-widgets/controls",
            "_model_module_version": "1.5.0",
            "_model_name": "HBoxModel",
            "_view_count": null,
            "_view_module": "@jupyter-widgets/controls",
            "_view_module_version": "1.5.0",
            "_view_name": "HBoxView",
            "box_style": "",
            "children": [
              "IPY_MODEL_1cdd4404787a4743a3a783fcdd1e1359",
              "IPY_MODEL_5613b81eacb640e6a9d8e7ca8da1bca2",
              "IPY_MODEL_9b13b6baf9554858a4c7f14ce4b63dd5"
            ],
            "layout": "IPY_MODEL_3fd626176c5341399684f4d3a17cc4ab"
          }
        },
        "1cdd4404787a4743a3a783fcdd1e1359": {
          "model_module": "@jupyter-widgets/controls",
          "model_name": "HTMLModel",
          "model_module_version": "1.5.0",
          "state": {
            "_dom_classes": [],
            "_model_module": "@jupyter-widgets/controls",
            "_model_module_version": "1.5.0",
            "_model_name": "HTMLModel",
            "_view_count": null,
            "_view_module": "@jupyter-widgets/controls",
            "_view_module_version": "1.5.0",
            "_view_name": "HTMLView",
            "description": "",
            "description_tooltip": null,
            "layout": "IPY_MODEL_8b5c9223969b49049c88a302ed7fdf89",
            "placeholder": "​",
            "style": "IPY_MODEL_4dc32216128a42c7aedc7aa751996d3c",
            "value": "Downloading config.json: 100%"
          }
        },
        "5613b81eacb640e6a9d8e7ca8da1bca2": {
          "model_module": "@jupyter-widgets/controls",
          "model_name": "FloatProgressModel",
          "model_module_version": "1.5.0",
          "state": {
            "_dom_classes": [],
            "_model_module": "@jupyter-widgets/controls",
            "_model_module_version": "1.5.0",
            "_model_name": "FloatProgressModel",
            "_view_count": null,
            "_view_module": "@jupyter-widgets/controls",
            "_view_module_version": "1.5.0",
            "_view_name": "ProgressView",
            "bar_style": "success",
            "description": "",
            "description_tooltip": null,
            "layout": "IPY_MODEL_08dc5f8044a94f9d9b81f6ff3962459c",
            "max": 462,
            "min": 0,
            "orientation": "horizontal",
            "style": "IPY_MODEL_7a4e48a318414655875ec64fa12970ab",
            "value": 462
          }
        },
        "9b13b6baf9554858a4c7f14ce4b63dd5": {
          "model_module": "@jupyter-widgets/controls",
          "model_name": "HTMLModel",
          "model_module_version": "1.5.0",
          "state": {
            "_dom_classes": [],
            "_model_module": "@jupyter-widgets/controls",
            "_model_module_version": "1.5.0",
            "_model_name": "HTMLModel",
            "_view_count": null,
            "_view_module": "@jupyter-widgets/controls",
            "_view_module_version": "1.5.0",
            "_view_name": "HTMLView",
            "description": "",
            "description_tooltip": null,
            "layout": "IPY_MODEL_03dec2cd5679446c9517f9ab2c0bc251",
            "placeholder": "​",
            "style": "IPY_MODEL_860b8a49eb55434c93c8c4c1b5e84bc2",
            "value": " 462/462 [00:00&lt;00:00, 11.8kB/s]"
          }
        },
        "3fd626176c5341399684f4d3a17cc4ab": {
          "model_module": "@jupyter-widgets/base",
          "model_name": "LayoutModel",
          "model_module_version": "1.2.0",
          "state": {
            "_model_module": "@jupyter-widgets/base",
            "_model_module_version": "1.2.0",
            "_model_name": "LayoutModel",
            "_view_count": null,
            "_view_module": "@jupyter-widgets/base",
            "_view_module_version": "1.2.0",
            "_view_name": "LayoutView",
            "align_content": null,
            "align_items": null,
            "align_self": null,
            "border": null,
            "bottom": null,
            "display": null,
            "flex": null,
            "flex_flow": null,
            "grid_area": null,
            "grid_auto_columns": null,
            "grid_auto_flow": null,
            "grid_auto_rows": null,
            "grid_column": null,
            "grid_gap": null,
            "grid_row": null,
            "grid_template_areas": null,
            "grid_template_columns": null,
            "grid_template_rows": null,
            "height": null,
            "justify_content": null,
            "justify_items": null,
            "left": null,
            "margin": null,
            "max_height": null,
            "max_width": null,
            "min_height": null,
            "min_width": null,
            "object_fit": null,
            "object_position": null,
            "order": null,
            "overflow": null,
            "overflow_x": null,
            "overflow_y": null,
            "padding": null,
            "right": null,
            "top": null,
            "visibility": null,
            "width": null
          }
        },
        "8b5c9223969b49049c88a302ed7fdf89": {
          "model_module": "@jupyter-widgets/base",
          "model_name": "LayoutModel",
          "model_module_version": "1.2.0",
          "state": {
            "_model_module": "@jupyter-widgets/base",
            "_model_module_version": "1.2.0",
            "_model_name": "LayoutModel",
            "_view_count": null,
            "_view_module": "@jupyter-widgets/base",
            "_view_module_version": "1.2.0",
            "_view_name": "LayoutView",
            "align_content": null,
            "align_items": null,
            "align_self": null,
            "border": null,
            "bottom": null,
            "display": null,
            "flex": null,
            "flex_flow": null,
            "grid_area": null,
            "grid_auto_columns": null,
            "grid_auto_flow": null,
            "grid_auto_rows": null,
            "grid_column": null,
            "grid_gap": null,
            "grid_row": null,
            "grid_template_areas": null,
            "grid_template_columns": null,
            "grid_template_rows": null,
            "height": null,
            "justify_content": null,
            "justify_items": null,
            "left": null,
            "margin": null,
            "max_height": null,
            "max_width": null,
            "min_height": null,
            "min_width": null,
            "object_fit": null,
            "object_position": null,
            "order": null,
            "overflow": null,
            "overflow_x": null,
            "overflow_y": null,
            "padding": null,
            "right": null,
            "top": null,
            "visibility": null,
            "width": null
          }
        },
        "4dc32216128a42c7aedc7aa751996d3c": {
          "model_module": "@jupyter-widgets/controls",
          "model_name": "DescriptionStyleModel",
          "model_module_version": "1.5.0",
          "state": {
            "_model_module": "@jupyter-widgets/controls",
            "_model_module_version": "1.5.0",
            "_model_name": "DescriptionStyleModel",
            "_view_count": null,
            "_view_module": "@jupyter-widgets/base",
            "_view_module_version": "1.2.0",
            "_view_name": "StyleView",
            "description_width": ""
          }
        },
        "08dc5f8044a94f9d9b81f6ff3962459c": {
          "model_module": "@jupyter-widgets/base",
          "model_name": "LayoutModel",
          "model_module_version": "1.2.0",
          "state": {
            "_model_module": "@jupyter-widgets/base",
            "_model_module_version": "1.2.0",
            "_model_name": "LayoutModel",
            "_view_count": null,
            "_view_module": "@jupyter-widgets/base",
            "_view_module_version": "1.2.0",
            "_view_name": "LayoutView",
            "align_content": null,
            "align_items": null,
            "align_self": null,
            "border": null,
            "bottom": null,
            "display": null,
            "flex": null,
            "flex_flow": null,
            "grid_area": null,
            "grid_auto_columns": null,
            "grid_auto_flow": null,
            "grid_auto_rows": null,
            "grid_column": null,
            "grid_gap": null,
            "grid_row": null,
            "grid_template_areas": null,
            "grid_template_columns": null,
            "grid_template_rows": null,
            "height": null,
            "justify_content": null,
            "justify_items": null,
            "left": null,
            "margin": null,
            "max_height": null,
            "max_width": null,
            "min_height": null,
            "min_width": null,
            "object_fit": null,
            "object_position": null,
            "order": null,
            "overflow": null,
            "overflow_x": null,
            "overflow_y": null,
            "padding": null,
            "right": null,
            "top": null,
            "visibility": null,
            "width": null
          }
        },
        "7a4e48a318414655875ec64fa12970ab": {
          "model_module": "@jupyter-widgets/controls",
          "model_name": "ProgressStyleModel",
          "model_module_version": "1.5.0",
          "state": {
            "_model_module": "@jupyter-widgets/controls",
            "_model_module_version": "1.5.0",
            "_model_name": "ProgressStyleModel",
            "_view_count": null,
            "_view_module": "@jupyter-widgets/base",
            "_view_module_version": "1.2.0",
            "_view_name": "StyleView",
            "bar_color": null,
            "description_width": ""
          }
        },
        "03dec2cd5679446c9517f9ab2c0bc251": {
          "model_module": "@jupyter-widgets/base",
          "model_name": "LayoutModel",
          "model_module_version": "1.2.0",
          "state": {
            "_model_module": "@jupyter-widgets/base",
            "_model_module_version": "1.2.0",
            "_model_name": "LayoutModel",
            "_view_count": null,
            "_view_module": "@jupyter-widgets/base",
            "_view_module_version": "1.2.0",
            "_view_name": "LayoutView",
            "align_content": null,
            "align_items": null,
            "align_self": null,
            "border": null,
            "bottom": null,
            "display": null,
            "flex": null,
            "flex_flow": null,
            "grid_area": null,
            "grid_auto_columns": null,
            "grid_auto_flow": null,
            "grid_auto_rows": null,
            "grid_column": null,
            "grid_gap": null,
            "grid_row": null,
            "grid_template_areas": null,
            "grid_template_columns": null,
            "grid_template_rows": null,
            "height": null,
            "justify_content": null,
            "justify_items": null,
            "left": null,
            "margin": null,
            "max_height": null,
            "max_width": null,
            "min_height": null,
            "min_width": null,
            "object_fit": null,
            "object_position": null,
            "order": null,
            "overflow": null,
            "overflow_x": null,
            "overflow_y": null,
            "padding": null,
            "right": null,
            "top": null,
            "visibility": null,
            "width": null
          }
        },
        "860b8a49eb55434c93c8c4c1b5e84bc2": {
          "model_module": "@jupyter-widgets/controls",
          "model_name": "DescriptionStyleModel",
          "model_module_version": "1.5.0",
          "state": {
            "_model_module": "@jupyter-widgets/controls",
            "_model_module_version": "1.5.0",
            "_model_name": "DescriptionStyleModel",
            "_view_count": null,
            "_view_module": "@jupyter-widgets/base",
            "_view_module_version": "1.2.0",
            "_view_name": "StyleView",
            "description_width": ""
          }
        },
        "21735fe1145e4cbbbce1b74b12bfb141": {
          "model_module": "@jupyter-widgets/controls",
          "model_name": "HBoxModel",
          "model_module_version": "1.5.0",
          "state": {
            "_dom_classes": [],
            "_model_module": "@jupyter-widgets/controls",
            "_model_module_version": "1.5.0",
            "_model_name": "HBoxModel",
            "_view_count": null,
            "_view_module": "@jupyter-widgets/controls",
            "_view_module_version": "1.5.0",
            "_view_name": "HBoxView",
            "box_style": "",
            "children": [
              "IPY_MODEL_9d734b94be084006889f9d5b2a1e526e",
              "IPY_MODEL_57cb979dc5ca46a69cc99cfd539ab89f",
              "IPY_MODEL_5f20bb2430e544f4800506945118d083"
            ],
            "layout": "IPY_MODEL_622ea02fd063431b847c01f0eb9135b9"
          }
        },
        "9d734b94be084006889f9d5b2a1e526e": {
          "model_module": "@jupyter-widgets/controls",
          "model_name": "HTMLModel",
          "model_module_version": "1.5.0",
          "state": {
            "_dom_classes": [],
            "_model_module": "@jupyter-widgets/controls",
            "_model_module_version": "1.5.0",
            "_model_name": "HTMLModel",
            "_view_count": null,
            "_view_module": "@jupyter-widgets/controls",
            "_view_module_version": "1.5.0",
            "_view_name": "HTMLView",
            "description": "",
            "description_tooltip": null,
            "layout": "IPY_MODEL_aac3a1008afb47438d3916280ca8e25e",
            "placeholder": "​",
            "style": "IPY_MODEL_2b1c3eaa2d2c4cd9ae6cd77c00f51c5e",
            "value": "Downloading vocab.txt: 100%"
          }
        },
        "57cb979dc5ca46a69cc99cfd539ab89f": {
          "model_module": "@jupyter-widgets/controls",
          "model_name": "FloatProgressModel",
          "model_module_version": "1.5.0",
          "state": {
            "_dom_classes": [],
            "_model_module": "@jupyter-widgets/controls",
            "_model_module_version": "1.5.0",
            "_model_name": "FloatProgressModel",
            "_view_count": null,
            "_view_module": "@jupyter-widgets/controls",
            "_view_module_version": "1.5.0",
            "_view_name": "ProgressView",
            "bar_style": "success",
            "description": "",
            "description_tooltip": null,
            "layout": "IPY_MODEL_677a3fece413437ca2e54a2d98295f0a",
            "max": 226150,
            "min": 0,
            "orientation": "horizontal",
            "style": "IPY_MODEL_fc7b361ccecc4f68ab3b213cca27d9ff",
            "value": 226150
          }
        },
        "5f20bb2430e544f4800506945118d083": {
          "model_module": "@jupyter-widgets/controls",
          "model_name": "HTMLModel",
          "model_module_version": "1.5.0",
          "state": {
            "_dom_classes": [],
            "_model_module": "@jupyter-widgets/controls",
            "_model_module_version": "1.5.0",
            "_model_name": "HTMLModel",
            "_view_count": null,
            "_view_module": "@jupyter-widgets/controls",
            "_view_module_version": "1.5.0",
            "_view_name": "HTMLView",
            "description": "",
            "description_tooltip": null,
            "layout": "IPY_MODEL_29ce00f44fce4e9396c1e6b586981963",
            "placeholder": "​",
            "style": "IPY_MODEL_be19626f059f4d1eb59afc7a4b80dc11",
            "value": " 221k/221k [00:00&lt;00:00, 479kB/s]"
          }
        },
        "622ea02fd063431b847c01f0eb9135b9": {
          "model_module": "@jupyter-widgets/base",
          "model_name": "LayoutModel",
          "model_module_version": "1.2.0",
          "state": {
            "_model_module": "@jupyter-widgets/base",
            "_model_module_version": "1.2.0",
            "_model_name": "LayoutModel",
            "_view_count": null,
            "_view_module": "@jupyter-widgets/base",
            "_view_module_version": "1.2.0",
            "_view_name": "LayoutView",
            "align_content": null,
            "align_items": null,
            "align_self": null,
            "border": null,
            "bottom": null,
            "display": null,
            "flex": null,
            "flex_flow": null,
            "grid_area": null,
            "grid_auto_columns": null,
            "grid_auto_flow": null,
            "grid_auto_rows": null,
            "grid_column": null,
            "grid_gap": null,
            "grid_row": null,
            "grid_template_areas": null,
            "grid_template_columns": null,
            "grid_template_rows": null,
            "height": null,
            "justify_content": null,
            "justify_items": null,
            "left": null,
            "margin": null,
            "max_height": null,
            "max_width": null,
            "min_height": null,
            "min_width": null,
            "object_fit": null,
            "object_position": null,
            "order": null,
            "overflow": null,
            "overflow_x": null,
            "overflow_y": null,
            "padding": null,
            "right": null,
            "top": null,
            "visibility": null,
            "width": null
          }
        },
        "aac3a1008afb47438d3916280ca8e25e": {
          "model_module": "@jupyter-widgets/base",
          "model_name": "LayoutModel",
          "model_module_version": "1.2.0",
          "state": {
            "_model_module": "@jupyter-widgets/base",
            "_model_module_version": "1.2.0",
            "_model_name": "LayoutModel",
            "_view_count": null,
            "_view_module": "@jupyter-widgets/base",
            "_view_module_version": "1.2.0",
            "_view_name": "LayoutView",
            "align_content": null,
            "align_items": null,
            "align_self": null,
            "border": null,
            "bottom": null,
            "display": null,
            "flex": null,
            "flex_flow": null,
            "grid_area": null,
            "grid_auto_columns": null,
            "grid_auto_flow": null,
            "grid_auto_rows": null,
            "grid_column": null,
            "grid_gap": null,
            "grid_row": null,
            "grid_template_areas": null,
            "grid_template_columns": null,
            "grid_template_rows": null,
            "height": null,
            "justify_content": null,
            "justify_items": null,
            "left": null,
            "margin": null,
            "max_height": null,
            "max_width": null,
            "min_height": null,
            "min_width": null,
            "object_fit": null,
            "object_position": null,
            "order": null,
            "overflow": null,
            "overflow_x": null,
            "overflow_y": null,
            "padding": null,
            "right": null,
            "top": null,
            "visibility": null,
            "width": null
          }
        },
        "2b1c3eaa2d2c4cd9ae6cd77c00f51c5e": {
          "model_module": "@jupyter-widgets/controls",
          "model_name": "DescriptionStyleModel",
          "model_module_version": "1.5.0",
          "state": {
            "_model_module": "@jupyter-widgets/controls",
            "_model_module_version": "1.5.0",
            "_model_name": "DescriptionStyleModel",
            "_view_count": null,
            "_view_module": "@jupyter-widgets/base",
            "_view_module_version": "1.2.0",
            "_view_name": "StyleView",
            "description_width": ""
          }
        },
        "677a3fece413437ca2e54a2d98295f0a": {
          "model_module": "@jupyter-widgets/base",
          "model_name": "LayoutModel",
          "model_module_version": "1.2.0",
          "state": {
            "_model_module": "@jupyter-widgets/base",
            "_model_module_version": "1.2.0",
            "_model_name": "LayoutModel",
            "_view_count": null,
            "_view_module": "@jupyter-widgets/base",
            "_view_module_version": "1.2.0",
            "_view_name": "LayoutView",
            "align_content": null,
            "align_items": null,
            "align_self": null,
            "border": null,
            "bottom": null,
            "display": null,
            "flex": null,
            "flex_flow": null,
            "grid_area": null,
            "grid_auto_columns": null,
            "grid_auto_flow": null,
            "grid_auto_rows": null,
            "grid_column": null,
            "grid_gap": null,
            "grid_row": null,
            "grid_template_areas": null,
            "grid_template_columns": null,
            "grid_template_rows": null,
            "height": null,
            "justify_content": null,
            "justify_items": null,
            "left": null,
            "margin": null,
            "max_height": null,
            "max_width": null,
            "min_height": null,
            "min_width": null,
            "object_fit": null,
            "object_position": null,
            "order": null,
            "overflow": null,
            "overflow_x": null,
            "overflow_y": null,
            "padding": null,
            "right": null,
            "top": null,
            "visibility": null,
            "width": null
          }
        },
        "fc7b361ccecc4f68ab3b213cca27d9ff": {
          "model_module": "@jupyter-widgets/controls",
          "model_name": "ProgressStyleModel",
          "model_module_version": "1.5.0",
          "state": {
            "_model_module": "@jupyter-widgets/controls",
            "_model_module_version": "1.5.0",
            "_model_name": "ProgressStyleModel",
            "_view_count": null,
            "_view_module": "@jupyter-widgets/base",
            "_view_module_version": "1.2.0",
            "_view_name": "StyleView",
            "bar_color": null,
            "description_width": ""
          }
        },
        "29ce00f44fce4e9396c1e6b586981963": {
          "model_module": "@jupyter-widgets/base",
          "model_name": "LayoutModel",
          "model_module_version": "1.2.0",
          "state": {
            "_model_module": "@jupyter-widgets/base",
            "_model_module_version": "1.2.0",
            "_model_name": "LayoutModel",
            "_view_count": null,
            "_view_module": "@jupyter-widgets/base",
            "_view_module_version": "1.2.0",
            "_view_name": "LayoutView",
            "align_content": null,
            "align_items": null,
            "align_self": null,
            "border": null,
            "bottom": null,
            "display": null,
            "flex": null,
            "flex_flow": null,
            "grid_area": null,
            "grid_auto_columns": null,
            "grid_auto_flow": null,
            "grid_auto_rows": null,
            "grid_column": null,
            "grid_gap": null,
            "grid_row": null,
            "grid_template_areas": null,
            "grid_template_columns": null,
            "grid_template_rows": null,
            "height": null,
            "justify_content": null,
            "justify_items": null,
            "left": null,
            "margin": null,
            "max_height": null,
            "max_width": null,
            "min_height": null,
            "min_width": null,
            "object_fit": null,
            "object_position": null,
            "order": null,
            "overflow": null,
            "overflow_x": null,
            "overflow_y": null,
            "padding": null,
            "right": null,
            "top": null,
            "visibility": null,
            "width": null
          }
        },
        "be19626f059f4d1eb59afc7a4b80dc11": {
          "model_module": "@jupyter-widgets/controls",
          "model_name": "DescriptionStyleModel",
          "model_module_version": "1.5.0",
          "state": {
            "_model_module": "@jupyter-widgets/controls",
            "_model_module_version": "1.5.0",
            "_model_name": "DescriptionStyleModel",
            "_view_count": null,
            "_view_module": "@jupyter-widgets/base",
            "_view_module_version": "1.2.0",
            "_view_name": "StyleView",
            "description_width": ""
          }
        },
        "a5ee969f9552464b9fce016a4d8dd2fa": {
          "model_module": "@jupyter-widgets/controls",
          "model_name": "HBoxModel",
          "model_module_version": "1.5.0",
          "state": {
            "_dom_classes": [],
            "_model_module": "@jupyter-widgets/controls",
            "_model_module_version": "1.5.0",
            "_model_name": "HBoxModel",
            "_view_count": null,
            "_view_module": "@jupyter-widgets/controls",
            "_view_module_version": "1.5.0",
            "_view_name": "HBoxView",
            "box_style": "",
            "children": [
              "IPY_MODEL_44cd1d01c77447d68b8dec13a9100abc",
              "IPY_MODEL_a49e9b59a3e343e1aa92c19f60ec93e7",
              "IPY_MODEL_6edb9ea2aa27459bb78495a32fea2932"
            ],
            "layout": "IPY_MODEL_dfd6bf28757f4a41ace79fa1422749af"
          }
        },
        "44cd1d01c77447d68b8dec13a9100abc": {
          "model_module": "@jupyter-widgets/controls",
          "model_name": "HTMLModel",
          "model_module_version": "1.5.0",
          "state": {
            "_dom_classes": [],
            "_model_module": "@jupyter-widgets/controls",
            "_model_module_version": "1.5.0",
            "_model_name": "HTMLModel",
            "_view_count": null,
            "_view_module": "@jupyter-widgets/controls",
            "_view_module_version": "1.5.0",
            "_view_name": "HTMLView",
            "description": "",
            "description_tooltip": null,
            "layout": "IPY_MODEL_b524047cfae34e5a9888ba88a04a7c0a",
            "placeholder": "​",
            "style": "IPY_MODEL_6d7d5bc7de474711956fcc3996575816",
            "value": "Downloading special_tokens_map.json: 100%"
          }
        },
        "a49e9b59a3e343e1aa92c19f60ec93e7": {
          "model_module": "@jupyter-widgets/controls",
          "model_name": "FloatProgressModel",
          "model_module_version": "1.5.0",
          "state": {
            "_dom_classes": [],
            "_model_module": "@jupyter-widgets/controls",
            "_model_module_version": "1.5.0",
            "_model_name": "FloatProgressModel",
            "_view_count": null,
            "_view_module": "@jupyter-widgets/controls",
            "_view_module_version": "1.5.0",
            "_view_name": "ProgressView",
            "bar_style": "success",
            "description": "",
            "description_tooltip": null,
            "layout": "IPY_MODEL_e77b9a9bcdb24a3db9aeaff2891d0b2d",
            "max": 112,
            "min": 0,
            "orientation": "horizontal",
            "style": "IPY_MODEL_884716c697a241e7b682a303faea2146",
            "value": 112
          }
        },
        "6edb9ea2aa27459bb78495a32fea2932": {
          "model_module": "@jupyter-widgets/controls",
          "model_name": "HTMLModel",
          "model_module_version": "1.5.0",
          "state": {
            "_dom_classes": [],
            "_model_module": "@jupyter-widgets/controls",
            "_model_module_version": "1.5.0",
            "_model_name": "HTMLModel",
            "_view_count": null,
            "_view_module": "@jupyter-widgets/controls",
            "_view_module_version": "1.5.0",
            "_view_name": "HTMLView",
            "description": "",
            "description_tooltip": null,
            "layout": "IPY_MODEL_e1bdc2e8852f4ff7b6fa704d0677f3ec",
            "placeholder": "​",
            "style": "IPY_MODEL_838284f6cf934d6c8115b8728132ce9f",
            "value": " 112/112 [00:00&lt;00:00, 2.93kB/s]"
          }
        },
        "dfd6bf28757f4a41ace79fa1422749af": {
          "model_module": "@jupyter-widgets/base",
          "model_name": "LayoutModel",
          "model_module_version": "1.2.0",
          "state": {
            "_model_module": "@jupyter-widgets/base",
            "_model_module_version": "1.2.0",
            "_model_name": "LayoutModel",
            "_view_count": null,
            "_view_module": "@jupyter-widgets/base",
            "_view_module_version": "1.2.0",
            "_view_name": "LayoutView",
            "align_content": null,
            "align_items": null,
            "align_self": null,
            "border": null,
            "bottom": null,
            "display": null,
            "flex": null,
            "flex_flow": null,
            "grid_area": null,
            "grid_auto_columns": null,
            "grid_auto_flow": null,
            "grid_auto_rows": null,
            "grid_column": null,
            "grid_gap": null,
            "grid_row": null,
            "grid_template_areas": null,
            "grid_template_columns": null,
            "grid_template_rows": null,
            "height": null,
            "justify_content": null,
            "justify_items": null,
            "left": null,
            "margin": null,
            "max_height": null,
            "max_width": null,
            "min_height": null,
            "min_width": null,
            "object_fit": null,
            "object_position": null,
            "order": null,
            "overflow": null,
            "overflow_x": null,
            "overflow_y": null,
            "padding": null,
            "right": null,
            "top": null,
            "visibility": null,
            "width": null
          }
        },
        "b524047cfae34e5a9888ba88a04a7c0a": {
          "model_module": "@jupyter-widgets/base",
          "model_name": "LayoutModel",
          "model_module_version": "1.2.0",
          "state": {
            "_model_module": "@jupyter-widgets/base",
            "_model_module_version": "1.2.0",
            "_model_name": "LayoutModel",
            "_view_count": null,
            "_view_module": "@jupyter-widgets/base",
            "_view_module_version": "1.2.0",
            "_view_name": "LayoutView",
            "align_content": null,
            "align_items": null,
            "align_self": null,
            "border": null,
            "bottom": null,
            "display": null,
            "flex": null,
            "flex_flow": null,
            "grid_area": null,
            "grid_auto_columns": null,
            "grid_auto_flow": null,
            "grid_auto_rows": null,
            "grid_column": null,
            "grid_gap": null,
            "grid_row": null,
            "grid_template_areas": null,
            "grid_template_columns": null,
            "grid_template_rows": null,
            "height": null,
            "justify_content": null,
            "justify_items": null,
            "left": null,
            "margin": null,
            "max_height": null,
            "max_width": null,
            "min_height": null,
            "min_width": null,
            "object_fit": null,
            "object_position": null,
            "order": null,
            "overflow": null,
            "overflow_x": null,
            "overflow_y": null,
            "padding": null,
            "right": null,
            "top": null,
            "visibility": null,
            "width": null
          }
        },
        "6d7d5bc7de474711956fcc3996575816": {
          "model_module": "@jupyter-widgets/controls",
          "model_name": "DescriptionStyleModel",
          "model_module_version": "1.5.0",
          "state": {
            "_model_module": "@jupyter-widgets/controls",
            "_model_module_version": "1.5.0",
            "_model_name": "DescriptionStyleModel",
            "_view_count": null,
            "_view_module": "@jupyter-widgets/base",
            "_view_module_version": "1.2.0",
            "_view_name": "StyleView",
            "description_width": ""
          }
        },
        "e77b9a9bcdb24a3db9aeaff2891d0b2d": {
          "model_module": "@jupyter-widgets/base",
          "model_name": "LayoutModel",
          "model_module_version": "1.2.0",
          "state": {
            "_model_module": "@jupyter-widgets/base",
            "_model_module_version": "1.2.0",
            "_model_name": "LayoutModel",
            "_view_count": null,
            "_view_module": "@jupyter-widgets/base",
            "_view_module_version": "1.2.0",
            "_view_name": "LayoutView",
            "align_content": null,
            "align_items": null,
            "align_self": null,
            "border": null,
            "bottom": null,
            "display": null,
            "flex": null,
            "flex_flow": null,
            "grid_area": null,
            "grid_auto_columns": null,
            "grid_auto_flow": null,
            "grid_auto_rows": null,
            "grid_column": null,
            "grid_gap": null,
            "grid_row": null,
            "grid_template_areas": null,
            "grid_template_columns": null,
            "grid_template_rows": null,
            "height": null,
            "justify_content": null,
            "justify_items": null,
            "left": null,
            "margin": null,
            "max_height": null,
            "max_width": null,
            "min_height": null,
            "min_width": null,
            "object_fit": null,
            "object_position": null,
            "order": null,
            "overflow": null,
            "overflow_x": null,
            "overflow_y": null,
            "padding": null,
            "right": null,
            "top": null,
            "visibility": null,
            "width": null
          }
        },
        "884716c697a241e7b682a303faea2146": {
          "model_module": "@jupyter-widgets/controls",
          "model_name": "ProgressStyleModel",
          "model_module_version": "1.5.0",
          "state": {
            "_model_module": "@jupyter-widgets/controls",
            "_model_module_version": "1.5.0",
            "_model_name": "ProgressStyleModel",
            "_view_count": null,
            "_view_module": "@jupyter-widgets/base",
            "_view_module_version": "1.2.0",
            "_view_name": "StyleView",
            "bar_color": null,
            "description_width": ""
          }
        },
        "e1bdc2e8852f4ff7b6fa704d0677f3ec": {
          "model_module": "@jupyter-widgets/base",
          "model_name": "LayoutModel",
          "model_module_version": "1.2.0",
          "state": {
            "_model_module": "@jupyter-widgets/base",
            "_model_module_version": "1.2.0",
            "_model_name": "LayoutModel",
            "_view_count": null,
            "_view_module": "@jupyter-widgets/base",
            "_view_module_version": "1.2.0",
            "_view_name": "LayoutView",
            "align_content": null,
            "align_items": null,
            "align_self": null,
            "border": null,
            "bottom": null,
            "display": null,
            "flex": null,
            "flex_flow": null,
            "grid_area": null,
            "grid_auto_columns": null,
            "grid_auto_flow": null,
            "grid_auto_rows": null,
            "grid_column": null,
            "grid_gap": null,
            "grid_row": null,
            "grid_template_areas": null,
            "grid_template_columns": null,
            "grid_template_rows": null,
            "height": null,
            "justify_content": null,
            "justify_items": null,
            "left": null,
            "margin": null,
            "max_height": null,
            "max_width": null,
            "min_height": null,
            "min_width": null,
            "object_fit": null,
            "object_position": null,
            "order": null,
            "overflow": null,
            "overflow_x": null,
            "overflow_y": null,
            "padding": null,
            "right": null,
            "top": null,
            "visibility": null,
            "width": null
          }
        },
        "838284f6cf934d6c8115b8728132ce9f": {
          "model_module": "@jupyter-widgets/controls",
          "model_name": "DescriptionStyleModel",
          "model_module_version": "1.5.0",
          "state": {
            "_model_module": "@jupyter-widgets/controls",
            "_model_module_version": "1.5.0",
            "_model_name": "DescriptionStyleModel",
            "_view_count": null,
            "_view_module": "@jupyter-widgets/base",
            "_view_module_version": "1.2.0",
            "_view_name": "StyleView",
            "description_width": ""
          }
        },
        "c6f16f9bc0ec4b56a19f683894272a15": {
          "model_module": "@jupyter-widgets/controls",
          "model_name": "HBoxModel",
          "model_module_version": "1.5.0",
          "state": {
            "_dom_classes": [],
            "_model_module": "@jupyter-widgets/controls",
            "_model_module_version": "1.5.0",
            "_model_name": "HBoxModel",
            "_view_count": null,
            "_view_module": "@jupyter-widgets/controls",
            "_view_module_version": "1.5.0",
            "_view_name": "HBoxView",
            "box_style": "",
            "children": [
              "IPY_MODEL_65bdc9e5128b478498cd3a03c84155f4",
              "IPY_MODEL_dd55268972ec4f548cc041553abba379",
              "IPY_MODEL_b2562cbeb1b94d1faae41825234e0101"
            ],
            "layout": "IPY_MODEL_b7c9ca16974d45db9ab35ea1fc42b0c7"
          }
        },
        "65bdc9e5128b478498cd3a03c84155f4": {
          "model_module": "@jupyter-widgets/controls",
          "model_name": "HTMLModel",
          "model_module_version": "1.5.0",
          "state": {
            "_dom_classes": [],
            "_model_module": "@jupyter-widgets/controls",
            "_model_module_version": "1.5.0",
            "_model_name": "HTMLModel",
            "_view_count": null,
            "_view_module": "@jupyter-widgets/controls",
            "_view_module_version": "1.5.0",
            "_view_name": "HTMLView",
            "description": "",
            "description_tooltip": null,
            "layout": "IPY_MODEL_5875a507a5664e41b7b9271d594c90aa",
            "placeholder": "​",
            "style": "IPY_MODEL_768c141721254c28a1a6ad3c2c524fde",
            "value": "Downloading tf_model.h5: 100%"
          }
        },
        "dd55268972ec4f548cc041553abba379": {
          "model_module": "@jupyter-widgets/controls",
          "model_name": "FloatProgressModel",
          "model_module_version": "1.5.0",
          "state": {
            "_dom_classes": [],
            "_model_module": "@jupyter-widgets/controls",
            "_model_module_version": "1.5.0",
            "_model_name": "FloatProgressModel",
            "_view_count": null,
            "_view_module": "@jupyter-widgets/controls",
            "_view_module_version": "1.5.0",
            "_view_name": "ProgressView",
            "bar_style": "success",
            "description": "",
            "description_tooltip": null,
            "layout": "IPY_MODEL_445188cd8892492c8bfcec254bcf6a0e",
            "max": 438190872,
            "min": 0,
            "orientation": "horizontal",
            "style": "IPY_MODEL_0fa90ce3c6d74e8fafcfbd0f2b2fa116",
            "value": 438190872
          }
        },
        "b2562cbeb1b94d1faae41825234e0101": {
          "model_module": "@jupyter-widgets/controls",
          "model_name": "HTMLModel",
          "model_module_version": "1.5.0",
          "state": {
            "_dom_classes": [],
            "_model_module": "@jupyter-widgets/controls",
            "_model_module_version": "1.5.0",
            "_model_name": "HTMLModel",
            "_view_count": null,
            "_view_module": "@jupyter-widgets/controls",
            "_view_module_version": "1.5.0",
            "_view_name": "HTMLView",
            "description": "",
            "description_tooltip": null,
            "layout": "IPY_MODEL_39856098cb1b44dc8e542e1a196637c4",
            "placeholder": "​",
            "style": "IPY_MODEL_694db9563be94e1c9e364e8dcaf07714",
            "value": " 418M/418M [00:11&lt;00:00, 41.2MB/s]"
          }
        },
        "b7c9ca16974d45db9ab35ea1fc42b0c7": {
          "model_module": "@jupyter-widgets/base",
          "model_name": "LayoutModel",
          "model_module_version": "1.2.0",
          "state": {
            "_model_module": "@jupyter-widgets/base",
            "_model_module_version": "1.2.0",
            "_model_name": "LayoutModel",
            "_view_count": null,
            "_view_module": "@jupyter-widgets/base",
            "_view_module_version": "1.2.0",
            "_view_name": "LayoutView",
            "align_content": null,
            "align_items": null,
            "align_self": null,
            "border": null,
            "bottom": null,
            "display": null,
            "flex": null,
            "flex_flow": null,
            "grid_area": null,
            "grid_auto_columns": null,
            "grid_auto_flow": null,
            "grid_auto_rows": null,
            "grid_column": null,
            "grid_gap": null,
            "grid_row": null,
            "grid_template_areas": null,
            "grid_template_columns": null,
            "grid_template_rows": null,
            "height": null,
            "justify_content": null,
            "justify_items": null,
            "left": null,
            "margin": null,
            "max_height": null,
            "max_width": null,
            "min_height": null,
            "min_width": null,
            "object_fit": null,
            "object_position": null,
            "order": null,
            "overflow": null,
            "overflow_x": null,
            "overflow_y": null,
            "padding": null,
            "right": null,
            "top": null,
            "visibility": null,
            "width": null
          }
        },
        "5875a507a5664e41b7b9271d594c90aa": {
          "model_module": "@jupyter-widgets/base",
          "model_name": "LayoutModel",
          "model_module_version": "1.2.0",
          "state": {
            "_model_module": "@jupyter-widgets/base",
            "_model_module_version": "1.2.0",
            "_model_name": "LayoutModel",
            "_view_count": null,
            "_view_module": "@jupyter-widgets/base",
            "_view_module_version": "1.2.0",
            "_view_name": "LayoutView",
            "align_content": null,
            "align_items": null,
            "align_self": null,
            "border": null,
            "bottom": null,
            "display": null,
            "flex": null,
            "flex_flow": null,
            "grid_area": null,
            "grid_auto_columns": null,
            "grid_auto_flow": null,
            "grid_auto_rows": null,
            "grid_column": null,
            "grid_gap": null,
            "grid_row": null,
            "grid_template_areas": null,
            "grid_template_columns": null,
            "grid_template_rows": null,
            "height": null,
            "justify_content": null,
            "justify_items": null,
            "left": null,
            "margin": null,
            "max_height": null,
            "max_width": null,
            "min_height": null,
            "min_width": null,
            "object_fit": null,
            "object_position": null,
            "order": null,
            "overflow": null,
            "overflow_x": null,
            "overflow_y": null,
            "padding": null,
            "right": null,
            "top": null,
            "visibility": null,
            "width": null
          }
        },
        "768c141721254c28a1a6ad3c2c524fde": {
          "model_module": "@jupyter-widgets/controls",
          "model_name": "DescriptionStyleModel",
          "model_module_version": "1.5.0",
          "state": {
            "_model_module": "@jupyter-widgets/controls",
            "_model_module_version": "1.5.0",
            "_model_name": "DescriptionStyleModel",
            "_view_count": null,
            "_view_module": "@jupyter-widgets/base",
            "_view_module_version": "1.2.0",
            "_view_name": "StyleView",
            "description_width": ""
          }
        },
        "445188cd8892492c8bfcec254bcf6a0e": {
          "model_module": "@jupyter-widgets/base",
          "model_name": "LayoutModel",
          "model_module_version": "1.2.0",
          "state": {
            "_model_module": "@jupyter-widgets/base",
            "_model_module_version": "1.2.0",
            "_model_name": "LayoutModel",
            "_view_count": null,
            "_view_module": "@jupyter-widgets/base",
            "_view_module_version": "1.2.0",
            "_view_name": "LayoutView",
            "align_content": null,
            "align_items": null,
            "align_self": null,
            "border": null,
            "bottom": null,
            "display": null,
            "flex": null,
            "flex_flow": null,
            "grid_area": null,
            "grid_auto_columns": null,
            "grid_auto_flow": null,
            "grid_auto_rows": null,
            "grid_column": null,
            "grid_gap": null,
            "grid_row": null,
            "grid_template_areas": null,
            "grid_template_columns": null,
            "grid_template_rows": null,
            "height": null,
            "justify_content": null,
            "justify_items": null,
            "left": null,
            "margin": null,
            "max_height": null,
            "max_width": null,
            "min_height": null,
            "min_width": null,
            "object_fit": null,
            "object_position": null,
            "order": null,
            "overflow": null,
            "overflow_x": null,
            "overflow_y": null,
            "padding": null,
            "right": null,
            "top": null,
            "visibility": null,
            "width": null
          }
        },
        "0fa90ce3c6d74e8fafcfbd0f2b2fa116": {
          "model_module": "@jupyter-widgets/controls",
          "model_name": "ProgressStyleModel",
          "model_module_version": "1.5.0",
          "state": {
            "_model_module": "@jupyter-widgets/controls",
            "_model_module_version": "1.5.0",
            "_model_name": "ProgressStyleModel",
            "_view_count": null,
            "_view_module": "@jupyter-widgets/base",
            "_view_module_version": "1.2.0",
            "_view_name": "StyleView",
            "bar_color": null,
            "description_width": ""
          }
        },
        "39856098cb1b44dc8e542e1a196637c4": {
          "model_module": "@jupyter-widgets/base",
          "model_name": "LayoutModel",
          "model_module_version": "1.2.0",
          "state": {
            "_model_module": "@jupyter-widgets/base",
            "_model_module_version": "1.2.0",
            "_model_name": "LayoutModel",
            "_view_count": null,
            "_view_module": "@jupyter-widgets/base",
            "_view_module_version": "1.2.0",
            "_view_name": "LayoutView",
            "align_content": null,
            "align_items": null,
            "align_self": null,
            "border": null,
            "bottom": null,
            "display": null,
            "flex": null,
            "flex_flow": null,
            "grid_area": null,
            "grid_auto_columns": null,
            "grid_auto_flow": null,
            "grid_auto_rows": null,
            "grid_column": null,
            "grid_gap": null,
            "grid_row": null,
            "grid_template_areas": null,
            "grid_template_columns": null,
            "grid_template_rows": null,
            "height": null,
            "justify_content": null,
            "justify_items": null,
            "left": null,
            "margin": null,
            "max_height": null,
            "max_width": null,
            "min_height": null,
            "min_width": null,
            "object_fit": null,
            "object_position": null,
            "order": null,
            "overflow": null,
            "overflow_x": null,
            "overflow_y": null,
            "padding": null,
            "right": null,
            "top": null,
            "visibility": null,
            "width": null
          }
        },
        "694db9563be94e1c9e364e8dcaf07714": {
          "model_module": "@jupyter-widgets/controls",
          "model_name": "DescriptionStyleModel",
          "model_module_version": "1.5.0",
          "state": {
            "_model_module": "@jupyter-widgets/controls",
            "_model_module_version": "1.5.0",
            "_model_name": "DescriptionStyleModel",
            "_view_count": null,
            "_view_module": "@jupyter-widgets/base",
            "_view_module_version": "1.2.0",
            "_view_name": "StyleView",
            "description_width": ""
          }
        }
      }
    }
  },
  "nbformat_minor": 0,
  "nbformat": 4,
  "cells": [
    {
      "cell_type": "code",
      "source": [
        "from google.colab import drive\n",
        "drive.mount('/content/drive')"
      ],
      "metadata": {
        "colab": {
          "base_uri": "https://localhost:8080/"
        },
        "id": "5WqI6K0nVPkn",
        "outputId": "527bd1a8-ac6a-47b7-9ba2-c6700790bc88"
      },
      "execution_count": 2,
      "outputs": [
        {
          "output_type": "stream",
          "name": "stdout",
          "text": [
            "Drive already mounted at /content/drive; to attempt to forcibly remount, call drive.mount(\"/content/drive\", force_remount=True).\n"
          ]
        }
      ]
    },
    {
      "cell_type": "code",
      "source": [
        "pip install transformers"
      ],
      "metadata": {
        "colab": {
          "base_uri": "https://localhost:8080/"
        },
        "id": "9UJhPGc6VjRC",
        "outputId": "7f4c1439-b67f-4aea-85da-75933fde2caa"
      },
      "execution_count": 3,
      "outputs": [
        {
          "output_type": "stream",
          "name": "stdout",
          "text": [
            "Looking in indexes: https://pypi.org/simple, https://us-python.pkg.dev/colab-wheels/public/simple/\n",
            "Requirement already satisfied: transformers in /usr/local/lib/python3.7/dist-packages (4.21.0)\n",
            "Requirement already satisfied: packaging>=20.0 in /usr/local/lib/python3.7/dist-packages (from transformers) (21.3)\n",
            "Requirement already satisfied: regex!=2019.12.17 in /usr/local/lib/python3.7/dist-packages (from transformers) (2022.6.2)\n",
            "Requirement already satisfied: huggingface-hub<1.0,>=0.1.0 in /usr/local/lib/python3.7/dist-packages (from transformers) (0.8.1)\n",
            "Requirement already satisfied: filelock in /usr/local/lib/python3.7/dist-packages (from transformers) (3.7.1)\n",
            "Requirement already satisfied: tokenizers!=0.11.3,<0.13,>=0.11.1 in /usr/local/lib/python3.7/dist-packages (from transformers) (0.12.1)\n",
            "Requirement already satisfied: requests in /usr/local/lib/python3.7/dist-packages (from transformers) (2.23.0)\n",
            "Requirement already satisfied: importlib-metadata in /usr/local/lib/python3.7/dist-packages (from transformers) (4.12.0)\n",
            "Requirement already satisfied: pyyaml>=5.1 in /usr/local/lib/python3.7/dist-packages (from transformers) (6.0)\n",
            "Requirement already satisfied: numpy>=1.17 in /usr/local/lib/python3.7/dist-packages (from transformers) (1.21.6)\n",
            "Requirement already satisfied: tqdm>=4.27 in /usr/local/lib/python3.7/dist-packages (from transformers) (4.64.0)\n",
            "Requirement already satisfied: typing-extensions>=3.7.4.3 in /usr/local/lib/python3.7/dist-packages (from huggingface-hub<1.0,>=0.1.0->transformers) (4.1.1)\n",
            "Requirement already satisfied: pyparsing!=3.0.5,>=2.0.2 in /usr/local/lib/python3.7/dist-packages (from packaging>=20.0->transformers) (3.0.9)\n",
            "Requirement already satisfied: zipp>=0.5 in /usr/local/lib/python3.7/dist-packages (from importlib-metadata->transformers) (3.8.1)\n",
            "Requirement already satisfied: urllib3!=1.25.0,!=1.25.1,<1.26,>=1.21.1 in /usr/local/lib/python3.7/dist-packages (from requests->transformers) (1.24.3)\n",
            "Requirement already satisfied: certifi>=2017.4.17 in /usr/local/lib/python3.7/dist-packages (from requests->transformers) (2022.6.15)\n",
            "Requirement already satisfied: idna<3,>=2.5 in /usr/local/lib/python3.7/dist-packages (from requests->transformers) (2.10)\n",
            "Requirement already satisfied: chardet<4,>=3.0.2 in /usr/local/lib/python3.7/dist-packages (from requests->transformers) (3.0.4)\n"
          ]
        }
      ]
    },
    {
      "cell_type": "markdown",
      "source": [
        "## Week 13: Sentiment Analysis using Bert embeddings and RNN/LSTM + Logistic for the downstream task\n",
        "\n",
        "Instructor: Cornelia Ilin <br>\n",
        "Email: cilin@ischool.berkeley.edu <br>"
      ],
      "metadata": {
        "id": "VBgKgV3QVMkb"
      }
    },
    {
      "cell_type": "markdown",
      "source": [
        "#### ``Objectives``\n",
        "1. Load a pre-trained BERT embeddings model. Let's call this **bert_model**.\n",
        "2. Use the BERT token embeddings to clasify the sentiment of drug reviews by passing the token embeddings through an RNN/LSTM model before classifying the reviews with a sigmoid (logistic) function. This is a downstream task! Let's call it **rnn_logit_model**.\n",
        "3. Fine-tune the classification model."
      ],
      "metadata": {
        "id": "9sjQRbNaVMkg"
      }
    },
    {
      "cell_type": "markdown",
      "source": [
        "#### ``Motivation``"
      ],
      "metadata": {
        "id": "rS7jdVCaVMkh"
      }
    },
    {
      "cell_type": "markdown",
      "source": [
        "1. Drug reviews can provide medical care information for both healthcare professionals and patients. They help understand the side effects and effectiveness level of drugs before prescribing or taking them.\n",
        "\n",
        "2. Try a different embedding strategy: remember that we need to convert sequences of word tokens to a vector representation that we can then use in a prediction model (downstream task). We will do this using a pre-trained BERT model (this is what transfer learning means).\n",
        "\n",
        "3. Work with token embeddings instead of sentence embeddings. Note that an RNN/LSTM layer on top of our transfered embedding model knows how to deal with the 3D token data! We will then classify sentences using a Sigmoid (logistic) layer.\n",
        "\n",
        "3. Fine-tune your prediction model by unfreezing layers of your BERT model."
      ],
      "metadata": {
        "id": "T82HWJygVMkh"
      }
    },
    {
      "cell_type": "markdown",
      "source": [
        "#### ``Motivating papers``\n",
        "\n",
        "\n",
        "Transformer models have revolutionized NLP and have been at the forefront of many impressive applications. Transformers rely on *attention* and *self-attention* mechanisms. The architecture was first proporsed in the NeurIPS 2017 paper [Attention is All you Need](https://proceedings.neurips.cc/paper/2017/file/3f5ee243547dee91fbd053c1c4a845aa-Paper.pdf).\n",
        "\n",
        "A popular model that uses the transformer architecture is [BERT](https://arxiv.org/abs/1810.04805). To familiarize yourself with BERT, briefly describe the 2 pretraining tasks discussed in the introduction to the paper."
      ],
      "metadata": {
        "id": "oJ7_oKvrVMki"
      }
    },
    {
      "cell_type": "markdown",
      "source": [
        "#### ``Pre-trained BERT model (PubMedBert)``"
      ],
      "metadata": {
        "id": "9rbM2cpTVMki"
      }
    },
    {
      "cell_type": "markdown",
      "source": [
        "[HuggingFace](https://huggingface.co/docs/transformers/index) provides a standard interface for tokenizers and transformers in Tensorflow and PyTorch. They also provide a platform for reserachers to share pretrained models. For example, we will load a pretrained BERT model from HuggingFace: the [PubMedBERT model + tokenizer](https://huggingface.co/cambridgeltl/SapBERT-from-PubMedBERT-fulltext) that has been trained on a dataset of biomedical texts.\n",
        "\n",
        "<span style=\"color:chocolate\">Question:</span> Is there a benefit to using a BERT model that has been pretrained on biomedical text compared with, for example, a BERT model trained on Wikipedia?"
      ],
      "metadata": {
        "id": "ij7JQqI5VMkj"
      }
    },
    {
      "cell_type": "markdown",
      "source": [
        "#### ``BERT architecture``"
      ],
      "metadata": {
        "id": "Mytenw0dVMkj"
      }
    },
    {
      "cell_type": "markdown",
      "source": [
        "I mentioned above that BERT relies on the transformer architecture. What does it mean? Well, instead of processing sequence data one-at-a-time (this is what RNN/LSTM does), transformers process entire sequences at once. The good thing is that they still model dependencies between sequence elements. \n",
        "\n",
        "<span style=\"color:chocolate\">Question:</span> What is the mechanism that transformers use to model sequence dependencies? (you can refer to the [Attention is all you need](https://proceedings.neurips.cc/paper/2017/file/3f5ee243547dee91fbd053c1c4a845aa-Paper.pdf) paper)"
      ],
      "metadata": {
        "id": "dSCKMLnBVMkk"
      }
    },
    {
      "cell_type": "markdown",
      "source": [
        "#### ``Data``"
      ],
      "metadata": {
        "id": "S2UwOkcxVMkl"
      }
    },
    {
      "cell_type": "markdown",
      "source": [
        "Our data ([download link](https://drive.google.com/file/d/1ZWzmnIykk63pJuEBTonxbC4CBXJjI6t5/view?usp=sharing)) provides patient reviews on specific drugs and related conditions, and a 10-star rating reflecting overall patient satisfaction. The data was obtained by crawling online pharmaceutical review sites.\n",
        "\n",
        "We will **build** and **train** a NN model to predict if a review is positive (1) or negative (0).\n",
        "\n",
        "\n",
        "<u>Note</u>: the original dataset is hosted by UCI - Machine Learning Repository [[Source]](https://archive.ics.uci.edu/ml/datasets/Drug+Review+Dataset+%28Drugs.com%29)."
      ],
      "metadata": {
        "id": "BbEd2ktxVMkl"
      }
    },
    {
      "cell_type": "markdown",
      "source": [
        "Import the necessary libraries and make sure to replace DATA_PATH with the path to the directories where you saved the data."
      ],
      "metadata": {
        "id": "NSP6_u9yVMkl"
      }
    },
    {
      "cell_type": "code",
      "source": [
        "# standard\n",
        "import pandas as pd\n",
        "import numpy as np\n",
        "import random\n",
        "import os\n",
        "\n",
        "# sklearn\n",
        "from sklearn.model_selection import train_test_split\n",
        "from sklearn.dummy import DummyClassifier\n",
        "from sklearn.model_selection import cross_val_score\n",
        "\n",
        "# tf and keras\n",
        "import tensorflow as tf\n",
        "from tensorflow import keras\n",
        "from tensorflow.keras import Sequential\n",
        "from tensorflow.keras.layers import Dense\n",
        "from tensorflow.keras.layers import Flatten\n",
        "from tensorflow.keras.layers import Conv1D\n",
        "from tensorflow.keras.layers import MaxPooling1D\n",
        "from tensorflow.keras.layers import GlobalAveragePooling1D\n",
        "from tensorflow.keras.layers import Embedding\n",
        "from tensorflow.keras.preprocessing.text import Tokenizer\n",
        "from tensorflow.keras.preprocessing import sequence\n",
        "from sklearn.preprocessing import LabelEncoder\n",
        "import tensorflow_datasets as tfds\n",
        "\n",
        "# BERT\n",
        "from transformers import AutoTokenizer, TFAutoModel\n",
        "\n",
        "\n",
        "# plots and images\n",
        "import seaborn as sns\n",
        "import matplotlib.pyplot as plt\n",
        "from IPython.display import Image\n",
        "\n",
        "# others\n",
        "import re\n",
        "import tqdm\n",
        "import warnings\n",
        "warnings.filterwarnings(\"ignore\")\n",
        "\n",
        "#silence TF\n",
        "os.environ['TF_CPP_MIN_LOG_LEVEL'] = '3' \n",
        "\n",
        "\n",
        "random.seed(2)\n",
        "%matplotlib inline\n",
        "\n",
        "# FILL IN CODE HERE #\n",
        "DATA_PATH = '/content/drive/MyDrive/w207/drugsCom_raw' # replace with your path"
      ],
      "metadata": {
        "execution": {
          "iopub.status.busy": "2022-07-29T23:24:37.412837Z",
          "iopub.execute_input": "2022-07-29T23:24:37.413337Z",
          "iopub.status.idle": "2022-07-29T23:24:48.619898Z",
          "shell.execute_reply.started": "2022-07-29T23:24:37.413236Z",
          "shell.execute_reply": "2022-07-29T23:24:48.618612Z"
        },
        "trusted": true,
        "id": "oOAgGfD3VMkm"
      },
      "execution_count": 4,
      "outputs": []
    },
    {
      "cell_type": "markdown",
      "source": [
        "``Functions``"
      ],
      "metadata": {
        "id": "gOkfnFd2VMkn"
      }
    },
    {
      "cell_type": "code",
      "source": [
        "def preprocessor(text):\n",
        "    text = re.sub('<[^>]*>', '', text)\n",
        "    emoticons = re.findall('(?::|;|=)(?:-)?(?:\\)|\\(|D|P)',\n",
        "                           text)\n",
        "    text = (re.sub('[\\W]+', ' ', text.lower()) +\n",
        "            ' '.join(emoticons).replace('-', ''))\n",
        "    return text"
      ],
      "metadata": {
        "execution": {
          "iopub.status.busy": "2022-07-29T22:37:46.969548Z",
          "iopub.execute_input": "2022-07-29T22:37:46.971001Z",
          "iopub.status.idle": "2022-07-29T22:37:46.976529Z",
          "shell.execute_reply.started": "2022-07-29T22:37:46.970962Z",
          "shell.execute_reply": "2022-07-29T22:37:46.975391Z"
        },
        "trusted": true,
        "id": "szEzyfx6VMko"
      },
      "execution_count": 5,
      "outputs": []
    },
    {
      "cell_type": "code",
      "source": [
        "def tokenize(reviews, labels, tokenizer, seq_length):\n",
        "    ''''''\n",
        "    # tokenize reviews (this will give you: input_ids, token_type_ids, attention_mask)\n",
        "    reviews_tokenized = [\n",
        "        tokenizer(\n",
        "            n,\n",
        "            return_tensors='tf',\n",
        "            truncation=True,\n",
        "            padding='max_length',\n",
        "            max_length=seq_length) for n in reviews\n",
        "    ]\n",
        "    \n",
        "    reviews_tokenized_tensor = tf.convert_to_tensor([\n",
        "                            (reviews_tokenized[i]['input_ids'],\n",
        "                              reviews_tokenized[i]['token_type_ids'],\n",
        "                              reviews_tokenized[i]['attention_mask'])\n",
        "                         for i in range(len(reviews_tokenized))\n",
        "    ])\n",
        "    \n",
        "    # remove empty dimension \n",
        "    reviews_tokenized_tensor = reviews_tokenized_tensor[:,:,0,:]\n",
        "    \n",
        "    # tensor labels\n",
        "    labels_tensor = np.array(labels)\n",
        "    \n",
        "    return reviews_tokenized_tensor, labels_tensor"
      ],
      "metadata": {
        "execution": {
          "iopub.status.busy": "2022-07-29T22:37:48.555056Z",
          "iopub.execute_input": "2022-07-29T22:37:48.555429Z",
          "iopub.status.idle": "2022-07-29T22:37:48.565476Z",
          "shell.execute_reply.started": "2022-07-29T22:37:48.555377Z",
          "shell.execute_reply": "2022-07-29T22:37:48.564465Z"
        },
        "trusted": true,
        "id": "14BltwlqVMko"
      },
      "execution_count": 6,
      "outputs": []
    },
    {
      "cell_type": "code",
      "source": [
        "def get_bert_embeddings(bert_auto_model, reviews_tokenized_tensor, feature_size=768):\n",
        "    ''''''\n",
        "    n = len(reviews_tokenized_tensor)\n",
        "    seq_len = reviews_tokenized_tensor[0][0].shape[0]\n",
        "    bert_pool_embeddings = np.zeros((n, seq_len, feature_size)) # for token embeddings\n",
        "    #bert_pool_embeddings = np.zeros((n, feature_size)) # for sentence embeddings\n",
        "    bs = 128 \n",
        "    nsteps = n//bs+1\n",
        "    \n",
        "    for i in tqdm.trange(n//bs+1):\n",
        "        slc = slice(i*bs, (i+1)*bs)\n",
        "        data = reviews_tokenized_tensor[slc]\n",
        "        input_ids, token_type_ids, attention_mask = data[:,0], data[:,1], data[:,2]\n",
        "        embedding = bert_auto_model(input_ids, token_type_ids, attention_mask).last_hidden_state # for token embeddings\n",
        "        #embedding = bert_auto_model(input_ids, token_type_ids, attention_mask).pooler_output # for sentence embeddings\n",
        "        bert_pool_embeddings[slc] = embedding\n",
        "        \n",
        "    return bert_pool_embeddings"
      ],
      "metadata": {
        "execution": {
          "iopub.status.busy": "2022-07-29T22:37:49.452575Z",
          "iopub.execute_input": "2022-07-29T22:37:49.453343Z",
          "iopub.status.idle": "2022-07-29T22:37:49.462698Z",
          "shell.execute_reply.started": "2022-07-29T22:37:49.453296Z",
          "shell.execute_reply": "2022-07-29T22:37:49.461392Z"
        },
        "trusted": true,
        "id": "UpBMgr7qVMko"
      },
      "execution_count": 7,
      "outputs": []
    },
    {
      "cell_type": "code",
      "source": [
        "def confusion_matrix_plot(conf_matrix):\n",
        "    \"\"\" Confusion matrix matplotlib plot\n",
        "    # param conf_matrix: nested list of TP, TN, FP, FN\n",
        "    # return: None\n",
        "    \"\"\"\n",
        "    fig, ax = plt.subplots(figsize=(2.5, 2.5))\n",
        "    ax.matshow(conf_matrix, cmap=plt.cm.Blues, alpha=0.3)\n",
        "    for i in range(conf_matrix.shape[0]):\n",
        "        for j in range(conf_matrix.shape[1]):\n",
        "            ax.text(x=j, y=i, s=conf_matrix[i, j], va='center', ha='center')\n",
        "\n",
        "    plt.xlabel('Predicted label')\n",
        "    plt.ylabel('True label')\n",
        "\n",
        "    plt.tight_layout()\n",
        "    plt.show()"
      ],
      "metadata": {
        "execution": {
          "iopub.status.busy": "2022-07-29T22:37:50.702476Z",
          "iopub.execute_input": "2022-07-29T22:37:50.702975Z",
          "iopub.status.idle": "2022-07-29T22:37:50.710951Z",
          "shell.execute_reply.started": "2022-07-29T22:37:50.702937Z",
          "shell.execute_reply": "2022-07-29T22:37:50.709595Z"
        },
        "trusted": true,
        "id": "PF4VnkG0VMkp"
      },
      "execution_count": 8,
      "outputs": []
    },
    {
      "cell_type": "markdown",
      "source": [
        "---\n",
        "## Read data"
      ],
      "metadata": {
        "id": "QIscrDYXVMkp"
      }
    },
    {
      "cell_type": "code",
      "source": [
        "filepaths = [\n",
        "    '/content/drive/MyDrive/w207/drugsCom_raw/drugsComTrain_raw.tsv',\n",
        "    '/content/drive/MyDrive/w207/drugsCom_raw/drugsComTest_raw.tsv'\n",
        "]\n",
        "df_init = []\n",
        "for filepath in filepaths:\n",
        "    df_tmp = pd.read_csv(filepath, sep=\"\\t\")\n",
        "    df_init.append(df_tmp)\n",
        "\n",
        "df_init = pd.concat(df_init).reset_index(drop=True)\n",
        "\n",
        "print('Number of reviews:', df_init.shape[0])\n",
        "print('Reviews collected between:', df_init.date.min(), 'and ', df_init.date.max())\n",
        "print('Unique rating values:', np.sort(df_init.rating.unique()))\n",
        "df_init.head()"
      ],
      "metadata": {
        "execution": {
          "iopub.status.busy": "2022-07-29T22:46:10.886390Z",
          "iopub.execute_input": "2022-07-29T22:46:10.886773Z",
          "iopub.status.idle": "2022-07-29T22:46:12.382086Z",
          "shell.execute_reply.started": "2022-07-29T22:46:10.886742Z",
          "shell.execute_reply": "2022-07-29T22:46:12.380893Z"
        },
        "trusted": true,
        "colab": {
          "base_uri": "https://localhost:8080/",
          "height": 304
        },
        "id": "bYaV3PeiVMkp",
        "outputId": "8ddb3fdc-fcbb-4ddf-9e65-57b56d4f14c3"
      },
      "execution_count": 9,
      "outputs": [
        {
          "output_type": "stream",
          "name": "stdout",
          "text": [
            "Number of reviews: 215063\n",
            "Reviews collected between: April 1, 2008 and  September 9, 2017\n",
            "Unique rating values: [ 1.  2.  3.  4.  5.  6.  7.  8.  9. 10.]\n"
          ]
        },
        {
          "output_type": "execute_result",
          "data": {
            "text/plain": [
              "   Unnamed: 0                  drugName                     condition  \\\n",
              "0      206461                 Valsartan  Left Ventricular Dysfunction   \n",
              "1       95260                Guanfacine                          ADHD   \n",
              "2       92703                    Lybrel                 Birth Control   \n",
              "3      138000                Ortho Evra                 Birth Control   \n",
              "4       35696  Buprenorphine / naloxone             Opiate Dependence   \n",
              "\n",
              "                                              review  rating  \\\n",
              "0  \"It has no side effect, I take it in combinati...     9.0   \n",
              "1  \"My son is halfway through his fourth week of ...     8.0   \n",
              "2  \"I used to take another oral contraceptive, wh...     5.0   \n",
              "3  \"This is my first time using any form of birth...     8.0   \n",
              "4  \"Suboxone has completely turned my life around...     9.0   \n",
              "\n",
              "                date  usefulCount  \n",
              "0       May 20, 2012           27  \n",
              "1     April 27, 2010          192  \n",
              "2  December 14, 2009           17  \n",
              "3   November 3, 2015           10  \n",
              "4  November 27, 2016           37  "
            ],
            "text/html": [
              "\n",
              "  <div id=\"df-260d08e9-e63d-4c1e-a22c-2f99bc2eca36\">\n",
              "    <div class=\"colab-df-container\">\n",
              "      <div>\n",
              "<style scoped>\n",
              "    .dataframe tbody tr th:only-of-type {\n",
              "        vertical-align: middle;\n",
              "    }\n",
              "\n",
              "    .dataframe tbody tr th {\n",
              "        vertical-align: top;\n",
              "    }\n",
              "\n",
              "    .dataframe thead th {\n",
              "        text-align: right;\n",
              "    }\n",
              "</style>\n",
              "<table border=\"1\" class=\"dataframe\">\n",
              "  <thead>\n",
              "    <tr style=\"text-align: right;\">\n",
              "      <th></th>\n",
              "      <th>Unnamed: 0</th>\n",
              "      <th>drugName</th>\n",
              "      <th>condition</th>\n",
              "      <th>review</th>\n",
              "      <th>rating</th>\n",
              "      <th>date</th>\n",
              "      <th>usefulCount</th>\n",
              "    </tr>\n",
              "  </thead>\n",
              "  <tbody>\n",
              "    <tr>\n",
              "      <th>0</th>\n",
              "      <td>206461</td>\n",
              "      <td>Valsartan</td>\n",
              "      <td>Left Ventricular Dysfunction</td>\n",
              "      <td>\"It has no side effect, I take it in combinati...</td>\n",
              "      <td>9.0</td>\n",
              "      <td>May 20, 2012</td>\n",
              "      <td>27</td>\n",
              "    </tr>\n",
              "    <tr>\n",
              "      <th>1</th>\n",
              "      <td>95260</td>\n",
              "      <td>Guanfacine</td>\n",
              "      <td>ADHD</td>\n",
              "      <td>\"My son is halfway through his fourth week of ...</td>\n",
              "      <td>8.0</td>\n",
              "      <td>April 27, 2010</td>\n",
              "      <td>192</td>\n",
              "    </tr>\n",
              "    <tr>\n",
              "      <th>2</th>\n",
              "      <td>92703</td>\n",
              "      <td>Lybrel</td>\n",
              "      <td>Birth Control</td>\n",
              "      <td>\"I used to take another oral contraceptive, wh...</td>\n",
              "      <td>5.0</td>\n",
              "      <td>December 14, 2009</td>\n",
              "      <td>17</td>\n",
              "    </tr>\n",
              "    <tr>\n",
              "      <th>3</th>\n",
              "      <td>138000</td>\n",
              "      <td>Ortho Evra</td>\n",
              "      <td>Birth Control</td>\n",
              "      <td>\"This is my first time using any form of birth...</td>\n",
              "      <td>8.0</td>\n",
              "      <td>November 3, 2015</td>\n",
              "      <td>10</td>\n",
              "    </tr>\n",
              "    <tr>\n",
              "      <th>4</th>\n",
              "      <td>35696</td>\n",
              "      <td>Buprenorphine / naloxone</td>\n",
              "      <td>Opiate Dependence</td>\n",
              "      <td>\"Suboxone has completely turned my life around...</td>\n",
              "      <td>9.0</td>\n",
              "      <td>November 27, 2016</td>\n",
              "      <td>37</td>\n",
              "    </tr>\n",
              "  </tbody>\n",
              "</table>\n",
              "</div>\n",
              "      <button class=\"colab-df-convert\" onclick=\"convertToInteractive('df-260d08e9-e63d-4c1e-a22c-2f99bc2eca36')\"\n",
              "              title=\"Convert this dataframe to an interactive table.\"\n",
              "              style=\"display:none;\">\n",
              "        \n",
              "  <svg xmlns=\"http://www.w3.org/2000/svg\" height=\"24px\"viewBox=\"0 0 24 24\"\n",
              "       width=\"24px\">\n",
              "    <path d=\"M0 0h24v24H0V0z\" fill=\"none\"/>\n",
              "    <path d=\"M18.56 5.44l.94 2.06.94-2.06 2.06-.94-2.06-.94-.94-2.06-.94 2.06-2.06.94zm-11 1L8.5 8.5l.94-2.06 2.06-.94-2.06-.94L8.5 2.5l-.94 2.06-2.06.94zm10 10l.94 2.06.94-2.06 2.06-.94-2.06-.94-.94-2.06-.94 2.06-2.06.94z\"/><path d=\"M17.41 7.96l-1.37-1.37c-.4-.4-.92-.59-1.43-.59-.52 0-1.04.2-1.43.59L10.3 9.45l-7.72 7.72c-.78.78-.78 2.05 0 2.83L4 21.41c.39.39.9.59 1.41.59.51 0 1.02-.2 1.41-.59l7.78-7.78 2.81-2.81c.8-.78.8-2.07 0-2.86zM5.41 20L4 18.59l7.72-7.72 1.47 1.35L5.41 20z\"/>\n",
              "  </svg>\n",
              "      </button>\n",
              "      \n",
              "  <style>\n",
              "    .colab-df-container {\n",
              "      display:flex;\n",
              "      flex-wrap:wrap;\n",
              "      gap: 12px;\n",
              "    }\n",
              "\n",
              "    .colab-df-convert {\n",
              "      background-color: #E8F0FE;\n",
              "      border: none;\n",
              "      border-radius: 50%;\n",
              "      cursor: pointer;\n",
              "      display: none;\n",
              "      fill: #1967D2;\n",
              "      height: 32px;\n",
              "      padding: 0 0 0 0;\n",
              "      width: 32px;\n",
              "    }\n",
              "\n",
              "    .colab-df-convert:hover {\n",
              "      background-color: #E2EBFA;\n",
              "      box-shadow: 0px 1px 2px rgba(60, 64, 67, 0.3), 0px 1px 3px 1px rgba(60, 64, 67, 0.15);\n",
              "      fill: #174EA6;\n",
              "    }\n",
              "\n",
              "    [theme=dark] .colab-df-convert {\n",
              "      background-color: #3B4455;\n",
              "      fill: #D2E3FC;\n",
              "    }\n",
              "\n",
              "    [theme=dark] .colab-df-convert:hover {\n",
              "      background-color: #434B5C;\n",
              "      box-shadow: 0px 1px 3px 1px rgba(0, 0, 0, 0.15);\n",
              "      filter: drop-shadow(0px 1px 2px rgba(0, 0, 0, 0.3));\n",
              "      fill: #FFFFFF;\n",
              "    }\n",
              "  </style>\n",
              "\n",
              "      <script>\n",
              "        const buttonEl =\n",
              "          document.querySelector('#df-260d08e9-e63d-4c1e-a22c-2f99bc2eca36 button.colab-df-convert');\n",
              "        buttonEl.style.display =\n",
              "          google.colab.kernel.accessAllowed ? 'block' : 'none';\n",
              "\n",
              "        async function convertToInteractive(key) {\n",
              "          const element = document.querySelector('#df-260d08e9-e63d-4c1e-a22c-2f99bc2eca36');\n",
              "          const dataTable =\n",
              "            await google.colab.kernel.invokeFunction('convertToInteractive',\n",
              "                                                     [key], {});\n",
              "          if (!dataTable) return;\n",
              "\n",
              "          const docLinkHtml = 'Like what you see? Visit the ' +\n",
              "            '<a target=\"_blank\" href=https://colab.research.google.com/notebooks/data_table.ipynb>data table notebook</a>'\n",
              "            + ' to learn more about interactive tables.';\n",
              "          element.innerHTML = '';\n",
              "          dataTable['output_type'] = 'display_data';\n",
              "          await google.colab.output.renderOutput(dataTable, element);\n",
              "          const docLink = document.createElement('div');\n",
              "          docLink.innerHTML = docLinkHtml;\n",
              "          element.appendChild(docLink);\n",
              "        }\n",
              "      </script>\n",
              "    </div>\n",
              "  </div>\n",
              "  "
            ]
          },
          "metadata": {},
          "execution_count": 9
        }
      ]
    },
    {
      "cell_type": "markdown",
      "source": [
        "---\n",
        "## Data preprocessing"
      ],
      "metadata": {
        "id": "NCdtn-HBVMkp"
      }
    },
    {
      "cell_type": "markdown",
      "source": [
        "When building a neural network, it is import to get the data into the proper form. Let's do a couple of text preprocessing steps."
      ],
      "metadata": {
        "id": "t0m0U2_7VMkq"
      }
    },
    {
      "cell_type": "markdown",
      "source": [
        "``Step 1: Remove unwanted review characters``"
      ],
      "metadata": {
        "id": "fUB3bws7VMkq"
      }
    },
    {
      "cell_type": "code",
      "source": [
        "# remove HTML markup, punctuation, and other non-letter characters\n",
        "df_init['review'] = df_init['review'].apply(preprocessor)"
      ],
      "metadata": {
        "execution": {
          "iopub.status.busy": "2022-07-29T22:46:14.722927Z",
          "iopub.execute_input": "2022-07-29T22:46:14.723283Z",
          "iopub.status.idle": "2022-07-29T22:46:23.360887Z",
          "shell.execute_reply.started": "2022-07-29T22:46:14.723255Z",
          "shell.execute_reply": "2022-07-29T22:46:23.360000Z"
        },
        "trusted": true,
        "id": "ui8a1IZ7VMkq"
      },
      "execution_count": 10,
      "outputs": []
    },
    {
      "cell_type": "markdown",
      "source": [
        "``Step 2: Remove outlier reviews``"
      ],
      "metadata": {
        "id": "y-TH-vq0VMkq"
      }
    },
    {
      "cell_type": "markdown",
      "source": [
        "I want to remove any reviews with no text or extremely long text. Let's see if we find any such reviews."
      ],
      "metadata": {
        "id": "O5I4fVeQVMkq"
      }
    },
    {
      "cell_type": "code",
      "source": [
        "# find zero-length reviews\n",
        "zero_len_reviews = df_init[df_init['review'].str.len().eq(1)]\n",
        "print(\"Zero-length reviews: {}\".format(zero_len_reviews.shape[0]))\n",
        "display(zero_len_reviews)"
      ],
      "metadata": {
        "execution": {
          "iopub.status.busy": "2022-07-29T22:46:23.362857Z",
          "iopub.execute_input": "2022-07-29T22:46:23.363863Z",
          "iopub.status.idle": "2022-07-29T22:46:23.533656Z",
          "shell.execute_reply.started": "2022-07-29T22:46:23.363824Z",
          "shell.execute_reply": "2022-07-29T22:46:23.532482Z"
        },
        "trusted": true,
        "colab": {
          "base_uri": "https://localhost:8080/",
          "height": 130
        },
        "id": "0aTSyIE2VMkq",
        "outputId": "3f464475-6bfe-4714-c846-32e72c76c41b"
      },
      "execution_count": 11,
      "outputs": [
        {
          "output_type": "stream",
          "name": "stdout",
          "text": [
            "Zero-length reviews: 2\n"
          ]
        },
        {
          "output_type": "display_data",
          "data": {
            "text/plain": [
              "        Unnamed: 0    drugName         condition review  rating  \\\n",
              "123174      180087  Ifosfamide  Testicular Cance           10.0   \n",
              "128652      116477        Ifex  Testicular Cance           10.0   \n",
              "\n",
              "                   date  usefulCount  \n",
              "123174  January 8, 2017            0  \n",
              "128652  January 8, 2017            0  "
            ],
            "text/html": [
              "\n",
              "  <div id=\"df-9f7e11e2-ec73-4966-9971-a3ffaadcc474\">\n",
              "    <div class=\"colab-df-container\">\n",
              "      <div>\n",
              "<style scoped>\n",
              "    .dataframe tbody tr th:only-of-type {\n",
              "        vertical-align: middle;\n",
              "    }\n",
              "\n",
              "    .dataframe tbody tr th {\n",
              "        vertical-align: top;\n",
              "    }\n",
              "\n",
              "    .dataframe thead th {\n",
              "        text-align: right;\n",
              "    }\n",
              "</style>\n",
              "<table border=\"1\" class=\"dataframe\">\n",
              "  <thead>\n",
              "    <tr style=\"text-align: right;\">\n",
              "      <th></th>\n",
              "      <th>Unnamed: 0</th>\n",
              "      <th>drugName</th>\n",
              "      <th>condition</th>\n",
              "      <th>review</th>\n",
              "      <th>rating</th>\n",
              "      <th>date</th>\n",
              "      <th>usefulCount</th>\n",
              "    </tr>\n",
              "  </thead>\n",
              "  <tbody>\n",
              "    <tr>\n",
              "      <th>123174</th>\n",
              "      <td>180087</td>\n",
              "      <td>Ifosfamide</td>\n",
              "      <td>Testicular Cance</td>\n",
              "      <td></td>\n",
              "      <td>10.0</td>\n",
              "      <td>January 8, 2017</td>\n",
              "      <td>0</td>\n",
              "    </tr>\n",
              "    <tr>\n",
              "      <th>128652</th>\n",
              "      <td>116477</td>\n",
              "      <td>Ifex</td>\n",
              "      <td>Testicular Cance</td>\n",
              "      <td></td>\n",
              "      <td>10.0</td>\n",
              "      <td>January 8, 2017</td>\n",
              "      <td>0</td>\n",
              "    </tr>\n",
              "  </tbody>\n",
              "</table>\n",
              "</div>\n",
              "      <button class=\"colab-df-convert\" onclick=\"convertToInteractive('df-9f7e11e2-ec73-4966-9971-a3ffaadcc474')\"\n",
              "              title=\"Convert this dataframe to an interactive table.\"\n",
              "              style=\"display:none;\">\n",
              "        \n",
              "  <svg xmlns=\"http://www.w3.org/2000/svg\" height=\"24px\"viewBox=\"0 0 24 24\"\n",
              "       width=\"24px\">\n",
              "    <path d=\"M0 0h24v24H0V0z\" fill=\"none\"/>\n",
              "    <path d=\"M18.56 5.44l.94 2.06.94-2.06 2.06-.94-2.06-.94-.94-2.06-.94 2.06-2.06.94zm-11 1L8.5 8.5l.94-2.06 2.06-.94-2.06-.94L8.5 2.5l-.94 2.06-2.06.94zm10 10l.94 2.06.94-2.06 2.06-.94-2.06-.94-.94-2.06-.94 2.06-2.06.94z\"/><path d=\"M17.41 7.96l-1.37-1.37c-.4-.4-.92-.59-1.43-.59-.52 0-1.04.2-1.43.59L10.3 9.45l-7.72 7.72c-.78.78-.78 2.05 0 2.83L4 21.41c.39.39.9.59 1.41.59.51 0 1.02-.2 1.41-.59l7.78-7.78 2.81-2.81c.8-.78.8-2.07 0-2.86zM5.41 20L4 18.59l7.72-7.72 1.47 1.35L5.41 20z\"/>\n",
              "  </svg>\n",
              "      </button>\n",
              "      \n",
              "  <style>\n",
              "    .colab-df-container {\n",
              "      display:flex;\n",
              "      flex-wrap:wrap;\n",
              "      gap: 12px;\n",
              "    }\n",
              "\n",
              "    .colab-df-convert {\n",
              "      background-color: #E8F0FE;\n",
              "      border: none;\n",
              "      border-radius: 50%;\n",
              "      cursor: pointer;\n",
              "      display: none;\n",
              "      fill: #1967D2;\n",
              "      height: 32px;\n",
              "      padding: 0 0 0 0;\n",
              "      width: 32px;\n",
              "    }\n",
              "\n",
              "    .colab-df-convert:hover {\n",
              "      background-color: #E2EBFA;\n",
              "      box-shadow: 0px 1px 2px rgba(60, 64, 67, 0.3), 0px 1px 3px 1px rgba(60, 64, 67, 0.15);\n",
              "      fill: #174EA6;\n",
              "    }\n",
              "\n",
              "    [theme=dark] .colab-df-convert {\n",
              "      background-color: #3B4455;\n",
              "      fill: #D2E3FC;\n",
              "    }\n",
              "\n",
              "    [theme=dark] .colab-df-convert:hover {\n",
              "      background-color: #434B5C;\n",
              "      box-shadow: 0px 1px 3px 1px rgba(0, 0, 0, 0.15);\n",
              "      filter: drop-shadow(0px 1px 2px rgba(0, 0, 0, 0.3));\n",
              "      fill: #FFFFFF;\n",
              "    }\n",
              "  </style>\n",
              "\n",
              "      <script>\n",
              "        const buttonEl =\n",
              "          document.querySelector('#df-9f7e11e2-ec73-4966-9971-a3ffaadcc474 button.colab-df-convert');\n",
              "        buttonEl.style.display =\n",
              "          google.colab.kernel.accessAllowed ? 'block' : 'none';\n",
              "\n",
              "        async function convertToInteractive(key) {\n",
              "          const element = document.querySelector('#df-9f7e11e2-ec73-4966-9971-a3ffaadcc474');\n",
              "          const dataTable =\n",
              "            await google.colab.kernel.invokeFunction('convertToInteractive',\n",
              "                                                     [key], {});\n",
              "          if (!dataTable) return;\n",
              "\n",
              "          const docLinkHtml = 'Like what you see? Visit the ' +\n",
              "            '<a target=\"_blank\" href=https://colab.research.google.com/notebooks/data_table.ipynb>data table notebook</a>'\n",
              "            + ' to learn more about interactive tables.';\n",
              "          element.innerHTML = '';\n",
              "          dataTable['output_type'] = 'display_data';\n",
              "          await google.colab.output.renderOutput(dataTable, element);\n",
              "          const docLink = document.createElement('div');\n",
              "          docLink.innerHTML = docLinkHtml;\n",
              "          element.appendChild(docLink);\n",
              "        }\n",
              "      </script>\n",
              "    </div>\n",
              "  </div>\n",
              "  "
            ]
          },
          "metadata": {}
        }
      ]
    },
    {
      "cell_type": "code",
      "source": [
        "# find extremely long text reviews\n",
        "print('Distribution of review length:')\n",
        "display(df_init.review.str.len().describe())\n",
        "\n",
        "# print number of reviews with more than 800 tokens\n",
        "print('\\nReviews with more than 800 tokens:', df_init[df_init.review.str.len().gt(800)].shape[0])"
      ],
      "metadata": {
        "execution": {
          "iopub.status.busy": "2022-07-29T22:46:23.536816Z",
          "iopub.execute_input": "2022-07-29T22:46:23.537147Z",
          "iopub.status.idle": "2022-07-29T22:46:23.772604Z",
          "shell.execute_reply.started": "2022-07-29T22:46:23.537119Z",
          "shell.execute_reply": "2022-07-29T22:46:23.771464Z"
        },
        "trusted": true,
        "colab": {
          "base_uri": "https://localhost:8080/",
          "height": 234
        },
        "id": "9N67XlnyVMkq",
        "outputId": "27db2e4f-cb25-46ef-9e00-29a907028bb4"
      },
      "execution_count": 12,
      "outputs": [
        {
          "output_type": "stream",
          "name": "stdout",
          "text": [
            "Distribution of review length:\n"
          ]
        },
        {
          "output_type": "display_data",
          "data": {
            "text/plain": [
              "count    215063.000000\n",
              "mean        444.877552\n",
              "std         233.744124\n",
              "min           1.000000\n",
              "25%         254.000000\n",
              "50%         443.000000\n",
              "75%         670.000000\n",
              "max       10416.000000\n",
              "Name: review, dtype: float64"
            ]
          },
          "metadata": {}
        },
        {
          "output_type": "stream",
          "name": "stdout",
          "text": [
            "\n",
            "Reviews with more than 800 tokens: 690\n"
          ]
        }
      ]
    },
    {
      "cell_type": "markdown",
      "source": [
        "It seems that I have two reviews with zero length and 374 reviews with more than 1000 tokens. I am going to remove them from our data."
      ],
      "metadata": {
        "id": "63t9BFMLVMkr"
      }
    },
    {
      "cell_type": "code",
      "source": [
        "# remove zero length and extremely long reviews\n",
        "df_init = df_init[df_init['review'].str.len().gt(1) & df_init['review'].str.len().le(800)]\n",
        "print('Number of reviews:', df_init.shape[0])"
      ],
      "metadata": {
        "execution": {
          "iopub.status.busy": "2022-07-29T22:46:23.776449Z",
          "iopub.execute_input": "2022-07-29T22:46:23.776830Z",
          "iopub.status.idle": "2022-07-29T22:46:24.015277Z",
          "shell.execute_reply.started": "2022-07-29T22:46:23.776801Z",
          "shell.execute_reply": "2022-07-29T22:46:24.014140Z"
        },
        "trusted": true,
        "colab": {
          "base_uri": "https://localhost:8080/"
        },
        "id": "pZUcaAiIVMkr",
        "outputId": "4c08b696-43ca-406a-97b9-c03ebc3b769e"
      },
      "execution_count": 13,
      "outputs": [
        {
          "output_type": "stream",
          "name": "stdout",
          "text": [
            "Number of reviews: 214371\n"
          ]
        }
      ]
    },
    {
      "cell_type": "markdown",
      "source": [
        "Finally, let's look at the distribution of our reviews length after preprocessing"
      ],
      "metadata": {
        "id": "b_1-t-bjVMkr"
      }
    },
    {
      "cell_type": "code",
      "source": [
        "plt.hist(df_init.review.str.len());\n",
        "plt.ylabel('Count of reviews')\n",
        "plt.xlabel('Number of tokens per review')"
      ],
      "metadata": {
        "execution": {
          "iopub.status.busy": "2022-07-29T22:46:24.016894Z",
          "iopub.execute_input": "2022-07-29T22:46:24.017260Z",
          "iopub.status.idle": "2022-07-29T22:46:24.373058Z",
          "shell.execute_reply.started": "2022-07-29T22:46:24.017231Z",
          "shell.execute_reply": "2022-07-29T22:46:24.372247Z"
        },
        "trusted": true,
        "colab": {
          "base_uri": "https://localhost:8080/",
          "height": 297
        },
        "id": "H2LfcwVUVMkr",
        "outputId": "4723f981-2c6a-4788-e33a-22fdc26317d2"
      },
      "execution_count": 14,
      "outputs": [
        {
          "output_type": "execute_result",
          "data": {
            "text/plain": [
              "Text(0.5, 0, 'Number of tokens per review')"
            ]
          },
          "metadata": {},
          "execution_count": 14
        },
        {
          "output_type": "display_data",
          "data": {
            "text/plain": [
              "<Figure size 432x288 with 1 Axes>"
            ],
            "image/png": "[encoded data removed]"
          },
          "metadata": {
            "needs_background": "light"
          }
        }
      ]
    },
    {
      "cell_type": "markdown",
      "source": [
        "``Step 2: Create binary sentiment column``"
      ],
      "metadata": {
        "id": "7e1cZNPBVMkr"
      }
    },
    {
      "cell_type": "markdown",
      "source": [
        "We will define our sentiment column as follows:\n",
        "\n",
        "   - positive (1) if rating score is between 8-10\n",
        "   - negative (0) if rating score is between 1-3\n",
        "    \n",
        "We dill drop any reviews that are netural, i.e., rating is between 4-7."
      ],
      "metadata": {
        "id": "ixYJpk0XVMkr"
      }
    },
    {
      "cell_type": "code",
      "source": [
        "# create sentiment column\n",
        "df_init['sentiment'] = np.where(df_init.rating.isin((1, 2, 3)), 'negative',\n",
        "                          np.where(df_init.rating.isin((8,9,10)), 'positive', 'neutral'))\n",
        "\n",
        "# drop review if sentiment is netural\n",
        "df = df_init[~df_init.sentiment.eq('neutral')]\n",
        "\n",
        "# rename sentiment to positive = 1, negative = 0\n",
        "df['sentiment'] = np.where(df.sentiment.eq('positive'), 1, 0)"
      ],
      "metadata": {
        "execution": {
          "iopub.status.busy": "2022-07-29T22:46:24.374381Z",
          "iopub.execute_input": "2022-07-29T22:46:24.374856Z",
          "iopub.status.idle": "2022-07-29T22:46:24.509702Z",
          "shell.execute_reply.started": "2022-07-29T22:46:24.374826Z",
          "shell.execute_reply": "2022-07-29T22:46:24.508887Z"
        },
        "trusted": true,
        "id": "vIlye3gZVMkr"
      },
      "execution_count": 15,
      "outputs": []
    },
    {
      "cell_type": "markdown",
      "source": [
        "Let's do a quick inspection of our rating and sentiment columns"
      ],
      "metadata": {
        "id": "xaAvEXBrVMkr"
      }
    },
    {
      "cell_type": "code",
      "source": [
        "# rating and sentiment histogram after preprocessing\n",
        "cols = ['rating', 'sentiment']\n",
        "nrows, ncols = 1, 2\n",
        "\n",
        "f, axs = plt.subplots(1, 2, figsize=(10,3))\n",
        "for idx, ax in enumerate(axs):\n",
        "    sns.histplot(\n",
        "    data=df,\n",
        "    stat=\"count\",\n",
        "    x = cols[idx],\n",
        "    ax=ax\n",
        "    )\n",
        "\n",
        "    # add labels and ticks\n",
        "    ax.set(xlabel=cols[idx])\n",
        "    #plt.xticks(np.arange(1,11,1))\n",
        "    sns.despine()"
      ],
      "metadata": {
        "execution": {
          "iopub.status.busy": "2022-07-29T22:46:24.511498Z",
          "iopub.execute_input": "2022-07-29T22:46:24.511998Z",
          "iopub.status.idle": "2022-07-29T22:46:24.964074Z",
          "shell.execute_reply.started": "2022-07-29T22:46:24.511967Z",
          "shell.execute_reply": "2022-07-29T22:46:24.962449Z"
        },
        "trusted": true,
        "colab": {
          "base_uri": "https://localhost:8080/",
          "height": 226
        },
        "id": "7yzIa5y2VMks",
        "outputId": "8918da41-ac35-4863-fffe-595462574d5f"
      },
      "execution_count": 16,
      "outputs": [
        {
          "output_type": "display_data",
          "data": {
            "text/plain": [
              "<Figure size 720x216 with 2 Axes>"
            ],
            "image/png": "[encoded data removed]"
          },
          "metadata": {
            "needs_background": "light"
          }
        }
      ]
    },
    {
      "cell_type": "markdown",
      "source": [
        "Our dataset is very imbalanced. We will correct for class imbalance by taking only 46,000 random examples from each class."
      ],
      "metadata": {
        "id": "oruzdF-iVMks"
      }
    },
    {
      "cell_type": "code",
      "source": [
        "# randomly draw 46000 examples from each class\n",
        "temp_positive = df[df.sentiment.eq(1)].sample(\n",
        "    n=46000,\n",
        "    replace=False\n",
        ")\n",
        "\n",
        "temp_negative = df[df.sentiment.eq(0)].sample(\n",
        "    n=46000,\n",
        "    replace=False\n",
        ")\n",
        "\n",
        "df_balanced = pd.concat(\n",
        "    [temp_positive, temp_negative],\n",
        "    axis=0)\n",
        "\n",
        "# shuffle df_balanced\n",
        "df_balanced.sample(frac=1) # frac=1 retains all the data\n",
        "df_balanced.reset_index(drop=True, inplace=True) # reset index\n",
        "\n",
        "print('After preprocessing, our data contains', df_balanced.shape[0], 'reviews.')"
      ],
      "metadata": {
        "execution": {
          "iopub.status.busy": "2022-07-29T22:46:30.689613Z",
          "iopub.execute_input": "2022-07-29T22:46:30.689956Z",
          "iopub.status.idle": "2022-07-29T22:46:30.805105Z",
          "shell.execute_reply.started": "2022-07-29T22:46:30.689930Z",
          "shell.execute_reply": "2022-07-29T22:46:30.803813Z"
        },
        "trusted": true,
        "colab": {
          "base_uri": "https://localhost:8080/"
        },
        "id": "cs2mngjOVMks",
        "outputId": "576e9f6f-5b1f-48c4-9624-2f9f62ebe6cf"
      },
      "execution_count": 17,
      "outputs": [
        {
          "output_type": "stream",
          "name": "stdout",
          "text": [
            "After preprocessing, our data contains 92000 reviews.\n"
          ]
        }
      ]
    },
    {
      "cell_type": "markdown",
      "source": [
        "``Step 3: Split data into training, val, test``"
      ],
      "metadata": {
        "id": "szbZgdjgVMks"
      }
    },
    {
      "cell_type": "markdown",
      "source": [
        "We will do a [60, 20, 20] split between training, validation and test sets"
      ],
      "metadata": {
        "id": "_8Kwsf2yVMks"
      }
    },
    {
      "cell_type": "code",
      "source": [
        "# first, keep only review and sentiment from df_balanced\n",
        "df_balanced = df_balanced[['review', 'sentiment']]\n",
        "df_balanced.head(5)"
      ],
      "metadata": {
        "execution": {
          "iopub.status.busy": "2022-07-29T22:46:33.007616Z",
          "iopub.execute_input": "2022-07-29T22:46:33.007985Z",
          "iopub.status.idle": "2022-07-29T22:46:33.025527Z",
          "shell.execute_reply.started": "2022-07-29T22:46:33.007957Z",
          "shell.execute_reply": "2022-07-29T22:46:33.024000Z"
        },
        "trusted": true,
        "colab": {
          "base_uri": "https://localhost:8080/",
          "height": 206
        },
        "id": "u237f_SjVMks",
        "outputId": "0fe4e8f7-01ea-4337-b1f9-774474b8456a"
      },
      "execution_count": 18,
      "outputs": [
        {
          "output_type": "execute_result",
          "data": {
            "text/plain": [
              "                                              review  sentiment\n",
              "0   this is my second birth control pill i have b...          1\n",
              "1   i don 039 t know where to begin yes it was ve...          1\n",
              "2   truly exceptional pill i 039 ve been on it fo...          1\n",
              "3   i was on ortho tri cyclen lo for about six ye...          1\n",
              "4   i 039 m taking prograf since 2000 was 7 seven...          1"
            ],
            "text/html": [
              "\n",
              "  <div id=\"df-e4e9263b-2375-4a28-9016-02d651a66caa\">\n",
              "    <div class=\"colab-df-container\">\n",
              "      <div>\n",
              "<style scoped>\n",
              "    .dataframe tbody tr th:only-of-type {\n",
              "        vertical-align: middle;\n",
              "    }\n",
              "\n",
              "    .dataframe tbody tr th {\n",
              "        vertical-align: top;\n",
              "    }\n",
              "\n",
              "    .dataframe thead th {\n",
              "        text-align: right;\n",
              "    }\n",
              "</style>\n",
              "<table border=\"1\" class=\"dataframe\">\n",
              "  <thead>\n",
              "    <tr style=\"text-align: right;\">\n",
              "      <th></th>\n",
              "      <th>review</th>\n",
              "      <th>sentiment</th>\n",
              "    </tr>\n",
              "  </thead>\n",
              "  <tbody>\n",
              "    <tr>\n",
              "      <th>0</th>\n",
              "      <td>this is my second birth control pill i have b...</td>\n",
              "      <td>1</td>\n",
              "    </tr>\n",
              "    <tr>\n",
              "      <th>1</th>\n",
              "      <td>i don 039 t know where to begin yes it was ve...</td>\n",
              "      <td>1</td>\n",
              "    </tr>\n",
              "    <tr>\n",
              "      <th>2</th>\n",
              "      <td>truly exceptional pill i 039 ve been on it fo...</td>\n",
              "      <td>1</td>\n",
              "    </tr>\n",
              "    <tr>\n",
              "      <th>3</th>\n",
              "      <td>i was on ortho tri cyclen lo for about six ye...</td>\n",
              "      <td>1</td>\n",
              "    </tr>\n",
              "    <tr>\n",
              "      <th>4</th>\n",
              "      <td>i 039 m taking prograf since 2000 was 7 seven...</td>\n",
              "      <td>1</td>\n",
              "    </tr>\n",
              "  </tbody>\n",
              "</table>\n",
              "</div>\n",
              "      <button class=\"colab-df-convert\" onclick=\"convertToInteractive('df-e4e9263b-2375-4a28-9016-02d651a66caa')\"\n",
              "              title=\"Convert this dataframe to an interactive table.\"\n",
              "              style=\"display:none;\">\n",
              "        \n",
              "  <svg xmlns=\"http://www.w3.org/2000/svg\" height=\"24px\"viewBox=\"0 0 24 24\"\n",
              "       width=\"24px\">\n",
              "    <path d=\"M0 0h24v24H0V0z\" fill=\"none\"/>\n",
              "    <path d=\"M18.56 5.44l.94 2.06.94-2.06 2.06-.94-2.06-.94-.94-2.06-.94 2.06-2.06.94zm-11 1L8.5 8.5l.94-2.06 2.06-.94-2.06-.94L8.5 2.5l-.94 2.06-2.06.94zm10 10l.94 2.06.94-2.06 2.06-.94-2.06-.94-.94-2.06-.94 2.06-2.06.94z\"/><path d=\"M17.41 7.96l-1.37-1.37c-.4-.4-.92-.59-1.43-.59-.52 0-1.04.2-1.43.59L10.3 9.45l-7.72 7.72c-.78.78-.78 2.05 0 2.83L4 21.41c.39.39.9.59 1.41.59.51 0 1.02-.2 1.41-.59l7.78-7.78 2.81-2.81c.8-.78.8-2.07 0-2.86zM5.41 20L4 18.59l7.72-7.72 1.47 1.35L5.41 20z\"/>\n",
              "  </svg>\n",
              "      </button>\n",
              "      \n",
              "  <style>\n",
              "    .colab-df-container {\n",
              "      display:flex;\n",
              "      flex-wrap:wrap;\n",
              "      gap: 12px;\n",
              "    }\n",
              "\n",
              "    .colab-df-convert {\n",
              "      background-color: #E8F0FE;\n",
              "      border: none;\n",
              "      border-radius: 50%;\n",
              "      cursor: pointer;\n",
              "      display: none;\n",
              "      fill: #1967D2;\n",
              "      height: 32px;\n",
              "      padding: 0 0 0 0;\n",
              "      width: 32px;\n",
              "    }\n",
              "\n",
              "    .colab-df-convert:hover {\n",
              "      background-color: #E2EBFA;\n",
              "      box-shadow: 0px 1px 2px rgba(60, 64, 67, 0.3), 0px 1px 3px 1px rgba(60, 64, 67, 0.15);\n",
              "      fill: #174EA6;\n",
              "    }\n",
              "\n",
              "    [theme=dark] .colab-df-convert {\n",
              "      background-color: #3B4455;\n",
              "      fill: #D2E3FC;\n",
              "    }\n",
              "\n",
              "    [theme=dark] .colab-df-convert:hover {\n",
              "      background-color: #434B5C;\n",
              "      box-shadow: 0px 1px 3px 1px rgba(0, 0, 0, 0.15);\n",
              "      filter: drop-shadow(0px 1px 2px rgba(0, 0, 0, 0.3));\n",
              "      fill: #FFFFFF;\n",
              "    }\n",
              "  </style>\n",
              "\n",
              "      <script>\n",
              "        const buttonEl =\n",
              "          document.querySelector('#df-e4e9263b-2375-4a28-9016-02d651a66caa button.colab-df-convert');\n",
              "        buttonEl.style.display =\n",
              "          google.colab.kernel.accessAllowed ? 'block' : 'none';\n",
              "\n",
              "        async function convertToInteractive(key) {\n",
              "          const element = document.querySelector('#df-e4e9263b-2375-4a28-9016-02d651a66caa');\n",
              "          const dataTable =\n",
              "            await google.colab.kernel.invokeFunction('convertToInteractive',\n",
              "                                                     [key], {});\n",
              "          if (!dataTable) return;\n",
              "\n",
              "          const docLinkHtml = 'Like what you see? Visit the ' +\n",
              "            '<a target=\"_blank\" href=https://colab.research.google.com/notebooks/data_table.ipynb>data table notebook</a>'\n",
              "            + ' to learn more about interactive tables.';\n",
              "          element.innerHTML = '';\n",
              "          dataTable['output_type'] = 'display_data';\n",
              "          await google.colab.output.renderOutput(dataTable, element);\n",
              "          const docLink = document.createElement('div');\n",
              "          docLink.innerHTML = docLinkHtml;\n",
              "          element.appendChild(docLink);\n",
              "        }\n",
              "      </script>\n",
              "    </div>\n",
              "  </div>\n",
              "  "
            ]
          },
          "metadata": {},
          "execution_count": 18
        }
      ]
    },
    {
      "cell_type": "code",
      "source": [
        "# split = [60, 20, 20]\n",
        "train_valid_reviews, test_reviews, train_valid_labels, test_labels =train_test_split(\n",
        "    df_balanced.review,\n",
        "    df_balanced.sentiment,\n",
        "    test_size=0.20,\n",
        "    random_state=1,\n",
        "    shuffle=True\n",
        ")\n",
        "\n",
        "train_reviews, valid_reviews, train_labels, valid_labels = train_test_split(\n",
        "    train_valid_reviews,\n",
        "    train_valid_labels,\n",
        "    test_size=0.20,\n",
        "    random_state=1,\n",
        "    shuffle=True\n",
        ")"
      ],
      "metadata": {
        "execution": {
          "iopub.status.busy": "2022-07-29T22:46:39.159930Z",
          "iopub.execute_input": "2022-07-29T22:46:39.160393Z",
          "iopub.status.idle": "2022-07-29T22:46:39.214128Z",
          "shell.execute_reply.started": "2022-07-29T22:46:39.160357Z",
          "shell.execute_reply": "2022-07-29T22:46:39.213084Z"
        },
        "trusted": true,
        "id": "v6yh0AEaVMks"
      },
      "execution_count": 19,
      "outputs": []
    },
    {
      "cell_type": "code",
      "source": [
        "print('Size train reviews:', len(train_reviews))\n",
        "print('Size dev reviews', len(valid_reviews))\n",
        "print('Size test reviews', len(test_reviews))"
      ],
      "metadata": {
        "execution": {
          "iopub.status.busy": "2022-07-29T22:46:39.978580Z",
          "iopub.execute_input": "2022-07-29T22:46:39.979724Z",
          "iopub.status.idle": "2022-07-29T22:46:39.986882Z",
          "shell.execute_reply.started": "2022-07-29T22:46:39.979663Z",
          "shell.execute_reply": "2022-07-29T22:46:39.985677Z"
        },
        "trusted": true,
        "colab": {
          "base_uri": "https://localhost:8080/"
        },
        "id": "5eU8aOk9VMkt",
        "outputId": "a07b7b50-cce7-43cd-dbad-ecc16936a2df"
      },
      "execution_count": 20,
      "outputs": [
        {
          "output_type": "stream",
          "name": "stdout",
          "text": [
            "Size train reviews: 58880\n",
            "Size dev reviews 14720\n",
            "Size test reviews 18400\n"
          ]
        }
      ]
    },
    {
      "cell_type": "markdown",
      "source": [
        "``Step 4: Pre-trained embeddings``"
      ],
      "metadata": {
        "id": "mJeCS0nTVMkt"
      }
    },
    {
      "cell_type": "markdown",
      "source": [
        "We will start by loading the pre-trained PubMedBert tokenizer and model."
      ],
      "metadata": {
        "id": "HUXfPqq4VMkt"
      }
    },
    {
      "cell_type": "code",
      "source": [
        "#from transformers import AutoTokenizer, TFAutoModel\n",
        "hf_model = \"cambridgeltl/SapBERT-from-PubMedBERT-fulltext\"\n",
        "if 'tokenizer' not in locals().keys(): tokenizer = AutoTokenizer.from_pretrained(hf_model)\n",
        "if 'bert_auto_model' not in locals().keys(): bert_model = TFAutoModel.from_pretrained(hf_model)\n",
        "tokenizer = AutoTokenizer.from_pretrained(hf_model)\n",
        "bert_model = TFAutoModel.from_pretrained(hf_model)\n",
        "bert_model.summary()"
      ],
      "metadata": {
        "colab": {
          "base_uri": "https://localhost:8080/",
          "height": 541,
          "referenced_widgets": [
            "d413df53df00455793e218b345e412bf",
            "4a5342672ab84c02994aaec3f9ac8e71",
            "09d38f36ab40411da8dd36ead8444f66",
            "49e4a027c44b4197b26c01705660fc7c",
            "6cf78f5143e34cf5a36ca080fdd326f9",
            "27634b2d4de04f03a90a2267c3e71a34",
            "d8788214861f43b1a8f1615cde335704",
            "a58995cf1b084c2c84e0fada922765dc",
            "7db21b24506040b792c6db34b1d76ac1",
            "133906bd6c374f3586da825c7accc7bf",
            "914a15810f714225b4b29fd6a429af93",
            "2a0583e29876451f912e69b5f032c885",
            "1cdd4404787a4743a3a783fcdd1e1359",
            "5613b81eacb640e6a9d8e7ca8da1bca2",
            "9b13b6baf9554858a4c7f14ce4b63dd5",
            "3fd626176c5341399684f4d3a17cc4ab",
            "8b5c9223969b49049c88a302ed7fdf89",
            "4dc32216128a42c7aedc7aa751996d3c",
            "08dc5f8044a94f9d9b81f6ff3962459c",
            "7a4e48a318414655875ec64fa12970ab",
            "03dec2cd5679446c9517f9ab2c0bc251",
            "860b8a49eb55434c93c8c4c1b5e84bc2",
            "21735fe1145e4cbbbce1b74b12bfb141",
            "9d734b94be084006889f9d5b2a1e526e",
            "57cb979dc5ca46a69cc99cfd539ab89f",
            "5f20bb2430e544f4800506945118d083",
            "622ea02fd063431b847c01f0eb9135b9",
            "aac3a1008afb47438d3916280ca8e25e",
            "2b1c3eaa2d2c4cd9ae6cd77c00f51c5e",
            "677a3fece413437ca2e54a2d98295f0a",
            "fc7b361ccecc4f68ab3b213cca27d9ff",
            "29ce00f44fce4e9396c1e6b586981963",
            "be19626f059f4d1eb59afc7a4b80dc11",
            "a5ee969f9552464b9fce016a4d8dd2fa",
            "44cd1d01c77447d68b8dec13a9100abc",
            "a49e9b59a3e343e1aa92c19f60ec93e7",
            "6edb9ea2aa27459bb78495a32fea2932",
            "dfd6bf28757f4a41ace79fa1422749af",
            "b524047cfae34e5a9888ba88a04a7c0a",
            "6d7d5bc7de474711956fcc3996575816",
            "e77b9a9bcdb24a3db9aeaff2891d0b2d",
            "884716c697a241e7b682a303faea2146",
            "e1bdc2e8852f4ff7b6fa704d0677f3ec",
            "838284f6cf934d6c8115b8728132ce9f",
            "c6f16f9bc0ec4b56a19f683894272a15",
            "65bdc9e5128b478498cd3a03c84155f4",
            "dd55268972ec4f548cc041553abba379",
            "b2562cbeb1b94d1faae41825234e0101",
            "b7c9ca16974d45db9ab35ea1fc42b0c7",
            "5875a507a5664e41b7b9271d594c90aa",
            "768c141721254c28a1a6ad3c2c524fde",
            "445188cd8892492c8bfcec254bcf6a0e",
            "0fa90ce3c6d74e8fafcfbd0f2b2fa116",
            "39856098cb1b44dc8e542e1a196637c4",
            "694db9563be94e1c9e364e8dcaf07714"
          ]
        },
        "id": "cN_LP_0VVMkt",
        "outputId": "36311064-f009-4672-b749-a1128cf373f0"
      },
      "execution_count": 21,
      "outputs": [
        {
          "output_type": "display_data",
          "data": {
            "text/plain": [
              "Downloading tokenizer_config.json:   0%|          | 0.00/198 [00:00<?, ?B/s]"
            ],
            "application/vnd.jupyter.widget-view+json": {
              "version_major": 2,
              "version_minor": 0,
              "model_id": "d413df53df00455793e218b345e412bf"
            }
          },
          "metadata": {}
        },
        {
          "output_type": "display_data",
          "data": {
            "text/plain": [
              "Downloading config.json:   0%|          | 0.00/462 [00:00<?, ?B/s]"
            ],
            "application/vnd.jupyter.widget-view+json": {
              "version_major": 2,
              "version_minor": 0,
              "model_id": "2a0583e29876451f912e69b5f032c885"
            }
          },
          "metadata": {}
        },
        {
          "output_type": "display_data",
          "data": {
            "text/plain": [
              "Downloading vocab.txt:   0%|          | 0.00/221k [00:00<?, ?B/s]"
            ],
            "application/vnd.jupyter.widget-view+json": {
              "version_major": 2,
              "version_minor": 0,
              "model_id": "21735fe1145e4cbbbce1b74b12bfb141"
            }
          },
          "metadata": {}
        },
        {
          "output_type": "display_data",
          "data": {
            "text/plain": [
              "Downloading special_tokens_map.json:   0%|          | 0.00/112 [00:00<?, ?B/s]"
            ],
            "application/vnd.jupyter.widget-view+json": {
              "version_major": 2,
              "version_minor": 0,
              "model_id": "a5ee969f9552464b9fce016a4d8dd2fa"
            }
          },
          "metadata": {}
        },
        {
          "output_type": "display_data",
          "data": {
            "text/plain": [
              "Downloading tf_model.h5:   0%|          | 0.00/418M [00:00<?, ?B/s]"
            ],
            "application/vnd.jupyter.widget-view+json": {
              "version_major": 2,
              "version_minor": 0,
              "model_id": "c6f16f9bc0ec4b56a19f683894272a15"
            }
          },
          "metadata": {}
        },
        {
          "output_type": "stream",
          "name": "stderr",
          "text": [
            "All model checkpoint layers were used when initializing TFBertModel.\n",
            "\n",
            "All the layers of TFBertModel were initialized from the model checkpoint at cambridgeltl/SapBERT-from-PubMedBERT-fulltext.\n",
            "If your task is similar to the task the model of the checkpoint was trained on, you can already use TFBertModel for predictions without further training.\n",
            "All model checkpoint layers were used when initializing TFBertModel.\n",
            "\n",
            "All the layers of TFBertModel were initialized from the model checkpoint at cambridgeltl/SapBERT-from-PubMedBERT-fulltext.\n",
            "If your task is similar to the task the model of the checkpoint was trained on, you can already use TFBertModel for predictions without further training.\n"
          ]
        },
        {
          "output_type": "stream",
          "name": "stdout",
          "text": [
            "Model: \"tf_bert_model_1\"\n",
            "_________________________________________________________________\n",
            " Layer (type)                Output Shape              Param #   \n",
            "=================================================================\n",
            " bert (TFBertMainLayer)      multiple                  109482240 \n",
            "                                                                 \n",
            "=================================================================\n",
            "Total params: 109,482,240\n",
            "Trainable params: 109,482,240\n",
            "Non-trainable params: 0\n",
            "_________________________________________________________________\n"
          ]
        }
      ]
    },
    {
      "cell_type": "markdown",
      "source": [
        "The **AutoTokenizer** class turns the list of words that make up a given review into a list of tokenized integers that represent those words. The tokenizer then pads all examples to the same size (`input_ids`). The tokenizer also creates another variable to tell BERT to ignore (`attention_mask`) the padding it added when it processed each sentence.\n",
        "\n",
        "\n",
        "The **TFAutoModel** class creates the embeddings that we will use in a downstram task, i.e., to predict the setiment of drug reviews.\n",
        "\n",
        "Our pre-trained BERT Model has 109,482,240 parameters! This is a lot, but luckily, we don't need to train the model because it was already pre-trained for us. We will just do transfer learning."
      ],
      "metadata": {
        "id": "s6QDNhVkVMkt"
      }
    },
    {
      "cell_type": "markdown",
      "source": [
        "Let's look at one example to see how our BERT tokenizer works:"
      ],
      "metadata": {
        "id": "db1J0pPpVMkt"
      }
    },
    {
      "cell_type": "code",
      "source": [
        "example = 'I feel sick after taking this medication'\n",
        "tokenizer(example)"
      ],
      "metadata": {
        "id": "nwyoOhQbVMkt"
      },
      "execution_count": null,
      "outputs": []
    },
    {
      "cell_type": "markdown",
      "source": [
        "We can now apply the tokenizer to our trainining, validation and test datasets."
      ],
      "metadata": {
        "id": "NRHqazM4VMkt"
      }
    },
    {
      "cell_type": "markdown",
      "source": [
        "<span style=\"color:chocolate\">Tokenize, pad and mask training, val, test data </span> "
      ],
      "metadata": {
        "id": "xkfzsU1nVMkt"
      }
    },
    {
      "cell_type": "markdown",
      "source": [
        "The function **tokenize()** defined at the top of the notebook will do his for us"
      ],
      "metadata": {
        "id": "C9yx2Q-3VMku"
      }
    },
    {
      "cell_type": "code",
      "source": [
        "train_reviews_tokenized_tensor, train_labels_tensor = tokenize(\n",
        "    train_reviews, train_labels, tokenizer, seq_length=125\n",
        ")\n",
        "\n",
        "valid_reviews_tokenized_tensor, valid_labels_tensor = tokenize(\n",
        "    valid_reviews, valid_labels, tokenizer, seq_length=125\n",
        ")\n",
        "\n",
        "test_reviews_tokenized_tensor, test_labels_tensor = tokenize(\n",
        "    test_reviews, test_labels, tokenizer, seq_length=125\n",
        ")"
      ],
      "metadata": {
        "id": "hXsHXCmRVMku"
      },
      "execution_count": null,
      "outputs": []
    },
    {
      "cell_type": "markdown",
      "source": [
        "I will print an example to see how the output looks looks like"
      ],
      "metadata": {
        "id": "3z9AwnKDVMku"
      }
    },
    {
      "cell_type": "code",
      "source": [
        "print('Tokenized train reviews shape:', train_reviews_tokenized_tensor.shape)  # explain what the 3 channels mean\n",
        "\n",
        "print('Train labels shape:', train_labels_tensor.shape) "
      ],
      "metadata": {
        "id": "NO_NraRvVMku"
      },
      "execution_count": null,
      "outputs": []
    },
    {
      "cell_type": "markdown",
      "source": [
        "The first dimension of train_reviews_tokenized_tensor represents the number of examples we have in the training data. The second dimension represents the *input_ids*, *token_type_ids*, and *attention_mask* keys of the tokenizer class. The third dimension represents the length of each review in our data (remember, we truncated it down to 125 tokens)."
      ],
      "metadata": {
        "id": "bEYzl8JyVMku"
      }
    },
    {
      "cell_type": "code",
      "source": [
        "# print input_ids for the first example in our trainining data\n",
        "train_reviews_tokenized_tensor[0][0]"
      ],
      "metadata": {
        "id": "_acBbkvWVMku"
      },
      "execution_count": null,
      "outputs": []
    },
    {
      "cell_type": "code",
      "source": [
        "# print attention_mask for the first example in our trainining data\n",
        "train_reviews_tokenized_tensor[0][2]"
      ],
      "metadata": {
        "id": "LUOuqAzJVMku"
      },
      "execution_count": null,
      "outputs": []
    },
    {
      "cell_type": "markdown",
      "source": [
        "<span style=\"color:chocolate\">Create BERT sentence embeddings </span> "
      ],
      "metadata": {
        "id": "Kpf_2jdQVMku"
      }
    },
    {
      "cell_type": "markdown",
      "source": [
        "We will use the bert_model imported above to generate text embeddings applied to our own data. This will take about about 11 hours to run on a less powerful machine, but you can also subset the data! Notice that BERT can give you:\n",
        "\n",
        " - token embeddings\n",
        " - sentence embeddings (this is similar to applying GlobalAveragePooling1D() over token embeddings!)\n",
        " \n",
        "I set up the get_bert_embeddings() function to output ``token embeddings`` directly. What does it mean? Each unique token in a drug review will have a 1D embedding, and we will pass these token embeddings through an RNN/LSTM model before we predict if the review is positive (1) or negative (0)."
      ],
      "metadata": {
        "id": "4X92Kv-bVMkv"
      }
    },
    {
      "cell_type": "code",
      "source": [
        "print(\"Doing BERT train embeddings\")\n",
        "train_bert_embeddings = get_bert_embeddings(\n",
        "    bert_model, train_reviews_tokenized_tensor[:2000,:,:]\n",
        ")\n",
        "\n",
        "print(\"Doing BERT val embeddings\")\n",
        "valid_bert_embeddings = get_bert_embeddings(\n",
        "    bert_model, valid_reviews_tokenized_tensor[:500,:,:]\n",
        ")\n",
        "\n",
        "print(\"Doing BERT test embeddings\")\n",
        "test_bert_embeddings = get_bert_embeddings(\n",
        "    bert_model, test_reviews_tokenized_tensor[:500,:,:]\n",
        ")"
      ],
      "metadata": {
        "id": "beqcQSqsVMkv"
      },
      "execution_count": null,
      "outputs": []
    },
    {
      "cell_type": "code",
      "source": [
        "train_bert_embeddings.shape  # an embedding vector of size 768 for each review in our data (we chose the embedding size in get_bert_embeddings() function)"
      ],
      "metadata": {
        "id": "OiVhAdm6VMkv"
      },
      "execution_count": null,
      "outputs": []
    },
    {
      "cell_type": "markdown",
      "source": [
        "Notice the 3D dimension of our embeddings! We have an embedding for each token in a sentence. These embeddings are going to be our BERT features that we can next use in a downstream task."
      ],
      "metadata": {
        "id": "uMcmcjlPVMkv"
      }
    },
    {
      "cell_type": "markdown",
      "source": [
        "---\n",
        "## Fine-tune a sentiment classification model"
      ],
      "metadata": {
        "id": "00xn12M8VMkv"
      }
    },
    {
      "cell_type": "markdown",
      "source": [
        "We will fine-tune our BERT model on a downstream task of sentiment classification.\n",
        "To do this, we will feed the token embeddings to an RNN/LSTM model before we pass them throgh a sigmoid activation function that will predict the sentiment class."
      ],
      "metadata": {
        "id": "d8RfmVaUVMkv"
      }
    },
    {
      "cell_type": "markdown",
      "source": [
        "<span style=\"color:chocolate\">Make BERT layers untrainable (freeze)</span> "
      ],
      "metadata": {
        "id": "gkxksLROVMkv"
      }
    },
    {
      "cell_type": "code",
      "source": [
        "# freeze BERT layers\n",
        "for layer in bert_model.layers:\n",
        "    layer.trainable = False"
      ],
      "metadata": {
        "id": "I4uikJsQVMkv"
      },
      "execution_count": null,
      "outputs": []
    },
    {
      "cell_type": "code",
      "source": [
        "# create copy of our objects (a bit inefficient (memory size) but let's abstract away from this)\n",
        "train_x = train_bert_embeddings\n",
        "train_y = train_labels_tensor[:2000]\n",
        "\n",
        "valid_x = valid_bert_embeddings\n",
        "valid_y = valid_labels_tensor[:500]\n",
        "\n",
        "test_x = test_bert_embeddings\n",
        "test_y = test_labels_tensor[:500]"
      ],
      "metadata": {
        "id": "q30gTfzbVMkv"
      },
      "execution_count": null,
      "outputs": []
    },
    {
      "cell_type": "markdown",
      "source": [
        "Define the model for our Downstram task"
      ],
      "metadata": {
        "id": "tjeQWy1JVMkw"
      }
    },
    {
      "cell_type": "code",
      "source": [
        "from tensorflow.keras.layers import SimpleRNN, LSTM, Bidirectional\n",
        "\n",
        "def build_model(num_features):\n",
        "    \"\"\"Return a simple logistic regression model using the Keras Sequential API.\"\"\"\n",
        "    # clear session and set a random seed for consistent behavior.\n",
        "    tf.keras.backend.clear_session()\n",
        "    tf.random.set_seed(1234)\n",
        "    \n",
        "\n",
        "    # sse Keras Sequential API to build a logistic regression\n",
        "    model = keras.Sequential()\n",
        "    \n",
        "    # create input layer (this will be the sentence embeddings)\n",
        "    model.add(tf.keras.Input(shape=(None, num_features, ),\n",
        "         name='Input'\n",
        "    ))\n",
        "    \n",
        "    \n",
        "    ## RNN/LSTM layers ##\n",
        "    #####################\n",
        "    #model.add(SimpleRNN(num_features, return_sequences=True))\n",
        "    #model.add(SimpleRNN(num_features))\n",
        "    \n",
        "    model.add(Bidirectional(LSTM(num_features)))  \n",
        "    model.add(Dense(64, activation = 'relu'))\n",
        "    \n",
        "    ## logistic layer ##\n",
        "    ####################\n",
        "    # add output layer for binary classification task\n",
        "    model.add(Dense(1, use_bias=False, activation='sigmoid'))\n",
        "    \n",
        "    # print model summary\n",
        "    model.summary()\n",
        "    \n",
        "    return model\n",
        "    \n",
        "\n",
        "# Build the model\n",
        "rnn_logit_model = build_model(num_features=train_x.shape[2])"
      ],
      "metadata": {
        "id": "K90MGgbiVMkw"
      },
      "execution_count": null,
      "outputs": []
    },
    {
      "cell_type": "code",
      "source": [
        "# compile logit model\n",
        "rnn_logit_model.compile(\n",
        "    loss=tf.keras.losses.BinaryCrossentropy(),\n",
        "    optimizer=tf.keras.optimizers.SGD(learning_rate=0.01),\n",
        "    metrics=[tf.keras.metrics.BinaryAccuracy()]\n",
        ")"
      ],
      "metadata": {
        "id": "lMqSDNiYVMkw"
      },
      "execution_count": null,
      "outputs": []
    },
    {
      "cell_type": "code",
      "source": [
        "# train logit model\n",
        "tf.random.set_seed(1234)\n",
        "np.random.seed(1234)\n",
        "hist = rnn_logit_model.fit(x=train_x,\n",
        "                y=train_y,\n",
        "                #validation_data=[X_test_std, y_test],\n",
        "                validation_data=(valid_x, valid_y), \n",
        "                batch_size=240,\n",
        "                epochs=25,\n",
        "                verbose=1 #silence fit\n",
        ")"
      ],
      "metadata": {
        "id": "ZSCBKrMiVMkw"
      },
      "execution_count": null,
      "outputs": []
    },
    {
      "cell_type": "code",
      "source": [
        "# grab history\n",
        "history = hist.history\n",
        "\n",
        "# plot loss for train and validation\n",
        "fig = plt.figure(figsize=(16, 4))\n",
        "ax = fig.add_subplot(1, 3, 1)\n",
        "plt.plot(history['loss'], lw=2, color='darkgoldenrod')\n",
        "plt.plot(history['val_loss'], lw=2, color='indianred')\n",
        "plt.legend(['Train', 'Validation'], fontsize=10)\n",
        "plt.ylim(0,1)\n",
        "ax.set_xlabel('Epochs', size=10)\n",
        "ax.set_title('Loss');\n",
        "\n",
        "# plot accuracy for train and validation\n",
        "ax = fig.add_subplot(1, 3, 2)\n",
        "plt.plot(history['binary_accuracy'], lw=2, color='darkgoldenrod')\n",
        "plt.plot(history['val_binary_accuracy'], lw=2, color='indianred')\n",
        "plt.legend(['Train', 'Validation'], fontsize=10)\n",
        "plt.ylim(0,1)\n",
        "ax.set_xlabel('Epochs', size=10)\n",
        "ax.set_title('Accuracy');"
      ],
      "metadata": {
        "id": "ru74c0NnVMkw"
      },
      "execution_count": null,
      "outputs": []
    },
    {
      "cell_type": "code",
      "source": [
        "print('After training this model, evaluation on the validation data shows an accuracy of:',\n",
        "      np.round(history['val_binary_accuracy'][-1]*100,2), '%'\n",
        ")"
      ],
      "metadata": {
        "id": "IKc0DxySVMkw"
      },
      "execution_count": null,
      "outputs": []
    },
    {
      "cell_type": "markdown",
      "source": [
        "<span style=\"color:chocolate\">Make BERT layers available for training (unfreeze)</span> "
      ],
      "metadata": {
        "id": "wo7CITvlVMkw"
      }
    },
    {
      "cell_type": "code",
      "source": [
        "# unfreeze BERT layers\n",
        "for layer in bert_model.layers:\n",
        "    layer.trainable = True"
      ],
      "metadata": {
        "id": "lLcBKZb1VMkw"
      },
      "execution_count": null,
      "outputs": []
    },
    {
      "cell_type": "code",
      "source": [
        "# recompile logit model \n",
        "rnn_logit_model.compile(\n",
        "    loss=tf.keras.losses.BinaryCrossentropy(),\n",
        "    optimizer=tf.keras.optimizers.SGD(learning_rate=0.015),\n",
        "    metrics=[tf.keras.metrics.BinaryAccuracy()]\n",
        ")"
      ],
      "metadata": {
        "id": "4-ykPuF2VMkw"
      },
      "execution_count": null,
      "outputs": []
    },
    {
      "cell_type": "code",
      "source": [
        "# retrain logit model\n",
        "tf.random.set_seed(1234)\n",
        "np.random.seed(1234)\n",
        "hist = rnn_logit_model.fit(x=train_x,\n",
        "                y=train_y,\n",
        "                #validation_data=[X_test_std, y_test],\n",
        "                validation_data=(valid_x, valid_y), \n",
        "                batch_size=240,\n",
        "                epochs=25,\n",
        "                verbose=1 #silence fit\n",
        ")"
      ],
      "metadata": {
        "id": "DtgsW2taVMkx"
      },
      "execution_count": null,
      "outputs": []
    },
    {
      "cell_type": "code",
      "source": [
        "# grab history\n",
        "history = hist.history\n",
        "\n",
        "# plot loss for train and validation\n",
        "fig = plt.figure(figsize=(16, 4))\n",
        "ax = fig.add_subplot(1, 3, 1)\n",
        "plt.plot(history['loss'], lw=2, color='darkgoldenrod')\n",
        "plt.plot(history['val_loss'], lw=2, color='indianred')\n",
        "plt.legend(['Train', 'Validation'], fontsize=10)\n",
        "plt.ylim(0,1)\n",
        "ax.set_xlabel('Epochs', size=10)\n",
        "ax.set_title('Loss');\n",
        "\n",
        "# plot accuracy for train and validation\n",
        "ax = fig.add_subplot(1, 3, 2)\n",
        "plt.plot(history['binary_accuracy'], lw=2, color='darkgoldenrod')\n",
        "plt.plot(history['val_binary_accuracy'], lw=2, color='indianred')\n",
        "plt.legend(['Train', 'Validation'], fontsize=10)\n",
        "plt.ylim(0,1)\n",
        "ax.set_xlabel('Epochs', size=10)\n",
        "ax.set_title('Accuracy');"
      ],
      "metadata": {
        "id": "NdzqPzC1VMkx"
      },
      "execution_count": null,
      "outputs": []
    },
    {
      "cell_type": "code",
      "source": [
        "print('After fine-tuning this model, evaluation on the validation data shows an accuracy of:',\n",
        "      np.round(history['val_binary_accuracy'][-1]*100,2), '%'\n",
        ")"
      ],
      "metadata": {
        "id": "NycGr23aVMkx"
      },
      "execution_count": null,
      "outputs": []
    },
    {
      "cell_type": "markdown",
      "source": [
        "How good is this score? Let's compare it with a dummy classifier.\n",
        "\n",
        "<span style=\"color:chocolate\">Question: </span> what is a dummy classifier?"
      ],
      "metadata": {
        "id": "st0OiiacVMkx"
      }
    },
    {
      "cell_type": "code",
      "source": [
        "clf = DummyClassifier() # uses Sklearn \n",
        "\n",
        "scores = cross_val_score(clf, train_x, train_y)\n",
        "print(\"Dummy classifier score: %0.3f (+/- %0.2f)\" % (scores.mean(), scores.std() * 2))"
      ],
      "metadata": {
        "id": "415LD_QIVMkx"
      },
      "execution_count": null,
      "outputs": []
    },
    {
      "cell_type": "markdown",
      "source": [
        "---\n",
        "## Evaluation"
      ],
      "metadata": {
        "id": "gvSET5yBVMkx"
      }
    },
    {
      "cell_type": "markdown",
      "source": [
        "<span style=\"color:chocolate\">predictions on test data</span> "
      ],
      "metadata": {
        "id": "_WdPSHNNVMkx"
      }
    },
    {
      "cell_type": "code",
      "source": [
        "# run the trained model on the test data (the model outputs probabilities)\n",
        "y_test_pred_p = rnn_logit_model.predict(x=test_x).flatten()\n",
        "\n",
        "# apply the threshold function to create a 0, 1 outcome\n",
        "y_test_pred = np.where(y_test_pred_p>=0.5, 1, 0)\n",
        "y_test_pred"
      ],
      "metadata": {
        "id": "fcdo5RrwVMkx"
      },
      "execution_count": null,
      "outputs": []
    },
    {
      "cell_type": "markdown",
      "source": [
        "<span style=\"color:chocolate\">confussion matrix</span> "
      ],
      "metadata": {
        "id": "EBL6NZY-VMkx"
      }
    },
    {
      "cell_type": "code",
      "source": [
        "conf_matrix = tf.math.confusion_matrix(\n",
        "    test_y,\n",
        "    y_test_pred,\n",
        "    num_classes=None,\n",
        "    weights=None,\n",
        "    dtype=tf.dtypes.int32,\n",
        "    name=None\n",
        ")\n",
        "\n",
        "confusion_matrix_plot(conf_matrix.numpy())"
      ],
      "metadata": {
        "id": "621Ebc5SVMky"
      },
      "execution_count": null,
      "outputs": []
    },
    {
      "cell_type": "markdown",
      "source": [
        "<span style=\"color:chocolate\">precision score</span> "
      ],
      "metadata": {
        "id": "QmHyLyrmVMky"
      }
    },
    {
      "cell_type": "code",
      "source": [
        "# note that TensorFlow assumes that the positive class is cultivar 1\n",
        "p = tf.keras.metrics.Precision(\n",
        "    thresholds=None, top_k=None, class_id=None, name=None, dtype=None\n",
        ")\n",
        "p.update_state(test_y, y_test_pred)  #18/(18+3)\n",
        "print(\"Precision score: %3f\" %p.result().numpy())"
      ],
      "metadata": {
        "id": "tuLQunnIVMky"
      },
      "execution_count": null,
      "outputs": []
    },
    {
      "cell_type": "markdown",
      "source": [
        "<span style=\"color:chocolate\">recall score</span> "
      ],
      "metadata": {
        "id": "VtFmPAxvVMky"
      }
    },
    {
      "cell_type": "code",
      "source": [
        "# note that TensorFlow assumes that the positive class is cultivar 1\n",
        "r = tf.keras.metrics.Recall(\n",
        "    thresholds=None, top_k=None, class_id=None, name=None, dtype=None\n",
        ")\n",
        "r.update_state(test_y, y_test_pred) #18/(18+1)\n",
        "print(\"Recall score: %.3f\" %r.result().numpy())"
      ],
      "metadata": {
        "id": "fdAK-lpjVMky"
      },
      "execution_count": null,
      "outputs": []
    },
    {
      "cell_type": "markdown",
      "source": [
        "<span style=\"color:chocolate\">F1 score</span> "
      ],
      "metadata": {
        "id": "yMnpZeNTVMky"
      }
    },
    {
      "cell_type": "code",
      "source": [
        "print(\"F1 score:\",\n",
        "    2*((p.result().numpy()*r.result().numpy())/(p.result().numpy()+r.result().numpy())))"
      ],
      "metadata": {
        "id": "fS5SZSZnVMky"
      },
      "execution_count": null,
      "outputs": []
    },
    {
      "cell_type": "markdown",
      "source": [
        "<span style=\"color:chocolate\">ROC AUC</span> "
      ],
      "metadata": {
        "id": "se9EAu7dVMky"
      }
    },
    {
      "cell_type": "code",
      "source": [
        "from sklearn import datasets, metrics, model_selection, svm\n",
        "fpr, tpr, _ = metrics.roc_curve(test_y,  y_test_pred_p)\n",
        "auc = metrics.roc_auc_score(test_y, y_test_pred_p)\n",
        "plt.plot(fpr,tpr,label=\"data, auc=\"+str(np.round(auc,3)))\n",
        "plt.legend(loc=4)\n",
        "plt.xlabel('False Positive Rate')\n",
        "plt.ylabel('True Positive Rate')\n",
        "\n",
        "\n",
        "# add dummy classifier\n",
        "plt.plot([0, 1], [0, 1], linestyle='--', lw=2, color='r',\n",
        "         label='dummy (chance)', alpha=.8)\n",
        "\n",
        "plt.legend(loc=4)\n",
        "print('ROC AUC:', np.round(auc,3))"
      ],
      "metadata": {
        "id": "7Pj-HKg9VMky"
      },
      "execution_count": null,
      "outputs": []
    },
    {
      "cell_type": "markdown",
      "source": [
        "---\n",
        "### <span style=\"color:chocolate\">What's next?</span> "
      ],
      "metadata": {
        "id": "WtCBhfgrVMky"
      }
    },
    {
      "cell_type": "markdown",
      "source": [
        "A few suggestions for performance improvement:\n",
        "\n",
        "-  hyperparameter tuning\n",
        "\n",
        "-  try a different BERT model, e.g., one that has been trained on Wikipedia text. Our PubMedBERT model has been trained on biomedical text - this may be too technical for our drug reviews text."
      ],
      "metadata": {
        "id": "4p35v7OwVMkz"
      }
    },
    {
      "cell_type": "markdown",
      "source": [
        "---\n",
        "# Experiment: Use DistilBERT"
      ],
      "metadata": {
        "id": "5ZT2kjOkVMkz"
      }
    },
    {
      "cell_type": "code",
      "source": [
        "from transformers import DistilBertTokenizer, TFDistilBertModel\n",
        "tokenizer = DistilBertTokenizer.from_pretrained('distilbert-base-cased')\n",
        "model = TFDistilBertModel.from_pretrained(\"distilbert-base-cased\")\n",
        "model.summary()"
      ],
      "metadata": {
        "execution": {
          "iopub.status.busy": "2022-07-29T22:50:12.150151Z",
          "iopub.execute_input": "2022-07-29T22:50:12.151312Z",
          "iopub.status.idle": "2022-07-29T22:50:27.885659Z",
          "shell.execute_reply.started": "2022-07-29T22:50:12.151264Z",
          "shell.execute_reply": "2022-07-29T22:50:27.884473Z"
        },
        "trusted": true,
        "colab": {
          "base_uri": "https://localhost:8080/"
        },
        "id": "T6u7t8i0VMkz",
        "outputId": "de666936-ca9d-419e-bb04-26e7650ebbcd"
      },
      "execution_count": 21,
      "outputs": [
        {
          "output_type": "stream",
          "name": "stderr",
          "text": [
            "Some layers from the model checkpoint at distilbert-base-cased were not used when initializing TFDistilBertModel: ['activation_13', 'vocab_transform', 'vocab_layer_norm', 'vocab_projector']\n",
            "- This IS expected if you are initializing TFDistilBertModel from the checkpoint of a model trained on another task or with another architecture (e.g. initializing a BertForSequenceClassification model from a BertForPreTraining model).\n",
            "- This IS NOT expected if you are initializing TFDistilBertModel from the checkpoint of a model that you expect to be exactly identical (initializing a BertForSequenceClassification model from a BertForSequenceClassification model).\n",
            "All the layers of TFDistilBertModel were initialized from the model checkpoint at distilbert-base-cased.\n",
            "If your task is similar to the task the model of the checkpoint was trained on, you can already use TFDistilBertModel for predictions without further training.\n"
          ]
        },
        {
          "output_type": "stream",
          "name": "stdout",
          "text": [
            "Model: \"tf_distil_bert_model\"\n",
            "_________________________________________________________________\n",
            " Layer (type)                Output Shape              Param #   \n",
            "=================================================================\n",
            " distilbert (TFDistilBertMai  multiple                 65190912  \n",
            " nLayer)                                                         \n",
            "                                                                 \n",
            "=================================================================\n",
            "Total params: 65,190,912\n",
            "Trainable params: 65,190,912\n",
            "Non-trainable params: 0\n",
            "_________________________________________________________________\n"
          ]
        }
      ]
    },
    {
      "cell_type": "code",
      "source": [
        "def tokenize(reviews, labels, tokenizer, seq_length):\n",
        "    ''''''\n",
        "    # tokenize reviews (this will give you: input_ids, token_type_ids, attention_mask)\n",
        "    reviews_tokenized = [\n",
        "        tokenizer(\n",
        "            n,\n",
        "            return_tensors='tf',\n",
        "            truncation=True,\n",
        "            padding='max_length',\n",
        "            max_length=seq_length) for n in reviews\n",
        "    ]\n",
        "    \n",
        "    reviews_tokenized_tensor = tf.convert_to_tensor([\n",
        "                            (reviews_tokenized[i]['input_ids'],\n",
        "#                               reviews_tokenized[i]['token_type_ids'], # removed token_type_id because DistilBERT doesn't use it\n",
        "                              reviews_tokenized[i]['attention_mask'])\n",
        "                         for i in range(len(reviews_tokenized))\n",
        "    ])\n",
        "    \n",
        "    # remove empty dimension \n",
        "    reviews_tokenized_tensor = reviews_tokenized_tensor[:,:,0,:]\n",
        "    \n",
        "    # tensor labels\n",
        "    labels_tensor = np.array(labels)\n",
        "    \n",
        "    return reviews_tokenized_tensor, labels_tensor"
      ],
      "metadata": {
        "execution": {
          "iopub.status.busy": "2022-07-29T23:10:57.463787Z",
          "iopub.execute_input": "2022-07-29T23:10:57.464186Z",
          "iopub.status.idle": "2022-07-29T23:10:57.472043Z",
          "shell.execute_reply.started": "2022-07-29T23:10:57.464153Z",
          "shell.execute_reply": "2022-07-29T23:10:57.471114Z"
        },
        "trusted": true,
        "id": "xMqJdK6NVMkz"
      },
      "execution_count": 22,
      "outputs": []
    },
    {
      "cell_type": "code",
      "source": [
        "def get_pretrained_embeddings(model, reviews_tokenized_tensor, feature_size=768):\n",
        "    ''''''\n",
        "    n = len(reviews_tokenized_tensor)\n",
        "    seq_len = reviews_tokenized_tensor[0][0].shape[0]\n",
        "    bert_pool_embeddings = np.zeros((n, seq_len, feature_size)) # for token embeddings\n",
        "    #bert_pool_embeddings = np.zeros((n, feature_size)) # for sentence embeddings\n",
        "    bs = 128 \n",
        "    nsteps = n//bs+1\n",
        "    \n",
        "    for i in tqdm.trange(n//bs+1):\n",
        "        slc = slice(i*bs, (i+1)*bs)\n",
        "        data = reviews_tokenized_tensor[slc]\n",
        "        # input_ids, token_type_ids, attention_mask = data[:,0], data[:,1], data[:,2] \n",
        "        input_ids, attention_mask = data[:,0], data[:,1] # removed token_type_id because DistilBERT doesn't use it\n",
        "        embedding = model(input_ids, attention_mask).last_hidden_state\n",
        "        bert_pool_embeddings[slc] = embedding\n",
        "        \n",
        "    return bert_pool_embeddings"
      ],
      "metadata": {
        "execution": {
          "iopub.status.busy": "2022-07-29T23:15:36.788234Z",
          "iopub.execute_input": "2022-07-29T23:15:36.789285Z",
          "iopub.status.idle": "2022-07-29T23:15:36.798976Z",
          "shell.execute_reply.started": "2022-07-29T23:15:36.789230Z",
          "shell.execute_reply": "2022-07-29T23:15:36.797479Z"
        },
        "trusted": true,
        "id": "FdlPHds8VMkz"
      },
      "execution_count": 23,
      "outputs": []
    },
    {
      "cell_type": "markdown",
      "source": [
        "## Get embeddings"
      ],
      "metadata": {
        "id": "Yoa_2YYJVMkz"
      }
    },
    {
      "cell_type": "code",
      "source": [
        "# tokenize train, valid and test reviews\n",
        "\n",
        "train_reviews_tokenized_tensor, train_labels_tensor = tokenize(\n",
        "    train_reviews, train_labels, tokenizer, seq_length=125\n",
        ")\n",
        "\n",
        "valid_reviews_tokenized_tensor, valid_labels_tensor = tokenize(\n",
        "    valid_reviews, valid_labels, tokenizer, seq_length=125\n",
        ")\n",
        "\n",
        "test_reviews_tokenized_tensor, test_labels_tensor = tokenize(\n",
        "    test_reviews, test_labels, tokenizer, seq_length=125\n",
        ")"
      ],
      "metadata": {
        "execution": {
          "iopub.status.busy": "2022-07-29T23:11:16.171318Z",
          "iopub.execute_input": "2022-07-29T23:11:16.171781Z",
          "iopub.status.idle": "2022-07-29T23:14:08.318956Z",
          "shell.execute_reply.started": "2022-07-29T23:11:16.171747Z",
          "shell.execute_reply": "2022-07-29T23:14:08.317947Z"
        },
        "trusted": true,
        "id": "59OKkP9CVMkz"
      },
      "execution_count": 24,
      "outputs": []
    },
    {
      "cell_type": "code",
      "source": [
        "# Use last hidden state from DistilBERT as embeddings\n",
        "\n",
        "print(\"Doing DistilBERT train embeddings\")\n",
        "train_distilbert_embeddings = get_pretrained_embeddings(\n",
        "    model, train_reviews_tokenized_tensor[:2000,:,:]\n",
        ")\n",
        "\n",
        "print(\"Doing DistilBERT val embeddings\")\n",
        "valid_distilbert_embeddings = get_pretrained_embeddings(\n",
        "    model, valid_reviews_tokenized_tensor[:500,:,:]\n",
        ")\n",
        "\n",
        "print(\"Doing DistilBERT test embeddings\")\n",
        "test_distilbert_embeddings = get_pretrained_embeddings(\n",
        "    model, test_reviews_tokenized_tensor[:500,:,:]\n",
        ")"
      ],
      "metadata": {
        "execution": {
          "iopub.status.busy": "2022-07-29T23:15:38.888088Z",
          "iopub.execute_input": "2022-07-29T23:15:38.888554Z",
          "iopub.status.idle": "2022-07-29T23:20:57.743886Z",
          "shell.execute_reply.started": "2022-07-29T23:15:38.888520Z",
          "shell.execute_reply": "2022-07-29T23:20:57.740965Z"
        },
        "trusted": true,
        "colab": {
          "base_uri": "https://localhost:8080/"
        },
        "id": "Uf6rS6pSVMkz",
        "outputId": "809489f1-18a6-43fc-a020-a30da3b8e9b4"
      },
      "execution_count": 25,
      "outputs": [
        {
          "output_type": "stream",
          "name": "stdout",
          "text": [
            "Doing DistilBERT train embeddings\n"
          ]
        },
        {
          "output_type": "stream",
          "name": "stderr",
          "text": [
            "100%|██████████| 16/16 [00:08<00:00,  1.90it/s]\n"
          ]
        },
        {
          "output_type": "stream",
          "name": "stdout",
          "text": [
            "Doing DistilBERT val embeddings\n"
          ]
        },
        {
          "output_type": "stream",
          "name": "stderr",
          "text": [
            "100%|██████████| 4/4 [00:02<00:00,  1.97it/s]\n"
          ]
        },
        {
          "output_type": "stream",
          "name": "stdout",
          "text": [
            "Doing DistilBERT test embeddings\n"
          ]
        },
        {
          "output_type": "stream",
          "name": "stderr",
          "text": [
            "100%|██████████| 4/4 [00:02<00:00,  1.96it/s]\n"
          ]
        }
      ]
    },
    {
      "cell_type": "markdown",
      "source": [
        "## Finetune classification model\n",
        "\n",
        "The following are the changes from the above architecture:\n",
        " - Use [DistilBERT](https://huggingface.co/docs/transformers/model_doc/distilbert) instead of BERT. DistilBERT is essentially a slimmed down version of BERT. \n",
        " - Make DistilBERT not trainable (just use it for existing embeddings)\n",
        " - Remove the dense layer of 64 units\n",
        " - Set the bidirectional LSTM layer's dropout to 95%\n",
        " - Change the optimizer from SGD to Adam\n",
        " - Remove batch size of 240 while training\n",
        "\n",
        "The above changes are made due to the following observations:\n",
        " - SGD performs quite poorly in reducing training losses. Adam is a better alternative.\n",
        " - With Adam, the original model architecture overfits very quickly. The removal of the dense layer and the inclusion of the dropout of 90% at the bidirectional LSTM layer are done to decrease the complexity of the model.\n",
        "\n"
      ],
      "metadata": {
        "id": "H0NvtGVvVMk0"
      }
    },
    {
      "cell_type": "code",
      "source": [
        "# freeze DistilBERT layers\n",
        "for layer in model.layers:\n",
        "    layer.trainable = False"
      ],
      "metadata": {
        "execution": {
          "iopub.status.busy": "2022-07-29T23:21:50.205090Z",
          "iopub.execute_input": "2022-07-29T23:21:50.205499Z",
          "iopub.status.idle": "2022-07-29T23:21:50.214986Z",
          "shell.execute_reply.started": "2022-07-29T23:21:50.205465Z",
          "shell.execute_reply": "2022-07-29T23:21:50.213497Z"
        },
        "trusted": true,
        "id": "7ukEsKxSVMk0"
      },
      "execution_count": 26,
      "outputs": []
    },
    {
      "cell_type": "code",
      "source": [
        "# create copy of our objects (a bit inefficient (memory size) but let's abstract away from this)\n",
        "train_x = train_distilbert_embeddings\n",
        "train_y = train_labels_tensor[:2000]\n",
        "\n",
        "valid_x = valid_distilbert_embeddings\n",
        "valid_y = valid_labels_tensor[:500]\n",
        "\n",
        "test_x = test_distilbert_embeddings\n",
        "test_y = test_labels_tensor[:500]"
      ],
      "metadata": {
        "execution": {
          "iopub.status.busy": "2022-07-29T23:22:01.569595Z",
          "iopub.execute_input": "2022-07-29T23:22:01.569978Z",
          "iopub.status.idle": "2022-07-29T23:22:01.577102Z",
          "shell.execute_reply.started": "2022-07-29T23:22:01.569949Z",
          "shell.execute_reply": "2022-07-29T23:22:01.575143Z"
        },
        "trusted": true,
        "id": "UeV4GBy5VMk0"
      },
      "execution_count": 27,
      "outputs": []
    },
    {
      "cell_type": "code",
      "source": [
        "from tensorflow.keras.layers import SimpleRNN, LSTM, Bidirectional, Dropout\n",
        "\n",
        "def build_model(num_features):\n",
        "    \"\"\"Return a simple logistic regression model using the Keras Sequential API.\"\"\"\n",
        "    # clear session and set a random seed for consistent behavior.\n",
        "    tf.keras.backend.clear_session()\n",
        "    tf.random.set_seed(1234)\n",
        "    \n",
        "\n",
        "    # sse Keras Sequential API to build a logistic regression\n",
        "    model = keras.Sequential()\n",
        "    \n",
        "    # create input layer (this will be the sentence embeddings)\n",
        "    model.add(tf.keras.Input(shape=(None, num_features, ),\n",
        "         name='Input'\n",
        "    ))\n",
        "    \n",
        "    ## RNN/LSTM layers ##\n",
        "    #####################\n",
        "    #model.add(SimpleRNN(num_features, return_sequences=True))\n",
        "    #model.add(SimpleRNN(num_features))\n",
        "    \n",
        "    model.add(\n",
        "        Bidirectional(\n",
        "            LSTM(\n",
        "                units = num_features,\n",
        "                dropout = 0.9,\n",
        "            )\n",
        "        )\n",
        "    )  \n",
        "    # model.add(Dense(64, activation = 'relu'))\n",
        "    \n",
        "    ## logistic layer ##\n",
        "    ####################\n",
        "    # add output layer for binary classification task\n",
        "    model.add(Dense(1, use_bias=False, activation='sigmoid'))\n",
        "    \n",
        "    # print model summary\n",
        "    model.summary()\n",
        "    \n",
        "    return model\n",
        "    \n",
        "\n",
        "# Build the model\n",
        "rnn_logit_model = build_model(num_features=train_x.shape[2])\n",
        "\n",
        "# compile logit model\n",
        "rnn_logit_model.compile(\n",
        "    loss=tf.keras.losses.BinaryCrossentropy(),\n",
        "    # optimizer=tf.keras.optimizers.SGD(learning_rate=0.01), # Changed from SGD to Adam\n",
        "    optimizer=tf.keras.optimizers.Adam(),\n",
        "    metrics=[tf.keras.metrics.BinaryAccuracy()]\n",
        ")\n",
        "\n",
        "# train logit model\n",
        "tf.random.set_seed(1234)\n",
        "np.random.seed(1234)\n",
        "hist = rnn_logit_model.fit(x=train_x,\n",
        "                y=train_y,\n",
        "                validation_data=(valid_x, valid_y), \n",
        "                # batch_size=240, # Removed batch size\n",
        "                epochs=25,\n",
        "                verbose=1 #silence fit\n",
        ")\n",
        "\n",
        "# grab history\n",
        "history = hist.history\n",
        "\n",
        "# plot loss for train and validation\n",
        "fig = plt.figure(figsize=(16, 4))\n",
        "ax = fig.add_subplot(1, 3, 1)\n",
        "plt.plot(history['loss'], lw=2, color='darkgoldenrod')\n",
        "plt.plot(history['val_loss'], lw=2, color='indianred')\n",
        "plt.legend(['Train', 'Validation'], fontsize=10)\n",
        "# plt.ylim(0,1)\n",
        "ax.set_xlabel('Epochs', size=10)\n",
        "ax.set_title('Loss');\n",
        "\n",
        "# plot accuracy for train and validation\n",
        "ax = fig.add_subplot(1, 3, 2)\n",
        "plt.plot(history['binary_accuracy'], lw=2, color='darkgoldenrod')\n",
        "plt.plot(history['val_binary_accuracy'], lw=2, color='indianred')\n",
        "plt.legend(['Train', 'Validation'], fontsize=10)\n",
        "# plt.ylim(0,1)\n",
        "ax.set_xlabel('Epochs', size=10)\n",
        "ax.set_title('Accuracy')\n",
        "\n",
        "print('After training this model, evaluation on the validation data shows an accuracy of:',\n",
        "      np.round(history['val_binary_accuracy'][-1]*100,2), '%'\n",
        ")\n",
        "\n",
        "test_loss, test_accuracy = rnn_logit_model.evaluate(test_x, test_y)\n",
        "print(F\"The test accuracy of this model is {test_accuracy*100:2f}%\")\n"
      ],
      "metadata": {
        "execution": {
          "iopub.status.busy": "2022-07-29T23:22:21.142726Z",
          "iopub.execute_input": "2022-07-29T23:22:21.143118Z",
          "iopub.status.idle": "2022-07-29T23:22:23.214061Z",
          "shell.execute_reply.started": "2022-07-29T23:22:21.143089Z",
          "shell.execute_reply": "2022-07-29T23:22:23.212487Z"
        },
        "trusted": true,
        "colab": {
          "base_uri": "https://localhost:8080/",
          "height": 1000
        },
        "id": "GWVN1LX0VMk0",
        "outputId": "bdf5b39d-9e74-4b84-98af-b1d2fd686571"
      },
      "execution_count": 40,
      "outputs": [
        {
          "output_type": "stream",
          "name": "stdout",
          "text": [
            "Model: \"sequential\"\n",
            "_________________________________________________________________\n",
            " Layer (type)                Output Shape              Param #   \n",
            "=================================================================\n",
            " bidirectional (Bidirectiona  (None, 1536)             9443328   \n",
            " l)                                                              \n",
            "                                                                 \n",
            " dense (Dense)               (None, 1)                 1536      \n",
            "                                                                 \n",
            "=================================================================\n",
            "Total params: 9,444,864\n",
            "Trainable params: 9,444,864\n",
            "Non-trainable params: 0\n",
            "_________________________________________________________________\n",
            "Epoch 1/25\n",
            "63/63 [==============================] - 14s 120ms/step - loss: 0.7314 - binary_accuracy: 0.5430 - val_loss: 0.7996 - val_binary_accuracy: 0.5460\n",
            "Epoch 2/25\n",
            "63/63 [==============================] - 7s 105ms/step - loss: 0.6490 - binary_accuracy: 0.6340 - val_loss: 0.6915 - val_binary_accuracy: 0.5260\n",
            "Epoch 3/25\n",
            "63/63 [==============================] - 7s 108ms/step - loss: 0.6157 - binary_accuracy: 0.6595 - val_loss: 0.5990 - val_binary_accuracy: 0.6760\n",
            "Epoch 4/25\n",
            "63/63 [==============================] - 7s 107ms/step - loss: 0.5935 - binary_accuracy: 0.6875 - val_loss: 0.5665 - val_binary_accuracy: 0.7020\n",
            "Epoch 5/25\n",
            "63/63 [==============================] - 7s 106ms/step - loss: 0.5543 - binary_accuracy: 0.7100 - val_loss: 0.5159 - val_binary_accuracy: 0.7400\n",
            "Epoch 6/25\n",
            "63/63 [==============================] - 7s 105ms/step - loss: 0.6066 - binary_accuracy: 0.6610 - val_loss: 0.5591 - val_binary_accuracy: 0.7240\n",
            "Epoch 7/25\n",
            "63/63 [==============================] - 7s 104ms/step - loss: 0.5911 - binary_accuracy: 0.6855 - val_loss: 0.5464 - val_binary_accuracy: 0.7120\n",
            "Epoch 8/25\n",
            "63/63 [==============================] - 7s 104ms/step - loss: 0.5742 - binary_accuracy: 0.6920 - val_loss: 0.5139 - val_binary_accuracy: 0.7440\n",
            "Epoch 9/25\n",
            "63/63 [==============================] - 6s 103ms/step - loss: 0.5491 - binary_accuracy: 0.7255 - val_loss: 0.5084 - val_binary_accuracy: 0.7580\n",
            "Epoch 10/25\n",
            "63/63 [==============================] - 6s 103ms/step - loss: 0.5007 - binary_accuracy: 0.7470 - val_loss: 0.4936 - val_binary_accuracy: 0.7560\n",
            "Epoch 11/25\n",
            "63/63 [==============================] - 6s 102ms/step - loss: 0.4905 - binary_accuracy: 0.7685 - val_loss: 0.5941 - val_binary_accuracy: 0.7020\n",
            "Epoch 12/25\n",
            "63/63 [==============================] - 6s 103ms/step - loss: 0.4887 - binary_accuracy: 0.7605 - val_loss: 0.5371 - val_binary_accuracy: 0.7340\n",
            "Epoch 13/25\n",
            "63/63 [==============================] - 7s 104ms/step - loss: 0.4939 - binary_accuracy: 0.7565 - val_loss: 0.4816 - val_binary_accuracy: 0.7840\n",
            "Epoch 14/25\n",
            "63/63 [==============================] - 7s 104ms/step - loss: 0.4910 - binary_accuracy: 0.7570 - val_loss: 0.4565 - val_binary_accuracy: 0.7880\n",
            "Epoch 15/25\n",
            "63/63 [==============================] - 6s 103ms/step - loss: 0.4775 - binary_accuracy: 0.7675 - val_loss: 0.5047 - val_binary_accuracy: 0.7480\n",
            "Epoch 16/25\n",
            "63/63 [==============================] - 7s 104ms/step - loss: 0.4590 - binary_accuracy: 0.7865 - val_loss: 0.4658 - val_binary_accuracy: 0.7840\n",
            "Epoch 17/25\n",
            "63/63 [==============================] - 7s 104ms/step - loss: 0.4242 - binary_accuracy: 0.8045 - val_loss: 0.5091 - val_binary_accuracy: 0.7860\n",
            "Epoch 18/25\n",
            "63/63 [==============================] - 7s 104ms/step - loss: 0.4304 - binary_accuracy: 0.8020 - val_loss: 0.5150 - val_binary_accuracy: 0.7760\n",
            "Epoch 19/25\n",
            "63/63 [==============================] - 7s 104ms/step - loss: 0.4532 - binary_accuracy: 0.7820 - val_loss: 0.4657 - val_binary_accuracy: 0.7900\n",
            "Epoch 20/25\n",
            "63/63 [==============================] - 7s 104ms/step - loss: 0.4248 - binary_accuracy: 0.8140 - val_loss: 0.5053 - val_binary_accuracy: 0.7840\n",
            "Epoch 21/25\n",
            "63/63 [==============================] - 7s 104ms/step - loss: 0.4178 - binary_accuracy: 0.8110 - val_loss: 0.4546 - val_binary_accuracy: 0.7940\n",
            "Epoch 22/25\n",
            "63/63 [==============================] - 7s 105ms/step - loss: 0.4054 - binary_accuracy: 0.8075 - val_loss: 0.5894 - val_binary_accuracy: 0.7280\n",
            "Epoch 23/25\n",
            "63/63 [==============================] - 7s 104ms/step - loss: 0.4007 - binary_accuracy: 0.8175 - val_loss: 0.4673 - val_binary_accuracy: 0.7980\n",
            "Epoch 24/25\n",
            "63/63 [==============================] - 7s 104ms/step - loss: 0.3936 - binary_accuracy: 0.8125 - val_loss: 0.5002 - val_binary_accuracy: 0.8080\n",
            "Epoch 25/25\n",
            "63/63 [==============================] - 7s 104ms/step - loss: 0.3979 - binary_accuracy: 0.8230 - val_loss: 0.4582 - val_binary_accuracy: 0.7940\n",
            "After training this model, evaluation on the validation data shows an accuracy of: 79.4 %\n",
            "16/16 [==============================] - 1s 44ms/step - loss: 0.4757 - binary_accuracy: 0.8120\n",
            "The test accuracy of this model is 81.199998%\n"
          ]
        },
        {
          "output_type": "display_data",
          "data": {
            "text/plain": [
              "<Figure size 1152x288 with 2 Axes>"
            ],
            "image/png": "[encoded data removed]"
          },
          "metadata": {
            "needs_background": "light"
          }
        }
      ]
    },
    {
      "cell_type": "code",
      "source": [
        "# run the trained model on the test data (the model outputs probabilities)\n",
        "y_test_pred_p = rnn_logit_model.predict(x=test_x).flatten()\n",
        "\n",
        "# apply the threshold function to create a 0, 1 outcome\n",
        "y_test_pred = np.where(y_test_pred_p>=0.5, 1, 0)\n",
        "y_test_pred"
      ],
      "metadata": {
        "colab": {
          "base_uri": "https://localhost:8080/"
        },
        "id": "evW-HhtnqmMC",
        "outputId": "c2602ec0-e684-45a8-ccf4-3385ebf1d827"
      },
      "execution_count": 41,
      "outputs": [
        {
          "output_type": "execute_result",
          "data": {
            "text/plain": [
              "array([1, 0, 1, 0, 0, 1, 1, 0, 0, 0, 0, 0, 1, 0, 1, 0, 0, 0, 1, 1, 0, 1,\n",
              "       1, 1, 0, 0, 0, 0, 1, 1, 0, 0, 0, 1, 0, 0, 1, 0, 1, 1, 0, 0, 1, 1,\n",
              "       1, 1, 1, 0, 1, 0, 1, 0, 0, 1, 1, 0, 0, 0, 0, 0, 0, 0, 1, 0, 0, 0,\n",
              "       0, 0, 0, 0, 1, 1, 0, 1, 0, 0, 0, 0, 1, 0, 1, 1, 0, 0, 1, 0, 0, 0,\n",
              "       1, 1, 1, 1, 1, 0, 1, 1, 0, 1, 0, 0, 1, 1, 0, 0, 0, 0, 0, 1, 1, 0,\n",
              "       1, 1, 1, 0, 1, 1, 1, 1, 1, 0, 0, 0, 0, 1, 1, 1, 0, 1, 0, 1, 0, 0,\n",
              "       1, 1, 1, 1, 0, 0, 1, 0, 0, 1, 1, 0, 0, 0, 0, 0, 0, 1, 1, 0, 0, 0,\n",
              "       0, 0, 1, 1, 1, 0, 1, 0, 1, 0, 0, 0, 0, 0, 0, 1, 1, 1, 0, 0, 1, 1,\n",
              "       1, 1, 0, 0, 1, 0, 1, 1, 0, 0, 1, 0, 0, 1, 1, 0, 1, 1, 1, 0, 1, 1,\n",
              "       0, 1, 0, 0, 1, 0, 0, 0, 0, 1, 0, 1, 0, 0, 1, 0, 0, 1, 0, 1, 0, 0,\n",
              "       0, 1, 1, 1, 1, 0, 1, 1, 1, 1, 1, 0, 0, 1, 0, 1, 0, 0, 0, 0, 1, 1,\n",
              "       1, 1, 1, 1, 0, 0, 0, 0, 0, 0, 0, 0, 1, 0, 1, 0, 1, 1, 1, 1, 1, 0,\n",
              "       0, 1, 0, 1, 0, 0, 1, 1, 0, 0, 1, 1, 0, 0, 1, 0, 0, 0, 0, 0, 1, 0,\n",
              "       1, 0, 0, 0, 1, 1, 0, 1, 1, 0, 0, 0, 0, 1, 0, 1, 1, 0, 0, 1, 0, 1,\n",
              "       1, 1, 0, 1, 1, 1, 0, 0, 0, 0, 1, 0, 0, 0, 0, 1, 1, 0, 0, 0, 1, 1,\n",
              "       1, 1, 1, 1, 1, 0, 0, 0, 0, 0, 1, 0, 1, 0, 1, 0, 1, 0, 1, 0, 0, 1,\n",
              "       1, 0, 1, 1, 1, 1, 0, 0, 0, 0, 1, 1, 0, 1, 1, 0, 0, 1, 0, 1, 0, 0,\n",
              "       1, 0, 0, 1, 1, 0, 1, 1, 0, 1, 0, 1, 0, 1, 1, 0, 1, 1, 0, 1, 0, 1,\n",
              "       1, 1, 0, 1, 0, 0, 1, 0, 1, 0, 1, 1, 0, 1, 0, 0, 0, 1, 1, 1, 0, 0,\n",
              "       0, 0, 0, 1, 1, 1, 0, 1, 1, 1, 1, 1, 1, 0, 0, 0, 0, 1, 1, 1, 0, 0,\n",
              "       1, 1, 0, 0, 0, 1, 1, 0, 1, 1, 0, 0, 1, 1, 0, 1, 0, 0, 1, 0, 1, 1,\n",
              "       0, 0, 0, 0, 0, 1, 1, 0, 0, 0, 0, 1, 1, 1, 1, 0, 1, 1, 1, 0, 0, 1,\n",
              "       1, 0, 0, 1, 0, 0, 0, 1, 0, 0, 0, 0, 0, 1, 0, 1])"
            ]
          },
          "metadata": {},
          "execution_count": 41
        }
      ]
    },
    {
      "cell_type": "code",
      "source": [
        "conf_matrix = tf.math.confusion_matrix(\n",
        "    test_y,\n",
        "    y_test_pred,\n",
        "    num_classes=None,\n",
        "    weights=None,\n",
        "    dtype=tf.dtypes.int32,\n",
        "    name=None\n",
        ")\n",
        "\n",
        "confusion_matrix_plot(conf_matrix.numpy())"
      ],
      "metadata": {
        "colab": {
          "base_uri": "https://localhost:8080/",
          "height": 189
        },
        "id": "TUsGUCS1t3Zk",
        "outputId": "9a30ec74-3a32-494c-de58-4a45bae83c45"
      },
      "execution_count": 42,
      "outputs": [
        {
          "output_type": "display_data",
          "data": {
            "text/plain": [
              "<Figure size 180x180 with 1 Axes>"
            ],
            "image/png": "[encoded data removed]"
          },
          "metadata": {
            "needs_background": "light"
          }
        }
      ]
    },
    {
      "cell_type": "code",
      "source": [
        "# note that TensorFlow assumes that the positive class is cultivar 1\n",
        "p = tf.keras.metrics.Precision(\n",
        "    thresholds=None, top_k=None, class_id=None, name=None, dtype=None\n",
        ")\n",
        "p.update_state(test_y, y_test_pred)  #18/(18+3)\n",
        "print(\"Precision score: %3f\" %p.result().numpy())"
      ],
      "metadata": {
        "colab": {
          "base_uri": "https://localhost:8080/"
        },
        "id": "5liMSOCyt5ch",
        "outputId": "9744f15f-a0a9-40c4-dad3-3c9f1081eaed"
      },
      "execution_count": 43,
      "outputs": [
        {
          "output_type": "stream",
          "name": "stdout",
          "text": [
            "Precision score: 0.838298\n"
          ]
        }
      ]
    },
    {
      "cell_type": "code",
      "source": [
        "# note that TensorFlow assumes that the positive class is cultivar 1\n",
        "r = tf.keras.metrics.Recall(\n",
        "    thresholds=None, top_k=None, class_id=None, name=None, dtype=None\n",
        ")\n",
        "r.update_state(test_y, y_test_pred) #18/(18+1)\n",
        "print(\"Recall score: %.3f\" %r.result().numpy())"
      ],
      "metadata": {
        "colab": {
          "base_uri": "https://localhost:8080/"
        },
        "id": "ecrNy-Lgt527",
        "outputId": "be1e8497-4dcf-4963-d21f-12bfb11a5c37"
      },
      "execution_count": 44,
      "outputs": [
        {
          "output_type": "stream",
          "name": "stdout",
          "text": [
            "Recall score: 0.779\n"
          ]
        }
      ]
    },
    {
      "cell_type": "code",
      "source": [
        "print(\"F1 score:\",\n",
        "    2*((p.result().numpy()*r.result().numpy())/(p.result().numpy()+r.result().numpy())))"
      ],
      "metadata": {
        "colab": {
          "base_uri": "https://localhost:8080/"
        },
        "id": "PYPbJs5gt61c",
        "outputId": "a7764c63-8b7d-4aa5-8023-727d11ff7146"
      },
      "execution_count": 45,
      "outputs": [
        {
          "output_type": "stream",
          "name": "stdout",
          "text": [
            "F1 score: 0.8073769807815552\n"
          ]
        }
      ]
    },
    {
      "cell_type": "code",
      "source": [
        "from sklearn import datasets, metrics, model_selection, svm\n",
        "fpr, tpr, _ = metrics.roc_curve(test_y,  y_test_pred_p)\n",
        "auc = metrics.roc_auc_score(test_y, y_test_pred_p)\n",
        "plt.plot(fpr,tpr,label=\"data, auc=\"+str(np.round(auc,3)))\n",
        "plt.legend(loc=4)\n",
        "plt.xlabel('False Positive Rate')\n",
        "plt.ylabel('True Positive Rate')\n",
        "\n",
        "\n",
        "# add dummy classifier\n",
        "plt.plot([0, 1], [0, 1], linestyle='--', lw=2, color='r',\n",
        "         label='dummy (chance)', alpha=.8)\n",
        "\n",
        "plt.legend(loc=4)\n",
        "print('ROC AUC:', np.round(auc,3))"
      ],
      "metadata": {
        "colab": {
          "base_uri": "https://localhost:8080/",
          "height": 297
        },
        "id": "oH_d0u54t8yq",
        "outputId": "e54b2d83-8dd8-4723-a188-e6046c9d5298"
      },
      "execution_count": 46,
      "outputs": [
        {
          "output_type": "stream",
          "name": "stdout",
          "text": [
            "ROC AUC: 0.881\n"
          ]
        },
        {
          "output_type": "display_data",
          "data": {
            "text/plain": [
              "<Figure size 432x288 with 1 Axes>"
            ],
            "image/png": "[encoded data removed]"
          },
          "metadata": {
            "needs_background": "light"
          }
        }
      ]
    },
    {
      "cell_type": "code",
      "source": [
        ""
      ],
      "metadata": {
        "id": "97e_XAKmvpri"
      },
      "execution_count": 38,
      "outputs": []
    }
  ]
}