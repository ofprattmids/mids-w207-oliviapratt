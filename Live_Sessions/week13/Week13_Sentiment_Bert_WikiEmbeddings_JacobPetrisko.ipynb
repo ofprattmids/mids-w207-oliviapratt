{
 "cells": [
  {
   "cell_type": "code",
   "execution_count": 1,
   "id": "inappropriate-jefferson",
   "metadata": {},
   "outputs": [
    {
     "name": "stderr",
     "output_type": "stream",
     "text": [
      "2022-07-21 13:57:09.739966: I tensorflow/core/common_runtime/pluggable_device/pluggable_device_factory.cc:305] Could not identify NUMA node of platform GPU ID 0, defaulting to 0. Your kernel may not have been built with NUMA support.\n",
      "2022-07-21 13:57:09.740085: I tensorflow/core/common_runtime/pluggable_device/pluggable_device_factory.cc:271] Created TensorFlow device (/job:localhost/replica:0/task:0/device:GPU:0 with 0 MB memory) -> physical PluggableDevice (device: 0, name: METAL, pci bus id: <undefined>)\n"
     ]
    },
    {
     "name": "stdout",
     "output_type": "stream",
     "text": [
      "Metal device set to: Apple M1 Max\n"
     ]
    }
   ],
   "source": [
    "# standard\n",
    "import pandas as pd\n",
    "import numpy as np\n",
    "import random\n",
    "import os\n",
    "\n",
    "# sklearn\n",
    "from sklearn.model_selection import train_test_split\n",
    "from sklearn.dummy import DummyClassifier\n",
    "from sklearn.model_selection import cross_val_score\n",
    "\n",
    "# tf and keras\n",
    "import tensorflow as tf\n",
    "from tensorflow import keras\n",
    "from tensorflow.keras import Sequential\n",
    "from tensorflow.keras.layers import Dense\n",
    "from tensorflow.keras.layers import Flatten\n",
    "from tensorflow.keras.layers import Conv1D\n",
    "from tensorflow.keras.layers import MaxPooling1D\n",
    "from tensorflow.keras.layers import GlobalAveragePooling1D\n",
    "from tensorflow.keras.layers import Embedding\n",
    "from tensorflow.keras.preprocessing.text import Tokenizer\n",
    "from tensorflow.keras.preprocessing import sequence\n",
    "from sklearn.preprocessing import LabelEncoder\n",
    "import tensorflow_datasets as tfds\n",
    "\n",
    "# BERT\n",
    "from transformers import AutoTokenizer, TFAutoModel\n",
    "from transformers import TFAutoModelForSequenceClassification\n",
    "from transformers import BertTokenizer, TFBertForSequenceClassification\n",
    "\n",
    "# plots and images\n",
    "import seaborn as sns\n",
    "import matplotlib.pyplot as plt\n",
    "from IPython.display import Image\n",
    "\n",
    "# others\n",
    "import re\n",
    "import tqdm\n",
    "import warnings\n",
    "warnings.filterwarnings(\"ignore\")\n",
    "\n",
    "#silence TF\n",
    "os.environ['TF_CPP_MIN_LOG_LEVEL'] = '3' \n",
    "\n",
    "\n",
    "random.seed(2)\n",
    "%matplotlib inline\n",
    "\n",
    "# FILL IN CODE HERE #\n",
    "DATA_PATH = './' # replace with your path"
   ]
  },
  {
   "cell_type": "markdown",
   "id": "governing-details",
   "metadata": {},
   "source": [
    "``Functions``"
   ]
  },
  {
   "cell_type": "code",
   "execution_count": 2,
   "id": "right-horse",
   "metadata": {},
   "outputs": [],
   "source": [
    "def preprocessor(text):\n",
    "    text = re.sub('<[^>]*>', '', text)\n",
    "    emoticons = re.findall('(?::|;|=)(?:-)?(?:\\)|\\(|D|P)',\n",
    "                           text)\n",
    "    text = (re.sub('[\\W]+', ' ', text.lower()) +\n",
    "            ' '.join(emoticons).replace('-', ''))\n",
    "    return text"
   ]
  },
  {
   "cell_type": "code",
   "execution_count": 3,
   "id": "automotive-expense",
   "metadata": {},
   "outputs": [],
   "source": [
    "def confusion_matrix_plot(conf_matrix):\n",
    "    \"\"\" Confusion matrix matplotlib plot\n",
    "    # param conf_matrix: nested list of TP, TN, FP, FN\n",
    "    # return: None\n",
    "    \"\"\"\n",
    "    fig, ax = plt.subplots(figsize=(2.5, 2.5))\n",
    "    ax.matshow(conf_matrix, cmap=plt.cm.Blues, alpha=0.3)\n",
    "    for i in range(conf_matrix.shape[0]):\n",
    "        for j in range(conf_matrix.shape[1]):\n",
    "            ax.text(x=j, y=i, s=conf_matrix[i, j], va='center', ha='center')\n",
    "\n",
    "    plt.xlabel('Predicted label')\n",
    "    plt.ylabel('True label')\n",
    "\n",
    "    plt.tight_layout()\n",
    "    plt.show()"
   ]
  },
  {
   "cell_type": "markdown",
   "id": "informational-wonder",
   "metadata": {},
   "source": [
    "---\n",
    "## Read data"
   ]
  },
  {
   "cell_type": "code",
   "execution_count": 4,
   "id": "convenient-gibson",
   "metadata": {},
   "outputs": [
    {
     "name": "stdout",
     "output_type": "stream",
     "text": [
      "Number of reviews: 215063\n",
      "Reviews collected between: April 1, 2008 and  September 9, 2017\n",
      "Unique rating values: [ 1.  2.  3.  4.  5.  6.  7.  8.  9. 10.]\n"
     ]
    },
    {
     "data": {
      "text/html": [
       "<div>\n",
       "<style scoped>\n",
       "    .dataframe tbody tr th:only-of-type {\n",
       "        vertical-align: middle;\n",
       "    }\n",
       "\n",
       "    .dataframe tbody tr th {\n",
       "        vertical-align: top;\n",
       "    }\n",
       "\n",
       "    .dataframe thead th {\n",
       "        text-align: right;\n",
       "    }\n",
       "</style>\n",
       "<table border=\"1\" class=\"dataframe\">\n",
       "  <thead>\n",
       "    <tr style=\"text-align: right;\">\n",
       "      <th></th>\n",
       "      <th>Unnamed: 0</th>\n",
       "      <th>drugName</th>\n",
       "      <th>condition</th>\n",
       "      <th>review</th>\n",
       "      <th>rating</th>\n",
       "      <th>date</th>\n",
       "      <th>usefulCount</th>\n",
       "    </tr>\n",
       "  </thead>\n",
       "  <tbody>\n",
       "    <tr>\n",
       "      <th>0</th>\n",
       "      <td>0</td>\n",
       "      <td>Valsartan</td>\n",
       "      <td>Left Ventricular Dysfunction</td>\n",
       "      <td>\"It has no side effect, I take it in combinati...</td>\n",
       "      <td>9.0</td>\n",
       "      <td>May 20, 2012</td>\n",
       "      <td>27</td>\n",
       "    </tr>\n",
       "    <tr>\n",
       "      <th>1</th>\n",
       "      <td>1</td>\n",
       "      <td>Guanfacine</td>\n",
       "      <td>ADHD</td>\n",
       "      <td>\"My son is halfway through his fourth week of ...</td>\n",
       "      <td>8.0</td>\n",
       "      <td>April 27, 2010</td>\n",
       "      <td>192</td>\n",
       "    </tr>\n",
       "    <tr>\n",
       "      <th>2</th>\n",
       "      <td>2</td>\n",
       "      <td>Lybrel</td>\n",
       "      <td>Birth Control</td>\n",
       "      <td>\"I used to take another oral contraceptive, wh...</td>\n",
       "      <td>5.0</td>\n",
       "      <td>December 14, 2009</td>\n",
       "      <td>17</td>\n",
       "    </tr>\n",
       "    <tr>\n",
       "      <th>3</th>\n",
       "      <td>3</td>\n",
       "      <td>Ortho Evra</td>\n",
       "      <td>Birth Control</td>\n",
       "      <td>\"This is my first time using any form of birth...</td>\n",
       "      <td>8.0</td>\n",
       "      <td>November 3, 2015</td>\n",
       "      <td>10</td>\n",
       "    </tr>\n",
       "    <tr>\n",
       "      <th>4</th>\n",
       "      <td>4</td>\n",
       "      <td>Buprenorphine / naloxone</td>\n",
       "      <td>Opiate Dependence</td>\n",
       "      <td>\"Suboxone has completely turned my life around...</td>\n",
       "      <td>9.0</td>\n",
       "      <td>November 27, 2016</td>\n",
       "      <td>37</td>\n",
       "    </tr>\n",
       "  </tbody>\n",
       "</table>\n",
       "</div>"
      ],
      "text/plain": [
       "   Unnamed: 0                  drugName                     condition  \\\n",
       "0           0                 Valsartan  Left Ventricular Dysfunction   \n",
       "1           1                Guanfacine                          ADHD   \n",
       "2           2                    Lybrel                 Birth Control   \n",
       "3           3                Ortho Evra                 Birth Control   \n",
       "4           4  Buprenorphine / naloxone             Opiate Dependence   \n",
       "\n",
       "                                              review  rating  \\\n",
       "0  \"It has no side effect, I take it in combinati...     9.0   \n",
       "1  \"My son is halfway through his fourth week of ...     8.0   \n",
       "2  \"I used to take another oral contraceptive, wh...     5.0   \n",
       "3  \"This is my first time using any form of birth...     8.0   \n",
       "4  \"Suboxone has completely turned my life around...     9.0   \n",
       "\n",
       "                date  usefulCount  \n",
       "0       May 20, 2012           27  \n",
       "1     April 27, 2010          192  \n",
       "2  December 14, 2009           17  \n",
       "3   November 3, 2015           10  \n",
       "4  November 27, 2016           37  "
      ]
     },
     "execution_count": 4,
     "metadata": {},
     "output_type": "execute_result"
    }
   ],
   "source": [
    "df_init = pd.read_csv('./drugs_raw.csv')\n",
    "print('Number of reviews:', df_init.shape[0])\n",
    "print('Reviews collected between:', df_init.date.min(), 'and ', df_init.date.max())\n",
    "print('Unique rating values:', np.sort(df_init.rating.unique()))\n",
    "df_init.head()"
   ]
  },
  {
   "cell_type": "markdown",
   "id": "quarterly-bishop",
   "metadata": {},
   "source": [
    "---\n",
    "## Data preprocessing"
   ]
  },
  {
   "cell_type": "markdown",
   "id": "specified-outline",
   "metadata": {},
   "source": [
    "When building a neural network, it is import to get the data into the proper form. Let's do a couple of text preprocessing steps."
   ]
  },
  {
   "cell_type": "markdown",
   "id": "general-switzerland",
   "metadata": {},
   "source": [
    "``Step 1: Remove unwanted review characters``"
   ]
  },
  {
   "cell_type": "code",
   "execution_count": 5,
   "id": "documentary-message",
   "metadata": {},
   "outputs": [],
   "source": [
    "# remove HTML markup, punctuation, and other non-letter characters\n",
    "df_init['review'] = df_init['review'].apply(preprocessor)"
   ]
  },
  {
   "cell_type": "markdown",
   "id": "removed-florida",
   "metadata": {},
   "source": [
    "``Step 2: Remove outlier reviews``"
   ]
  },
  {
   "cell_type": "markdown",
   "id": "skilled-reset",
   "metadata": {},
   "source": [
    "I want to remove any reviews with no text or extremely long text. Let's see if we find any such reviews."
   ]
  },
  {
   "cell_type": "code",
   "execution_count": 6,
   "id": "excited-laundry",
   "metadata": {},
   "outputs": [
    {
     "name": "stdout",
     "output_type": "stream",
     "text": [
      "Zero-length reviews: 2\n"
     ]
    },
    {
     "data": {
      "text/html": [
       "<div>\n",
       "<style scoped>\n",
       "    .dataframe tbody tr th:only-of-type {\n",
       "        vertical-align: middle;\n",
       "    }\n",
       "\n",
       "    .dataframe tbody tr th {\n",
       "        vertical-align: top;\n",
       "    }\n",
       "\n",
       "    .dataframe thead th {\n",
       "        text-align: right;\n",
       "    }\n",
       "</style>\n",
       "<table border=\"1\" class=\"dataframe\">\n",
       "  <thead>\n",
       "    <tr style=\"text-align: right;\">\n",
       "      <th></th>\n",
       "      <th>Unnamed: 0</th>\n",
       "      <th>drugName</th>\n",
       "      <th>condition</th>\n",
       "      <th>review</th>\n",
       "      <th>rating</th>\n",
       "      <th>date</th>\n",
       "      <th>usefulCount</th>\n",
       "    </tr>\n",
       "  </thead>\n",
       "  <tbody>\n",
       "    <tr>\n",
       "      <th>123174</th>\n",
       "      <td>123174</td>\n",
       "      <td>Ifosfamide</td>\n",
       "      <td>Testicular Cance</td>\n",
       "      <td></td>\n",
       "      <td>10.0</td>\n",
       "      <td>January 8, 2017</td>\n",
       "      <td>0</td>\n",
       "    </tr>\n",
       "    <tr>\n",
       "      <th>128652</th>\n",
       "      <td>128652</td>\n",
       "      <td>Ifex</td>\n",
       "      <td>Testicular Cance</td>\n",
       "      <td></td>\n",
       "      <td>10.0</td>\n",
       "      <td>January 8, 2017</td>\n",
       "      <td>0</td>\n",
       "    </tr>\n",
       "  </tbody>\n",
       "</table>\n",
       "</div>"
      ],
      "text/plain": [
       "        Unnamed: 0    drugName         condition review  rating  \\\n",
       "123174      123174  Ifosfamide  Testicular Cance           10.0   \n",
       "128652      128652        Ifex  Testicular Cance           10.0   \n",
       "\n",
       "                   date  usefulCount  \n",
       "123174  January 8, 2017            0  \n",
       "128652  January 8, 2017            0  "
      ]
     },
     "metadata": {},
     "output_type": "display_data"
    }
   ],
   "source": [
    "# find zero-length reviews\n",
    "zero_len_reviews = df_init[df_init['review'].str.len().eq(1)]\n",
    "print(\"Zero-length reviews: {}\".format(zero_len_reviews.shape[0]))\n",
    "display(zero_len_reviews)"
   ]
  },
  {
   "cell_type": "code",
   "execution_count": 7,
   "id": "later-killing",
   "metadata": {},
   "outputs": [
    {
     "name": "stdout",
     "output_type": "stream",
     "text": [
      "Distribution of review length:\n"
     ]
    },
    {
     "data": {
      "text/plain": [
       "count    215063.000000\n",
       "mean        444.877552\n",
       "std         233.744124\n",
       "min           1.000000\n",
       "25%         254.000000\n",
       "50%         443.000000\n",
       "75%         670.000000\n",
       "max       10416.000000\n",
       "Name: review, dtype: float64"
      ]
     },
     "metadata": {},
     "output_type": "display_data"
    },
    {
     "name": "stdout",
     "output_type": "stream",
     "text": [
      "\n",
      "Reviews with more than 800 tokens: 690\n"
     ]
    }
   ],
   "source": [
    "# find extremely long text reviews\n",
    "print('Distribution of review length:')\n",
    "display(df_init.review.str.len().describe())\n",
    "\n",
    "# print number of reviews with more than 800 tokens\n",
    "print('\\nReviews with more than 800 tokens:', df_init[df_init.review.str.len().gt(800)].shape[0])"
   ]
  },
  {
   "cell_type": "markdown",
   "id": "surprised-russian",
   "metadata": {},
   "source": [
    "It seems that I have two reviews with zero length and 374 reviews with more than 1000 tokens. I am going to remove them from our data."
   ]
  },
  {
   "cell_type": "code",
   "execution_count": 8,
   "id": "sexual-copying",
   "metadata": {},
   "outputs": [
    {
     "name": "stdout",
     "output_type": "stream",
     "text": [
      "Number of reviews: 214371\n"
     ]
    }
   ],
   "source": [
    "# remove zero length and extremely long reviews\n",
    "df_init = df_init[df_init['review'].str.len().gt(1) & df_init['review'].str.len().le(800)]\n",
    "print('Number of reviews:', df_init.shape[0])"
   ]
  },
  {
   "cell_type": "markdown",
   "id": "associate-handbook",
   "metadata": {},
   "source": [
    "Finally, let's look at the distribution of our reviews length after preprocessing"
   ]
  },
  {
   "cell_type": "code",
   "execution_count": 9,
   "id": "unsigned-rehabilitation",
   "metadata": {},
   "outputs": [
    {
     "data": {
      "text/plain": [
       "Text(0.5, 0, 'Number of tokens per review')"
      ]
     },
     "execution_count": 9,
     "metadata": {},
     "output_type": "execute_result"
    },
    {
     "data": {
      "image/png": "[encoded data removed]",
      "text/plain": [
       "<Figure size 432x288 with 1 Axes>"
      ]
     },
     "metadata": {
      "needs_background": "light"
     },
     "output_type": "display_data"
    }
   ],
   "source": [
    "plt.hist(df_init.review.str.len());\n",
    "plt.ylabel('Count of reviews')\n",
    "plt.xlabel('Number of tokens per review')"
   ]
  },
  {
   "cell_type": "markdown",
   "id": "accessory-consideration",
   "metadata": {},
   "source": [
    "``Step 2: Create binary sentiment column``"
   ]
  },
  {
   "cell_type": "markdown",
   "id": "simplified-variance",
   "metadata": {},
   "source": [
    "We will define our sentiment column as follows:\n",
    "\n",
    "   - positive (1) if rating score is between 8-10\n",
    "   - negative (0) if rating score is between 1-3\n",
    "    \n",
    "We dill drop any reviews that are netural, i.e., rating is between 4-7."
   ]
  },
  {
   "cell_type": "code",
   "execution_count": 10,
   "id": "sorted-shape",
   "metadata": {},
   "outputs": [],
   "source": [
    "# create sentiment column\n",
    "df_init['sentiment'] = np.where(df_init.rating.isin((1, 2, 3)), 'negative',\n",
    "                          np.where(df_init.rating.isin((8,9,10)), 'positive', 'neutral'))\n",
    "\n",
    "# drop review if sentiment is netural\n",
    "df = df_init[~df_init.sentiment.eq('neutral')]\n",
    "\n",
    "# rename sentiment to positive = 1, negative = 0\n",
    "df['sentiment'] = np.where(df.sentiment.eq('positive'), 1, 0)"
   ]
  },
  {
   "cell_type": "markdown",
   "id": "liberal-howard",
   "metadata": {},
   "source": [
    "Let's do a quick inspection of our rating and sentiment columns"
   ]
  },
  {
   "cell_type": "code",
   "execution_count": 11,
   "id": "visible-hormone",
   "metadata": {},
   "outputs": [
    {
     "data": {
      "image/png": "[encoded data removed]",
      "text/plain": [
       "<Figure size 720x216 with 2 Axes>"
      ]
     },
     "metadata": {
      "needs_background": "light"
     },
     "output_type": "display_data"
    }
   ],
   "source": [
    "# rating and sentiment histogram after preprocessing\n",
    "cols = ['rating', 'sentiment']\n",
    "nrows, ncols = 1, 2\n",
    "\n",
    "f, axs = plt.subplots(1, 2, figsize=(10,3))\n",
    "for idx, ax in enumerate(axs):\n",
    "    sns.histplot(\n",
    "    data=df,\n",
    "    stat=\"count\",\n",
    "    x = cols[idx],\n",
    "    ax=ax\n",
    "    )\n",
    "\n",
    "    # add labels and ticks\n",
    "    ax.set(xlabel=cols[idx])\n",
    "    #plt.xticks(np.arange(1,11,1))\n",
    "    sns.despine()"
   ]
  },
  {
   "cell_type": "markdown",
   "id": "pregnant-municipality",
   "metadata": {},
   "source": [
    "Our dataset is very imbalanced. We will correct for class imbalance by taking only 46,000 random examples from each class."
   ]
  },
  {
   "cell_type": "code",
   "execution_count": 12,
   "id": "dressed-conditions",
   "metadata": {},
   "outputs": [
    {
     "name": "stdout",
     "output_type": "stream",
     "text": [
      "After preprocessing, our data contains 92000 reviews.\n"
     ]
    }
   ],
   "source": [
    "# randomly draw 46000 examples from each class\n",
    "temp_positive = df[df.sentiment.eq(1)].sample(\n",
    "    n=46000,\n",
    "    replace=False\n",
    ")\n",
    "\n",
    "temp_negative = df[df.sentiment.eq(0)].sample(\n",
    "    n=46000,\n",
    "    replace=False\n",
    ")\n",
    "\n",
    "df_balanced = pd.concat(\n",
    "    [temp_positive, temp_negative],\n",
    "    axis=0)\n",
    "\n",
    "# shuffle df_balanced\n",
    "df_balanced.sample(frac=1) # frac=1 retains all the data\n",
    "df_balanced.reset_index(drop=True, inplace=True) # reset index\n",
    "\n",
    "print('After preprocessing, our data contains', df_balanced.shape[0], 'reviews.')"
   ]
  },
  {
   "cell_type": "markdown",
   "id": "attempted-sweden",
   "metadata": {},
   "source": [
    "``Step 3: Split data into training, val, test``"
   ]
  },
  {
   "cell_type": "markdown",
   "id": "industrial-battery",
   "metadata": {},
   "source": [
    "We will do a [60, 20, 20] split between training, validation and test sets"
   ]
  },
  {
   "cell_type": "code",
   "execution_count": 13,
   "id": "superb-virtue",
   "metadata": {},
   "outputs": [
    {
     "data": {
      "text/html": [
       "<div>\n",
       "<style scoped>\n",
       "    .dataframe tbody tr th:only-of-type {\n",
       "        vertical-align: middle;\n",
       "    }\n",
       "\n",
       "    .dataframe tbody tr th {\n",
       "        vertical-align: top;\n",
       "    }\n",
       "\n",
       "    .dataframe thead th {\n",
       "        text-align: right;\n",
       "    }\n",
       "</style>\n",
       "<table border=\"1\" class=\"dataframe\">\n",
       "  <thead>\n",
       "    <tr style=\"text-align: right;\">\n",
       "      <th></th>\n",
       "      <th>review</th>\n",
       "      <th>sentiment</th>\n",
       "    </tr>\n",
       "  </thead>\n",
       "  <tbody>\n",
       "    <tr>\n",
       "      <th>0</th>\n",
       "      <td>i am now on my 3rd month of adipex i started ...</td>\n",
       "      <td>1</td>\n",
       "    </tr>\n",
       "    <tr>\n",
       "      <th>1</th>\n",
       "      <td>been on it for 5 yrs keeps my blood pressure ...</td>\n",
       "      <td>1</td>\n",
       "    </tr>\n",
       "    <tr>\n",
       "      <th>2</th>\n",
       "      <td>looking for an alternative but there was a ti...</td>\n",
       "      <td>1</td>\n",
       "    </tr>\n",
       "    <tr>\n",
       "      <th>3</th>\n",
       "      <td>after 15 years of incorrect medication the la...</td>\n",
       "      <td>1</td>\n",
       "    </tr>\n",
       "    <tr>\n",
       "      <th>4</th>\n",
       "      <td>had clusters 37 years now i 039 ve tried lite...</td>\n",
       "      <td>1</td>\n",
       "    </tr>\n",
       "  </tbody>\n",
       "</table>\n",
       "</div>"
      ],
      "text/plain": [
       "                                              review  sentiment\n",
       "0   i am now on my 3rd month of adipex i started ...          1\n",
       "1   been on it for 5 yrs keeps my blood pressure ...          1\n",
       "2   looking for an alternative but there was a ti...          1\n",
       "3   after 15 years of incorrect medication the la...          1\n",
       "4   had clusters 37 years now i 039 ve tried lite...          1"
      ]
     },
     "execution_count": 13,
     "metadata": {},
     "output_type": "execute_result"
    }
   ],
   "source": [
    "# first, keep only review and sentiment from df_balanced\n",
    "df_balanced = df_balanced[['review', 'sentiment']]\n",
    "df_balanced.head(5)"
   ]
  },
  {
   "cell_type": "code",
   "execution_count": 14,
   "id": "defensive-station",
   "metadata": {},
   "outputs": [],
   "source": [
    "# split = [60, 20, 20]\n",
    "train_valid_reviews, test_reviews, train_valid_labels, test_labels =train_test_split(\n",
    "    df_balanced.review,\n",
    "    df_balanced.sentiment,\n",
    "    test_size=0.20,\n",
    "    random_state=1,\n",
    "    shuffle=True\n",
    ")\n",
    "\n",
    "train_reviews, valid_reviews, train_labels, valid_labels = train_test_split(\n",
    "    train_valid_reviews,\n",
    "    train_valid_labels,\n",
    "    test_size=0.20,\n",
    "    random_state=1,\n",
    "    shuffle=True\n",
    ")"
   ]
  },
  {
   "cell_type": "code",
   "execution_count": 15,
   "id": "coordinated-mortality",
   "metadata": {},
   "outputs": [
    {
     "name": "stdout",
     "output_type": "stream",
     "text": [
      "Size train reviews: 58880\n",
      "Size dev reviews 14720\n",
      "Size test reviews 18400\n"
     ]
    }
   ],
   "source": [
    "print('Size train reviews:', len(train_reviews))\n",
    "print('Size dev reviews', len(valid_reviews))\n",
    "print('Size test reviews', len(test_reviews))"
   ]
  },
  {
   "cell_type": "markdown",
   "id": "solved-check",
   "metadata": {},
   "source": [
    "``Step 4: Transfer learning on BERT (trainable BERT layers)``"
   ]
  },
  {
   "cell_type": "markdown",
   "id": "domestic-injection",
   "metadata": {},
   "source": [
    "Supporting functions"
   ]
  },
  {
   "cell_type": "code",
   "execution_count": 16,
   "id": "fundamental-evanescence",
   "metadata": {},
   "outputs": [],
   "source": [
    "def batch_encode(X, tokenizer, max_seq_len):\n",
    "    return tokenizer.batch_encode_plus(\n",
    "    X,\n",
    "    max_length=max_seq_len,\n",
    "    add_special_tokens=True,\n",
    "    return_attention_mask=True,\n",
    "    return_token_type_ids=False,\n",
    "    pad_to_max_length=True,\n",
    "    return_tensors='tf'\n",
    ")"
   ]
  },
  {
   "cell_type": "code",
   "execution_count": 17,
   "id": "negative-screw",
   "metadata": {},
   "outputs": [],
   "source": [
    "def create_model(max_sequence_len, model_name, num_labels):\n",
    "    # BERT layers are trainable by default\n",
    "    bert_model = TFBertForSequenceClassification.from_pretrained(model_name, num_labels=num_labels)\n",
    "\n",
    "    input_ids = keras.layers.Input(shape=(max_sequence_len,), dtype=tf.int32, name='input_ids')\n",
    "    attention_mask = keras.layers.Input((max_sequence_len,), dtype=tf.int32, name='attention_mask')\n",
    "    \n",
    "    # Use input_ids and attention_mask as input to BERT\n",
    "    output = bert_model([input_ids, attention_mask])[0]\n",
    "\n",
    "    # Append our classification layer to BERT\n",
    "    output = keras.layers.Dense(num_labels, activation='sigmoid')(output)\n",
    "\n",
    "    model = keras.models.Model(inputs=[input_ids, attention_mask], outputs=output)\n",
    "    \n",
    "    return model"
   ]
  },
  {
   "cell_type": "code",
   "execution_count": 18,
   "id": "driving-color",
   "metadata": {},
   "outputs": [],
   "source": [
    "max_seq_len = 128\n",
    "model_name = \"bert-base-uncased\" "
   ]
  },
  {
   "cell_type": "code",
   "execution_count": 19,
   "id": "through-recommendation",
   "metadata": {},
   "outputs": [],
   "source": [
    "# Load BERT tokenizer\n",
    "\n",
    "tokenizer = BertTokenizer.from_pretrained(model_name)"
   ]
  },
  {
   "cell_type": "code",
   "execution_count": 20,
   "id": "hourly-victory",
   "metadata": {},
   "outputs": [
    {
     "name": "stderr",
     "output_type": "stream",
     "text": [
      "Truncation was not explicitly activated but `max_length` is provided a specific value, please use `truncation=True` to explicitly truncate examples to max length. Defaulting to 'longest_first' truncation strategy. If you encode pairs of sequences (GLUE-style) with the tokenizer you can select this strategy more precisely by providing a specific strategy to `truncation`.\n"
     ]
    }
   ],
   "source": [
    "# Prepare our input values (tokenizing, adding special tokens, padding, and attention mask)\n",
    "\n",
    "train_x = batch_encode(train_reviews, tokenizer, max_seq_len)\n",
    "val_x = batch_encode(valid_reviews, tokenizer, max_seq_len)\n",
    "test_x = batch_encode(test_reviews, tokenizer, max_seq_len)\n",
    "\n",
    "train_y = train_labels\n",
    "val_y = valid_labels\n",
    "test_y = test_labels"
   ]
  },
  {
   "cell_type": "code",
   "execution_count": 21,
   "id": "aware-polls",
   "metadata": {},
   "outputs": [
    {
     "name": "stderr",
     "output_type": "stream",
     "text": [
      "All model checkpoint layers were used when initializing TFBertForSequenceClassification.\n",
      "\n",
      "Some layers of TFBertForSequenceClassification were not initialized from the model checkpoint at bert-base-uncased and are newly initialized: ['classifier']\n",
      "You should probably TRAIN this model on a down-stream task to be able to use it for predictions and inference.\n"
     ]
    }
   ],
   "source": [
    "# Create and compile model\n",
    "\n",
    "model = create_model(max_seq_len, model_name, 1)\n",
    "\n",
    "model.compile(optimizer=keras.optimizers.Adam(learning_rate=3e-5), \n",
    "              loss='binary_crossentropy', \n",
    "              metrics=['binary_accuracy'])"
   ]
  },
  {
   "cell_type": "code",
   "execution_count": 22,
   "id": "genuine-ordering",
   "metadata": {},
   "outputs": [
    {
     "name": "stdout",
     "output_type": "stream",
     "text": [
      "Epoch 1/10\n"
     ]
    },
    {
     "name": "stderr",
     "output_type": "stream",
     "text": [
      "2022-07-21 13:58:39.898547: W tensorflow/core/platform/profile_utils/cpu_utils.cc:128] Failed to get CPU frequency: 0 Hz\n"
     ]
    },
    {
     "name": "stdout",
     "output_type": "stream",
     "text": [
      "1840/1840 [==============================] - ETA: 0s - loss: 0.2369 - binary_accuracy: 0.9054\n",
      "Epoch 1: val_binary_accuracy improved from -inf to 0.93750, saving model to ./transfer_models/01-0.938\n"
     ]
    },
    {
     "name": "stderr",
     "output_type": "stream",
     "text": [
      "2022-07-21 14:17:33.980867: W tensorflow/python/util/util.cc:368] Sets are not currently considered sequences, but this may change in the future, so consider avoiding using them.\n",
      "WARNING:absl:Found untraced functions such as embeddings_layer_call_fn, embeddings_layer_call_and_return_conditional_losses, encoder_layer_call_fn, encoder_layer_call_and_return_conditional_losses, pooler_layer_call_fn while saving (showing 5 of 420). These functions will not be directly callable after loading.\n"
     ]
    },
    {
     "name": "stdout",
     "output_type": "stream",
     "text": [
      "INFO:tensorflow:Assets written to: ./transfer_models/01-0.938/assets\n"
     ]
    },
    {
     "name": "stderr",
     "output_type": "stream",
     "text": [
      "INFO:tensorflow:Assets written to: ./transfer_models/01-0.938/assets\n"
     ]
    },
    {
     "name": "stdout",
     "output_type": "stream",
     "text": [
      "1840/1840 [==============================] - 1165s 629ms/step - loss: 0.2369 - binary_accuracy: 0.9054 - val_loss: 0.1679 - val_binary_accuracy: 0.9375\n",
      "Epoch 2/10\n",
      "1840/1840 [==============================] - ETA: 0s - loss: 0.1154 - binary_accuracy: 0.9595\n",
      "Epoch 2: val_binary_accuracy improved from 0.93750 to 0.94918, saving model to ./transfer_models/02-0.949\n"
     ]
    },
    {
     "name": "stderr",
     "output_type": "stream",
     "text": [
      "WARNING:absl:Found untraced functions such as embeddings_layer_call_fn, embeddings_layer_call_and_return_conditional_losses, encoder_layer_call_fn, encoder_layer_call_and_return_conditional_losses, pooler_layer_call_fn while saving (showing 5 of 420). These functions will not be directly callable after loading.\n"
     ]
    },
    {
     "name": "stdout",
     "output_type": "stream",
     "text": [
      "INFO:tensorflow:Assets written to: ./transfer_models/02-0.949/assets\n"
     ]
    },
    {
     "name": "stderr",
     "output_type": "stream",
     "text": [
      "INFO:tensorflow:Assets written to: ./transfer_models/02-0.949/assets\n"
     ]
    },
    {
     "name": "stdout",
     "output_type": "stream",
     "text": [
      "1840/1840 [==============================] - 1182s 642ms/step - loss: 0.1154 - binary_accuracy: 0.9595 - val_loss: 0.1491 - val_binary_accuracy: 0.9492\n",
      "Epoch 3/10\n",
      "1840/1840 [==============================] - ETA: 0s - loss: 0.0632 - binary_accuracy: 0.9792\n",
      "Epoch 3: val_binary_accuracy improved from 0.94918 to 0.94946, saving model to ./transfer_models/03-0.949\n"
     ]
    },
    {
     "name": "stderr",
     "output_type": "stream",
     "text": [
      "WARNING:absl:Found untraced functions such as embeddings_layer_call_fn, embeddings_layer_call_and_return_conditional_losses, encoder_layer_call_fn, encoder_layer_call_and_return_conditional_losses, pooler_layer_call_fn while saving (showing 5 of 420). These functions will not be directly callable after loading.\n"
     ]
    },
    {
     "name": "stdout",
     "output_type": "stream",
     "text": [
      "INFO:tensorflow:Assets written to: ./transfer_models/03-0.949/assets\n"
     ]
    },
    {
     "name": "stderr",
     "output_type": "stream",
     "text": [
      "INFO:tensorflow:Assets written to: ./transfer_models/03-0.949/assets\n"
     ]
    },
    {
     "name": "stdout",
     "output_type": "stream",
     "text": [
      "1840/1840 [==============================] - 1205s 655ms/step - loss: 0.0632 - binary_accuracy: 0.9792 - val_loss: 0.1707 - val_binary_accuracy: 0.9495\n",
      "Epoch 4/10\n",
      "1840/1840 [==============================] - ETA: 0s - loss: 0.0409 - binary_accuracy: 0.9869\n",
      "Epoch 4: val_binary_accuracy improved from 0.94946 to 0.95000, saving model to ./transfer_models/04-0.950\n"
     ]
    },
    {
     "name": "stderr",
     "output_type": "stream",
     "text": [
      "WARNING:absl:Found untraced functions such as embeddings_layer_call_fn, embeddings_layer_call_and_return_conditional_losses, encoder_layer_call_fn, encoder_layer_call_and_return_conditional_losses, pooler_layer_call_fn while saving (showing 5 of 420). These functions will not be directly callable after loading.\n"
     ]
    },
    {
     "name": "stdout",
     "output_type": "stream",
     "text": [
      "INFO:tensorflow:Assets written to: ./transfer_models/04-0.950/assets\n"
     ]
    },
    {
     "name": "stderr",
     "output_type": "stream",
     "text": [
      "INFO:tensorflow:Assets written to: ./transfer_models/04-0.950/assets\n"
     ]
    },
    {
     "name": "stdout",
     "output_type": "stream",
     "text": [
      "1840/1840 [==============================] - 1194s 649ms/step - loss: 0.0409 - binary_accuracy: 0.9869 - val_loss: 0.1814 - val_binary_accuracy: 0.9500\n",
      "Epoch 5/10\n",
      "1840/1840 [==============================] - ETA: 0s - loss: 0.0304 - binary_accuracy: 0.9906\n",
      "Epoch 5: val_binary_accuracy improved from 0.95000 to 0.95122, saving model to ./transfer_models/05-0.951\n"
     ]
    },
    {
     "name": "stderr",
     "output_type": "stream",
     "text": [
      "WARNING:absl:Found untraced functions such as embeddings_layer_call_fn, embeddings_layer_call_and_return_conditional_losses, encoder_layer_call_fn, encoder_layer_call_and_return_conditional_losses, pooler_layer_call_fn while saving (showing 5 of 420). These functions will not be directly callable after loading.\n"
     ]
    },
    {
     "name": "stdout",
     "output_type": "stream",
     "text": [
      "INFO:tensorflow:Assets written to: ./transfer_models/05-0.951/assets\n"
     ]
    },
    {
     "name": "stderr",
     "output_type": "stream",
     "text": [
      "INFO:tensorflow:Assets written to: ./transfer_models/05-0.951/assets\n"
     ]
    },
    {
     "name": "stdout",
     "output_type": "stream",
     "text": [
      "1840/1840 [==============================] - 1162s 632ms/step - loss: 0.0304 - binary_accuracy: 0.9906 - val_loss: 0.1727 - val_binary_accuracy: 0.9512\n",
      "Epoch 6/10\n",
      "1840/1840 [==============================] - ETA: 0s - loss: 0.0268 - binary_accuracy: 0.9913\n",
      "Epoch 6: val_binary_accuracy did not improve from 0.95122\n",
      "1840/1840 [==============================] - 1136s 617ms/step - loss: 0.0268 - binary_accuracy: 0.9913 - val_loss: 0.1958 - val_binary_accuracy: 0.9474\n",
      "Epoch 7/10\n",
      "1840/1840 [==============================] - ETA: 0s - loss: 0.0239 - binary_accuracy: 0.9925\n",
      "Epoch 7: val_binary_accuracy did not improve from 0.95122\n",
      "1840/1840 [==============================] - 1168s 635ms/step - loss: 0.0239 - binary_accuracy: 0.9925 - val_loss: 0.2508 - val_binary_accuracy: 0.9389\n",
      "Epoch 8/10\n",
      "1840/1840 [==============================] - ETA: 0s - loss: 0.0214 - binary_accuracy: 0.9935\n",
      "Epoch 8: val_binary_accuracy did not improve from 0.95122\n",
      "1840/1840 [==============================] - 1151s 625ms/step - loss: 0.0214 - binary_accuracy: 0.9935 - val_loss: 0.2223 - val_binary_accuracy: 0.9488\n",
      "Epoch 9/10\n",
      "1840/1840 [==============================] - ETA: 0s - loss: 0.0186 - binary_accuracy: 0.9941\n",
      "Epoch 9: val_binary_accuracy did not improve from 0.95122\n",
      "1840/1840 [==============================] - 1160s 630ms/step - loss: 0.0186 - binary_accuracy: 0.9941 - val_loss: 0.2311 - val_binary_accuracy: 0.9487\n",
      "Epoch 10/10\n",
      "1840/1840 [==============================] - ETA: 0s - loss: 0.0179 - binary_accuracy: 0.9943\n",
      "Epoch 10: val_binary_accuracy did not improve from 0.95122\n",
      "1840/1840 [==============================] - 1100s 598ms/step - loss: 0.0179 - binary_accuracy: 0.9943 - val_loss: 0.2400 - val_binary_accuracy: 0.9493\n"
     ]
    }
   ],
   "source": [
    "checkpoint = keras.callbacks.ModelCheckpoint(\"./transfer_models/{epoch:02d}-{val_binary_accuracy:.3f}\", \n",
    "                                             monitor=\"val_binary_accuracy\", \n",
    "                                             mode=\"max\",\n",
    "                                             save_best_only=True,\n",
    "                                             weights_only=False,\n",
    "                                             verbose=1)\n",
    "\n",
    "hist = model.fit(\n",
    "    x=train_x.values(),\n",
    "    y=train_y,\n",
    "    validation_data=(val_x.values(), val_y),\n",
    "    epochs=10,\n",
    "    batch_size=32,\n",
    "    callbacks=[checkpoint]\n",
    ")"
   ]
  },
  {
   "cell_type": "code",
   "execution_count": 23,
   "id": "behavioral-flower",
   "metadata": {},
   "outputs": [
    {
     "data": {
      "image/png": "[encoded data removed]",
      "text/plain": [
       "<Figure size 1152x288 with 2 Axes>"
      ]
     },
     "metadata": {
      "needs_background": "light"
     },
     "output_type": "display_data"
    }
   ],
   "source": [
    "# grab history\n",
    "history = hist.history\n",
    "\n",
    "# plot loss for train and validation\n",
    "fig = plt.figure(figsize=(16, 4))\n",
    "ax = fig.add_subplot(1, 3, 1)\n",
    "plt.plot(history['loss'], lw=2, color='darkgoldenrod')\n",
    "plt.plot(history['val_loss'], lw=2, color='indianred')\n",
    "plt.legend(['Train', 'Validation'], fontsize=10)\n",
    "#plt.ylim(0.5,0.7)\n",
    "ax.set_xlabel('Epochs', size=10)\n",
    "ax.set_title('Loss');\n",
    "\n",
    "# plot accuracy for train and validation\n",
    "ax = fig.add_subplot(1, 3, 2)\n",
    "plt.plot(history['binary_accuracy'], lw=2, color='darkgoldenrod')\n",
    "plt.plot(history['val_binary_accuracy'], lw=2, color='indianred')\n",
    "plt.legend(['Train', 'Validation'], fontsize=10)\n",
    "#plt.ylim(0.7,0.8)\n",
    "ax.set_xlabel('Epochs', size=10)\n",
    "ax.set_title('Accuracy');"
   ]
  },
  {
   "cell_type": "code",
   "execution_count": 24,
   "id": "pressed-disney",
   "metadata": {},
   "outputs": [
    {
     "name": "stdout",
     "output_type": "stream",
     "text": [
      "After training this model, evaluation on the validation data shows an accuracy of: 94.93 %\n"
     ]
    }
   ],
   "source": [
    "print('After training this model, evaluation on the validation data shows an accuracy of:',\n",
    "      np.round(history['val_binary_accuracy'][-1]*100,2), '%'\n",
    ")"
   ]
  },
  {
   "cell_type": "code",
   "execution_count": 25,
   "id": "unique-manor",
   "metadata": {},
   "outputs": [
    {
     "name": "stdout",
     "output_type": "stream",
     "text": [
      "Greatest validation accuracy: 95.12 %\n"
     ]
    }
   ],
   "source": [
    "print('Greatest validation accuracy:',\n",
    "      np.round(max(history['val_binary_accuracy'])*100,2), '%'\n",
    ")"
   ]
  },
  {
   "cell_type": "markdown",
   "id": "incorporate-reasoning",
   "metadata": {},
   "source": [
    "How good is this score? Let's compare it with a dummy classifier.\n",
    "\n",
    "<span style=\"color:chocolate\">Question: </span> what is a dummy classifier?"
   ]
  },
  {
   "cell_type": "code",
   "execution_count": 26,
   "id": "touched-walter",
   "metadata": {},
   "outputs": [
    {
     "name": "stdout",
     "output_type": "stream",
     "text": [
      "Dummy classifier score: 0.501 (+/- 0.00)\n"
     ]
    }
   ],
   "source": [
    "clf = DummyClassifier() # uses Sklearn \n",
    "\n",
    "scores = cross_val_score(clf, train_reviews, train_labels)\n",
    "print(\"Dummy classifier score: %0.3f (+/- %0.2f)\" % (scores.mean(), scores.std() * 2))"
   ]
  },
  {
   "cell_type": "markdown",
   "id": "prerequisite-literature",
   "metadata": {},
   "source": [
    "---\n",
    "## Evaluation"
   ]
  },
  {
   "cell_type": "markdown",
   "id": "advanced-times",
   "metadata": {},
   "source": [
    "<span style=\"color:chocolate\">predictions on test data</span> "
   ]
  },
  {
   "cell_type": "code",
   "execution_count": 27,
   "id": "sitting-fairy",
   "metadata": {},
   "outputs": [
    {
     "data": {
      "text/plain": [
       "array([0, 0, 1, 0, 0, 0, 1, 0, 0, 0])"
      ]
     },
     "execution_count": 27,
     "metadata": {},
     "output_type": "execute_result"
    }
   ],
   "source": [
    "# run the trained model on the test data (the model outputs probabilities)\n",
    "y_test_pred_p = model.predict(x=test_x.values()).flatten()\n",
    "\n",
    "# apply the threshold function to create a 0, 1 outcome\n",
    "y_test_pred = np.where(y_test_pred_p>=0.5, 1, 0)\n",
    "y_test_pred[:10] # first 10 only"
   ]
  },
  {
   "cell_type": "markdown",
   "id": "nervous-compiler",
   "metadata": {},
   "source": [
    "<span style=\"color:chocolate\">confussion matrix</span> "
   ]
  },
  {
   "cell_type": "code",
   "execution_count": 28,
   "id": "growing-dating",
   "metadata": {},
   "outputs": [
    {
     "data": {
      "image/png": "[encoded data removed]",
      "text/plain": [
       "<Figure size 180x180 with 1 Axes>"
      ]
     },
     "metadata": {
      "needs_background": "light"
     },
     "output_type": "display_data"
    }
   ],
   "source": [
    "conf_matrix = tf.math.confusion_matrix(\n",
    "    test_y,\n",
    "    y_test_pred,\n",
    "    num_classes=None,\n",
    "    weights=None,\n",
    "    dtype=tf.dtypes.int32,\n",
    "    name=None\n",
    ")\n",
    "\n",
    "confusion_matrix_plot(conf_matrix.numpy())"
   ]
  },
  {
   "cell_type": "markdown",
   "id": "beneficial-raleigh",
   "metadata": {},
   "source": [
    "<span style=\"color:chocolate\">precision score</span> "
   ]
  },
  {
   "cell_type": "code",
   "execution_count": 29,
   "id": "charming-korean",
   "metadata": {},
   "outputs": [
    {
     "name": "stdout",
     "output_type": "stream",
     "text": [
      "Precision score: 0.966007\n"
     ]
    }
   ],
   "source": [
    "# note that TensorFlow assumes that the positive class is cultivar 1\n",
    "p = tf.keras.metrics.Precision(\n",
    "    thresholds=None, top_k=None, class_id=None, name=None, dtype=None\n",
    ")\n",
    "p.update_state(test_y, y_test_pred)  #18/(18+3)\n",
    "print(\"Precision score: %3f\" %p.result().numpy())"
   ]
  },
  {
   "cell_type": "markdown",
   "id": "second-methodology",
   "metadata": {},
   "source": [
    "<span style=\"color:chocolate\">recall score</span> "
   ]
  },
  {
   "cell_type": "code",
   "execution_count": 30,
   "id": "increasing-retention",
   "metadata": {},
   "outputs": [
    {
     "name": "stdout",
     "output_type": "stream",
     "text": [
      "Recall score: 0.923\n"
     ]
    }
   ],
   "source": [
    "# note that TensorFlow assumes that the positive class is cultivar 1\n",
    "r = tf.keras.metrics.Recall(\n",
    "    thresholds=None, top_k=None, class_id=None, name=None, dtype=None\n",
    ")\n",
    "r.update_state(test_y, y_test_pred) #18/(18+1)\n",
    "print(\"Recall score: %.3f\" %r.result().numpy())"
   ]
  },
  {
   "cell_type": "markdown",
   "id": "super-cleaners",
   "metadata": {},
   "source": [
    "<span style=\"color:chocolate\">F1 score</span> "
   ]
  },
  {
   "cell_type": "code",
   "execution_count": 31,
   "id": "musical-helmet",
   "metadata": {},
   "outputs": [
    {
     "name": "stdout",
     "output_type": "stream",
     "text": [
      "F1 score: 0.9439013600349426\n"
     ]
    }
   ],
   "source": [
    "print(\"F1 score:\",\n",
    "    2*((p.result().numpy()*r.result().numpy())/(p.result().numpy()+r.result().numpy())))"
   ]
  },
  {
   "cell_type": "markdown",
   "id": "impaired-radiation",
   "metadata": {},
   "source": [
    "<span style=\"color:chocolate\">ROC AUC</span> "
   ]
  },
  {
   "cell_type": "code",
   "execution_count": 32,
   "id": "unlimited-montgomery",
   "metadata": {},
   "outputs": [
    {
     "name": "stdout",
     "output_type": "stream",
     "text": [
      "ROC AUC: 0.982\n"
     ]
    },
    {
     "data": {
      "image/png": "[encoded data removed]",
      "text/plain": [
       "<Figure size 432x288 with 1 Axes>"
      ]
     },
     "metadata": {
      "needs_background": "light"
     },
     "output_type": "display_data"
    }
   ],
   "source": [
    "from sklearn import datasets, metrics, model_selection, svm\n",
    "fpr, tpr, _ = metrics.roc_curve(test_y,  y_test_pred_p)\n",
    "auc = metrics.roc_auc_score(test_y, y_test_pred_p)\n",
    "plt.plot(fpr,tpr,label=\"data, auc=\"+str(np.round(auc,3)))\n",
    "plt.legend(loc=4)\n",
    "plt.xlabel('False Positive Rate')\n",
    "plt.ylabel('True Positive Rate')\n",
    "\n",
    "\n",
    "# add dummy classifier\n",
    "plt.plot([0, 1], [0, 1], linestyle='--', lw=2, color='r',\n",
    "         label='dummy (chance)', alpha=.8)\n",
    "\n",
    "plt.legend(loc=4)\n",
    "print('ROC AUC:', np.round(auc,3))"
   ]
  },
  {
   "cell_type": "code",
   "execution_count": null,
   "id": "actual-breach",
   "metadata": {},
   "outputs": [],
   "source": []
  }
 ],
 "metadata": {
  "kernelspec": {
   "display_name": "Python 3",
   "language": "python",
   "name": "python3"
  },
  "language_info": {
   "codemirror_mode": {
    "name": "ipython",
    "version": 3
   },
   "file_extension": ".py",
   "mimetype": "text/x-python",
   "name": "python",
   "nbconvert_exporter": "python",
   "pygments_lexer": "ipython3",
   "version": "3.8.3"
  }
 },
 "nbformat": 4,
 "nbformat_minor": 5
}
