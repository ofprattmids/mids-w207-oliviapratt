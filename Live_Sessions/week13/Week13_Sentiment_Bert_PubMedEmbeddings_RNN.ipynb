{
 "cells": [
  {
   "cell_type": "markdown",
   "id": "demanding-assurance",
   "metadata": {},
   "source": [
    "## Week 13: Sentiment Analysis using Bert embeddings and RNN/LSTM + Logistic for the downstream task\n",
    "\n",
    "Instructor: Cornelia Ilin <br>\n",
    "Email: cilin@ischool.berkeley.edu <br>"
   ]
  },
  {
   "cell_type": "markdown",
   "id": "expired-matrix",
   "metadata": {},
   "source": [
    "#### ``Objectives``\n",
    "1. Load a pre-trained BERT embeddings model. Let's call this **bert_model**.\n",
    "2. Use the BERT token embeddings to clasify the sentiment of drug reviews by passing the token embeddings through an RNN/LSTM model before classifying the reviews with a sigmoid (logistic) function. This is a downstream task! Let's call it **rnn_logit_model**.\n",
    "3. Fine-tune the classification model."
   ]
  },
  {
   "cell_type": "markdown",
   "id": "adolescent-generic",
   "metadata": {},
   "source": [
    "#### ``Motivation``"
   ]
  },
  {
   "cell_type": "markdown",
   "id": "understanding-cocktail",
   "metadata": {},
   "source": [
    "1. Drug reviews can provide medical care information for both healthcare professionals and patients. They help understand the side effects and effectiveness level of drugs before prescribing or taking them.\n",
    "\n",
    "2. Try a different embedding strategy: remember that we need to convert sequences of word tokens to a vector representation that we can then use in a prediction model (downstream task). We will do this using a pre-trained BERT model (this is what transfer learning means).\n",
    "\n",
    "3. Work with token embeddings instead of sentence embeddings. Note that an RNN/LSTM layer on top of our transfered embedding model knows how to deal with the 3D token data! We will then classify sentences using a Sigmoid (logistic) layer.\n",
    "\n",
    "3. Fine-tune your prediction model by unfreezing layers of your BERT model."
   ]
  },
  {
   "cell_type": "markdown",
   "id": "distinguished-projection",
   "metadata": {},
   "source": [
    "#### ``Motivating papers``\n",
    "\n",
    "\n",
    "Transformer models have revolutionized NLP and have been at the forefront of many impressive applications. Transformers rely on *attention* and *self-attention* mechanisms. The architecture was first proporsed in the NeurIPS 2017 paper [Attention is All you Need](https://proceedings.neurips.cc/paper/2017/file/3f5ee243547dee91fbd053c1c4a845aa-Paper.pdf).\n",
    "\n",
    "A popular model that uses the transformer architecture is [BERT](https://arxiv.org/abs/1810.04805). To familiarize yourself with BERT, briefly describe the 2 pretraining tasks discussed in the introduction to the paper."
   ]
  },
  {
   "cell_type": "markdown",
   "id": "humanitarian-scientist",
   "metadata": {},
   "source": [
    "#### ``Pre-trained BERT model (PubMedBert)``"
   ]
  },
  {
   "cell_type": "markdown",
   "id": "complete-administrator",
   "metadata": {},
   "source": [
    "[HuggingFace](https://huggingface.co/docs/transformers/index) provides a standard interface for tokenizers and transformers in Tensorflow and PyTorch. They also provide a platform for reserachers to share pretrained models. For example, we will load a pretrained BERT model from HuggingFace: the [PubMedBERT model + tokenizer](https://huggingface.co/cambridgeltl/SapBERT-from-PubMedBERT-fulltext) that has been trained on a dataset of biomedical texts.\n",
    "\n",
    "<span style=\"color:chocolate\">Question:</span> Is there a benefit to using a BERT model that has been pretrained on biomedical text compared with, for example, a BERT model trained on Wikipedia?"
   ]
  },
  {
   "cell_type": "markdown",
   "id": "chief-literacy",
   "metadata": {},
   "source": [
    "#### ``BERT architecture``"
   ]
  },
  {
   "cell_type": "markdown",
   "id": "appointed-civilization",
   "metadata": {},
   "source": [
    "I mentioned above that BERT relies on the transformer architecture. What does it mean? Well, instead of processing sequence data one-at-a-time (this is what RNN/LSTM does), transformers process entire sequences at once. The good thing is that they still model dependencies between sequence elements. \n",
    "\n",
    "<span style=\"color:chocolate\">Question:</span> What is the mechanism that transformers use to model sequence dependencies? (you can refer to the [Attention is all you need](https://proceedings.neurips.cc/paper/2017/file/3f5ee243547dee91fbd053c1c4a845aa-Paper.pdf) paper)"
   ]
  },
  {
   "cell_type": "markdown",
   "id": "toxic-short",
   "metadata": {},
   "source": [
    "#### ``Data``"
   ]
  },
  {
   "cell_type": "markdown",
   "id": "worldwide-notion",
   "metadata": {},
   "source": [
    "Our data ([download link](https://drive.google.com/file/d/1ZWzmnIykk63pJuEBTonxbC4CBXJjI6t5/view?usp=sharing)) provides patient reviews on specific drugs and related conditions, and a 10-star rating reflecting overall patient satisfaction. The data was obtained by crawling online pharmaceutical review sites.\n",
    "\n",
    "We will **build** and **train** a NN model to predict if a review is positive (1) or negative (0).\n",
    "\n",
    "\n",
    "<u>Note</u>: the original dataset is hosted by UCI - Machine Learning Repository [[Source]](https://archive.ics.uci.edu/ml/datasets/Drug+Review+Dataset+%28Drugs.com%29)."
   ]
  },
  {
   "cell_type": "markdown",
   "id": "operating-supply",
   "metadata": {},
   "source": [
    "Import the necessary libraries and make sure to replace DATA_PATH with the path to the directories where you saved the data."
   ]
  },
  {
   "cell_type": "code",
   "execution_count": 1,
   "id": "center-circular",
   "metadata": {},
   "outputs": [],
   "source": [
    "# standard\n",
    "import pandas as pd\n",
    "import numpy as np\n",
    "import random\n",
    "import os\n",
    "\n",
    "# sklearn\n",
    "from sklearn.model_selection import train_test_split\n",
    "from sklearn.dummy import DummyClassifier\n",
    "from sklearn.model_selection import cross_val_score\n",
    "\n",
    "# tf and keras\n",
    "import tensorflow as tf\n",
    "from tensorflow import keras\n",
    "from tensorflow.keras import Sequential\n",
    "from tensorflow.keras.layers import Dense\n",
    "from tensorflow.keras.layers import Flatten\n",
    "from tensorflow.keras.layers import Conv1D\n",
    "from tensorflow.keras.layers import MaxPooling1D\n",
    "from tensorflow.keras.layers import GlobalAveragePooling1D\n",
    "from tensorflow.keras.layers import Embedding\n",
    "from tensorflow.keras.preprocessing.text import Tokenizer\n",
    "from tensorflow.keras.preprocessing import sequence\n",
    "from sklearn.preprocessing import LabelEncoder\n",
    "import tensorflow_datasets as tfds\n",
    "\n",
    "# BERT\n",
    "from transformers import AutoTokenizer, TFAutoModel\n",
    "\n",
    "\n",
    "# plots and images\n",
    "import seaborn as sns\n",
    "import matplotlib.pyplot as plt\n",
    "from IPython.display import Image\n",
    "\n",
    "# others\n",
    "import re\n",
    "import tqdm\n",
    "import warnings\n",
    "warnings.filterwarnings(\"ignore\")\n",
    "\n",
    "#silence TF\n",
    "os.environ['TF_CPP_MIN_LOG_LEVEL'] = '3' \n",
    "\n",
    "\n",
    "random.seed(2)\n",
    "%matplotlib inline\n",
    "\n",
    "# FILL IN CODE HERE #\n",
    "DATA_PATH = '' # replace with your path"
   ]
  },
  {
   "cell_type": "markdown",
   "id": "bronze-contact",
   "metadata": {},
   "source": [
    "``Functions``"
   ]
  },
  {
   "cell_type": "code",
   "execution_count": 2,
   "id": "smaller-italy",
   "metadata": {},
   "outputs": [],
   "source": [
    "def preprocessor(text):\n",
    "    text = re.sub('<[^>]*>', '', text)\n",
    "    emoticons = re.findall('(?::|;|=)(?:-)?(?:\\)|\\(|D|P)',\n",
    "                           text)\n",
    "    text = (re.sub('[\\W]+', ' ', text.lower()) +\n",
    "            ' '.join(emoticons).replace('-', ''))\n",
    "    return text"
   ]
  },
  {
   "cell_type": "code",
   "execution_count": 3,
   "id": "economic-configuration",
   "metadata": {},
   "outputs": [],
   "source": [
    "def tokenize(reviews, labels, tokenizer, seq_length):\n",
    "    ''''''\n",
    "    # tokenize reviews (this will give you: input_ids, token_type_ids, attention_mask)\n",
    "    reviews_tokenized = [\n",
    "        tokenizer(\n",
    "            n,\n",
    "            return_tensors='tf',\n",
    "            truncation=True,\n",
    "            padding='max_length',\n",
    "            max_length=seq_length) for n in reviews\n",
    "    ]\n",
    "    \n",
    "    reviews_tokenized_tensor = tf.convert_to_tensor([\n",
    "                            (reviews_tokenized[i]['input_ids'],\n",
    "                              reviews_tokenized[i]['token_type_ids'],\n",
    "                              reviews_tokenized[i]['attention_mask'])\n",
    "                         for i in range(len(reviews_tokenized))\n",
    "    ])\n",
    "    \n",
    "    # remove empty dimension \n",
    "    reviews_tokenized_tensor = reviews_tokenized_tensor[:,:,0,:]\n",
    "    \n",
    "    # tensor labels\n",
    "    labels_tensor = np.array(labels)\n",
    "    \n",
    "    return reviews_tokenized_tensor, labels_tensor"
   ]
  },
  {
   "cell_type": "code",
   "execution_count": 4,
   "id": "serious-failing",
   "metadata": {},
   "outputs": [],
   "source": [
    "def get_bert_embeddings(bert_auto_model, reviews_tokenized_tensor, feature_size=768):\n",
    "    ''''''\n",
    "    n = len(reviews_tokenized_tensor)\n",
    "    seq_len = reviews_tokenized_tensor[0][0].shape[0]\n",
    "    bert_pool_embeddings = np.zeros((n, seq_len, feature_size)) # for token embeddings\n",
    "    #bert_pool_embeddings = np.zeros((n, feature_size)) # for sentence embeddings\n",
    "    bs = 128 \n",
    "    nsteps = n//bs+1\n",
    "    \n",
    "    for i in tqdm.trange(n//bs+1):\n",
    "        slc = slice(i*bs, (i+1)*bs)\n",
    "        data = reviews_tokenized_tensor[slc]\n",
    "        input_ids, token_type_ids, attention_mask = data[:,0], data[:,1], data[:,2]\n",
    "        embedding = bert_auto_model(input_ids, token_type_ids, attention_mask).last_hidden_state # for token embeddings\n",
    "        #embedding = bert_auto_model(input_ids, token_type_ids, attention_mask).pooler_output # for sentence embeddings\n",
    "        bert_pool_embeddings[slc] = embedding\n",
    "        \n",
    "    return bert_pool_embeddings"
   ]
  },
  {
   "cell_type": "code",
   "execution_count": 5,
   "id": "impressed-relations",
   "metadata": {},
   "outputs": [],
   "source": [
    "def confusion_matrix_plot(conf_matrix):\n",
    "    \"\"\" Confusion matrix matplotlib plot\n",
    "    # param conf_matrix: nested list of TP, TN, FP, FN\n",
    "    # return: None\n",
    "    \"\"\"\n",
    "    fig, ax = plt.subplots(figsize=(2.5, 2.5))\n",
    "    ax.matshow(conf_matrix, cmap=plt.cm.Blues, alpha=0.3)\n",
    "    for i in range(conf_matrix.shape[0]):\n",
    "        for j in range(conf_matrix.shape[1]):\n",
    "            ax.text(x=j, y=i, s=conf_matrix[i, j], va='center', ha='center')\n",
    "\n",
    "    plt.xlabel('Predicted label')\n",
    "    plt.ylabel('True label')\n",
    "\n",
    "    plt.tight_layout()\n",
    "    plt.show()"
   ]
  },
  {
   "cell_type": "markdown",
   "id": "comfortable-hanging",
   "metadata": {},
   "source": [
    "---\n",
    "## Read data"
   ]
  },
  {
   "cell_type": "code",
   "execution_count": 6,
   "id": "sticky-windows",
   "metadata": {},
   "outputs": [
    {
     "name": "stdout",
     "output_type": "stream",
     "text": [
      "Number of reviews: 215063\n",
      "Reviews collected between: April 1, 2008 and  September 9, 2017\n",
      "Unique rating values: [ 1.  2.  3.  4.  5.  6.  7.  8.  9. 10.]\n"
     ]
    },
    {
     "data": {
      "text/html": [
       "<div>\n",
       "<style scoped>\n",
       "    .dataframe tbody tr th:only-of-type {\n",
       "        vertical-align: middle;\n",
       "    }\n",
       "\n",
       "    .dataframe tbody tr th {\n",
       "        vertical-align: top;\n",
       "    }\n",
       "\n",
       "    .dataframe thead th {\n",
       "        text-align: right;\n",
       "    }\n",
       "</style>\n",
       "<table border=\"1\" class=\"dataframe\">\n",
       "  <thead>\n",
       "    <tr style=\"text-align: right;\">\n",
       "      <th></th>\n",
       "      <th>Unnamed: 0</th>\n",
       "      <th>drugName</th>\n",
       "      <th>condition</th>\n",
       "      <th>review</th>\n",
       "      <th>rating</th>\n",
       "      <th>date</th>\n",
       "      <th>usefulCount</th>\n",
       "    </tr>\n",
       "  </thead>\n",
       "  <tbody>\n",
       "    <tr>\n",
       "      <th>0</th>\n",
       "      <td>0</td>\n",
       "      <td>Valsartan</td>\n",
       "      <td>Left Ventricular Dysfunction</td>\n",
       "      <td>\"It has no side effect, I take it in combinati...</td>\n",
       "      <td>9.0</td>\n",
       "      <td>May 20, 2012</td>\n",
       "      <td>27</td>\n",
       "    </tr>\n",
       "    <tr>\n",
       "      <th>1</th>\n",
       "      <td>1</td>\n",
       "      <td>Guanfacine</td>\n",
       "      <td>ADHD</td>\n",
       "      <td>\"My son is halfway through his fourth week of ...</td>\n",
       "      <td>8.0</td>\n",
       "      <td>April 27, 2010</td>\n",
       "      <td>192</td>\n",
       "    </tr>\n",
       "    <tr>\n",
       "      <th>2</th>\n",
       "      <td>2</td>\n",
       "      <td>Lybrel</td>\n",
       "      <td>Birth Control</td>\n",
       "      <td>\"I used to take another oral contraceptive, wh...</td>\n",
       "      <td>5.0</td>\n",
       "      <td>December 14, 2009</td>\n",
       "      <td>17</td>\n",
       "    </tr>\n",
       "    <tr>\n",
       "      <th>3</th>\n",
       "      <td>3</td>\n",
       "      <td>Ortho Evra</td>\n",
       "      <td>Birth Control</td>\n",
       "      <td>\"This is my first time using any form of birth...</td>\n",
       "      <td>8.0</td>\n",
       "      <td>November 3, 2015</td>\n",
       "      <td>10</td>\n",
       "    </tr>\n",
       "    <tr>\n",
       "      <th>4</th>\n",
       "      <td>4</td>\n",
       "      <td>Buprenorphine / naloxone</td>\n",
       "      <td>Opiate Dependence</td>\n",
       "      <td>\"Suboxone has completely turned my life around...</td>\n",
       "      <td>9.0</td>\n",
       "      <td>November 27, 2016</td>\n",
       "      <td>37</td>\n",
       "    </tr>\n",
       "  </tbody>\n",
       "</table>\n",
       "</div>"
      ],
      "text/plain": [
       "   Unnamed: 0                  drugName                     condition  \\\n",
       "0           0                 Valsartan  Left Ventricular Dysfunction   \n",
       "1           1                Guanfacine                          ADHD   \n",
       "2           2                    Lybrel                 Birth Control   \n",
       "3           3                Ortho Evra                 Birth Control   \n",
       "4           4  Buprenorphine / naloxone             Opiate Dependence   \n",
       "\n",
       "                                              review  rating  \\\n",
       "0  \"It has no side effect, I take it in combinati...     9.0   \n",
       "1  \"My son is halfway through his fourth week of ...     8.0   \n",
       "2  \"I used to take another oral contraceptive, wh...     5.0   \n",
       "3  \"This is my first time using any form of birth...     8.0   \n",
       "4  \"Suboxone has completely turned my life around...     9.0   \n",
       "\n",
       "                date  usefulCount  \n",
       "0       May 20, 2012           27  \n",
       "1     April 27, 2010          192  \n",
       "2  December 14, 2009           17  \n",
       "3   November 3, 2015           10  \n",
       "4  November 27, 2016           37  "
      ]
     },
     "execution_count": 6,
     "metadata": {},
     "output_type": "execute_result"
    }
   ],
   "source": [
    "df_init = pd.read_csv('./data/drugs_raw.csv')\n",
    "print('Number of reviews:', df_init.shape[0])\n",
    "print('Reviews collected between:', df_init.date.min(), 'and ', df_init.date.max())\n",
    "print('Unique rating values:', np.sort(df_init.rating.unique()))\n",
    "df_init.head()"
   ]
  },
  {
   "cell_type": "markdown",
   "id": "different-jonathan",
   "metadata": {},
   "source": [
    "---\n",
    "## Data preprocessing"
   ]
  },
  {
   "cell_type": "markdown",
   "id": "scientific-independence",
   "metadata": {},
   "source": [
    "When building a neural network, it is import to get the data into the proper form. Let's do a couple of text preprocessing steps."
   ]
  },
  {
   "cell_type": "markdown",
   "id": "engaged-debate",
   "metadata": {},
   "source": [
    "``Step 1: Remove unwanted review characters``"
   ]
  },
  {
   "cell_type": "code",
   "execution_count": 7,
   "id": "tracked-ontario",
   "metadata": {},
   "outputs": [],
   "source": [
    "# remove HTML markup, punctuation, and other non-letter characters\n",
    "df_init['review'] = df_init['review'].apply(preprocessor)"
   ]
  },
  {
   "cell_type": "markdown",
   "id": "heard-anaheim",
   "metadata": {},
   "source": [
    "``Step 2: Remove outlier reviews``"
   ]
  },
  {
   "cell_type": "markdown",
   "id": "satisfied-mixer",
   "metadata": {},
   "source": [
    "I want to remove any reviews with no text or extremely long text. Let's see if we find any such reviews."
   ]
  },
  {
   "cell_type": "code",
   "execution_count": 8,
   "id": "simplified-question",
   "metadata": {},
   "outputs": [
    {
     "name": "stdout",
     "output_type": "stream",
     "text": [
      "Zero-length reviews: 2\n"
     ]
    },
    {
     "data": {
      "text/html": [
       "<div>\n",
       "<style scoped>\n",
       "    .dataframe tbody tr th:only-of-type {\n",
       "        vertical-align: middle;\n",
       "    }\n",
       "\n",
       "    .dataframe tbody tr th {\n",
       "        vertical-align: top;\n",
       "    }\n",
       "\n",
       "    .dataframe thead th {\n",
       "        text-align: right;\n",
       "    }\n",
       "</style>\n",
       "<table border=\"1\" class=\"dataframe\">\n",
       "  <thead>\n",
       "    <tr style=\"text-align: right;\">\n",
       "      <th></th>\n",
       "      <th>Unnamed: 0</th>\n",
       "      <th>drugName</th>\n",
       "      <th>condition</th>\n",
       "      <th>review</th>\n",
       "      <th>rating</th>\n",
       "      <th>date</th>\n",
       "      <th>usefulCount</th>\n",
       "    </tr>\n",
       "  </thead>\n",
       "  <tbody>\n",
       "    <tr>\n",
       "      <th>123174</th>\n",
       "      <td>123174</td>\n",
       "      <td>Ifosfamide</td>\n",
       "      <td>Testicular Cance</td>\n",
       "      <td></td>\n",
       "      <td>10.0</td>\n",
       "      <td>January 8, 2017</td>\n",
       "      <td>0</td>\n",
       "    </tr>\n",
       "    <tr>\n",
       "      <th>128652</th>\n",
       "      <td>128652</td>\n",
       "      <td>Ifex</td>\n",
       "      <td>Testicular Cance</td>\n",
       "      <td></td>\n",
       "      <td>10.0</td>\n",
       "      <td>January 8, 2017</td>\n",
       "      <td>0</td>\n",
       "    </tr>\n",
       "  </tbody>\n",
       "</table>\n",
       "</div>"
      ],
      "text/plain": [
       "        Unnamed: 0    drugName         condition review  rating  \\\n",
       "123174      123174  Ifosfamide  Testicular Cance           10.0   \n",
       "128652      128652        Ifex  Testicular Cance           10.0   \n",
       "\n",
       "                   date  usefulCount  \n",
       "123174  January 8, 2017            0  \n",
       "128652  January 8, 2017            0  "
      ]
     },
     "metadata": {},
     "output_type": "display_data"
    }
   ],
   "source": [
    "# find zero-length reviews\n",
    "zero_len_reviews = df_init[df_init['review'].str.len().eq(1)]\n",
    "print(\"Zero-length reviews: {}\".format(zero_len_reviews.shape[0]))\n",
    "display(zero_len_reviews)"
   ]
  },
  {
   "cell_type": "code",
   "execution_count": 9,
   "id": "greater-place",
   "metadata": {},
   "outputs": [
    {
     "name": "stdout",
     "output_type": "stream",
     "text": [
      "Distribution of review length:\n"
     ]
    },
    {
     "data": {
      "text/plain": [
       "count    215063.000000\n",
       "mean        444.877552\n",
       "std         233.744124\n",
       "min           1.000000\n",
       "25%         254.000000\n",
       "50%         443.000000\n",
       "75%         670.000000\n",
       "max       10416.000000\n",
       "Name: review, dtype: float64"
      ]
     },
     "metadata": {},
     "output_type": "display_data"
    },
    {
     "name": "stdout",
     "output_type": "stream",
     "text": [
      "\n",
      "Reviews with more than 800 tokens: 690\n"
     ]
    }
   ],
   "source": [
    "# find extremely long text reviews\n",
    "print('Distribution of review length:')\n",
    "display(df_init.review.str.len().describe())\n",
    "\n",
    "# print number of reviews with more than 800 tokens\n",
    "print('\\nReviews with more than 800 tokens:', df_init[df_init.review.str.len().gt(800)].shape[0])"
   ]
  },
  {
   "cell_type": "markdown",
   "id": "competitive-selling",
   "metadata": {},
   "source": [
    "It seems that I have two reviews with zero length and 374 reviews with more than 1000 tokens. I am going to remove them from our data."
   ]
  },
  {
   "cell_type": "code",
   "execution_count": 10,
   "id": "theoretical-removal",
   "metadata": {},
   "outputs": [
    {
     "name": "stdout",
     "output_type": "stream",
     "text": [
      "Number of reviews: 214371\n"
     ]
    }
   ],
   "source": [
    "# remove zero length and extremely long reviews\n",
    "df_init = df_init[df_init['review'].str.len().gt(1) & df_init['review'].str.len().le(800)]\n",
    "print('Number of reviews:', df_init.shape[0])"
   ]
  },
  {
   "cell_type": "markdown",
   "id": "undefined-security",
   "metadata": {},
   "source": [
    "Finally, let's look at the distribution of our reviews length after preprocessing"
   ]
  },
  {
   "cell_type": "code",
   "execution_count": 11,
   "id": "adequate-killer",
   "metadata": {},
   "outputs": [
    {
     "data": {
      "text/plain": [
       "Text(0.5, 0, 'Number of tokens per review')"
      ]
     },
     "execution_count": 11,
     "metadata": {},
     "output_type": "execute_result"
    },
    {
     "data": {
      "image/png": "[encoded data removed]",
      "text/plain": [
       "<Figure size 432x288 with 1 Axes>"
      ]
     },
     "metadata": {
      "needs_background": "light"
     },
     "output_type": "display_data"
    }
   ],
   "source": [
    "plt.hist(df_init.review.str.len());\n",
    "plt.ylabel('Count of reviews')\n",
    "plt.xlabel('Number of tokens per review')"
   ]
  },
  {
   "cell_type": "markdown",
   "id": "environmental-citizen",
   "metadata": {},
   "source": [
    "``Step 2: Create binary sentiment column``"
   ]
  },
  {
   "cell_type": "markdown",
   "id": "proud-district",
   "metadata": {},
   "source": [
    "We will define our sentiment column as follows:\n",
    "\n",
    "   - positive (1) if rating score is between 8-10\n",
    "   - negative (0) if rating score is between 1-3\n",
    "    \n",
    "We dill drop any reviews that are netural, i.e., rating is between 4-7."
   ]
  },
  {
   "cell_type": "code",
   "execution_count": 12,
   "id": "acquired-survival",
   "metadata": {},
   "outputs": [],
   "source": [
    "# create sentiment column\n",
    "df_init['sentiment'] = np.where(df_init.rating.isin((1, 2, 3)), 'negative',\n",
    "                          np.where(df_init.rating.isin((8,9,10)), 'positive', 'neutral'))\n",
    "\n",
    "# drop review if sentiment is netural\n",
    "df = df_init[~df_init.sentiment.eq('neutral')]\n",
    "\n",
    "# rename sentiment to positive = 1, negative = 0\n",
    "df['sentiment'] = np.where(df.sentiment.eq('positive'), 1, 0)"
   ]
  },
  {
   "cell_type": "markdown",
   "id": "atomic-alexander",
   "metadata": {},
   "source": [
    "Let's do a quick inspection of our rating and sentiment columns"
   ]
  },
  {
   "cell_type": "code",
   "execution_count": 13,
   "id": "retired-transportation",
   "metadata": {},
   "outputs": [
    {
     "data": {
      "image/png": "[encoded data removed]",
      "text/plain": [
       "<Figure size 720x216 with 2 Axes>"
      ]
     },
     "metadata": {
      "needs_background": "light"
     },
     "output_type": "display_data"
    }
   ],
   "source": [
    "# rating and sentiment histogram after preprocessing\n",
    "cols = ['rating', 'sentiment']\n",
    "nrows, ncols = 1, 2\n",
    "\n",
    "f, axs = plt.subplots(1, 2, figsize=(10,3))\n",
    "for idx, ax in enumerate(axs):\n",
    "    sns.histplot(\n",
    "    data=df,\n",
    "    stat=\"count\",\n",
    "    x = cols[idx],\n",
    "    ax=ax\n",
    "    )\n",
    "\n",
    "    # add labels and ticks\n",
    "    ax.set(xlabel=cols[idx])\n",
    "    #plt.xticks(np.arange(1,11,1))\n",
    "    sns.despine()"
   ]
  },
  {
   "cell_type": "markdown",
   "id": "viral-sheep",
   "metadata": {},
   "source": [
    "Our dataset is very imbalanced. We will correct for class imbalance by taking only 46,000 random examples from each class."
   ]
  },
  {
   "cell_type": "code",
   "execution_count": 14,
   "id": "polish-probe",
   "metadata": {},
   "outputs": [
    {
     "name": "stdout",
     "output_type": "stream",
     "text": [
      "After preprocessing, our data contains 92000 reviews.\n"
     ]
    }
   ],
   "source": [
    "# randomly draw 46000 examples from each class\n",
    "temp_positive = df[df.sentiment.eq(1)].sample(\n",
    "    n=46000,\n",
    "    replace=False\n",
    ")\n",
    "\n",
    "temp_negative = df[df.sentiment.eq(0)].sample(\n",
    "    n=46000,\n",
    "    replace=False\n",
    ")\n",
    "\n",
    "df_balanced = pd.concat(\n",
    "    [temp_positive, temp_negative],\n",
    "    axis=0)\n",
    "\n",
    "# shuffle df_balanced\n",
    "df_balanced.sample(frac=1) # frac=1 retains all the data\n",
    "df_balanced.reset_index(drop=True, inplace=True) # reset index\n",
    "\n",
    "print('After preprocessing, our data contains', df_balanced.shape[0], 'reviews.')"
   ]
  },
  {
   "cell_type": "markdown",
   "id": "frequent-reading",
   "metadata": {},
   "source": [
    "``Step 3: Split data into training, val, test``"
   ]
  },
  {
   "cell_type": "markdown",
   "id": "quality-customer",
   "metadata": {},
   "source": [
    "We will do a [60, 20, 20] split between training, validation and test sets"
   ]
  },
  {
   "cell_type": "code",
   "execution_count": 15,
   "id": "another-message",
   "metadata": {},
   "outputs": [
    {
     "data": {
      "text/html": [
       "<div>\n",
       "<style scoped>\n",
       "    .dataframe tbody tr th:only-of-type {\n",
       "        vertical-align: middle;\n",
       "    }\n",
       "\n",
       "    .dataframe tbody tr th {\n",
       "        vertical-align: top;\n",
       "    }\n",
       "\n",
       "    .dataframe thead th {\n",
       "        text-align: right;\n",
       "    }\n",
       "</style>\n",
       "<table border=\"1\" class=\"dataframe\">\n",
       "  <thead>\n",
       "    <tr style=\"text-align: right;\">\n",
       "      <th></th>\n",
       "      <th>review</th>\n",
       "      <th>sentiment</th>\n",
       "    </tr>\n",
       "  </thead>\n",
       "  <tbody>\n",
       "    <tr>\n",
       "      <th>0</th>\n",
       "      <td>i 039 m thrilled with this product after usin...</td>\n",
       "      <td>1</td>\n",
       "    </tr>\n",
       "    <tr>\n",
       "      <th>1</th>\n",
       "      <td>this medication was a god sent i am 49 had no...</td>\n",
       "      <td>1</td>\n",
       "    </tr>\n",
       "    <tr>\n",
       "      <th>2</th>\n",
       "      <td>my son who is 27 has only been on this 2 days...</td>\n",
       "      <td>1</td>\n",
       "    </tr>\n",
       "    <tr>\n",
       "      <th>3</th>\n",
       "      <td>if you just started this medicine i know you ...</td>\n",
       "      <td>1</td>\n",
       "    </tr>\n",
       "    <tr>\n",
       "      <th>4</th>\n",
       "      <td>have used this drug for several years i start...</td>\n",
       "      <td>1</td>\n",
       "    </tr>\n",
       "  </tbody>\n",
       "</table>\n",
       "</div>"
      ],
      "text/plain": [
       "                                              review  sentiment\n",
       "0   i 039 m thrilled with this product after usin...          1\n",
       "1   this medication was a god sent i am 49 had no...          1\n",
       "2   my son who is 27 has only been on this 2 days...          1\n",
       "3   if you just started this medicine i know you ...          1\n",
       "4   have used this drug for several years i start...          1"
      ]
     },
     "execution_count": 15,
     "metadata": {},
     "output_type": "execute_result"
    }
   ],
   "source": [
    "# first, keep only review and sentiment from df_balanced\n",
    "df_balanced = df_balanced[['review', 'sentiment']]\n",
    "df_balanced.head(5)"
   ]
  },
  {
   "cell_type": "code",
   "execution_count": 16,
   "id": "integrated-shirt",
   "metadata": {},
   "outputs": [],
   "source": [
    "# split = [60, 20, 20]\n",
    "train_valid_reviews, test_reviews, train_valid_labels, test_labels =train_test_split(\n",
    "    df_balanced.review,\n",
    "    df_balanced.sentiment,\n",
    "    test_size=0.20,\n",
    "    random_state=1,\n",
    "    shuffle=True\n",
    ")\n",
    "\n",
    "train_reviews, valid_reviews, train_labels, valid_labels = train_test_split(\n",
    "    train_valid_reviews,\n",
    "    train_valid_labels,\n",
    "    test_size=0.20,\n",
    "    random_state=1,\n",
    "    shuffle=True\n",
    ")"
   ]
  },
  {
   "cell_type": "code",
   "execution_count": 17,
   "id": "historical-listening",
   "metadata": {},
   "outputs": [
    {
     "name": "stdout",
     "output_type": "stream",
     "text": [
      "Size train reviews: 58880\n",
      "Size dev reviews 14720\n",
      "Size test reviews 18400\n"
     ]
    }
   ],
   "source": [
    "print('Size train reviews:', len(train_reviews))\n",
    "print('Size dev reviews', len(valid_reviews))\n",
    "print('Size test reviews', len(test_reviews))"
   ]
  },
  {
   "cell_type": "markdown",
   "id": "maritime-newcastle",
   "metadata": {},
   "source": [
    "``Step 4: Pre-trained embeddings``"
   ]
  },
  {
   "cell_type": "markdown",
   "id": "published-reunion",
   "metadata": {},
   "source": [
    "We will start by loading the pre-trained PubMedBert tokenizer and model."
   ]
  },
  {
   "cell_type": "code",
   "execution_count": 18,
   "id": "flush-variation",
   "metadata": {},
   "outputs": [
    {
     "name": "stderr",
     "output_type": "stream",
     "text": [
      "All model checkpoint layers were used when initializing TFBertModel.\n",
      "\n",
      "All the layers of TFBertModel were initialized from the model checkpoint at cambridgeltl/SapBERT-from-PubMedBERT-fulltext.\n",
      "If your task is similar to the task the model of the checkpoint was trained on, you can already use TFBertModel for predictions without further training.\n",
      "All model checkpoint layers were used when initializing TFBertModel.\n",
      "\n",
      "All the layers of TFBertModel were initialized from the model checkpoint at cambridgeltl/SapBERT-from-PubMedBERT-fulltext.\n",
      "If your task is similar to the task the model of the checkpoint was trained on, you can already use TFBertModel for predictions without further training.\n"
     ]
    },
    {
     "name": "stdout",
     "output_type": "stream",
     "text": [
      "Model: \"tf_bert_model_1\"\n",
      "_________________________________________________________________\n",
      " Layer (type)                Output Shape              Param #   \n",
      "=================================================================\n",
      " bert (TFBertMainLayer)      multiple                  109482240 \n",
      "                                                                 \n",
      "=================================================================\n",
      "Total params: 109,482,240\n",
      "Trainable params: 109,482,240\n",
      "Non-trainable params: 0\n",
      "_________________________________________________________________\n"
     ]
    }
   ],
   "source": [
    "#from transformers import AutoTokenizer, TFAutoModel\n",
    "hf_model = \"cambridgeltl/SapBERT-from-PubMedBERT-fulltext\"\n",
    "if 'tokenizer' not in locals().keys(): tokenizer = AutoTokenizer.from_pretrained(hf_model)\n",
    "if 'bert_auto_model' not in locals().keys(): bert_model = TFAutoModel.from_pretrained(hf_model)\n",
    "tokenizer = AutoTokenizer.from_pretrained(hf_model)\n",
    "bert_model = TFAutoModel.from_pretrained(hf_model)\n",
    "bert_model.summary()"
   ]
  },
  {
   "cell_type": "markdown",
   "id": "computational-space",
   "metadata": {},
   "source": [
    "The **AutoTokenizer** class turns the list of words that make up a given review into a list of tokenized integers that represent those words. The tokenizer then pads all examples to the same size (`input_ids`). The tokenizer also creates another variable to tell BERT to ignore (`attention_mask`) the padding it added when it processed each sentence.\n",
    "\n",
    "\n",
    "The **TFAutoModel** class creates the embeddings that we will use in a downstram task, i.e., to predict the setiment of drug reviews.\n",
    "\n",
    "Our pre-trained BERT Model has 109,482,240 parameters! This is a lot, but luckily, we don't need to train the model because it was already pre-trained for us. We will just do transfer learning."
   ]
  },
  {
   "cell_type": "markdown",
   "id": "rental-tattoo",
   "metadata": {},
   "source": [
    "Let's look at one example to see how our BERT tokenizer works:"
   ]
  },
  {
   "cell_type": "code",
   "execution_count": 19,
   "id": "honest-yeast",
   "metadata": {},
   "outputs": [
    {
     "data": {
      "text/plain": [
       "{'input_ids': [2, 51, 9248, 11258, 2256, 6303, 2052, 6093, 3], 'token_type_ids': [0, 0, 0, 0, 0, 0, 0, 0, 0], 'attention_mask': [1, 1, 1, 1, 1, 1, 1, 1, 1]}"
      ]
     },
     "execution_count": 19,
     "metadata": {},
     "output_type": "execute_result"
    }
   ],
   "source": [
    "example = 'I feel sick after taking this medication'\n",
    "tokenizer(example)"
   ]
  },
  {
   "cell_type": "markdown",
   "id": "automotive-reach",
   "metadata": {},
   "source": [
    "We can now apply the tokenizer to our trainining, validation and test datasets."
   ]
  },
  {
   "cell_type": "markdown",
   "id": "consolidated-bottom",
   "metadata": {},
   "source": [
    "<span style=\"color:chocolate\">Tokenize, pad and mask training, val, test data </span> "
   ]
  },
  {
   "cell_type": "markdown",
   "id": "static-empty",
   "metadata": {},
   "source": [
    "The function **tokenize()** defined at the top of the notebook will do his for us"
   ]
  },
  {
   "cell_type": "code",
   "execution_count": 20,
   "id": "suffering-champion",
   "metadata": {},
   "outputs": [],
   "source": [
    "train_reviews_tokenized_tensor, train_labels_tensor = tokenize(\n",
    "    train_reviews, train_labels, tokenizer, seq_length=125\n",
    ")\n",
    "\n",
    "valid_reviews_tokenized_tensor, valid_labels_tensor = tokenize(\n",
    "    valid_reviews, valid_labels, tokenizer, seq_length=125\n",
    ")\n",
    "\n",
    "test_reviews_tokenized_tensor, test_labels_tensor = tokenize(\n",
    "    test_reviews, test_labels, tokenizer, seq_length=125\n",
    ")"
   ]
  },
  {
   "cell_type": "markdown",
   "id": "vocational-surname",
   "metadata": {},
   "source": [
    "I will print an example to see how the output looks looks like"
   ]
  },
  {
   "cell_type": "code",
   "execution_count": 21,
   "id": "functioning-charter",
   "metadata": {},
   "outputs": [
    {
     "name": "stdout",
     "output_type": "stream",
     "text": [
      "Tokenized train reviews shape: (58880, 3, 125)\n",
      "Train labels shape: (58880,)\n"
     ]
    }
   ],
   "source": [
    "print('Tokenized train reviews shape:', train_reviews_tokenized_tensor.shape)  # explain what the 3 channels mean\n",
    "\n",
    "print('Train labels shape:', train_labels_tensor.shape) "
   ]
  },
  {
   "cell_type": "markdown",
   "id": "thorough-civilian",
   "metadata": {},
   "source": [
    "The first dimension of train_reviews_tokenized_tensor represents the number of examples we have in the training data. The second dimension represents the *input_ids*, *token_type_ids*, and *attention_mask* keys of the tokenizer class. The third dimension represents the length of each review in our data (remember, we truncated it down to 125 tokens)."
   ]
  },
  {
   "cell_type": "code",
   "execution_count": 22,
   "id": "fatty-bahrain",
   "metadata": {},
   "outputs": [
    {
     "data": {
      "text/plain": [
       "<tf.Tensor: shape=(125,), dtype=int32, numpy=\n",
       "array([    2,    51,  2162,  5211,  1922,  3057,  3308,  2252,  4236,\n",
       "        1942,  2577,  5436,  9650,  3601,  1927,  6801,    43,  5380,\n",
       "        2651,  1920,  2561, 15116,  1927,  3000,  6303,  2176,    51,\n",
       "        1982, 16216,  1954, 16635,  1981,  1930,  3057,  3739,  1036,\n",
       "        1985, 23561,  2019,  3001,  1920,    21,  2982,  2937,    51,\n",
       "        8074,  4537, 24422,  6588,  1941,  3189,    51,  1982,  3001,\n",
       "        1942,  6413,  3057,  3047,  1930, 16320,  7867,    51,  2811,\n",
       "        6413,  3057,  3047,  3953,  4048,    51,  1982, 26124,  2642,\n",
       "        1930,  8113,  9494,  1012,  2308,  1920, 15111,  1946, 11399,\n",
       "        1982,  1920, 16718,    51,  2962,  6132,  2176,  3119,  7497,\n",
       "        1990,    43,  4125, 11399,  1930,    51,  2962, 14763,  2353,\n",
       "        2577, 11258,  1942,  3057, 11399,    51,  2578,  1022, 24302,\n",
       "          62,  3385,  2608, 22491,    51, 12627,  1942,  2608,  2673,\n",
       "        2659,  1990,  1920,  2838,  1930,  2435,  2052,     3],\n",
       "      dtype=int32)>"
      ]
     },
     "execution_count": 22,
     "metadata": {},
     "output_type": "execute_result"
    }
   ],
   "source": [
    "# print input_ids for the first example in our trainining data\n",
    "train_reviews_tokenized_tensor[0][0]"
   ]
  },
  {
   "cell_type": "code",
   "execution_count": 23,
   "id": "smooth-progressive",
   "metadata": {},
   "outputs": [
    {
     "data": {
      "text/plain": [
       "<tf.Tensor: shape=(125,), dtype=int32, numpy=\n",
       "array([1, 1, 1, 1, 1, 1, 1, 1, 1, 1, 1, 1, 1, 1, 1, 1, 1, 1, 1, 1, 1, 1,\n",
       "       1, 1, 1, 1, 1, 1, 1, 1, 1, 1, 1, 1, 1, 1, 1, 1, 1, 1, 1, 1, 1, 1,\n",
       "       1, 1, 1, 1, 1, 1, 1, 1, 1, 1, 1, 1, 1, 1, 1, 1, 1, 1, 1, 1, 1, 1,\n",
       "       1, 1, 1, 1, 1, 1, 1, 1, 1, 1, 1, 1, 1, 1, 1, 1, 1, 1, 1, 1, 1, 1,\n",
       "       1, 1, 1, 1, 1, 1, 1, 1, 1, 1, 1, 1, 1, 1, 1, 1, 1, 1, 1, 1, 1, 1,\n",
       "       1, 1, 1, 1, 1, 1, 1, 1, 1, 1, 1, 1, 1, 1, 1], dtype=int32)>"
      ]
     },
     "execution_count": 23,
     "metadata": {},
     "output_type": "execute_result"
    }
   ],
   "source": [
    "# print attention_mask for the first example in our trainining data\n",
    "train_reviews_tokenized_tensor[0][2]"
   ]
  },
  {
   "cell_type": "markdown",
   "id": "boolean-looking",
   "metadata": {},
   "source": [
    "<span style=\"color:chocolate\">Create BERT sentence embeddings </span> "
   ]
  },
  {
   "cell_type": "markdown",
   "id": "sitting-jumping",
   "metadata": {},
   "source": [
    "We will use the bert_model imported above to generate text embeddings applied to our own data. This will take about about 11 hours to run on a less powerful machine, but you can also subset the data! Notice that BERT can give you:\n",
    "\n",
    " - token embeddings\n",
    " - sentence embeddings (this is similar to applying GlobalAveragePooling1D() over token embeddings!)\n",
    " \n",
    "I set up the get_bert_embeddings() function to output ``token embeddings`` directly. What does it mean? Each unique token in a drug review will have a 1D embedding, and we will pass these token embeddings through an RNN/LSTM model before we predict if the review is positive (1) or negative (0)."
   ]
  },
  {
   "cell_type": "code",
   "execution_count": 24,
   "id": "burning-wings",
   "metadata": {},
   "outputs": [
    {
     "name": "stderr",
     "output_type": "stream",
     "text": [
      "  0%|          | 0/16 [00:00<?, ?it/s]"
     ]
    },
    {
     "name": "stdout",
     "output_type": "stream",
     "text": [
      "Doing BERT train embeddings\n"
     ]
    },
    {
     "name": "stderr",
     "output_type": "stream",
     "text": [
      "100%|██████████| 16/16 [05:21<00:00, 20.07s/it]\n",
      "  0%|          | 0/4 [00:00<?, ?it/s]"
     ]
    },
    {
     "name": "stdout",
     "output_type": "stream",
     "text": [
      "Doing BERT val embeddings\n"
     ]
    },
    {
     "name": "stderr",
     "output_type": "stream",
     "text": [
      "100%|██████████| 4/4 [01:20<00:00, 20.12s/it]\n",
      "  0%|          | 0/4 [00:00<?, ?it/s]"
     ]
    },
    {
     "name": "stdout",
     "output_type": "stream",
     "text": [
      "Doing BERT test embeddings\n"
     ]
    },
    {
     "name": "stderr",
     "output_type": "stream",
     "text": [
      "100%|██████████| 4/4 [01:20<00:00, 20.05s/it]\n"
     ]
    }
   ],
   "source": [
    "print(\"Doing BERT train embeddings\")\n",
    "train_bert_embeddings = get_bert_embeddings(\n",
    "    bert_model, train_reviews_tokenized_tensor[:2000,:,:]\n",
    ")\n",
    "\n",
    "print(\"Doing BERT val embeddings\")\n",
    "valid_bert_embeddings = get_bert_embeddings(\n",
    "    bert_model, valid_reviews_tokenized_tensor[:500,:,:]\n",
    ")\n",
    "\n",
    "print(\"Doing BERT test embeddings\")\n",
    "test_bert_embeddings = get_bert_embeddings(\n",
    "    bert_model, test_reviews_tokenized_tensor[:500,:,:]\n",
    ")"
   ]
  },
  {
   "cell_type": "code",
   "execution_count": 25,
   "id": "first-plant",
   "metadata": {},
   "outputs": [
    {
     "data": {
      "text/plain": [
       "(2000, 125, 768)"
      ]
     },
     "execution_count": 25,
     "metadata": {},
     "output_type": "execute_result"
    }
   ],
   "source": [
    "train_bert_embeddings.shape  # an embedding vector of size 768 for each review in our data (we chose the embedding size in get_bert_embeddings() function)"
   ]
  },
  {
   "cell_type": "markdown",
   "id": "fitting-setting",
   "metadata": {},
   "source": [
    "Notice the 3D dimension of our embeddings! We have an embedding for each token in a sentence. These embeddings are going to be our BERT features that we can next use in a downstream task."
   ]
  },
  {
   "cell_type": "markdown",
   "id": "constant-costume",
   "metadata": {},
   "source": [
    "---\n",
    "## Fine-tune a sentiment classification model"
   ]
  },
  {
   "cell_type": "markdown",
   "id": "funded-rabbit",
   "metadata": {},
   "source": [
    "We will fine-tune our BERT model on a downstream task of sentiment classification.\n",
    "To do this, we will feed the token embeddings to an RNN/LSTM model before we pass them throgh a sigmoid activation function that will predict the sentiment class."
   ]
  },
  {
   "cell_type": "markdown",
   "id": "offensive-image",
   "metadata": {},
   "source": [
    "<span style=\"color:chocolate\">Make BERT layers untrainable (freeze)</span> "
   ]
  },
  {
   "cell_type": "code",
   "execution_count": 26,
   "id": "active-honduras",
   "metadata": {},
   "outputs": [],
   "source": [
    "# freeze BERT layers\n",
    "for layer in bert_model.layers:\n",
    "    layer.trainable = False"
   ]
  },
  {
   "cell_type": "code",
   "execution_count": 27,
   "id": "fantastic-italy",
   "metadata": {},
   "outputs": [],
   "source": [
    "# create copy of our objects (a bit inefficient (memory size) but let's abstract away from this)\n",
    "train_x = train_bert_embeddings\n",
    "train_y = train_labels_tensor[:2000]\n",
    "\n",
    "valid_x = valid_bert_embeddings\n",
    "valid_y = valid_labels_tensor[:500]\n",
    "\n",
    "test_x = test_bert_embeddings\n",
    "test_y = test_labels_tensor[:500]"
   ]
  },
  {
   "cell_type": "markdown",
   "id": "automated-oregon",
   "metadata": {},
   "source": [
    "Define the model for our Downstram task"
   ]
  },
  {
   "cell_type": "code",
   "execution_count": 28,
   "id": "becoming-staff",
   "metadata": {},
   "outputs": [
    {
     "name": "stdout",
     "output_type": "stream",
     "text": [
      "Model: \"sequential\"\n",
      "_________________________________________________________________\n",
      " Layer (type)                Output Shape              Param #   \n",
      "=================================================================\n",
      " bidirectional (Bidirectiona  (None, 1536)             9443328   \n",
      " l)                                                              \n",
      "                                                                 \n",
      " dense (Dense)               (None, 64)                98368     \n",
      "                                                                 \n",
      " dense_1 (Dense)             (None, 1)                 64        \n",
      "                                                                 \n",
      "=================================================================\n",
      "Total params: 9,541,760\n",
      "Trainable params: 9,541,760\n",
      "Non-trainable params: 0\n",
      "_________________________________________________________________\n"
     ]
    }
   ],
   "source": [
    "from tensorflow.keras.layers import SimpleRNN, LSTM, Bidirectional\n",
    "\n",
    "def build_model(num_features):\n",
    "    \"\"\"Return a simple logistic regression model using the Keras Sequential API.\"\"\"\n",
    "    # clear session and set a random seed for consistent behavior.\n",
    "    tf.keras.backend.clear_session()\n",
    "    tf.random.set_seed(1234)\n",
    "    \n",
    "\n",
    "    # sse Keras Sequential API to build a logistic regression\n",
    "    model = keras.Sequential()\n",
    "    \n",
    "    # create input layer (this will be the sentence embeddings)\n",
    "    model.add(tf.keras.Input(shape=(None, num_features, ),\n",
    "         name='Input'\n",
    "    ))\n",
    "    \n",
    "    \n",
    "    ## RNN/LSTM layers ##\n",
    "    #####################\n",
    "    #model.add(SimpleRNN(num_features, return_sequences=True))\n",
    "    #model.add(SimpleRNN(num_features))\n",
    "    \n",
    "    model.add(Bidirectional(LSTM(num_features)))  \n",
    "    model.add(Dense(64, activation = 'relu'))\n",
    "    \n",
    "    ## logistic layer ##\n",
    "    ####################\n",
    "    # add output layer for binary classification task\n",
    "    model.add(Dense(1, use_bias=False, activation='sigmoid'))\n",
    "    \n",
    "    # print model summary\n",
    "    model.summary()\n",
    "    \n",
    "    return model\n",
    "    \n",
    "\n",
    "# Build the model\n",
    "rnn_logit_model = build_model(num_features=train_x.shape[2])"
   ]
  },
  {
   "cell_type": "code",
   "execution_count": 29,
   "id": "indoor-adelaide",
   "metadata": {},
   "outputs": [],
   "source": [
    "# compile logit model\n",
    "rnn_logit_model.compile(\n",
    "    loss=tf.keras.losses.BinaryCrossentropy(),\n",
    "    optimizer=tf.keras.optimizers.SGD(learning_rate=0.01),\n",
    "    metrics=[tf.keras.metrics.BinaryAccuracy()]\n",
    ")"
   ]
  },
  {
   "cell_type": "code",
   "execution_count": 45,
   "id": "sexual-ground",
   "metadata": {},
   "outputs": [
    {
     "name": "stdout",
     "output_type": "stream",
     "text": [
      "Epoch 1/25\n",
      "9/9 [==============================] - 97s 11s/step - loss: 0.6030 - binary_accuracy: 0.6975 - val_loss: 0.6245 - val_binary_accuracy: 0.6620\n",
      "Epoch 2/25\n",
      "9/9 [==============================] - 113s 12s/step - loss: 0.5964 - binary_accuracy: 0.7015 - val_loss: 0.6333 - val_binary_accuracy: 0.6300\n",
      "Epoch 3/25\n",
      "9/9 [==============================] - 106s 12s/step - loss: 0.5880 - binary_accuracy: 0.7030 - val_loss: 0.6118 - val_binary_accuracy: 0.6840\n",
      "Epoch 4/25\n",
      "9/9 [==============================] - 107s 12s/step - loss: 0.5872 - binary_accuracy: 0.6950 - val_loss: 0.6187 - val_binary_accuracy: 0.6340\n",
      "Epoch 5/25\n",
      "9/9 [==============================] - 107s 11s/step - loss: 0.5810 - binary_accuracy: 0.6985 - val_loss: 0.6384 - val_binary_accuracy: 0.6160\n",
      "Epoch 6/25\n",
      "9/9 [==============================] - 99s 11s/step - loss: 0.5877 - binary_accuracy: 0.6785 - val_loss: 0.6092 - val_binary_accuracy: 0.6840\n",
      "Epoch 7/25\n",
      "9/9 [==============================] - 98s 11s/step - loss: 0.5738 - binary_accuracy: 0.7110 - val_loss: 0.6198 - val_binary_accuracy: 0.6300\n",
      "Epoch 8/25\n",
      "9/9 [==============================] - 89s 10s/step - loss: 0.5668 - binary_accuracy: 0.7165 - val_loss: 0.6053 - val_binary_accuracy: 0.6840\n",
      "Epoch 9/25\n",
      "9/9 [==============================] - 83s 9s/step - loss: 0.5553 - binary_accuracy: 0.7315 - val_loss: 0.6196 - val_binary_accuracy: 0.6480\n",
      "Epoch 10/25\n",
      "9/9 [==============================] - 84s 9s/step - loss: 0.5618 - binary_accuracy: 0.7135 - val_loss: 0.6110 - val_binary_accuracy: 0.6620\n",
      "Epoch 11/25\n",
      "9/9 [==============================] - 86s 10s/step - loss: 0.5786 - binary_accuracy: 0.6745 - val_loss: 0.6140 - val_binary_accuracy: 0.6520\n",
      "Epoch 12/25\n",
      "9/9 [==============================] - 96s 11s/step - loss: 0.5478 - binary_accuracy: 0.7235 - val_loss: 0.6104 - val_binary_accuracy: 0.6640\n",
      "Epoch 13/25\n",
      "9/9 [==============================] - 90s 10s/step - loss: 0.5515 - binary_accuracy: 0.7125 - val_loss: 0.6269 - val_binary_accuracy: 0.6360\n",
      "Epoch 14/25\n",
      "9/9 [==============================] - 91s 10s/step - loss: 0.5827 - binary_accuracy: 0.6735 - val_loss: 0.6114 - val_binary_accuracy: 0.6680\n",
      "Epoch 15/25\n",
      "9/9 [==============================] - 87s 10s/step - loss: 0.5367 - binary_accuracy: 0.7285 - val_loss: 0.6223 - val_binary_accuracy: 0.6340\n",
      "Epoch 16/25\n",
      "9/9 [==============================] - 87s 10s/step - loss: 0.5383 - binary_accuracy: 0.7275 - val_loss: 0.5905 - val_binary_accuracy: 0.6840\n",
      "Epoch 17/25\n",
      "9/9 [==============================] - 83s 9s/step - loss: 0.5581 - binary_accuracy: 0.7105 - val_loss: 0.7589 - val_binary_accuracy: 0.5940\n",
      "Epoch 18/25\n",
      "9/9 [==============================] - 89s 10s/step - loss: 0.5824 - binary_accuracy: 0.6785 - val_loss: 0.6045 - val_binary_accuracy: 0.6760\n",
      "Epoch 19/25\n",
      "9/9 [==============================] - 96s 11s/step - loss: 0.5277 - binary_accuracy: 0.7265 - val_loss: 0.6137 - val_binary_accuracy: 0.6700\n",
      "Epoch 20/25\n",
      "9/9 [==============================] - 86s 10s/step - loss: 0.5257 - binary_accuracy: 0.7295 - val_loss: 0.6287 - val_binary_accuracy: 0.6440\n",
      "Epoch 21/25\n",
      "9/9 [==============================] - 85s 9s/step - loss: 0.5740 - binary_accuracy: 0.6815 - val_loss: 0.6017 - val_binary_accuracy: 0.6740\n",
      "Epoch 22/25\n",
      "9/9 [==============================] - 86s 10s/step - loss: 0.5191 - binary_accuracy: 0.7510 - val_loss: 0.6185 - val_binary_accuracy: 0.6580\n",
      "Epoch 23/25\n",
      "9/9 [==============================] - 85s 9s/step - loss: 0.5515 - binary_accuracy: 0.7075 - val_loss: 0.5995 - val_binary_accuracy: 0.6800\n",
      "Epoch 24/25\n",
      "9/9 [==============================] - 85s 9s/step - loss: 0.5156 - binary_accuracy: 0.7520 - val_loss: 0.6476 - val_binary_accuracy: 0.6120\n",
      "Epoch 25/25\n",
      "9/9 [==============================] - 87s 10s/step - loss: 0.5463 - binary_accuracy: 0.7060 - val_loss: 0.6086 - val_binary_accuracy: 0.6680\n"
     ]
    }
   ],
   "source": [
    "# train logit model\n",
    "tf.random.set_seed(1234)\n",
    "np.random.seed(1234)\n",
    "hist = rnn_logit_model.fit(x=train_x,\n",
    "                y=train_y,\n",
    "                #validation_data=[X_test_std, y_test],\n",
    "                validation_data=(valid_x, valid_y), \n",
    "                batch_size=240,\n",
    "                epochs=25,\n",
    "                verbose=1 #silence fit\n",
    ")"
   ]
  },
  {
   "cell_type": "code",
   "execution_count": 50,
   "id": "assigned-accessory",
   "metadata": {},
   "outputs": [
    {
     "data": {
      "image/png": "[encoded data removed]",
      "text/plain": [
       "<Figure size 1152x288 with 2 Axes>"
      ]
     },
     "metadata": {
      "needs_background": "light"
     },
     "output_type": "display_data"
    }
   ],
   "source": [
    "# grab history\n",
    "history = hist.history\n",
    "\n",
    "# plot loss for train and validation\n",
    "fig = plt.figure(figsize=(16, 4))\n",
    "ax = fig.add_subplot(1, 3, 1)\n",
    "plt.plot(history['loss'], lw=2, color='darkgoldenrod')\n",
    "plt.plot(history['val_loss'], lw=2, color='indianred')\n",
    "plt.legend(['Train', 'Validation'], fontsize=10)\n",
    "plt.ylim(0,1)\n",
    "ax.set_xlabel('Epochs', size=10)\n",
    "ax.set_title('Loss');\n",
    "\n",
    "# plot accuracy for train and validation\n",
    "ax = fig.add_subplot(1, 3, 2)\n",
    "plt.plot(history['binary_accuracy'], lw=2, color='darkgoldenrod')\n",
    "plt.plot(history['val_binary_accuracy'], lw=2, color='indianred')\n",
    "plt.legend(['Train', 'Validation'], fontsize=10)\n",
    "plt.ylim(0,1)\n",
    "ax.set_xlabel('Epochs', size=10)\n",
    "ax.set_title('Accuracy');"
   ]
  },
  {
   "cell_type": "code",
   "execution_count": 51,
   "id": "actual-textbook",
   "metadata": {},
   "outputs": [
    {
     "name": "stdout",
     "output_type": "stream",
     "text": [
      "After training this model, evaluation on the validation data shows an accuracy of: 66.8 %\n"
     ]
    }
   ],
   "source": [
    "print('After training this model, evaluation on the validation data shows an accuracy of:',\n",
    "      np.round(history['val_binary_accuracy'][-1]*100,2), '%'\n",
    ")"
   ]
  },
  {
   "cell_type": "markdown",
   "id": "painful-whale",
   "metadata": {},
   "source": [
    "<span style=\"color:chocolate\">Make BERT layers available for training (unfreeze)</span> "
   ]
  },
  {
   "cell_type": "code",
   "execution_count": 52,
   "id": "intermediate-shell",
   "metadata": {},
   "outputs": [],
   "source": [
    "# unfreeze BERT layers\n",
    "for layer in bert_model.layers:\n",
    "    layer.trainable = True"
   ]
  },
  {
   "cell_type": "code",
   "execution_count": 53,
   "id": "disabled-divorce",
   "metadata": {},
   "outputs": [],
   "source": [
    "# recompile logit model \n",
    "rnn_logit_model.compile(\n",
    "    loss=tf.keras.losses.BinaryCrossentropy(),\n",
    "    optimizer=tf.keras.optimizers.SGD(learning_rate=0.015),\n",
    "    metrics=[tf.keras.metrics.BinaryAccuracy()]\n",
    ")"
   ]
  },
  {
   "cell_type": "code",
   "execution_count": 55,
   "id": "random-location",
   "metadata": {},
   "outputs": [
    {
     "name": "stdout",
     "output_type": "stream",
     "text": [
      "Epoch 1/25\n",
      "9/9 [==============================] - 84s 9s/step - loss: 0.5233 - binary_accuracy: 0.7295 - val_loss: 0.6189 - val_binary_accuracy: 0.6520\n",
      "Epoch 2/25\n",
      "9/9 [==============================] - 91s 10s/step - loss: 0.5481 - binary_accuracy: 0.6950 - val_loss: 0.5794 - val_binary_accuracy: 0.7180\n",
      "Epoch 3/25\n",
      "9/9 [==============================] - 111s 13s/step - loss: 0.4917 - binary_accuracy: 0.7670 - val_loss: 0.5778 - val_binary_accuracy: 0.7180\n",
      "Epoch 4/25\n",
      "9/9 [==============================] - 104s 11s/step - loss: 0.5116 - binary_accuracy: 0.7430 - val_loss: 0.5838 - val_binary_accuracy: 0.7060\n",
      "Epoch 5/25\n",
      "9/9 [==============================] - 73s 8s/step - loss: 0.5412 - binary_accuracy: 0.7060 - val_loss: 0.5775 - val_binary_accuracy: 0.7120\n",
      "Epoch 6/25\n",
      "9/9 [==============================] - 73s 8s/step - loss: 0.5130 - binary_accuracy: 0.7485 - val_loss: 0.5977 - val_binary_accuracy: 0.6900\n",
      "Epoch 7/25\n",
      "9/9 [==============================] - 71s 8s/step - loss: 0.5158 - binary_accuracy: 0.7350 - val_loss: 0.6280 - val_binary_accuracy: 0.6560\n",
      "Epoch 8/25\n",
      "9/9 [==============================] - 71s 8s/step - loss: 0.4926 - binary_accuracy: 0.7505 - val_loss: 0.5830 - val_binary_accuracy: 0.7060\n",
      "Epoch 9/25\n",
      "9/9 [==============================] - 73s 8s/step - loss: 0.5001 - binary_accuracy: 0.7510 - val_loss: 0.6063 - val_binary_accuracy: 0.6780\n",
      "Epoch 10/25\n",
      "9/9 [==============================] - 71s 8s/step - loss: 0.5090 - binary_accuracy: 0.7385 - val_loss: 0.5980 - val_binary_accuracy: 0.6980\n",
      "Epoch 11/25\n",
      "9/9 [==============================] - 69s 8s/step - loss: 0.5569 - binary_accuracy: 0.6925 - val_loss: 0.5961 - val_binary_accuracy: 0.6900\n",
      "Epoch 12/25\n",
      "9/9 [==============================] - 83s 9s/step - loss: 0.4719 - binary_accuracy: 0.7805 - val_loss: 0.5942 - val_binary_accuracy: 0.6840\n",
      "Epoch 13/25\n",
      "9/9 [==============================] - 75s 8s/step - loss: 0.4635 - binary_accuracy: 0.7850 - val_loss: 0.5762 - val_binary_accuracy: 0.7140\n",
      "Epoch 14/25\n",
      "9/9 [==============================] - 73s 8s/step - loss: 0.5825 - binary_accuracy: 0.6885 - val_loss: 0.6215 - val_binary_accuracy: 0.6640\n",
      "Epoch 15/25\n",
      "9/9 [==============================] - 74s 8s/step - loss: 0.4680 - binary_accuracy: 0.7800 - val_loss: 0.6267 - val_binary_accuracy: 0.6540\n",
      "Epoch 16/25\n",
      "9/9 [==============================] - 70s 8s/step - loss: 0.4963 - binary_accuracy: 0.7505 - val_loss: 0.6463 - val_binary_accuracy: 0.6620\n",
      "Epoch 17/25\n",
      "9/9 [==============================] - 69s 8s/step - loss: 0.4592 - binary_accuracy: 0.7805 - val_loss: 0.6057 - val_binary_accuracy: 0.6860\n",
      "Epoch 18/25\n",
      "9/9 [==============================] - 67s 7s/step - loss: 0.5600 - binary_accuracy: 0.6825 - val_loss: 0.6031 - val_binary_accuracy: 0.6800\n",
      "Epoch 19/25\n",
      "9/9 [==============================] - 70s 8s/step - loss: 0.4629 - binary_accuracy: 0.7780 - val_loss: 0.5973 - val_binary_accuracy: 0.7020\n",
      "Epoch 20/25\n",
      "9/9 [==============================] - 69s 8s/step - loss: 0.4846 - binary_accuracy: 0.7480 - val_loss: 0.6819 - val_binary_accuracy: 0.6500\n",
      "Epoch 21/25\n",
      "9/9 [==============================] - 66s 7s/step - loss: 0.5214 - binary_accuracy: 0.7105 - val_loss: 0.5897 - val_binary_accuracy: 0.6960\n",
      "Epoch 22/25\n",
      "9/9 [==============================] - 76s 9s/step - loss: 0.4497 - binary_accuracy: 0.7925 - val_loss: 0.6072 - val_binary_accuracy: 0.6800\n",
      "Epoch 23/25\n",
      "9/9 [==============================] - 68s 7s/step - loss: 0.5256 - binary_accuracy: 0.7290 - val_loss: 0.5960 - val_binary_accuracy: 0.7100\n",
      "Epoch 24/25\n",
      "9/9 [==============================] - 71s 8s/step - loss: 0.4632 - binary_accuracy: 0.7880 - val_loss: 0.6965 - val_binary_accuracy: 0.5880\n",
      "Epoch 25/25\n",
      "9/9 [==============================] - 66s 7s/step - loss: 0.4998 - binary_accuracy: 0.7395 - val_loss: 0.6051 - val_binary_accuracy: 0.6940\n"
     ]
    }
   ],
   "source": [
    "# retrain logit model\n",
    "tf.random.set_seed(1234)\n",
    "np.random.seed(1234)\n",
    "hist = rnn_logit_model.fit(x=train_x,\n",
    "                y=train_y,\n",
    "                #validation_data=[X_test_std, y_test],\n",
    "                validation_data=(valid_x, valid_y), \n",
    "                batch_size=240,\n",
    "                epochs=25,\n",
    "                verbose=1 #silence fit\n",
    ")"
   ]
  },
  {
   "cell_type": "code",
   "execution_count": 65,
   "id": "seven-commercial",
   "metadata": {},
   "outputs": [
    {
     "data": {
      "image/png": "[encoded data removed]",
      "text/plain": [
       "<Figure size 1152x288 with 2 Axes>"
      ]
     },
     "metadata": {
      "needs_background": "light"
     },
     "output_type": "display_data"
    }
   ],
   "source": [
    "# grab history\n",
    "history = hist.history\n",
    "\n",
    "# plot loss for train and validation\n",
    "fig = plt.figure(figsize=(16, 4))\n",
    "ax = fig.add_subplot(1, 3, 1)\n",
    "plt.plot(history['loss'], lw=2, color='darkgoldenrod')\n",
    "plt.plot(history['val_loss'], lw=2, color='indianred')\n",
    "plt.legend(['Train', 'Validation'], fontsize=10)\n",
    "plt.ylim(0,1)\n",
    "ax.set_xlabel('Epochs', size=10)\n",
    "ax.set_title('Loss');\n",
    "\n",
    "# plot accuracy for train and validation\n",
    "ax = fig.add_subplot(1, 3, 2)\n",
    "plt.plot(history['binary_accuracy'], lw=2, color='darkgoldenrod')\n",
    "plt.plot(history['val_binary_accuracy'], lw=2, color='indianred')\n",
    "plt.legend(['Train', 'Validation'], fontsize=10)\n",
    "plt.ylim(0,1)\n",
    "ax.set_xlabel('Epochs', size=10)\n",
    "ax.set_title('Accuracy');"
   ]
  },
  {
   "cell_type": "code",
   "execution_count": 66,
   "id": "residential-boards",
   "metadata": {},
   "outputs": [
    {
     "name": "stdout",
     "output_type": "stream",
     "text": [
      "After fine-tuning this model, evaluation on the validation data shows an accuracy of: 69.4 %\n"
     ]
    }
   ],
   "source": [
    "print('After fine-tuning this model, evaluation on the validation data shows an accuracy of:',\n",
    "      np.round(history['val_binary_accuracy'][-1]*100,2), '%'\n",
    ")"
   ]
  },
  {
   "cell_type": "markdown",
   "id": "rental-currency",
   "metadata": {},
   "source": [
    "How good is this score? Let's compare it with a dummy classifier.\n",
    "\n",
    "<span style=\"color:chocolate\">Question: </span> what is a dummy classifier?"
   ]
  },
  {
   "cell_type": "code",
   "execution_count": 67,
   "id": "rubber-customer",
   "metadata": {},
   "outputs": [
    {
     "name": "stdout",
     "output_type": "stream",
     "text": [
      "Dummy classifier score: 0.498 (+/- 0.03)\n"
     ]
    }
   ],
   "source": [
    "clf = DummyClassifier() # uses Sklearn \n",
    "\n",
    "scores = cross_val_score(clf, train_x, train_y)\n",
    "print(\"Dummy classifier score: %0.3f (+/- %0.2f)\" % (scores.mean(), scores.std() * 2))"
   ]
  },
  {
   "cell_type": "markdown",
   "id": "stone-detail",
   "metadata": {},
   "source": [
    "---\n",
    "## Evaluation"
   ]
  },
  {
   "cell_type": "markdown",
   "id": "cardiovascular-premises",
   "metadata": {},
   "source": [
    "<span style=\"color:chocolate\">predictions on test data</span> "
   ]
  },
  {
   "cell_type": "code",
   "execution_count": 68,
   "id": "bibliographic-double",
   "metadata": {},
   "outputs": [
    {
     "data": {
      "text/plain": [
       "array([0, 0, 0, 1, 0, 1, 0, 0, 0, 0, 0, 1, 1, 0, 0, 0, 0, 0, 0, 1, 0, 0,\n",
       "       1, 0, 0, 0, 0, 1, 1, 0, 0, 0, 0, 1, 0, 0, 0, 0, 1, 0, 0, 0, 1, 0,\n",
       "       1, 1, 1, 0, 1, 0, 1, 0, 0, 0, 0, 0, 0, 0, 1, 0, 0, 0, 0, 0, 0, 0,\n",
       "       0, 1, 0, 0, 0, 1, 0, 0, 0, 0, 0, 0, 0, 0, 1, 0, 0, 0, 0, 1, 0, 1,\n",
       "       0, 1, 0, 1, 0, 0, 1, 0, 0, 1, 1, 1, 1, 1, 0, 0, 0, 0, 1, 0, 0, 0,\n",
       "       0, 0, 0, 0, 0, 0, 0, 0, 0, 0, 0, 0, 0, 0, 0, 0, 0, 1, 0, 0, 0, 1,\n",
       "       0, 0, 0, 0, 0, 0, 0, 1, 0, 1, 1, 1, 0, 0, 0, 1, 0, 0, 1, 0, 0, 0,\n",
       "       0, 0, 0, 1, 1, 1, 1, 0, 1, 0, 0, 0, 0, 1, 0, 1, 1, 1, 0, 0, 1, 1,\n",
       "       0, 0, 0, 0, 1, 1, 0, 1, 0, 0, 1, 0, 0, 1, 0, 0, 0, 0, 0, 0, 0, 1,\n",
       "       0, 0, 0, 0, 0, 1, 1, 0, 0, 0, 0, 0, 0, 0, 1, 1, 0, 1, 0, 0, 0, 0,\n",
       "       0, 1, 0, 0, 1, 0, 0, 0, 0, 0, 0, 1, 0, 0, 0, 1, 0, 0, 1, 0, 1, 1,\n",
       "       1, 0, 0, 0, 0, 0, 0, 0, 0, 0, 0, 0, 1, 0, 0, 1, 0, 0, 0, 0, 1, 0,\n",
       "       0, 0, 1, 0, 0, 1, 0, 1, 0, 0, 1, 0, 0, 0, 0, 0, 0, 0, 0, 1, 1, 1,\n",
       "       1, 1, 0, 0, 0, 1, 0, 0, 1, 0, 0, 0, 0, 0, 0, 1, 0, 1, 0, 1, 0, 1,\n",
       "       1, 1, 1, 0, 0, 0, 1, 0, 0, 0, 0, 0, 0, 0, 0, 1, 0, 0, 0, 0, 0, 1,\n",
       "       0, 0, 1, 0, 1, 1, 0, 0, 0, 0, 1, 0, 0, 1, 0, 0, 1, 0, 0, 0, 0, 0,\n",
       "       0, 0, 1, 0, 0, 0, 0, 0, 1, 0, 0, 1, 0, 1, 0, 1, 0, 0, 0, 1, 1, 1,\n",
       "       0, 0, 1, 1, 0, 0, 0, 0, 1, 1, 1, 1, 0, 0, 1, 0, 1, 0, 0, 1, 0, 0,\n",
       "       0, 0, 0, 1, 0, 1, 1, 0, 1, 0, 0, 0, 0, 0, 0, 1, 1, 1, 0, 1, 0, 1,\n",
       "       0, 0, 0, 0, 0, 0, 0, 0, 0, 1, 1, 1, 0, 0, 0, 0, 0, 1, 1, 0, 1, 0,\n",
       "       0, 0, 0, 1, 0, 0, 1, 0, 1, 1, 0, 0, 0, 0, 0, 1, 0, 0, 1, 0, 1, 1,\n",
       "       0, 0, 0, 0, 0, 1, 1, 0, 0, 0, 0, 1, 0, 0, 0, 0, 1, 0, 0, 0, 1, 1,\n",
       "       0, 0, 0, 0, 0, 0, 1, 0, 0, 0, 0, 0, 0, 0, 0, 1])"
      ]
     },
     "execution_count": 68,
     "metadata": {},
     "output_type": "execute_result"
    }
   ],
   "source": [
    "# run the trained model on the test data (the model outputs probabilities)\n",
    "y_test_pred_p = rnn_logit_model.predict(x=test_x).flatten()\n",
    "\n",
    "# apply the threshold function to create a 0, 1 outcome\n",
    "y_test_pred = np.where(y_test_pred_p>=0.5, 1, 0)\n",
    "y_test_pred"
   ]
  },
  {
   "cell_type": "markdown",
   "id": "basic-assets",
   "metadata": {},
   "source": [
    "<span style=\"color:chocolate\">confussion matrix</span> "
   ]
  },
  {
   "cell_type": "code",
   "execution_count": 69,
   "id": "regulation-assets",
   "metadata": {},
   "outputs": [
    {
     "data": {
      "image/png": "[encoded data removed]",
      "text/plain": [
       "<Figure size 180x180 with 1 Axes>"
      ]
     },
     "metadata": {
      "needs_background": "light"
     },
     "output_type": "display_data"
    }
   ],
   "source": [
    "conf_matrix = tf.math.confusion_matrix(\n",
    "    test_y,\n",
    "    y_test_pred,\n",
    "    num_classes=None,\n",
    "    weights=None,\n",
    "    dtype=tf.dtypes.int32,\n",
    "    name=None\n",
    ")\n",
    "\n",
    "confusion_matrix_plot(conf_matrix.numpy())"
   ]
  },
  {
   "cell_type": "markdown",
   "id": "studied-florist",
   "metadata": {},
   "source": [
    "<span style=\"color:chocolate\">precision score</span> "
   ]
  },
  {
   "cell_type": "code",
   "execution_count": 70,
   "id": "stupid-weight",
   "metadata": {},
   "outputs": [
    {
     "name": "stdout",
     "output_type": "stream",
     "text": [
      "Precision score: 0.823129\n"
     ]
    }
   ],
   "source": [
    "# note that TensorFlow assumes that the positive class is cultivar 1\n",
    "p = tf.keras.metrics.Precision(\n",
    "    thresholds=None, top_k=None, class_id=None, name=None, dtype=None\n",
    ")\n",
    "p.update_state(test_y, y_test_pred)  #18/(18+3)\n",
    "print(\"Precision score: %3f\" %p.result().numpy())"
   ]
  },
  {
   "cell_type": "markdown",
   "id": "stone-difference",
   "metadata": {},
   "source": [
    "<span style=\"color:chocolate\">recall score</span> "
   ]
  },
  {
   "cell_type": "code",
   "execution_count": 71,
   "id": "suffering-workstation",
   "metadata": {},
   "outputs": [
    {
     "name": "stdout",
     "output_type": "stream",
     "text": [
      "Recall score: 0.478\n"
     ]
    }
   ],
   "source": [
    "# note that TensorFlow assumes that the positive class is cultivar 1\n",
    "r = tf.keras.metrics.Recall(\n",
    "    thresholds=None, top_k=None, class_id=None, name=None, dtype=None\n",
    ")\n",
    "r.update_state(test_y, y_test_pred) #18/(18+1)\n",
    "print(\"Recall score: %.3f\" %r.result().numpy())"
   ]
  },
  {
   "cell_type": "markdown",
   "id": "fatty-ecuador",
   "metadata": {},
   "source": [
    "<span style=\"color:chocolate\">F1 score</span> "
   ]
  },
  {
   "cell_type": "code",
   "execution_count": 72,
   "id": "inappropriate-million",
   "metadata": {},
   "outputs": [
    {
     "name": "stdout",
     "output_type": "stream",
     "text": [
      "F1 score: 0.6049999594688416\n"
     ]
    }
   ],
   "source": [
    "print(\"F1 score:\",\n",
    "    2*((p.result().numpy()*r.result().numpy())/(p.result().numpy()+r.result().numpy())))"
   ]
  },
  {
   "cell_type": "markdown",
   "id": "adverse-humanitarian",
   "metadata": {},
   "source": [
    "<span style=\"color:chocolate\">ROC AUC</span> "
   ]
  },
  {
   "cell_type": "code",
   "execution_count": 73,
   "id": "municipal-savage",
   "metadata": {},
   "outputs": [
    {
     "name": "stdout",
     "output_type": "stream",
     "text": [
      "ROC AUC: 0.76\n"
     ]
    },
    {
     "data": {
      "image/png": "[encoded data removed]",
      "text/plain": [
       "<Figure size 432x288 with 1 Axes>"
      ]
     },
     "metadata": {
      "needs_background": "light"
     },
     "output_type": "display_data"
    }
   ],
   "source": [
    "from sklearn import datasets, metrics, model_selection, svm\n",
    "fpr, tpr, _ = metrics.roc_curve(test_y,  y_test_pred_p)\n",
    "auc = metrics.roc_auc_score(test_y, y_test_pred_p)\n",
    "plt.plot(fpr,tpr,label=\"data, auc=\"+str(np.round(auc,3)))\n",
    "plt.legend(loc=4)\n",
    "plt.xlabel('False Positive Rate')\n",
    "plt.ylabel('True Positive Rate')\n",
    "\n",
    "\n",
    "# add dummy classifier\n",
    "plt.plot([0, 1], [0, 1], linestyle='--', lw=2, color='r',\n",
    "         label='dummy (chance)', alpha=.8)\n",
    "\n",
    "plt.legend(loc=4)\n",
    "print('ROC AUC:', np.round(auc,3))"
   ]
  },
  {
   "cell_type": "markdown",
   "id": "gentle-migration",
   "metadata": {},
   "source": [
    "---\n",
    "### <span style=\"color:chocolate\">What's next?</span> "
   ]
  },
  {
   "cell_type": "markdown",
   "id": "formed-remains",
   "metadata": {},
   "source": [
    "A few suggestions for performance improvement:\n",
    "\n",
    "-  hyperparameter tuning\n",
    "\n",
    "-  try a different BERT model, e.g., one that has been trained on Wikipedia text. Our PubMedBERT model has been trained on biomedical text - this may be too technical for our drug reviews text."
   ]
  },
  {
   "cell_type": "code",
   "execution_count": null,
   "id": "consolidated-conclusion",
   "metadata": {},
   "outputs": [],
   "source": []
  }
 ],
 "metadata": {
  "kernelspec": {
   "display_name": "Python 3",
   "language": "python",
   "name": "python3"
  },
  "language_info": {
   "codemirror_mode": {
    "name": "ipython",
    "version": 3
   },
   "file_extension": ".py",
   "mimetype": "text/x-python",
   "name": "python",
   "nbconvert_exporter": "python",
   "pygments_lexer": "ipython3",
   "version": "3.8.3"
  }
 },
 "nbformat": 4,
 "nbformat_minor": 5
}
