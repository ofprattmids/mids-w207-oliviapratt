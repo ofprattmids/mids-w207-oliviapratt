{
 "cells": [
  {
   "cell_type": "markdown",
   "id": "sticky-montana",
   "metadata": {},
   "source": [
    "## Week 1: Numpy review\n",
    "\n",
    "Instructor: Cornelia Ilin <br>\n",
    "Email: cilin@ischool.berkeley.edu <br>"
   ]
  },
  {
   "cell_type": "markdown",
   "id": "contained-bernard",
   "metadata": {},
   "source": [
    "This notebook is intended to familiarize you with some basics of numpy, which you'll use extensively in this course. "
   ]
  },
  {
   "cell_type": "code",
   "execution_count": 1,
   "id": "certain-intermediate",
   "metadata": {},
   "outputs": [],
   "source": [
    "import numpy as np"
   ]
  },
  {
   "cell_type": "markdown",
   "id": "reserved-terminology",
   "metadata": {},
   "source": [
    "#### <span style=\"color:chocolate\">Concept 1:</span> Homogenous data types"
   ]
  },
  {
   "cell_type": "code",
   "execution_count": 2,
   "id": "level-authorization",
   "metadata": {},
   "outputs": [
    {
     "name": "stdout",
     "output_type": "stream",
     "text": [
      "[1 2 3]\n",
      "(3,) int64\n"
     ]
    }
   ],
   "source": [
    "# just int\n",
    "my_array = np.array(\n",
    "    [1, 2, 3]\n",
    ")\n",
    "\n",
    "print(my_array)\n",
    "print(my_array.shape, my_array.dtype)"
   ]
  },
  {
   "cell_type": "code",
   "execution_count": 3,
   "id": "orange-strip",
   "metadata": {},
   "outputs": [
    {
     "name": "stdout",
     "output_type": "stream",
     "text": [
      "['1' '2' '3.0']\n",
      "(3,) <U32\n"
     ]
    }
   ],
   "source": [
    "# when using mixed data, objects are cast to a common data type)\n",
    "my_array = np.array(\n",
    "    [1, '2', 3.0]\n",
    ")\n",
    "\n",
    "print(my_array)\n",
    "print(my_array.shape, my_array.dtype)"
   ]
  },
  {
   "cell_type": "markdown",
   "id": "overhead-casino",
   "metadata": {},
   "source": [
    "#### <span style=\"color:chocolate\">Concept 2:</span> The size attribute represents the total number of elements in the array"
   ]
  },
  {
   "cell_type": "code",
   "execution_count": 4,
   "id": "sporting-romantic",
   "metadata": {},
   "outputs": [
    {
     "name": "stdout",
     "output_type": "stream",
     "text": [
      "Shape: (3, 2) \n",
      "Size: 6 \n",
      "Dtype: uint8\n"
     ]
    }
   ],
   "source": [
    "# the size attribute is the total number of elements in the array\n",
    "my_array = np.array(\n",
    "    [[1, 2],\n",
    "     [3, 4],\n",
    "     [5,6]],\n",
    "    dtype=np.uint8\n",
    ")\n",
    "\n",
    "print('Shape:', my_array.shape,\n",
    "      '\\nSize:', my_array.size,\n",
    "      '\\nDtype:', my_array.dtype)"
   ]
  },
  {
   "cell_type": "markdown",
   "id": "filled-twelve",
   "metadata": {},
   "source": [
    "#### <span style=\"color:chocolate\">Concept 3:</span> Example of tabular data layout"
   ]
  },
  {
   "cell_type": "code",
   "execution_count": 5,
   "id": "patient-practitioner",
   "metadata": {},
   "outputs": [
    {
     "data": {
      "text/plain": [
       "(100, 17)"
      ]
     },
     "execution_count": 5,
     "metadata": {},
     "output_type": "execute_result"
    }
   ],
   "source": [
    "num_samples = 100\n",
    "num_features = 17\n",
    "\n",
    "tabular_layout = np.random.random(\n",
    "    (num_samples, num_features)\n",
    ")\n",
    "\n",
    "tabular_layout.shape"
   ]
  },
  {
   "cell_type": "markdown",
   "id": "encouraging-produce",
   "metadata": {},
   "source": [
    "#### <span style=\"color:chocolate\">Concept 4:</span> Example of image data layout"
   ]
  },
  {
   "cell_type": "code",
   "execution_count": 6,
   "id": "falling-mapping",
   "metadata": {},
   "outputs": [
    {
     "data": {
      "text/plain": [
       "(100, 256, 256, 3)"
      ]
     },
     "execution_count": 6,
     "metadata": {},
     "output_type": "execute_result"
    }
   ],
   "source": [
    "num_rows = 256\n",
    "num_cols = 256\n",
    "num_channels = 3\n",
    "num_images = 100\n",
    "\n",
    "image_layout = np.random.random(\n",
    "    (num_images, num_rows, num_cols, num_channels)\n",
    ")\n",
    "\n",
    "image_layout.shape"
   ]
  },
  {
   "cell_type": "markdown",
   "id": "rental-fence",
   "metadata": {},
   "source": [
    "#### <span style=\"color:chocolate\">Concept 5:</span> Mathematical operations on numpy arrays"
   ]
  },
  {
   "cell_type": "markdown",
   "id": "dutch-encoding",
   "metadata": {},
   "source": [
    "You can find some examples here: https://numpy.org/doc/stable/reference/routines.math.html"
   ]
  },
  {
   "cell_type": "code",
   "execution_count": 7,
   "id": "healthy-eclipse",
   "metadata": {},
   "outputs": [
    {
     "name": "stdout",
     "output_type": "stream",
     "text": [
      "Printing my (3, 2) array:\n",
      "\n",
      "[[1 2]\n",
      " [3 4]\n",
      " [5 6]]\n"
     ]
    }
   ],
   "source": [
    "print('Printing my', my_array.shape, 'array:\\n')\n",
    "print(my_array)"
   ]
  },
  {
   "cell_type": "code",
   "execution_count": 8,
   "id": "sacred-trainer",
   "metadata": {},
   "outputs": [
    {
     "data": {
      "text/plain": [
       "21"
      ]
     },
     "execution_count": 8,
     "metadata": {},
     "output_type": "execute_result"
    }
   ],
   "source": [
    "# sum all elements\n",
    "my_array.sum()"
   ]
  },
  {
   "cell_type": "code",
   "execution_count": 9,
   "id": "matched-estate",
   "metadata": {},
   "outputs": [
    {
     "data": {
      "text/plain": [
       "array([ 9, 12], dtype=uint64)"
      ]
     },
     "execution_count": 9,
     "metadata": {},
     "output_type": "execute_result"
    }
   ],
   "source": [
    "# sum by column\n",
    "my_array.sum(axis=0)"
   ]
  },
  {
   "cell_type": "code",
   "execution_count": 10,
   "id": "rapid-thong",
   "metadata": {},
   "outputs": [
    {
     "data": {
      "text/plain": [
       "array([ 3.,  7., 11.])"
      ]
     },
     "execution_count": 10,
     "metadata": {},
     "output_type": "execute_result"
    }
   ],
   "source": [
    "# change type to float\n",
    "my_array.sum(axis=1).astype(np.float64)"
   ]
  },
  {
   "cell_type": "code",
   "execution_count": 11,
   "id": "understood-posting",
   "metadata": {},
   "outputs": [
    {
     "data": {
      "text/plain": [
       "array([1, 2], dtype=uint8)"
      ]
     },
     "execution_count": 11,
     "metadata": {},
     "output_type": "execute_result"
    }
   ],
   "source": [
    "# extract first axis\n",
    "axis0 = my_array[0]\n",
    "axis0"
   ]
  },
  {
   "cell_type": "code",
   "execution_count": 12,
   "id": "demanding-jacket",
   "metadata": {},
   "outputs": [
    {
     "data": {
      "text/plain": [
       "array([3, 4], dtype=uint8)"
      ]
     },
     "execution_count": 12,
     "metadata": {},
     "output_type": "execute_result"
    }
   ],
   "source": [
    "# extract second axis\n",
    "axis1 = my_array[1]\n",
    "axis1"
   ]
  },
  {
   "cell_type": "code",
   "execution_count": 13,
   "id": "guided-loading",
   "metadata": {},
   "outputs": [
    {
     "data": {
      "text/plain": [
       "3"
      ]
     },
     "execution_count": 13,
     "metadata": {},
     "output_type": "execute_result"
    }
   ],
   "source": [
    "# select individual elements by specifying indices for both axes\n",
    "element = my_array[1, 0]\n",
    "element"
   ]
  },
  {
   "cell_type": "code",
   "execution_count": 14,
   "id": "waiting-congo",
   "metadata": {},
   "outputs": [
    {
     "data": {
      "text/plain": [
       "array([2], dtype=uint8)"
      ]
     },
     "execution_count": 14,
     "metadata": {},
     "output_type": "execute_result"
    }
   ],
   "source": [
    "# can slice along any axis\n",
    "element = my_array[0, 1:]\n",
    "element"
   ]
  },
  {
   "cell_type": "code",
   "execution_count": 15,
   "id": "violent-miller",
   "metadata": {},
   "outputs": [
    {
     "data": {
      "text/plain": [
       "array([12], dtype=uint8)"
      ]
     },
     "execution_count": 15,
     "metadata": {},
     "output_type": "execute_result"
    }
   ],
   "source": [
    "# modifying an element/slice changes the original array as well\n",
    "element += 10\n",
    "element"
   ]
  },
  {
   "cell_type": "code",
   "execution_count": 16,
   "id": "hairy-designer",
   "metadata": {},
   "outputs": [
    {
     "name": "stdout",
     "output_type": "stream",
     "text": [
      "Printing my original array:\n"
     ]
    },
    {
     "data": {
      "text/plain": [
       "array([[ 1, 12],\n",
       "       [ 3,  4],\n",
       "       [ 5,  6]], dtype=uint8)"
      ]
     },
     "execution_count": 16,
     "metadata": {},
     "output_type": "execute_result"
    }
   ],
   "source": [
    "print('Printing my original array:')\n",
    "my_array"
   ]
  },
  {
   "cell_type": "markdown",
   "id": "excessive-personal",
   "metadata": {},
   "source": [
    "^ Notice the value at index (0, 1)"
   ]
  },
  {
   "cell_type": "code",
   "execution_count": 17,
   "id": "lonely-determination",
   "metadata": {},
   "outputs": [
    {
     "data": {
      "text/plain": [
       "array([2], dtype=uint8)"
      ]
     },
     "execution_count": 17,
     "metadata": {},
     "output_type": "execute_result"
    }
   ],
   "source": [
    "# make a copy if you want to preserve the original array\n",
    "\n",
    "element = my_array[0, 1:].copy()\n",
    "element -= 10\n",
    "element"
   ]
  },
  {
   "cell_type": "code",
   "execution_count": 18,
   "id": "cardiovascular-breath",
   "metadata": {},
   "outputs": [
    {
     "name": "stdout",
     "output_type": "stream",
     "text": [
      "Printing my array:\n"
     ]
    },
    {
     "data": {
      "text/plain": [
       "array([[ 1, 12],\n",
       "       [ 3,  4],\n",
       "       [ 5,  6]], dtype=uint8)"
      ]
     },
     "execution_count": 18,
     "metadata": {},
     "output_type": "execute_result"
    }
   ],
   "source": [
    "print('Printing my array:')\n",
    "my_array"
   ]
  },
  {
   "cell_type": "code",
   "execution_count": 19,
   "id": "rapid-hazard",
   "metadata": {},
   "outputs": [
    {
     "name": "stdout",
     "output_type": "stream",
     "text": [
      "[ 1 12] , shape: (2,)\n",
      "[3 4] , shape: (2,)\n",
      "[5 6] , shape: (2,)\n"
     ]
    }
   ],
   "source": [
    "# loop over elements in axis 0\n",
    "# this example will print my_array[0] and my_array[1]\n",
    "\n",
    "for row in my_array:\n",
    "    print(row,', shape:', row.shape) "
   ]
  },
  {
   "cell_type": "markdown",
   "id": "stopped-finger",
   "metadata": {},
   "source": [
    "#### <span style=\"color:chocolate\">Concept 6:</span> Create arrays"
   ]
  },
  {
   "cell_type": "code",
   "execution_count": 20,
   "id": "cultural-sullivan",
   "metadata": {},
   "outputs": [],
   "source": [
    "# create an array of pixel values\n",
    "my_pixels = np.array(\n",
    "    [[0.6, 0.2],\n",
    "     [0.1, 0.4],\n",
    "     [0.7, 0.5]],\n",
    "    dtype=np.uint8\n",
    ")"
   ]
  },
  {
   "cell_type": "code",
   "execution_count": 21,
   "id": "wicked-hammer",
   "metadata": {},
   "outputs": [
    {
     "data": {
      "text/plain": [
       "array([1991, 1992, 1993, 1994, 1995, 1996, 1997, 1998, 1999, 2000, 2001,\n",
       "       2002, 2003, 2004, 2005, 2006, 2007, 2008, 2009, 2010, 2011, 2012,\n",
       "       2013, 2014, 2015, 2016, 2017])"
      ]
     },
     "execution_count": 21,
     "metadata": {},
     "output_type": "execute_result"
    }
   ],
   "source": [
    "# create a range of years from 1991 to 2017\n",
    "# provide start, stop, and step params\n",
    "years = np.arange(1991, 2018, 1)\n",
    "years"
   ]
  },
  {
   "cell_type": "code",
   "execution_count": 22,
   "id": "acute-cancer",
   "metadata": {},
   "outputs": [
    {
     "name": "stdout",
     "output_type": "stream",
     "text": [
      "[[[0. 0. 0. 0. 0. 0. 0. 0. 0. 0.]\n",
      "  [0. 0. 0. 0. 0. 0. 0. 0. 0. 0.]\n",
      "  [0. 0. 0. 0. 0. 0. 0. 0. 0. 0.]\n",
      "  [0. 0. 0. 0. 0. 0. 0. 0. 0. 0.]\n",
      "  [0. 0. 0. 0. 0. 0. 0. 0. 0. 0.]]\n",
      "\n",
      " [[0. 0. 0. 0. 0. 0. 0. 0. 0. 0.]\n",
      "  [0. 0. 0. 0. 0. 0. 0. 0. 0. 0.]\n",
      "  [0. 0. 0. 0. 0. 0. 0. 0. 0. 0.]\n",
      "  [0. 0. 0. 0. 0. 0. 0. 0. 0. 0.]\n",
      "  [0. 0. 0. 0. 0. 0. 0. 0. 0. 0.]]\n",
      "\n",
      " [[0. 0. 0. 0. 0. 0. 0. 0. 0. 0.]\n",
      "  [0. 0. 0. 0. 0. 0. 0. 0. 0. 0.]\n",
      "  [0. 0. 0. 0. 0. 0. 0. 0. 0. 0.]\n",
      "  [0. 0. 0. 0. 0. 0. 0. 0. 0. 0.]\n",
      "  [0. 0. 0. 0. 0. 0. 0. 0. 0. 0.]]]\n",
      "float64\n"
     ]
    }
   ],
   "source": [
    "# create an empty array (use np.ones to create an array of ones)\n",
    "\n",
    "empty_array = np.zeros((3, 5, 10))\n",
    "print(empty_array)\n",
    "print(empty_array.dtype)"
   ]
  },
  {
   "cell_type": "code",
   "execution_count": 23,
   "id": "related-belarus",
   "metadata": {},
   "outputs": [
    {
     "data": {
      "text/plain": [
       "array([[[5, 5, 5, 5, 5, 5, 5, 5, 5, 5],\n",
       "        [5, 5, 5, 5, 5, 5, 5, 5, 5, 5],\n",
       "        [5, 5, 5, 5, 5, 5, 5, 5, 5, 5],\n",
       "        [5, 5, 5, 5, 5, 5, 5, 5, 5, 5],\n",
       "        [5, 5, 5, 5, 5, 5, 5, 5, 5, 5]],\n",
       "\n",
       "       [[5, 5, 5, 5, 5, 5, 5, 5, 5, 5],\n",
       "        [5, 5, 5, 5, 5, 5, 5, 5, 5, 5],\n",
       "        [5, 5, 5, 5, 5, 5, 5, 5, 5, 5],\n",
       "        [5, 5, 5, 5, 5, 5, 5, 5, 5, 5],\n",
       "        [5, 5, 5, 5, 5, 5, 5, 5, 5, 5]],\n",
       "\n",
       "       [[5, 5, 5, 5, 5, 5, 5, 5, 5, 5],\n",
       "        [5, 5, 5, 5, 5, 5, 5, 5, 5, 5],\n",
       "        [5, 5, 5, 5, 5, 5, 5, 5, 5, 5],\n",
       "        [5, 5, 5, 5, 5, 5, 5, 5, 5, 5],\n",
       "        [5, 5, 5, 5, 5, 5, 5, 5, 5, 5]]], dtype=int32)"
      ]
     },
     "execution_count": 23,
     "metadata": {},
     "output_type": "execute_result"
    }
   ],
   "source": [
    "# create an array with a constant value using np.ones\n",
    "ct_array = np.ones((3, 5, 10), dtype=np.int32) * 5\n",
    "ct_array"
   ]
  },
  {
   "cell_type": "code",
   "execution_count": 24,
   "id": "cooperative-marine",
   "metadata": {},
   "outputs": [
    {
     "data": {
      "text/plain": [
       "array([ 1.51400833, -0.71307223, -0.5658885 ,  0.28565782,  1.97503473,\n",
       "       -0.10794173, -1.86053972, -0.63499378, -0.1858189 ,  0.43241852])"
      ]
     },
     "execution_count": 24,
     "metadata": {},
     "output_type": "execute_result"
    }
   ],
   "source": [
    "# create arrays with random numbers from a normal distribution\n",
    "# specify mean, variance, sample size\n",
    "mu, sigma = 0, 1\n",
    "normal_array = np.random.normal(mu, sigma, size=10)\n",
    "normal_array"
   ]
  },
  {
   "cell_type": "markdown",
   "id": "proof-bankruptcy",
   "metadata": {},
   "source": [
    "#### <span style=\"color:chocolate\">Concept 6:</span> Reshape arrays"
   ]
  },
  {
   "cell_type": "code",
   "execution_count": 25,
   "id": "historic-black",
   "metadata": {},
   "outputs": [
    {
     "data": {
      "text/plain": [
       "array([[[1991, 1992, 1993],\n",
       "        [1994, 1995, 1996],\n",
       "        [1997, 1998, 1999]],\n",
       "\n",
       "       [[2000, 2001, 2002],\n",
       "        [2003, 2004, 2005],\n",
       "        [2006, 2007, 2008]],\n",
       "\n",
       "       [[2009, 2010, 2011],\n",
       "        [2012, 2013, 2014],\n",
       "        [2015, 2016, 2017]]])"
      ]
     },
     "execution_count": 25,
     "metadata": {},
     "output_type": "execute_result"
    }
   ],
   "source": [
    "# Reshaping requires the size to be unchanged\n",
    "years = np.arange(1991, 2018, 1)\n",
    "years = years.reshape(3, 3, 3) # 3 nested arrays, each of size (3,3); try changing to .reshape(2, 3, 6)\n",
    "years"
   ]
  },
  {
   "cell_type": "code",
   "execution_count": 26,
   "id": "historic-mambo",
   "metadata": {},
   "outputs": [
    {
     "data": {
      "text/plain": [
       "array([1991, 1992, 1993, 1994, 1995, 1996, 1997, 1998, 1999, 2000, 2001,\n",
       "       2002, 2003, 2004, 2005, 2006, 2007, 2008, 2009, 2010, 2011, 2012,\n",
       "       2013, 2014, 2015, 2016, 2017])"
      ]
     },
     "execution_count": 26,
     "metadata": {},
     "output_type": "execute_result"
    }
   ],
   "source": [
    "# convert an n-dimensional array to a flat 1D array (creates a copy of the array)\n",
    "years.flatten()"
   ]
  },
  {
   "cell_type": "code",
   "execution_count": 27,
   "id": "critical-screw",
   "metadata": {},
   "outputs": [
    {
     "data": {
      "text/plain": [
       "array([1991, 1992, 1993, 1994, 1995, 1996, 1997, 1998, 1999, 2000, 2001,\n",
       "       2002, 2003, 2004, 2005, 2006, 2007, 2008, 2009, 2010, 2011, 2012,\n",
       "       2013, 2014, 2015, 2016, 2017])"
      ]
     },
     "execution_count": 27,
     "metadata": {},
     "output_type": "execute_result"
    }
   ],
   "source": [
    "# flatten creates a copy, ravel doesn't\n",
    "years.ravel()"
   ]
  },
  {
   "cell_type": "code",
   "execution_count": 28,
   "id": "western-acceptance",
   "metadata": {},
   "outputs": [
    {
     "data": {
      "text/plain": [
       "array([[[1991, 1992, 1993],\n",
       "        [1994, 1995, 1996],\n",
       "        [1997, 1998, 1999]],\n",
       "\n",
       "       [[2000, 2001, 2002],\n",
       "        [2003, 2004, 2005],\n",
       "        [2006, 2007, 2008]],\n",
       "\n",
       "       [[2009, 2010, 2011],\n",
       "        [2012, 2013, 2014],\n",
       "        [2015, 2016, 2017]]])"
      ]
     },
     "execution_count": 28,
     "metadata": {},
     "output_type": "execute_result"
    }
   ],
   "source": [
    "# The original array is unchanged if you change the flattened array\n",
    "years2 = years.flatten()\n",
    "years2[26] = 2018 \n",
    "years"
   ]
  },
  {
   "cell_type": "code",
   "execution_count": 29,
   "id": "broadband-utility",
   "metadata": {},
   "outputs": [
    {
     "data": {
      "text/plain": [
       "array([[[1991, 1992, 1993],\n",
       "        [1994, 1995, 1996],\n",
       "        [1997, 1998, 1999]],\n",
       "\n",
       "       [[2000, 2001, 2002],\n",
       "        [2003, 2004, 2005],\n",
       "        [2006, 2007, 2008]],\n",
       "\n",
       "       [[2009, 2010, 2011],\n",
       "        [2012, 2013, 2014],\n",
       "        [2015, 2016, 2018]]])"
      ]
     },
     "execution_count": 29,
     "metadata": {},
     "output_type": "execute_result"
    }
   ],
   "source": [
    "# The original array is changed if you change the raveled array\n",
    "years2 = years.ravel()\n",
    "years2[26] = 2018 \n",
    "years"
   ]
  },
  {
   "cell_type": "code",
   "execution_count": 30,
   "id": "collective-smoke",
   "metadata": {},
   "outputs": [
    {
     "name": "stdout",
     "output_type": "stream",
     "text": [
      "(27,)\n",
      "(1, 27)\n"
     ]
    }
   ],
   "source": [
    "# you can insert new axis of shape 1\n",
    "years_1d = np.arange(1991, 2018, 1)\n",
    "print(years_1d.shape)\n",
    "years_2d = np.expand_dims(years_1d, axis=0)  #new axis added in front\n",
    "print(years_2d.shape)"
   ]
  },
  {
   "cell_type": "code",
   "execution_count": 31,
   "id": "congressional-yield",
   "metadata": {},
   "outputs": [
    {
     "data": {
      "text/plain": [
       "(1, 1, 27)"
      ]
     },
     "execution_count": 31,
     "metadata": {},
     "output_type": "execute_result"
    }
   ],
   "source": [
    "years_3d = np.expand_dims(years_1d, axis=(0, 1))  # new axis inserted in front and at the end \n",
    "years_3d.shape"
   ]
  },
  {
   "cell_type": "markdown",
   "id": "driving-rally",
   "metadata": {},
   "source": [
    "YOUR TASK: Remove axis=0 from years_3d (Hint: you can remove axes with shape 1 using <span style=\"color:cornflowerBlue\">np.squeeze()</span>)"
   ]
  },
  {
   "cell_type": "code",
   "execution_count": 32,
   "id": "smoking-madonna",
   "metadata": {},
   "outputs": [],
   "source": [
    "# YOUR CODE HERE"
   ]
  },
  {
   "cell_type": "markdown",
   "id": "ordered-delivery",
   "metadata": {},
   "source": [
    "#### <span style=\"color:chocolate\">Concept 6:</span> Joining arrays"
   ]
  },
  {
   "cell_type": "markdown",
   "id": "organized-armor",
   "metadata": {},
   "source": [
    "YOUR TASK: Provide 4 examples that use <span style=\"color:cornflowerBlue\">np.concatenate()</span> and <span style=\"color:cornflowerBlue\">np.stack()</span>"
   ]
  },
  {
   "cell_type": "code",
   "execution_count": 33,
   "id": "coordinated-wales",
   "metadata": {},
   "outputs": [],
   "source": [
    "# YOUR CODE HERE"
   ]
  },
  {
   "cell_type": "markdown",
   "id": "precise-clone",
   "metadata": {},
   "source": [
    "#### <span style=\"color:chocolate\">Concept 7:</span> Numpy broadcasting"
   ]
  },
  {
   "cell_type": "markdown",
   "id": "reduced-encoding",
   "metadata": {},
   "source": [
    "The term broadcasting describes how NumPy treats arrays with different shapes during arithmetic operations. You can read more here:  https://numpy.org/doc/stable/user/basics.broadcasting.html"
   ]
  },
  {
   "cell_type": "code",
   "execution_count": 34,
   "id": "photographic-treaty",
   "metadata": {},
   "outputs": [
    {
     "data": {
      "text/plain": [
       "array([1991, 1992, 1993, 1994, 1995, 1996, 1997, 1998, 1999, 2000, 2001,\n",
       "       2002, 2003, 2004, 2005, 2006, 2007, 2008, 2009, 2010, 2011, 2012,\n",
       "       2013, 2014, 2015, 2016, 2017])"
      ]
     },
     "execution_count": 34,
     "metadata": {},
     "output_type": "execute_result"
    }
   ],
   "source": [
    "# multiplying an array with a scalar\n",
    "years = np.arange(1991, 2018, 1)\n",
    "years * 1"
   ]
  },
  {
   "cell_type": "code",
   "execution_count": 35,
   "id": "generous-wayne",
   "metadata": {},
   "outputs": [
    {
     "data": {
      "text/plain": [
       "array([1993, 1994, 1995, 1996, 1997, 1998, 1999, 2000, 2001, 2002, 2003,\n",
       "       2004, 2005, 2006, 2007, 2008, 2009, 2010, 2011, 2012, 2013, 2014,\n",
       "       2015, 2016, 2017, 2018, 2019])"
      ]
     },
     "execution_count": 35,
     "metadata": {},
     "output_type": "execute_result"
    }
   ],
   "source": [
    "# Adding a scalar\n",
    "years + 2"
   ]
  },
  {
   "cell_type": "code",
   "execution_count": 36,
   "id": "amino-pricing",
   "metadata": {},
   "outputs": [
    {
     "name": "stdout",
     "output_type": "stream",
     "text": [
      "[0 1 2]\n",
      "[0 1 2]\n"
     ]
    },
    {
     "data": {
      "text/plain": [
       "array([0, 2, 4])"
      ]
     },
     "execution_count": 36,
     "metadata": {},
     "output_type": "execute_result"
    }
   ],
   "source": [
    "# Many arithmetic operations are applied element wise on a pair of arrays\n",
    "a = np.arange(3)\n",
    "print(a)\n",
    "b = np.arange(3)\n",
    "print(b)\n",
    "a + b"
   ]
  },
  {
   "cell_type": "code",
   "execution_count": 37,
   "id": "sustained-vector",
   "metadata": {},
   "outputs": [
    {
     "data": {
      "text/plain": [
       "array([0, 2, 4])"
      ]
     },
     "execution_count": 37,
     "metadata": {},
     "output_type": "execute_result"
    }
   ],
   "source": [
    "# this code will fail. Why?\n",
    "a = np.arange(3)\n",
    "#b = np.arange(4) #remove comment here and run\n",
    "a + b"
   ]
  },
  {
   "cell_type": "code",
   "execution_count": 38,
   "id": "retired-income",
   "metadata": {},
   "outputs": [
    {
     "name": "stdout",
     "output_type": "stream",
     "text": [
      "[[1. 1. 1.]\n",
      " [1. 1. 1.]\n",
      " [1. 1. 1.]]\n",
      "[0 1 2]\n"
     ]
    },
    {
     "data": {
      "text/plain": [
       "array([[1., 2., 3.],\n",
       "       [1., 2., 3.],\n",
       "       [1., 2., 3.]])"
      ]
     },
     "execution_count": 38,
     "metadata": {},
     "output_type": "execute_result"
    }
   ],
   "source": [
    "# another example\n",
    "a = np.ones((3, 3))\n",
    "print(a)\n",
    "b = np.arange(3)\n",
    "print(b)\n",
    "a + b"
   ]
  },
  {
   "cell_type": "markdown",
   "id": "improving-grant",
   "metadata": {},
   "source": [
    "#### <span style=\"color:chocolate\">Concept 8:</span> Standardization"
   ]
  },
  {
   "cell_type": "code",
   "execution_count": 39,
   "id": "adapted-adams",
   "metadata": {},
   "outputs": [
    {
     "name": "stdout",
     "output_type": "stream",
     "text": [
      "Means: [[0.39676437 0.42889563 0.42029496 0.53082178]]\n",
      "Stds: [[0.29751805 0.24189962 0.23118253 0.3372268 ]]\n",
      "Mean shape: (1, 4)\n",
      "Std shape: (1, 4)\n"
     ]
    }
   ],
   "source": [
    "# compute the mean and std for each feature (column in my_array)\n",
    "# it is important to set keepdims=True for proper broadcasting (shape will be (1, 4))\n",
    "# if you set keepdims=False, the shape will be (4,)\n",
    "my_array = np.random.random((10, 4))\n",
    "mean = my_array.mean(axis=0, keepdims=True)\n",
    "std = my_array.std(axis=0, keepdims=True)\n",
    "print('Means:', mean)\n",
    "print('Stds:',std)\n",
    "print('Mean shape:', mean.shape)\n",
    "print('Std shape:', std.shape)"
   ]
  },
  {
   "cell_type": "code",
   "execution_count": 40,
   "id": "international-calvin",
   "metadata": {},
   "outputs": [
    {
     "name": "stdout",
     "output_type": "stream",
     "text": [
      "[ 1.11022302e-16  1.77635684e-16 -1.33226763e-16  3.83026943e-16]\n",
      "[1. 1. 1. 1.]\n"
     ]
    }
   ],
   "source": [
    "# normalize my_array\n",
    "my_array_std = (my_array - mean) / std\n",
    "print(my_array_std.mean(axis=0))\n",
    "print(my_array_std.std(axis=0))"
   ]
  },
  {
   "cell_type": "markdown",
   "id": "functioning-accessory",
   "metadata": {},
   "source": [
    "#### <span style=\"color:chocolate\">Concept 8:</span> Advanced"
   ]
  },
  {
   "cell_type": "code",
   "execution_count": 41,
   "id": "nutritional-bottle",
   "metadata": {},
   "outputs": [
    {
     "data": {
      "text/plain": [
       "array([[0.  , 0.04, 0.08, 0.12, 0.16],\n",
       "       [0.2 , 0.24, 0.28, 0.32, 0.36],\n",
       "       [0.4 , 0.44, 0.48, 0.52, 0.56],\n",
       "       [0.6 , 0.64, 0.68, 0.72, 0.76],\n",
       "       [0.8 , 0.84, 0.88, 0.92, 0.96]])"
      ]
     },
     "execution_count": 41,
     "metadata": {},
     "output_type": "execute_result"
    }
   ],
   "source": [
    "my_image = np.arange(0, 1, 0.04).reshape(5,5)\n",
    "my_image"
   ]
  },
  {
   "cell_type": "code",
   "execution_count": 42,
   "id": "operational-portugal",
   "metadata": {},
   "outputs": [
    {
     "data": {
      "text/plain": [
       "array([[0.24, 0.28, 0.32],\n",
       "       [0.44, 0.48, 0.52],\n",
       "       [0.64, 0.68, 0.72]])"
      ]
     },
     "execution_count": 42,
     "metadata": {},
     "output_type": "execute_result"
    }
   ],
   "source": [
    "# crop by using a border of size 1\n",
    "my_image[1:-1, 1:-1]"
   ]
  },
  {
   "cell_type": "code",
   "execution_count": 43,
   "id": "composed-variance",
   "metadata": {},
   "outputs": [
    {
     "data": {
      "text/plain": [
       "array([[0.24, 0.28],\n",
       "       [0.44, 0.48]])"
      ]
     },
     "execution_count": 43,
     "metadata": {},
     "output_type": "execute_result"
    }
   ],
   "source": [
    "# crop by using a border of size 2\n",
    "my_image[1:-2, 1:-2]"
   ]
  },
  {
   "cell_type": "code",
   "execution_count": 44,
   "id": "accepted-security",
   "metadata": {},
   "outputs": [
    {
     "data": {
      "text/plain": [
       "array([[0.16, 0.12, 0.08, 0.04, 0.  ],\n",
       "       [0.36, 0.32, 0.28, 0.24, 0.2 ],\n",
       "       [0.56, 0.52, 0.48, 0.44, 0.4 ],\n",
       "       [0.76, 0.72, 0.68, 0.64, 0.6 ],\n",
       "       [0.96, 0.92, 0.88, 0.84, 0.8 ]])"
      ]
     },
     "execution_count": 44,
     "metadata": {},
     "output_type": "execute_result"
    }
   ],
   "source": [
    "# reverse order of columns\n",
    "my_image[:, ::-1]"
   ]
  },
  {
   "cell_type": "code",
   "execution_count": 45,
   "id": "living-commissioner",
   "metadata": {},
   "outputs": [
    {
     "data": {
      "text/plain": [
       "array([[0.  , 0.04, 0.08, 0.12, 0.16],\n",
       "       [0.2 , 0.24, 0.28, 0.32, 0.36],\n",
       "       [0.4 , 0.44, 0.48, 0.52, 0.56],\n",
       "       [0.6 , 0.64, 0.68, 0.72, 0.76],\n",
       "       [0.8 , 0.84, 0.88, 0.92, 0.96]])"
      ]
     },
     "execution_count": 45,
     "metadata": {},
     "output_type": "execute_result"
    }
   ],
   "source": [
    "# set to 0 elements divizible by 2\n",
    "my_image[my_image % 2 == 0] = 0\n",
    "my_image"
   ]
  }
 ],
 "metadata": {
  "kernelspec": {
   "display_name": "Python 3",
   "language": "python",
   "name": "python3"
  },
  "language_info": {
   "codemirror_mode": {
    "name": "ipython",
    "version": 3
   },
   "file_extension": ".py",
   "mimetype": "text/x-python",
   "name": "python",
   "nbconvert_exporter": "python",
   "pygments_lexer": "ipython3",
   "version": "3.8.3"
  }
 },
 "nbformat": 4,
 "nbformat_minor": 5
}
