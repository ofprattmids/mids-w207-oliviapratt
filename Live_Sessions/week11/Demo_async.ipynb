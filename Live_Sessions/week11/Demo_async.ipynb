{
 "cells": [
  {
   "cell_type": "markdown",
   "metadata": {
    "id": "EeMbPVPlucvd"
   },
   "source": [
    "# Titanic Survival Prediction"
   ]
  },
  {
   "cell_type": "code",
   "execution_count": 1,
   "metadata": {
    "id": "Kb29lirkp8EN"
   },
   "outputs": [],
   "source": [
    "# Import our standard libraries.\n",
    "import numpy as np\n",
    "from matplotlib import pyplot as plt\n",
    "import seaborn as sns  # for nicer plots\n",
    "sns.set(style='darkgrid')  # default style\n",
    "import tensorflow as tf\n",
    "import pandas as pd\n",
    "import warnings\n",
    "warnings.filterwarnings('ignore')"
   ]
  },
  {
   "cell_type": "markdown",
   "metadata": {
    "id": "vsZkEjRTuk2f"
   },
   "source": [
    "## Load and prepare data"
   ]
  },
  {
   "cell_type": "code",
   "execution_count": 2,
   "metadata": {
    "id": "hF-LegY6qAtD"
   },
   "outputs": [
    {
     "name": "stdout",
     "output_type": "stream",
     "text": [
      "Labeled data records: 891\n",
      "Kaggle test data records: 418\n",
      "First few records:\n"
     ]
    },
    {
     "data": {
      "text/html": [
       "<div>\n",
       "<style scoped>\n",
       "    .dataframe tbody tr th:only-of-type {\n",
       "        vertical-align: middle;\n",
       "    }\n",
       "\n",
       "    .dataframe tbody tr th {\n",
       "        vertical-align: top;\n",
       "    }\n",
       "\n",
       "    .dataframe thead th {\n",
       "        text-align: right;\n",
       "    }\n",
       "</style>\n",
       "<table border=\"1\" class=\"dataframe\">\n",
       "  <thead>\n",
       "    <tr style=\"text-align: right;\">\n",
       "      <th></th>\n",
       "      <th>PassengerId</th>\n",
       "      <th>Survived</th>\n",
       "      <th>Pclass</th>\n",
       "      <th>Name</th>\n",
       "      <th>Sex</th>\n",
       "      <th>Age</th>\n",
       "      <th>SibSp</th>\n",
       "      <th>Parch</th>\n",
       "      <th>Ticket</th>\n",
       "      <th>Fare</th>\n",
       "      <th>Cabin</th>\n",
       "      <th>Embarked</th>\n",
       "    </tr>\n",
       "  </thead>\n",
       "  <tbody>\n",
       "    <tr>\n",
       "      <th>0</th>\n",
       "      <td>1</td>\n",
       "      <td>0</td>\n",
       "      <td>3</td>\n",
       "      <td>Braund, Mr. Owen Harris</td>\n",
       "      <td>male</td>\n",
       "      <td>22.0</td>\n",
       "      <td>1</td>\n",
       "      <td>0</td>\n",
       "      <td>A/5 21171</td>\n",
       "      <td>7.2500</td>\n",
       "      <td>NaN</td>\n",
       "      <td>S</td>\n",
       "    </tr>\n",
       "    <tr>\n",
       "      <th>1</th>\n",
       "      <td>2</td>\n",
       "      <td>1</td>\n",
       "      <td>1</td>\n",
       "      <td>Cumings, Mrs. John Bradley (Florence Briggs Th...</td>\n",
       "      <td>female</td>\n",
       "      <td>38.0</td>\n",
       "      <td>1</td>\n",
       "      <td>0</td>\n",
       "      <td>PC 17599</td>\n",
       "      <td>71.2833</td>\n",
       "      <td>C85</td>\n",
       "      <td>C</td>\n",
       "    </tr>\n",
       "    <tr>\n",
       "      <th>2</th>\n",
       "      <td>3</td>\n",
       "      <td>1</td>\n",
       "      <td>3</td>\n",
       "      <td>Heikkinen, Miss. Laina</td>\n",
       "      <td>female</td>\n",
       "      <td>26.0</td>\n",
       "      <td>0</td>\n",
       "      <td>0</td>\n",
       "      <td>STON/O2. 3101282</td>\n",
       "      <td>7.9250</td>\n",
       "      <td>NaN</td>\n",
       "      <td>S</td>\n",
       "    </tr>\n",
       "    <tr>\n",
       "      <th>3</th>\n",
       "      <td>4</td>\n",
       "      <td>1</td>\n",
       "      <td>1</td>\n",
       "      <td>Futrelle, Mrs. Jacques Heath (Lily May Peel)</td>\n",
       "      <td>female</td>\n",
       "      <td>35.0</td>\n",
       "      <td>1</td>\n",
       "      <td>0</td>\n",
       "      <td>113803</td>\n",
       "      <td>53.1000</td>\n",
       "      <td>C123</td>\n",
       "      <td>S</td>\n",
       "    </tr>\n",
       "    <tr>\n",
       "      <th>4</th>\n",
       "      <td>5</td>\n",
       "      <td>0</td>\n",
       "      <td>3</td>\n",
       "      <td>Allen, Mr. William Henry</td>\n",
       "      <td>male</td>\n",
       "      <td>35.0</td>\n",
       "      <td>0</td>\n",
       "      <td>0</td>\n",
       "      <td>373450</td>\n",
       "      <td>8.0500</td>\n",
       "      <td>NaN</td>\n",
       "      <td>S</td>\n",
       "    </tr>\n",
       "    <tr>\n",
       "      <th>5</th>\n",
       "      <td>6</td>\n",
       "      <td>0</td>\n",
       "      <td>3</td>\n",
       "      <td>Moran, Mr. James</td>\n",
       "      <td>male</td>\n",
       "      <td>NaN</td>\n",
       "      <td>0</td>\n",
       "      <td>0</td>\n",
       "      <td>330877</td>\n",
       "      <td>8.4583</td>\n",
       "      <td>NaN</td>\n",
       "      <td>Q</td>\n",
       "    </tr>\n",
       "    <tr>\n",
       "      <th>6</th>\n",
       "      <td>7</td>\n",
       "      <td>0</td>\n",
       "      <td>1</td>\n",
       "      <td>McCarthy, Mr. Timothy J</td>\n",
       "      <td>male</td>\n",
       "      <td>54.0</td>\n",
       "      <td>0</td>\n",
       "      <td>0</td>\n",
       "      <td>17463</td>\n",
       "      <td>51.8625</td>\n",
       "      <td>E46</td>\n",
       "      <td>S</td>\n",
       "    </tr>\n",
       "    <tr>\n",
       "      <th>7</th>\n",
       "      <td>8</td>\n",
       "      <td>0</td>\n",
       "      <td>3</td>\n",
       "      <td>Palsson, Master. Gosta Leonard</td>\n",
       "      <td>male</td>\n",
       "      <td>2.0</td>\n",
       "      <td>3</td>\n",
       "      <td>1</td>\n",
       "      <td>349909</td>\n",
       "      <td>21.0750</td>\n",
       "      <td>NaN</td>\n",
       "      <td>S</td>\n",
       "    </tr>\n",
       "    <tr>\n",
       "      <th>8</th>\n",
       "      <td>9</td>\n",
       "      <td>1</td>\n",
       "      <td>3</td>\n",
       "      <td>Johnson, Mrs. Oscar W (Elisabeth Vilhelmina Berg)</td>\n",
       "      <td>female</td>\n",
       "      <td>27.0</td>\n",
       "      <td>0</td>\n",
       "      <td>2</td>\n",
       "      <td>347742</td>\n",
       "      <td>11.1333</td>\n",
       "      <td>NaN</td>\n",
       "      <td>S</td>\n",
       "    </tr>\n",
       "    <tr>\n",
       "      <th>9</th>\n",
       "      <td>10</td>\n",
       "      <td>1</td>\n",
       "      <td>2</td>\n",
       "      <td>Nasser, Mrs. Nicholas (Adele Achem)</td>\n",
       "      <td>female</td>\n",
       "      <td>14.0</td>\n",
       "      <td>1</td>\n",
       "      <td>0</td>\n",
       "      <td>237736</td>\n",
       "      <td>30.0708</td>\n",
       "      <td>NaN</td>\n",
       "      <td>C</td>\n",
       "    </tr>\n",
       "  </tbody>\n",
       "</table>\n",
       "</div>"
      ],
      "text/plain": [
       "   PassengerId  Survived  Pclass  \\\n",
       "0            1         0       3   \n",
       "1            2         1       1   \n",
       "2            3         1       3   \n",
       "3            4         1       1   \n",
       "4            5         0       3   \n",
       "5            6         0       3   \n",
       "6            7         0       1   \n",
       "7            8         0       3   \n",
       "8            9         1       3   \n",
       "9           10         1       2   \n",
       "\n",
       "                                                Name     Sex   Age  SibSp  \\\n",
       "0                            Braund, Mr. Owen Harris    male  22.0      1   \n",
       "1  Cumings, Mrs. John Bradley (Florence Briggs Th...  female  38.0      1   \n",
       "2                             Heikkinen, Miss. Laina  female  26.0      0   \n",
       "3       Futrelle, Mrs. Jacques Heath (Lily May Peel)  female  35.0      1   \n",
       "4                           Allen, Mr. William Henry    male  35.0      0   \n",
       "5                                   Moran, Mr. James    male   NaN      0   \n",
       "6                            McCarthy, Mr. Timothy J    male  54.0      0   \n",
       "7                     Palsson, Master. Gosta Leonard    male   2.0      3   \n",
       "8  Johnson, Mrs. Oscar W (Elisabeth Vilhelmina Berg)  female  27.0      0   \n",
       "9                Nasser, Mrs. Nicholas (Adele Achem)  female  14.0      1   \n",
       "\n",
       "   Parch            Ticket     Fare Cabin Embarked  \n",
       "0      0         A/5 21171   7.2500   NaN        S  \n",
       "1      0          PC 17599  71.2833   C85        C  \n",
       "2      0  STON/O2. 3101282   7.9250   NaN        S  \n",
       "3      0            113803  53.1000  C123        S  \n",
       "4      0            373450   8.0500   NaN        S  \n",
       "5      0            330877   8.4583   NaN        Q  \n",
       "6      0             17463  51.8625   E46        S  \n",
       "7      1            349909  21.0750   NaN        S  \n",
       "8      2            347742  11.1333   NaN        S  \n",
       "9      0            237736  30.0708   NaN        C  "
      ]
     },
     "metadata": {},
     "output_type": "display_data"
    }
   ],
   "source": [
    "# https://www.kaggle.com/c/titanic/\n",
    "df = pd.read_csv('https://raw.githubusercontent.com/dsindy/kaggle-titanic/master/data/train.csv')\n",
    "df_test = pd.read_csv('https://raw.githubusercontent.com/dsindy/kaggle-titanic/master/data/test.csv')\n",
    "print('Labeled data records:', len(df))\n",
    "print('Kaggle test data records:', len(df_test))\n",
    "print('First few records:')\n",
    "display(df.head(10))"
   ]
  },
  {
   "cell_type": "markdown",
   "metadata": {
    "id": "qCtWJ0Z8uxdc"
   },
   "source": [
    "### Deal with missing values"
   ]
  },
  {
   "cell_type": "code",
   "execution_count": 3,
   "metadata": {
    "id": "JnDoCXsW6UHe"
   },
   "outputs": [
    {
     "name": "stdout",
     "output_type": "stream",
     "text": [
      "PassengerId      0\n",
      "Survived         0\n",
      "Pclass           0\n",
      "Name             0\n",
      "Sex              0\n",
      "Age            177\n",
      "SibSp            0\n",
      "Parch            0\n",
      "Ticket           0\n",
      "Fare             0\n",
      "Cabin          687\n",
      "Embarked         2\n",
      "dtype: int64\n",
      "PassengerId      0\n",
      "Pclass           0\n",
      "Name             0\n",
      "Sex              0\n",
      "Age             86\n",
      "SibSp            0\n",
      "Parch            0\n",
      "Ticket           0\n",
      "Fare             1\n",
      "Cabin          327\n",
      "Embarked         0\n",
      "dtype: int64\n"
     ]
    }
   ],
   "source": [
    "# Check for missing (NaN) values.\n",
    "print(df.isnull().sum())\n",
    "print(df_test.isnull().sum())"
   ]
  },
  {
   "cell_type": "code",
   "execution_count": 4,
   "metadata": {
    "id": "TXZabtxA7xrn"
   },
   "outputs": [],
   "source": [
    "# Replace missing values.\n",
    "df['Age'].fillna(0, inplace=True)\n",
    "df['Cabin'].fillna('Unknown', inplace=True)\n",
    "df['Embarked'].fillna('Unknown', inplace=True)\n",
    "\n",
    "df_test['Age'].fillna(0, inplace=True)\n",
    "df_test['Cabin'].fillna('Unknown', inplace=True)\n",
    "df_test['Fare'].fillna(0, inplace=True)"
   ]
  },
  {
   "cell_type": "markdown",
   "metadata": {
    "id": "Vs7P93Vb7l58"
   },
   "source": [
    "### Feature engineering"
   ]
  },
  {
   "cell_type": "code",
   "execution_count": 5,
   "metadata": {
    "id": "tjrQujgeRKX6"
   },
   "outputs": [
    {
     "name": "stdout",
     "output_type": "stream",
     "text": [
      "Mr.          517\n",
      "Miss.        182\n",
      "Mrs.         125\n",
      "Master.       40\n",
      "Dr.            7\n",
      "Rev.           6\n",
      "Col.           2\n",
      "Major.         2\n",
      "Mlle.          2\n",
      "Mme.           1\n",
      "Ms.            1\n",
      "Lady.          1\n",
      "the            1\n",
      "Don.           1\n",
      "Jonkheer.      1\n",
      "Capt.          1\n",
      "Sir.           1\n",
      "Name: Title, dtype: int64\n"
     ]
    }
   ],
   "source": [
    "def get_title(x):\n",
    "  return x['Name'].split(',')[1].split(' ')[1]\n",
    "\n",
    "df['Title'] = df.apply(get_title, axis=1)\n",
    "df_test['Title'] = df_test.apply(get_title, axis=1)\n",
    "\n",
    "print(df['Title'].value_counts())"
   ]
  },
  {
   "cell_type": "markdown",
   "metadata": {
    "id": "du1AFvmNu9Vw"
   },
   "source": [
    "### Train/dev split"
   ]
  },
  {
   "cell_type": "code",
   "execution_count": 6,
   "metadata": {
    "id": "Dm5GHnnaxFqW"
   },
   "outputs": [
    {
     "name": "stdout",
     "output_type": "stream",
     "text": [
      "(757, 13)\n",
      "(134, 13)\n",
      "(418, 12)\n"
     ]
    }
   ],
   "source": [
    "df_train = df.sample(frac=0.85, random_state=3)\n",
    "df_dev = df.drop(df_train.index)\n",
    "\n",
    "print(df_train.shape)\n",
    "print(df_dev.shape)\n",
    "print(df_test.shape)"
   ]
  },
  {
   "cell_type": "markdown",
   "metadata": {
    "id": "MXiyD9aXvG3v"
   },
   "source": [
    "## Basic data analysis"
   ]
  },
  {
   "cell_type": "code",
   "execution_count": 7,
   "metadata": {
    "id": "wRqUPhMQqq6F"
   },
   "outputs": [
    {
     "data": {
      "text/plain": [
       "0    472\n",
       "1    285\n",
       "Name: Survived, dtype: int64"
      ]
     },
     "metadata": {},
     "output_type": "display_data"
    },
    {
     "data": {
      "image/png": "[encoded data removed]",
      "text/plain": [
       "<Figure size 432x288 with 1 Axes>"
      ]
     },
     "metadata": {},
     "output_type": "display_data"
    }
   ],
   "source": [
    "label_values = df_train['Survived'].value_counts()\n",
    "display(label_values)\n",
    "plt.pie(label_values, labels=['Died', 'Survived'], autopct='%.2f')\n",
    "plt.show()"
   ]
  },
  {
   "cell_type": "code",
   "execution_count": 8,
   "metadata": {
    "id": "npacGVDT-_xj"
   },
   "outputs": [
    {
     "data": {
      "image/png": "[encoded data removed]",
      "text/plain": [
       "<Figure size 432x288 with 1 Axes>"
      ]
     },
     "metadata": {},
     "output_type": "display_data"
    }
   ],
   "source": [
    "plt.hist([df_train['Age'][df_train['Survived']==0],\n",
    "          df_train['Age'][df_train['Survived']==1]])\n",
    "plt.show()"
   ]
  },
  {
   "cell_type": "code",
   "execution_count": 9,
   "metadata": {
    "id": "X_EXAxLm7SAM"
   },
   "outputs": [
    {
     "data": {
      "image/png": "[encoded data removed]",
      "text/plain": [
       "<Figure size 1008x576 with 4 Axes>"
      ]
     },
     "metadata": {},
     "output_type": "display_data"
    }
   ],
   "source": [
    "plt.figure(figsize=(14, 8))\n",
    "plt.subplot(2,2,1)\n",
    "plt.hist([df_train['Age'][df_train['Survived']==0],\n",
    "          df_train['Age'][df_train['Survived']==1]],\n",
    "          label=['Died', 'Survived'], bins=20)\n",
    "plt.xlabel('Age')\n",
    "plt.legend()\n",
    "plt.subplot(2,2,2)\n",
    "plt.hist([df_train['Sex'][df_train['Survived']==0],\n",
    "          df_train['Sex'][df_train['Survived']==1]],\n",
    "          label=['Died', 'Survived'],\n",
    "          bins=3)\n",
    "plt.xlabel('Sex')\n",
    "plt.legend()\n",
    "plt.subplot(2,2,3)\n",
    "plt.hist([df_train['Pclass'][df_train['Survived']==0],\n",
    "          df_train['Pclass'][df_train['Survived']==1]],\n",
    "          label=['Died', 'Survived'],\n",
    "          bins=5)\n",
    "plt.xlabel('Pclass')\n",
    "plt.legend()\n",
    "plt.subplot(2,2,4)\n",
    "plt.hist([df_train['Embarked'][df_train['Survived']==0],\n",
    "          df_train['Embarked'][df_train['Survived']==1]],\n",
    "          label=['Died', 'Survived'],\n",
    "          bins=4)\n",
    "plt.xlabel('Embarked')\n",
    "plt.legend()\n",
    "plt.show()"
   ]
  },
  {
   "cell_type": "markdown",
   "metadata": {
    "id": "hMeo9oagSlMI"
   },
   "source": [
    "## Baselines"
   ]
  },
  {
   "cell_type": "code",
   "execution_count": 10,
   "metadata": {
    "id": "UeU6EW76CreY"
   },
   "outputs": [],
   "source": [
    "def majority_baseline(x):\n",
    "  return 0  # corresponds to 'died'\n",
    "\n",
    "def rule_baseline(x):\n",
    "  if x['Sex'] == 'female':\n",
    "    return 1  # 'survived'\n",
    "  else:\n",
    "    return 0  # 'died'"
   ]
  },
  {
   "cell_type": "code",
   "execution_count": 11,
   "metadata": {
    "id": "2NP6FzPiC14J"
   },
   "outputs": [
    {
     "name": "stdout",
     "output_type": "stream",
     "text": [
      "Majority baseline train accuracy: 0.624\n",
      "Majority baseline dev accuracy:   0.575\n",
      "Rule baseline train accuracy:     0.778\n",
      "Rule baseline dev accuracy:       0.836\n"
     ]
    }
   ],
   "source": [
    "Y_train_pred_majority_baseline = df_train.apply(majority_baseline, axis=1)\n",
    "Y_train_pred_rule_baseline = df_train.apply(rule_baseline, axis=1)\n",
    "Y_dev_pred_majority_baseline = df_dev.apply(majority_baseline, axis=1)\n",
    "Y_dev_pred_rule_baseline = df_dev.apply(rule_baseline, axis=1)\n",
    "\n",
    "Y_train = df_train['Survived']\n",
    "Y_dev = df_dev['Survived']\n",
    "\n",
    "print('Majority baseline train accuracy: %.3f'\n",
    "  %(np.sum(Y_train_pred_majority_baseline == Y_train) / len(Y_train)))\n",
    "print('Majority baseline dev accuracy:   %.3f'\n",
    "  %(np.sum(Y_dev_pred_majority_baseline == Y_dev) / len(Y_dev)))\n",
    "print('Rule baseline train accuracy:     %.3f'\n",
    "  %(np.sum(Y_train_pred_rule_baseline == Y_train) / len(Y_train)))\n",
    "print('Rule baseline dev accuracy:       %.3f'\n",
    "  %(np.sum(Y_dev_pred_rule_baseline == Y_dev) / len(Y_dev)))"
   ]
  },
  {
   "cell_type": "markdown",
   "metadata": {
    "id": "x1R6u2buTHJn"
   },
   "source": [
    "## Model 1: Age as a Single Value"
   ]
  },
  {
   "cell_type": "code",
   "execution_count": 12,
   "metadata": {
    "id": "Ck5q13poSZGj"
   },
   "outputs": [],
   "source": [
    "# Plot the loss at each epoch and show final numbers.\n",
    "def show_history(history):\n",
    "  plt.plot(history.history['loss'], color='black', label='train')\n",
    "  plt.plot(history.history['val_loss'], color='red', label='dev')\n",
    "  plt.xlabel('epoch')\n",
    "  plt.ylabel('loss')\n",
    "  plt.legend()\n",
    "  plt.show()\n",
    "  print('final train acc: %.3f' %history.history['accuracy'][-1])\n",
    "  print('final dev acc:   %.3f' %history.history['val_accuracy'][-1])"
   ]
  },
  {
   "cell_type": "code",
   "execution_count": 13,
   "metadata": {
    "id": "r9ZzN4KUv6Ht"
   },
   "outputs": [],
   "source": [
    "def build_model_sequential():\n",
    "  # Clear session and remove randomness.\n",
    "  tf.keras.backend.clear_session()\n",
    "  tf.random.set_seed(0)\n",
    "\n",
    "  model = tf.keras.Sequential(name='Titanic')\n",
    "  model.add(tf.keras.layers.InputLayer(input_shape=(1,)))\n",
    "  model.add(tf.keras.layers.Dense(\n",
    "      units=1, activation='sigmoid', name='Survived'))\n",
    "\n",
    "  model.compile(\n",
    "      optimizer=tf.keras.optimizers.Adam(learning_rate=0.02),\n",
    "      loss='binary_crossentropy',\n",
    "      metrics=['accuracy'])\n",
    "\n",
    "  return model"
   ]
  },
  {
   "cell_type": "markdown",
   "metadata": {
    "id": "xr92Q7JDNiuj"
   },
   "source": [
    "### Functional API"
   ]
  },
  {
   "cell_type": "code",
   "execution_count": 14,
   "metadata": {
    "id": "jQbRv0XeTKjj"
   },
   "outputs": [],
   "source": [
    "def build_model():\n",
    "  # Clear session and remove randomness.\n",
    "  tf.keras.backend.clear_session()\n",
    "  tf.random.set_seed(0)\n",
    "\n",
    "  age = tf.keras.layers.Input(shape=(1,), dtype=tf.float32, name='Age')\n",
    "\n",
    "  survived = tf.keras.layers.Dense(\n",
    "      units=1, activation='sigmoid', name='Survived')(age)\n",
    "\n",
    "  model = tf.keras.Model(inputs=age,\n",
    "                         outputs=survived,\n",
    "                         name='Titanic')\n",
    "  model.compile(\n",
    "      optimizer=tf.keras.optimizers.Adam(learning_rate=0.01),\n",
    "      loss='binary_crossentropy',\n",
    "      metrics=['accuracy'])\n",
    "\n",
    "  return model"
   ]
  },
  {
   "cell_type": "code",
   "execution_count": 15,
   "metadata": {
    "id": "_GxwZ5a8UA0u"
   },
   "outputs": [
    {
     "name": "stdout",
     "output_type": "stream",
     "text": [
      "Model: \"Titanic\"\n",
      "_________________________________________________________________\n",
      " Layer (type)                Output Shape              Param #   \n",
      "=================================================================\n",
      " Age (InputLayer)            [(None, 1)]               0         \n",
      "                                                                 \n",
      " Survived (Dense)            (None, 1)                 2         \n",
      "                                                                 \n",
      "=================================================================\n",
      "Total params: 2\n",
      "Trainable params: 2\n",
      "Non-trainable params: 0\n",
      "_________________________________________________________________\n"
     ]
    },
    {
     "data": {
      "image/png": "[encoded data removed]",
      "text/plain": [
       "<Figure size 432x288 with 1 Axes>"
      ]
     },
     "metadata": {},
     "output_type": "display_data"
    },
    {
     "name": "stdout",
     "output_type": "stream",
     "text": [
      "final train acc: 0.530\n",
      "final dev acc:   0.522\n"
     ]
    }
   ],
   "source": [
    "model = build_model()\n",
    "model.summary()\n",
    "\n",
    "history = model.fit(\n",
    "  x=df_train[['Age']],\n",
    "  y=df_train[['Survived']],\n",
    "  epochs=10,\n",
    "  batch_size=64,\n",
    "  validation_data=(\n",
    "      df_dev[['Age']],\n",
    "      df_dev[['Survived']]),\n",
    "  verbose=0)\n",
    "\n",
    "show_history(history)"
   ]
  },
  {
   "cell_type": "markdown",
   "metadata": {
    "id": "CoNUN9r05dIn"
   },
   "source": [
    "## Model 2: Age in Buckets"
   ]
  },
  {
   "cell_type": "markdown",
   "metadata": {
    "id": "HojQFZIoTAoG"
   },
   "source": [
    "### Tabular data processing"
   ]
  },
  {
   "cell_type": "code",
   "execution_count": 16,
   "metadata": {
    "id": "N6gwWpyJpc_5"
   },
   "outputs": [
    {
     "name": "stdout",
     "output_type": "stream",
     "text": [
      "Embarked: ['S' 'C' 'S' 'S' 'S' 'S' 'S' 'S' 'Q' 'S']\n",
      "Embarked ids: tf.Tensor(\n",
      "[[0. 1. 0. 0.]\n",
      " [0. 0. 1. 0.]\n",
      " [0. 1. 0. 0.]\n",
      " [0. 1. 0. 0.]\n",
      " [0. 1. 0. 0.]\n",
      " [0. 1. 0. 0.]\n",
      " [0. 1. 0. 0.]\n",
      " [0. 1. 0. 0.]\n",
      " [0. 0. 0. 1.]\n",
      " [0. 1. 0. 0.]], shape=(10, 4), dtype=float32)\n"
     ]
    }
   ],
   "source": [
    "emb = np.array(df_train['Embarked'])[10:20]\n",
    "print('Embarked:', emb)\n",
    "\n",
    "emb_id = tf.keras.layers.StringLookup(\n",
    "    vocabulary=['S', 'C', 'Q'], output_mode='one_hot')(emb)\n",
    "print('Embarked ids:', emb_id)"
   ]
  },
  {
   "cell_type": "code",
   "execution_count": 17,
   "metadata": {
    "id": "s5TcEErAjTch"
   },
   "outputs": [
    {
     "name": "stdout",
     "output_type": "stream",
     "text": [
      "Ages: [18.   0.  19.  33.   0.  19.  21.   1.  40.5 25. ]\n",
      "Ages binned: tf.Tensor([2 0 2 2 0 2 2 1 3 2], shape=(10,), dtype=int64)\n",
      "Ages as one-hot vectors: tf.Tensor(\n",
      "[[0. 0. 0. 1. 0.]\n",
      " [0. 1. 0. 0. 0.]\n",
      " [0. 0. 0. 1. 0.]\n",
      " [0. 0. 0. 1. 0.]\n",
      " [0. 1. 0. 0. 0.]\n",
      " [0. 0. 0. 1. 0.]\n",
      " [0. 0. 0. 1. 0.]\n",
      " [0. 0. 1. 0. 0.]\n",
      " [0. 0. 0. 0. 1.]\n",
      " [0. 0. 0. 1. 0.]], shape=(10, 5), dtype=float32)\n"
     ]
    }
   ],
   "source": [
    "tf.keras.backend.clear_session()\n",
    "age = np.array(df_train['Age'])[10:20]\n",
    "print('Ages:', age)\n",
    "\n",
    "age_bins = [0.1, 10, 40]\n",
    "age_binned = tf.keras.layers.Discretization(bin_boundaries=age_bins)(age)\n",
    "print('Ages binned:', age_binned)\n",
    "\n",
    "age_id = tf.keras.layers.IntegerLookup(vocabulary=np.arange(0, len(age_bins)+1),\n",
    "                                       output_mode='one_hot')(age_binned)\n",
    "print('Ages as one-hot vectors:', age_id)"
   ]
  },
  {
   "cell_type": "code",
   "execution_count": 18,
   "metadata": {
    "id": "u59RxiGY5gRb"
   },
   "outputs": [],
   "source": [
    "def build_model():\n",
    "  # Clear session and remove randomness.\n",
    "  tf.keras.backend.clear_session()\n",
    "  tf.random.set_seed(0)\n",
    "\n",
    "  age = tf.keras.layers.Input(shape=(1,), dtype=tf.float32, name='Age')\n",
    "\n",
    "  age_bins = [0.1, 1, 5, 10, 20, 30, 40, 50, 60]\n",
    "  age_binned = tf.keras.layers.Discretization(bin_boundaries=age_bins)(age)\n",
    "  age_id = tf.keras.layers.IntegerLookup(\n",
    "      vocabulary=np.arange(0, len(age_bins)+1),\n",
    "      output_mode='one_hot')(age_binned)\n",
    "\n",
    "  survived = tf.keras.layers.Dense(\n",
    "      units=1, activation='sigmoid', name='Survived')(age_id)\n",
    "\n",
    "  model = tf.keras.Model(inputs=age,\n",
    "                         outputs=survived,\n",
    "                         name='Titanic')\n",
    "  model.compile(\n",
    "      optimizer=tf.keras.optimizers.Adam(learning_rate=0.01),\n",
    "      loss='binary_crossentropy',\n",
    "      metrics=['accuracy'])\n",
    "\n",
    "  return model"
   ]
  },
  {
   "cell_type": "code",
   "execution_count": 19,
   "metadata": {
    "id": "M48oFsY55z0l"
   },
   "outputs": [
    {
     "name": "stdout",
     "output_type": "stream",
     "text": [
      "Model: \"Titanic\"\n",
      "_________________________________________________________________\n",
      " Layer (type)                Output Shape              Param #   \n",
      "=================================================================\n",
      " Age (InputLayer)            [(None, 1)]               0         \n",
      "                                                                 \n",
      " discretization (Discretizat  (None, 1)                0         \n",
      " ion)                                                            \n",
      "                                                                 \n",
      " integer_lookup (IntegerLook  (None, 11)               0         \n",
      " up)                                                             \n",
      "                                                                 \n",
      " Survived (Dense)            (None, 1)                 12        \n",
      "                                                                 \n",
      "=================================================================\n",
      "Total params: 12\n",
      "Trainable params: 12\n",
      "Non-trainable params: 0\n",
      "_________________________________________________________________\n"
     ]
    },
    {
     "data": {
      "image/png": "[encoded data removed]",
      "text/plain": [
       "<Figure size 432x288 with 1 Axes>"
      ]
     },
     "metadata": {},
     "output_type": "display_data"
    },
    {
     "name": "stdout",
     "output_type": "stream",
     "text": [
      "final train acc: 0.641\n",
      "final dev acc:   0.582\n"
     ]
    }
   ],
   "source": [
    "model = build_model()\n",
    "model.summary()\n",
    "\n",
    "history = model.fit(\n",
    "  x=df_train[['Age']],\n",
    "  y=df_train[['Survived']],\n",
    "  epochs=10,\n",
    "  batch_size=64,\n",
    "  validation_data=(\n",
    "      df_dev[['Age']],\n",
    "      df_dev[['Survived']]),\n",
    "  verbose=0)\n",
    "\n",
    "show_history(history)"
   ]
  },
  {
   "cell_type": "markdown",
   "metadata": {
    "id": "wqVlrzxxBTQj"
   },
   "source": [
    "## Model 3: Multiple Inputs"
   ]
  },
  {
   "cell_type": "code",
   "execution_count": 20,
   "metadata": {
    "id": "2vRqiBjJBqZH"
   },
   "outputs": [],
   "source": [
    "def build_model():\n",
    "  # Clear session and remove randomness.\n",
    "  tf.keras.backend.clear_session()\n",
    "  tf.random.set_seed(0)\n",
    "\n",
    "  age = tf.keras.layers.Input(shape=(1,), dtype=tf.float32, name='Age')\n",
    "  sex = tf.keras.layers.Input(shape=(1,), dtype=tf.string, name='Sex')\n",
    "  pclass = tf.keras.layers.Input(shape=(1,), dtype=tf.int64, name='Pclass')\n",
    "  emb = tf.keras.layers.Input(shape=(1,), dtype=tf.string, name='Embarked')\n",
    "\n",
    "  age_bins = [0.1, 1, 5, 10, 20, 30, 40, 50, 60]\n",
    "  age_binned = tf.keras.layers.Discretization(bin_boundaries=age_bins)(age)\n",
    "  age_id = tf.keras.layers.IntegerLookup(\n",
    "      vocabulary=np.arange(0, len(age_bins)+1),\n",
    "      output_mode='one_hot')(age_binned)\n",
    "\n",
    "  sex_id = tf.keras.layers.StringLookup(\n",
    "      vocabulary=['male', 'female'], output_mode='one_hot')(sex)\n",
    "\n",
    "  pclass_id = tf.keras.layers.IntegerLookup(\n",
    "      vocabulary=[1, 2, 3], output_mode='one_hot')(pclass)\n",
    "\n",
    "  emb_id = tf.keras.layers.StringLookup(\n",
    "      vocabulary=['S', 'C', 'Q'], output_mode='one_hot')(emb)\n",
    "  \n",
    "  features = tf.keras.layers.Concatenate()([age_id, sex_id, pclass_id, emb_id])\n",
    "  \n",
    "  dense = tf.keras.layers.Dense(\n",
    "      units=12, activation='tanh', name='hidden1')(features)\n",
    "  \n",
    "  survived = tf.keras.layers.Dense(\n",
    "      units=1, activation='sigmoid', name='Survived')(dense)\n",
    "\n",
    "  model = tf.keras.Model(inputs=[age, sex, pclass, emb],\n",
    "                         outputs=survived,\n",
    "                         name='Titanic')\n",
    "  model.compile(\n",
    "      optimizer=tf.keras.optimizers.Adam(learning_rate=0.02),\n",
    "      loss='binary_crossentropy',\n",
    "      metrics=['accuracy'])\n",
    "\n",
    "  return model"
   ]
  },
  {
   "cell_type": "code",
   "execution_count": 21,
   "metadata": {
    "id": "XAR65zOtB5pX"
   },
   "outputs": [
    {
     "name": "stdout",
     "output_type": "stream",
     "text": [
      "You must install pydot (`pip install pydot`) and install graphviz (see instructions at https://graphviz.gitlab.io/download/) for plot_model/model_to_dot to work.\n"
     ]
    },
    {
     "data": {
      "text/plain": [
       "None"
      ]
     },
     "metadata": {},
     "output_type": "display_data"
    },
    {
     "data": {
      "image/png": "[encoded data removed]",
      "text/plain": [
       "<Figure size 432x288 with 1 Axes>"
      ]
     },
     "metadata": {},
     "output_type": "display_data"
    },
    {
     "name": "stdout",
     "output_type": "stream",
     "text": [
      "final train acc: 0.822\n",
      "final dev acc:   0.836\n"
     ]
    }
   ],
   "source": [
    "model = build_model()\n",
    "display(tf.keras.utils.plot_model(model))\n",
    "\n",
    "history = model.fit(\n",
    "  x={\n",
    "      'Age': df_train[['Age']],\n",
    "      'Sex': df_train[['Sex']],\n",
    "      'Pclass': df_train[['Pclass']],\n",
    "      'Embarked': df_train[['Embarked']],\n",
    "    },\n",
    "  y=df_train[['Survived']],\n",
    "  epochs=20,\n",
    "  batch_size=64,\n",
    "  validation_data=(\n",
    "      {\n",
    "        'Age': df_dev[['Age']],\n",
    "        'Sex': df_dev[['Sex']],\n",
    "        'Pclass': df_dev[['Pclass']],\n",
    "        'Embarked': df_dev[['Embarked']],\n",
    "      },\n",
    "      df_dev[['Survived']]),\n",
    "  verbose=0)\n",
    "\n",
    "show_history(history)"
   ]
  },
  {
   "cell_type": "markdown",
   "metadata": {
    "id": "Gy0uJcDsgtp5"
   },
   "source": [
    "## Model 4: Using Embeddings"
   ]
  },
  {
   "cell_type": "code",
   "execution_count": 22,
   "metadata": {
    "id": "XyDQKdyzWdt2"
   },
   "outputs": [
    {
     "name": "stdout",
     "output_type": "stream",
     "text": [
      "Embarked: ['S' 'S' 'S' 'S' 'Q' 'C' 'S' 'S' 'S' 'C']\n",
      "Embarked ids: tf.Tensor([1 1 1 1 3 2 1 1 1 2], shape=(10,), dtype=int64)\n",
      "Embarked embeddings: tf.Tensor(\n",
      "[[-0.00928867 -0.04854518  0.02095418 -0.01344898]\n",
      " [-0.00928867 -0.04854518  0.02095418 -0.01344898]\n",
      " [-0.00928867 -0.04854518  0.02095418 -0.01344898]\n",
      " [-0.00928867 -0.04854518  0.02095418 -0.01344898]\n",
      " [ 0.01969265 -0.04958747 -0.01359164  0.00654141]\n",
      " [ 0.00808557  0.04008391 -0.03681774  0.00449675]\n",
      " [-0.00928867 -0.04854518  0.02095418 -0.01344898]\n",
      " [-0.00928867 -0.04854518  0.02095418 -0.01344898]\n",
      " [-0.00928867 -0.04854518  0.02095418 -0.01344898]\n",
      " [ 0.00808557  0.04008391 -0.03681774  0.00449675]], shape=(10, 4), dtype=float32)\n"
     ]
    }
   ],
   "source": [
    "emb = np.array(df_train['Embarked'])[20:30]\n",
    "print('Embarked:', emb)\n",
    "\n",
    "emb_binned = tf.keras.layers.StringLookup(vocabulary=['S', 'C', 'Q'])(emb)\n",
    "print('Embarked ids:', emb_binned)\n",
    "\n",
    "emb_embed = tf.keras.layers.Embedding(\n",
    "    input_dim=4, output_dim=4, input_length=1)(emb_binned)\n",
    "print('Embarked embeddings:', emb_embed)"
   ]
  },
  {
   "cell_type": "code",
   "execution_count": 23,
   "metadata": {
    "id": "W4IhUnNvg3gr"
   },
   "outputs": [],
   "source": [
    "def build_model():\n",
    "  # Clear session and remove randomness.\n",
    "  tf.keras.backend.clear_session()\n",
    "  tf.random.set_seed(0)\n",
    "\n",
    "  age = tf.keras.layers.Input(shape=(1,), dtype=tf.float32, name='Age')\n",
    "  sex = tf.keras.layers.Input(shape=(1,), dtype=tf.string, name='Sex')\n",
    "  pclass = tf.keras.layers.Input(shape=(1,), dtype=tf.int64, name='Pclass')\n",
    "  emb = tf.keras.layers.Input(shape=(1,), dtype=tf.string, name='Embarked')\n",
    "\n",
    "  embed_dim = 4\n",
    "\n",
    "  age_bins = [0.1, 1, 5, 10, 20, 30, 40, 50, 60]\n",
    "  age_binned = tf.keras.layers.Discretization(bin_boundaries=age_bins)(age)\n",
    "  sex_binned = tf.keras.layers.StringLookup(vocabulary=['male', 'female'])(sex)\n",
    "  pclass_binned = tf.keras.layers.IntegerLookup(vocabulary=[1, 2, 3])(pclass)\n",
    "  emb_binned = tf.keras.layers.StringLookup(vocabulary=['S', 'C', 'Q'])(emb)\n",
    "\n",
    "  age_embed = tf.keras.layers.Embedding(\n",
    "      input_dim=len(age_bins)+1, output_dim=embed_dim, input_length=1)(age_binned)\n",
    "  sex_embed = tf.keras.layers.Embedding(\n",
    "      input_dim=3, output_dim=embed_dim, input_length=1)(sex_binned)\n",
    "  pclass_embed = tf.keras.layers.Embedding(\n",
    "      input_dim=4, output_dim=embed_dim, input_length=1)(pclass_binned)\n",
    "  emb_embed = tf.keras.layers.Embedding(\n",
    "      input_dim=4, output_dim=embed_dim, input_length=1)(emb_binned)\n",
    "\n",
    "  # features = tf.keras.layers.Concatenate()(\n",
    "  #     [age_embed, sex_embed, pclass_embed, emb_embed])\n",
    "  features = tf.keras.layers.Add()(\n",
    "      [age_embed, sex_embed, pclass_embed, emb_embed])\n",
    "  \n",
    "  dense = tf.keras.layers.Dense(\n",
    "      units=12, activation='tanh', name='hidden1')(features)\n",
    "\n",
    "  survived = tf.keras.layers.Dense(\n",
    "      units=1, activation='sigmoid', name='Survived')(dense)\n",
    "\n",
    "  model = tf.keras.Model(inputs=[age, sex, pclass, emb],\n",
    "                         outputs=survived,\n",
    "                         name='Titanic')\n",
    "  model.compile(\n",
    "      optimizer=tf.keras.optimizers.Adam(learning_rate=0.02),\n",
    "      loss='binary_crossentropy',\n",
    "      metrics=['accuracy'])\n",
    "\n",
    "  return model"
   ]
  },
  {
   "cell_type": "code",
   "execution_count": 24,
   "metadata": {
    "id": "ho-0pCL6lR5J"
   },
   "outputs": [
    {
     "name": "stdout",
     "output_type": "stream",
     "text": [
      "You must install pydot (`pip install pydot`) and install graphviz (see instructions at https://graphviz.gitlab.io/download/) for plot_model/model_to_dot to work.\n"
     ]
    },
    {
     "data": {
      "text/plain": [
       "None"
      ]
     },
     "metadata": {},
     "output_type": "display_data"
    },
    {
     "data": {
      "image/png": "[encoded data removed]",
      "text/plain": [
       "<Figure size 432x288 with 1 Axes>"
      ]
     },
     "metadata": {},
     "output_type": "display_data"
    },
    {
     "name": "stdout",
     "output_type": "stream",
     "text": [
      "final train acc: 0.815\n",
      "final dev acc:   0.858\n"
     ]
    }
   ],
   "source": [
    "model = build_model()\n",
    "display(tf.keras.utils.plot_model(model))\n",
    "\n",
    "history = model.fit(\n",
    "  x={\n",
    "      'Age': df_train[['Age']],\n",
    "      'Sex': df_train[['Sex']],\n",
    "      'Pclass': df_train[['Pclass']],\n",
    "      'Embarked': df_train[['Embarked']],\n",
    "    },\n",
    "  y=df_train[['Survived']],\n",
    "  epochs=20,\n",
    "  batch_size=64,\n",
    "  validation_data=(\n",
    "      {\n",
    "        'Age': df_dev[['Age']],\n",
    "        'Sex': df_dev[['Sex']],\n",
    "        'Pclass': df_dev[['Pclass']],\n",
    "        'Embarked': df_dev[['Embarked']],\n",
    "      },\n",
    "      df_dev[['Survived']]),\n",
    "  verbose=0)\n",
    "\n",
    "show_history(history)"
   ]
  },
  {
   "cell_type": "code",
   "execution_count": 25,
   "metadata": {
    "id": "vGj6rI-DaLnK"
   },
   "outputs": [],
   "source": [
    "# Write to csv in the required format for kaggle submission\n",
    "def output_csv(predictions):\n",
    "  df_test['Survived'] = predictions.reshape(-1).round().astype(int)\n",
    "  display(df_test.head(10))\n",
    "  filename = 'titanic_predictions.csv'\n",
    "  df_test.to_csv(\n",
    "      filename,\n",
    "      columns=['PassengerId', 'Survived'],\n",
    "      index=False)\n",
    "  print('Saved as:', filename)"
   ]
  },
  {
   "cell_type": "code",
   "execution_count": 26,
   "metadata": {
    "id": "ry4titaMnIlN"
   },
   "outputs": [
    {
     "data": {
      "text/html": [
       "<div>\n",
       "<style scoped>\n",
       "    .dataframe tbody tr th:only-of-type {\n",
       "        vertical-align: middle;\n",
       "    }\n",
       "\n",
       "    .dataframe tbody tr th {\n",
       "        vertical-align: top;\n",
       "    }\n",
       "\n",
       "    .dataframe thead th {\n",
       "        text-align: right;\n",
       "    }\n",
       "</style>\n",
       "<table border=\"1\" class=\"dataframe\">\n",
       "  <thead>\n",
       "    <tr style=\"text-align: right;\">\n",
       "      <th></th>\n",
       "      <th>PassengerId</th>\n",
       "      <th>Pclass</th>\n",
       "      <th>Name</th>\n",
       "      <th>Sex</th>\n",
       "      <th>Age</th>\n",
       "      <th>SibSp</th>\n",
       "      <th>Parch</th>\n",
       "      <th>Ticket</th>\n",
       "      <th>Fare</th>\n",
       "      <th>Cabin</th>\n",
       "      <th>Embarked</th>\n",
       "      <th>Title</th>\n",
       "      <th>Survived</th>\n",
       "    </tr>\n",
       "  </thead>\n",
       "  <tbody>\n",
       "    <tr>\n",
       "      <th>0</th>\n",
       "      <td>892</td>\n",
       "      <td>3</td>\n",
       "      <td>Kelly, Mr. James</td>\n",
       "      <td>male</td>\n",
       "      <td>34.5</td>\n",
       "      <td>0</td>\n",
       "      <td>0</td>\n",
       "      <td>330911</td>\n",
       "      <td>7.8292</td>\n",
       "      <td>Unknown</td>\n",
       "      <td>Q</td>\n",
       "      <td>Mr.</td>\n",
       "      <td>0</td>\n",
       "    </tr>\n",
       "    <tr>\n",
       "      <th>1</th>\n",
       "      <td>893</td>\n",
       "      <td>3</td>\n",
       "      <td>Wilkes, Mrs. James (Ellen Needs)</td>\n",
       "      <td>female</td>\n",
       "      <td>47.0</td>\n",
       "      <td>1</td>\n",
       "      <td>0</td>\n",
       "      <td>363272</td>\n",
       "      <td>7.0000</td>\n",
       "      <td>Unknown</td>\n",
       "      <td>S</td>\n",
       "      <td>Mrs.</td>\n",
       "      <td>0</td>\n",
       "    </tr>\n",
       "    <tr>\n",
       "      <th>2</th>\n",
       "      <td>894</td>\n",
       "      <td>2</td>\n",
       "      <td>Myles, Mr. Thomas Francis</td>\n",
       "      <td>male</td>\n",
       "      <td>62.0</td>\n",
       "      <td>0</td>\n",
       "      <td>0</td>\n",
       "      <td>240276</td>\n",
       "      <td>9.6875</td>\n",
       "      <td>Unknown</td>\n",
       "      <td>Q</td>\n",
       "      <td>Mr.</td>\n",
       "      <td>0</td>\n",
       "    </tr>\n",
       "    <tr>\n",
       "      <th>3</th>\n",
       "      <td>895</td>\n",
       "      <td>3</td>\n",
       "      <td>Wirz, Mr. Albert</td>\n",
       "      <td>male</td>\n",
       "      <td>27.0</td>\n",
       "      <td>0</td>\n",
       "      <td>0</td>\n",
       "      <td>315154</td>\n",
       "      <td>8.6625</td>\n",
       "      <td>Unknown</td>\n",
       "      <td>S</td>\n",
       "      <td>Mr.</td>\n",
       "      <td>0</td>\n",
       "    </tr>\n",
       "    <tr>\n",
       "      <th>4</th>\n",
       "      <td>896</td>\n",
       "      <td>3</td>\n",
       "      <td>Hirvonen, Mrs. Alexander (Helga E Lindqvist)</td>\n",
       "      <td>female</td>\n",
       "      <td>22.0</td>\n",
       "      <td>1</td>\n",
       "      <td>1</td>\n",
       "      <td>3101298</td>\n",
       "      <td>12.2875</td>\n",
       "      <td>Unknown</td>\n",
       "      <td>S</td>\n",
       "      <td>Mrs.</td>\n",
       "      <td>0</td>\n",
       "    </tr>\n",
       "    <tr>\n",
       "      <th>5</th>\n",
       "      <td>897</td>\n",
       "      <td>3</td>\n",
       "      <td>Svensson, Mr. Johan Cervin</td>\n",
       "      <td>male</td>\n",
       "      <td>14.0</td>\n",
       "      <td>0</td>\n",
       "      <td>0</td>\n",
       "      <td>7538</td>\n",
       "      <td>9.2250</td>\n",
       "      <td>Unknown</td>\n",
       "      <td>S</td>\n",
       "      <td>Mr.</td>\n",
       "      <td>0</td>\n",
       "    </tr>\n",
       "    <tr>\n",
       "      <th>6</th>\n",
       "      <td>898</td>\n",
       "      <td>3</td>\n",
       "      <td>Connolly, Miss. Kate</td>\n",
       "      <td>female</td>\n",
       "      <td>30.0</td>\n",
       "      <td>0</td>\n",
       "      <td>0</td>\n",
       "      <td>330972</td>\n",
       "      <td>7.6292</td>\n",
       "      <td>Unknown</td>\n",
       "      <td>Q</td>\n",
       "      <td>Miss.</td>\n",
       "      <td>1</td>\n",
       "    </tr>\n",
       "    <tr>\n",
       "      <th>7</th>\n",
       "      <td>899</td>\n",
       "      <td>2</td>\n",
       "      <td>Caldwell, Mr. Albert Francis</td>\n",
       "      <td>male</td>\n",
       "      <td>26.0</td>\n",
       "      <td>1</td>\n",
       "      <td>1</td>\n",
       "      <td>248738</td>\n",
       "      <td>29.0000</td>\n",
       "      <td>Unknown</td>\n",
       "      <td>S</td>\n",
       "      <td>Mr.</td>\n",
       "      <td>0</td>\n",
       "    </tr>\n",
       "    <tr>\n",
       "      <th>8</th>\n",
       "      <td>900</td>\n",
       "      <td>3</td>\n",
       "      <td>Abrahim, Mrs. Joseph (Sophie Halaut Easu)</td>\n",
       "      <td>female</td>\n",
       "      <td>18.0</td>\n",
       "      <td>0</td>\n",
       "      <td>0</td>\n",
       "      <td>2657</td>\n",
       "      <td>7.2292</td>\n",
       "      <td>Unknown</td>\n",
       "      <td>C</td>\n",
       "      <td>Mrs.</td>\n",
       "      <td>1</td>\n",
       "    </tr>\n",
       "    <tr>\n",
       "      <th>9</th>\n",
       "      <td>901</td>\n",
       "      <td>3</td>\n",
       "      <td>Davies, Mr. John Samuel</td>\n",
       "      <td>male</td>\n",
       "      <td>21.0</td>\n",
       "      <td>2</td>\n",
       "      <td>0</td>\n",
       "      <td>A/4 48871</td>\n",
       "      <td>24.1500</td>\n",
       "      <td>Unknown</td>\n",
       "      <td>S</td>\n",
       "      <td>Mr.</td>\n",
       "      <td>0</td>\n",
       "    </tr>\n",
       "  </tbody>\n",
       "</table>\n",
       "</div>"
      ],
      "text/plain": [
       "   PassengerId  Pclass                                          Name     Sex  \\\n",
       "0          892       3                              Kelly, Mr. James    male   \n",
       "1          893       3              Wilkes, Mrs. James (Ellen Needs)  female   \n",
       "2          894       2                     Myles, Mr. Thomas Francis    male   \n",
       "3          895       3                              Wirz, Mr. Albert    male   \n",
       "4          896       3  Hirvonen, Mrs. Alexander (Helga E Lindqvist)  female   \n",
       "5          897       3                    Svensson, Mr. Johan Cervin    male   \n",
       "6          898       3                          Connolly, Miss. Kate  female   \n",
       "7          899       2                  Caldwell, Mr. Albert Francis    male   \n",
       "8          900       3     Abrahim, Mrs. Joseph (Sophie Halaut Easu)  female   \n",
       "9          901       3                       Davies, Mr. John Samuel    male   \n",
       "\n",
       "    Age  SibSp  Parch     Ticket     Fare    Cabin Embarked  Title  Survived  \n",
       "0  34.5      0      0     330911   7.8292  Unknown        Q    Mr.         0  \n",
       "1  47.0      1      0     363272   7.0000  Unknown        S   Mrs.         0  \n",
       "2  62.0      0      0     240276   9.6875  Unknown        Q    Mr.         0  \n",
       "3  27.0      0      0     315154   8.6625  Unknown        S    Mr.         0  \n",
       "4  22.0      1      1    3101298  12.2875  Unknown        S   Mrs.         0  \n",
       "5  14.0      0      0       7538   9.2250  Unknown        S    Mr.         0  \n",
       "6  30.0      0      0     330972   7.6292  Unknown        Q  Miss.         1  \n",
       "7  26.0      1      1     248738  29.0000  Unknown        S    Mr.         0  \n",
       "8  18.0      0      0       2657   7.2292  Unknown        C   Mrs.         1  \n",
       "9  21.0      2      0  A/4 48871  24.1500  Unknown        S    Mr.         0  "
      ]
     },
     "metadata": {},
     "output_type": "display_data"
    },
    {
     "name": "stdout",
     "output_type": "stream",
     "text": [
      "Saved as: titanic_predictions.csv\n"
     ]
    }
   ],
   "source": [
    "test_preds = model.predict(\n",
    "  x={\n",
    "      'Age': df_test[['Age']],\n",
    "      'Sex': df_test[['Sex']],\n",
    "      'Pclass': df_test[['Pclass']],\n",
    "      'Embarked': df_test[['Embarked']],\n",
    "    }\n",
    ")\n",
    "\n",
    "output_csv(test_preds)"
   ]
  },
  {
   "cell_type": "markdown",
   "metadata": {
    "id": "YtfAuhEiBlIg"
   },
   "source": [
    "## Model 5: Multiple Outputs"
   ]
  },
  {
   "cell_type": "code",
   "execution_count": 27,
   "metadata": {
    "id": "B8bqvevDG-_D"
   },
   "outputs": [],
   "source": [
    "def build_model():\n",
    "  # Clear session and remove randomness.\n",
    "  tf.keras.backend.clear_session()\n",
    "  tf.random.set_seed(0)\n",
    "\n",
    "  age = tf.keras.layers.Input(shape=(1,), dtype=tf.float32, name='Age')\n",
    "  sex = tf.keras.layers.Input(shape=(1,), dtype=tf.string, name='Sex')\n",
    "  pclass = tf.keras.layers.Input(shape=(1,), dtype=tf.int64, name='Pclass')\n",
    "  emb = tf.keras.layers.Input(shape=(1,), dtype=tf.string, name='Embarked')\n",
    "\n",
    "  embed_dim = 4\n",
    "\n",
    "  age_bins = [0.1, 1, 5, 10, 20, 30, 40, 50, 60]\n",
    "  age_binned = tf.keras.layers.Discretization(bin_boundaries=age_bins)(age)\n",
    "  sex_binned = tf.keras.layers.StringLookup(vocabulary=['male', 'female'])(sex)\n",
    "  pclass_binned = tf.keras.layers.IntegerLookup(vocabulary=[1, 2, 3])(pclass)\n",
    "  emb_binned = tf.keras.layers.StringLookup(vocabulary=['S', 'C', 'Q'])(emb)\n",
    "\n",
    "  age_embed = tf.keras.layers.Embedding(\n",
    "      input_dim=len(age_bins)+1, output_dim=embed_dim, input_length=1)(age_binned)\n",
    "  sex_embed = tf.keras.layers.Embedding(\n",
    "      input_dim=3, output_dim=embed_dim, input_length=1)(sex_binned)\n",
    "  pclass_embed = tf.keras.layers.Embedding(\n",
    "      input_dim=4, output_dim=embed_dim, input_length=1)(pclass_binned)\n",
    "  emb_embed = tf.keras.layers.Embedding(\n",
    "      input_dim=4, output_dim=embed_dim, input_length=1)(emb_binned)\n",
    "\n",
    "  features = tf.keras.layers.Add()(\n",
    "      [age_embed, sex_embed, pclass_embed, emb_embed])\n",
    "  \n",
    "  dense = tf.keras.layers.Dense(\n",
    "      units=12, activation='tanh', name='hidden1')(features)\n",
    "\n",
    "  survived = tf.keras.layers.Dense(\n",
    "      units=1, activation='sigmoid', name='Survived')(dense)\n",
    "\n",
    "  fare = tf.keras.layers.Dense(\n",
    "      units=1, activation=None, name='Fare')(dense)\n",
    "\n",
    "  model = tf.keras.Model(inputs=[age, sex, pclass, emb],\n",
    "                         outputs=[survived, fare],\n",
    "                         name='Titanic')\n",
    "  model.compile(\n",
    "      optimizer=tf.keras.optimizers.Adam(learning_rate=0.02),\n",
    "      loss={'Survived': 'binary_crossentropy', 'Fare': 'mean_absolute_error'},\n",
    "      loss_weights={'Survived': 9.0, 'Fare': 1.0},\n",
    "      metrics={'Survived': 'accuracy', 'Fare': 'mean_absolute_error'})\n",
    "\n",
    "  return model"
   ]
  },
  {
   "cell_type": "code",
   "execution_count": 28,
   "metadata": {
    "id": "JNM-ZzN0SIas"
   },
   "outputs": [
    {
     "name": "stdout",
     "output_type": "stream",
     "text": [
      "You must install pydot (`pip install pydot`) and install graphviz (see instructions at https://graphviz.gitlab.io/download/) for plot_model/model_to_dot to work.\n"
     ]
    },
    {
     "data": {
      "text/plain": [
       "None"
      ]
     },
     "metadata": {},
     "output_type": "display_data"
    },
    {
     "data": {
      "image/png": "[encoded data removed]",
      "text/plain": [
       "<Figure size 432x288 with 1 Axes>"
      ]
     },
     "metadata": {},
     "output_type": "display_data"
    },
    {
     "name": "stdout",
     "output_type": "stream",
     "text": [
      "final train acc: 0.812\n",
      "final dev acc:   0.851\n",
      "final train mae: 0.428\n",
      "final dev mae:   0.437\n"
     ]
    }
   ],
   "source": [
    "model = build_model()\n",
    "display(tf.keras.utils.plot_model(model))\n",
    "\n",
    "history = model.fit(\n",
    "  x={\n",
    "      'Age': df_train[['Age']],\n",
    "      'Sex': df_train[['Sex']],\n",
    "      'Pclass': df_train[['Pclass']],\n",
    "      'Embarked': df_train[['Embarked']],\n",
    "    },\n",
    "  y={\n",
    "      'Survived': df_train[['Survived']],\n",
    "      'Fare': np.log(df_train[['Fare']] + 1)\n",
    "    },\n",
    "  epochs=30,\n",
    "  batch_size=64,\n",
    "  validation_data=(\n",
    "      {\n",
    "        'Age': df_dev[['Age']],\n",
    "        'Sex': df_dev[['Sex']],\n",
    "        'Pclass': df_dev[['Pclass']],\n",
    "        'Embarked': df_dev[['Embarked']],\n",
    "      },\n",
    "      {\n",
    "        'Survived': df_dev[['Survived']],\n",
    "        'Fare': np.log(df_dev[['Fare']] + 1),\n",
    "      }),\n",
    "  verbose=0)\n",
    "\n",
    "plt.plot(history.history['loss'], color='black', label='train')\n",
    "plt.plot(history.history['val_loss'], color='red', label='dev')\n",
    "plt.xlabel('epoch')\n",
    "plt.ylabel('loss')\n",
    "plt.legend()\n",
    "plt.show()\n",
    "print('final train acc: %.3f' %history.history['Survived_accuracy'][-1])\n",
    "print('final dev acc:   %.3f' %history.history['val_Survived_accuracy'][-1])\n",
    "print('final train mae: %.3f' %history.history['Fare_mean_absolute_error'][-1])\n",
    "print('final dev mae:   %.3f' %history.history['val_Fare_mean_absolute_error'][-1])"
   ]
  },
  {
   "cell_type": "code",
   "execution_count": null,
   "metadata": {
    "id": "mA5ZYtR3b3AI"
   },
   "outputs": [],
   "source": []
  }
 ],
 "metadata": {
  "colab": {
   "authorship_tag": "ABX9TyN1u4obLhVU1JYUOzj/HQES",
   "collapsed_sections": [],
   "name": "Week 11 Demo.ipynb",
   "private_outputs": true,
   "provenance": [],
   "toc_visible": true
  },
  "kernelspec": {
   "display_name": "Python 3",
   "language": "python",
   "name": "python3"
  },
  "language_info": {
   "codemirror_mode": {
    "name": "ipython",
    "version": 3
   },
   "file_extension": ".py",
   "mimetype": "text/x-python",
   "name": "python",
   "nbconvert_exporter": "python",
   "pygments_lexer": "ipython3",
   "version": "3.8.3"
  }
 },
 "nbformat": 4,
 "nbformat_minor": 4
}
