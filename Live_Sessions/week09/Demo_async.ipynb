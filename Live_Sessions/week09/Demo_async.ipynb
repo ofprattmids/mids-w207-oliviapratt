{
 "cells": [
  {
   "cell_type": "code",
   "execution_count": 1,
   "metadata": {
    "id": "gbvIxBTJyxzv"
   },
   "outputs": [],
   "source": [
    "# Import our standard libraries.\n",
    "import numpy as np\n",
    "from matplotlib import pyplot as plt\n",
    "import seaborn as sns  # for nicer plots\n",
    "sns.set(style='darkgrid')  # default style\n",
    "import tensorflow as tf\n",
    "import pandas as pd"
   ]
  },
  {
   "cell_type": "markdown",
   "metadata": {
    "id": "EXq4Ys5kLM9A"
   },
   "source": [
    "## Understanding the Embeddings Layer"
   ]
  },
  {
   "cell_type": "code",
   "execution_count": 2,
   "metadata": {
    "id": "ZILRy2bDM81P"
   },
   "outputs": [],
   "source": [
    "# Input shape:  (batch_size, input_length)\n",
    "# Output shape: (batch_size, input_length, output_dim)\n",
    "embeddings = tf.keras.layers.Embedding(\n",
    "    input_dim = 100,  # size of feature vocabulary\n",
    "    output_dim = 2,   # embedding dimension\n",
    "    input_length = 5  # number of inputs\n",
    "    )"
   ]
  },
  {
   "cell_type": "code",
   "execution_count": 3,
   "metadata": {},
   "outputs": [
    {
     "data": {
      "text/plain": [
       "array([0, 1, 2, 3, 4], dtype=int32)"
      ]
     },
     "execution_count": 3,
     "metadata": {},
     "output_type": "execute_result"
    }
   ],
   "source": [
    "data = tf.constant([0, 1, 2, 3, 4], shape=(1, 5))\n",
    "data[0].numpy()"
   ]
  },
  {
   "cell_type": "code",
   "execution_count": 4,
   "metadata": {
    "id": "1ftNkJwzN_Xu"
   },
   "outputs": [
    {
     "data": {
      "text/plain": [
       "array([[[ 0.03155569, -0.02880342],\n",
       "        [-0.0452475 , -0.04974592],\n",
       "        [ 0.01206049, -0.02634952],\n",
       "        [-0.02141825, -0.04246259],\n",
       "        [-0.02787409, -0.01105261]]], dtype=float32)"
      ]
     },
     "execution_count": 4,
     "metadata": {},
     "output_type": "execute_result"
    }
   ],
   "source": [
    "# Get embeddings for the input ids [0, 1, 2, 3, 4]\n",
    "data = tf.constant([0, 1, 2, 3, 4], shape=(1, 5))\n",
    "embed_data = embeddings(data)\n",
    "embed_data.numpy()"
   ]
  },
  {
   "cell_type": "code",
   "execution_count": 5,
   "metadata": {
    "id": "NHajItNaSD61"
   },
   "outputs": [
    {
     "data": {
      "text/plain": [
       "array([[-0.01018473, -0.03168281]], dtype=float32)"
      ]
     },
     "execution_count": 5,
     "metadata": {},
     "output_type": "execute_result"
    }
   ],
   "source": [
    "# Average embeddings\n",
    "embed_data_average = tf.keras.layers.GlobalAveragePooling1D()(embed_data)\n",
    "embed_data_average.numpy()"
   ]
  },
  {
   "cell_type": "markdown",
   "metadata": {
    "id": "uS1vgfpI3k89"
   },
   "source": [
    "## Embeddings for Text"
   ]
  },
  {
   "cell_type": "markdown",
   "metadata": {
    "id": "2PGO-lK3J0R-"
   },
   "source": [
    "Let's store our small set of movie reviews and their labels in numpy arrays"
   ]
  },
  {
   "cell_type": "code",
   "execution_count": 6,
   "metadata": {
    "id": "8rFCBLrV4AQ3"
   },
   "outputs": [],
   "source": [
    "X_train = np.array([\n",
    "                    'This movie was amazing',\n",
    "                    'I have seen it 8 times !',\n",
    "                    'I fell asleep',\n",
    "                    'I would not recommend it',\n",
    "                    'It was absolutely awful',\n",
    "                    'I would watch it again !'\n",
    "                  ])\n",
    "\n",
    "Y_train = np.array([\n",
    "                    1,\n",
    "                    1,\n",
    "                    0,\n",
    "                    0,  \n",
    "                    0, \n",
    "                    1\n",
    "                  ])\n"
   ]
  },
  {
   "cell_type": "code",
   "execution_count": 7,
   "metadata": {
    "id": "__eF8JYS5WK5"
   },
   "outputs": [
    {
     "data": {
      "text/plain": [
       "'This movie was amazing'"
      ]
     },
     "metadata": {},
     "output_type": "display_data"
    }
   ],
   "source": [
    "display(X_train[0])"
   ]
  },
  {
   "cell_type": "code",
   "execution_count": 8,
   "metadata": {
    "id": "8JGHiApe5fiY"
   },
   "outputs": [
    {
     "data": {
      "text/plain": [
       "'--Vocabulary--'"
      ]
     },
     "metadata": {},
     "output_type": "display_data"
    },
    {
     "data": {
      "text/plain": [
       "'0: '"
      ]
     },
     "metadata": {},
     "output_type": "display_data"
    },
    {
     "data": {
      "text/plain": [
       "'1: [UNK]'"
      ]
     },
     "metadata": {},
     "output_type": "display_data"
    },
    {
     "data": {
      "text/plain": [
       "'2: it'"
      ]
     },
     "metadata": {},
     "output_type": "display_data"
    },
    {
     "data": {
      "text/plain": [
       "'3: i'"
      ]
     },
     "metadata": {},
     "output_type": "display_data"
    },
    {
     "data": {
      "text/plain": [
       "'4: would'"
      ]
     },
     "metadata": {},
     "output_type": "display_data"
    },
    {
     "data": {
      "text/plain": [
       "'5: was'"
      ]
     },
     "metadata": {},
     "output_type": "display_data"
    },
    {
     "data": {
      "text/plain": [
       "'6: watch'"
      ]
     },
     "metadata": {},
     "output_type": "display_data"
    },
    {
     "data": {
      "text/plain": [
       "'7: times'"
      ]
     },
     "metadata": {},
     "output_type": "display_data"
    },
    {
     "data": {
      "text/plain": [
       "'8: this'"
      ]
     },
     "metadata": {},
     "output_type": "display_data"
    },
    {
     "data": {
      "text/plain": [
       "'9: seen'"
      ]
     },
     "metadata": {},
     "output_type": "display_data"
    },
    {
     "data": {
      "text/plain": [
       "'10: recommend'"
      ]
     },
     "metadata": {},
     "output_type": "display_data"
    },
    {
     "data": {
      "text/plain": [
       "'11: not'"
      ]
     },
     "metadata": {},
     "output_type": "display_data"
    },
    {
     "data": {
      "text/plain": [
       "'12: movie'"
      ]
     },
     "metadata": {},
     "output_type": "display_data"
    },
    {
     "data": {
      "text/plain": [
       "'13: have'"
      ]
     },
     "metadata": {},
     "output_type": "display_data"
    },
    {
     "data": {
      "text/plain": [
       "'14: fell'"
      ]
     },
     "metadata": {},
     "output_type": "display_data"
    },
    {
     "data": {
      "text/plain": [
       "'15: awful'"
      ]
     },
     "metadata": {},
     "output_type": "display_data"
    },
    {
     "data": {
      "text/plain": [
       "'16: asleep'"
      ]
     },
     "metadata": {},
     "output_type": "display_data"
    },
    {
     "data": {
      "text/plain": [
       "'17: amazing'"
      ]
     },
     "metadata": {},
     "output_type": "display_data"
    },
    {
     "data": {
      "text/plain": [
       "'18: again'"
      ]
     },
     "metadata": {},
     "output_type": "display_data"
    },
    {
     "data": {
      "text/plain": [
       "'19: absolutely'"
      ]
     },
     "metadata": {},
     "output_type": "display_data"
    },
    {
     "data": {
      "text/plain": [
       "'20: 8'"
      ]
     },
     "metadata": {},
     "output_type": "display_data"
    }
   ],
   "source": [
    "max_sequence_length = 6\n",
    "\n",
    "vectorize_layer = tf.keras.layers.TextVectorization(\n",
    "    max_tokens=None, # Maximum vocabulary size - None -> no cap\n",
    "    standardize='lower_and_strip_punctuation', # Standarization to apply to text - None -> no standarization\n",
    "    split=\"whitespace\", # Values can be None (no splitting), \"whitespace\", or a Callable\n",
    "    output_mode='int',  # Values can be \"int\", \"multi_hot\", \"count\" or \"tf_idf\"\n",
    "    output_sequence_length=max_sequence_length, # Only valid in INT mode. If set, the output will have its time dimension padded or truncated to exactly output_sequence_length values\n",
    "    )\n",
    "\n",
    "vectorize_layer.adapt(X_train)\n",
    "\n",
    "display(\"--Vocabulary--\")\n",
    "for i, token in enumerate(vectorize_layer.get_vocabulary()):\n",
    "  display('%d: %s' %(i, token))\n",
    "\n",
    "# 0: ('') - Padding Token\n",
    "# 1: ('[UNK]') - OOV Token"
   ]
  },
  {
   "cell_type": "code",
   "execution_count": 9,
   "metadata": {
    "id": "F1iNTJ7v-DfY"
   },
   "outputs": [
    {
     "data": {
      "text/plain": [
       "<tf.Tensor: shape=(6, 6), dtype=int64, numpy=\n",
       "array([[ 8, 12,  5, 17,  0,  0],\n",
       "       [ 3, 13,  9,  2, 20,  7],\n",
       "       [ 3, 14, 16,  0,  0,  0],\n",
       "       [ 3,  4, 11, 10,  2,  0],\n",
       "       [ 2,  5, 19, 15,  0,  0],\n",
       "       [ 3,  4,  6,  2, 18,  0]])>"
      ]
     },
     "metadata": {},
     "output_type": "display_data"
    }
   ],
   "source": [
    "X_train_vectorized = vectorize_layer(X_train)\n",
    "\n",
    "display(X_train_vectorized)"
   ]
  },
  {
   "cell_type": "code",
   "execution_count": 10,
   "metadata": {
    "id": "MjqFXONSCtJI"
   },
   "outputs": [
    {
     "data": {
      "text/plain": [
       "<tf.Tensor: shape=(6, 2), dtype=float32, numpy=\n",
       "array([[ 0.0125216 ,  0.02773574],\n",
       "       [-0.01848136,  0.01387316],\n",
       "       [ 0.02856031,  0.00809778],\n",
       "       [ 0.02628567, -0.03921146],\n",
       "       [-0.02038398, -0.0034708 ],\n",
       "       [-0.02038398, -0.0034708 ]], dtype=float32)>"
      ]
     },
     "metadata": {},
     "output_type": "display_data"
    }
   ],
   "source": [
    "vocab_size = len(vectorize_layer.get_vocabulary())\n",
    "\n",
    "# Input shape:  (batch_size, input_length)\n",
    "# Output shape: (batch_size, input_length, output_dim)\n",
    "embedding_layer = tf.keras.layers.Embedding(\n",
    "    input_dim = vocab_size,  # size of feature vocabulary\n",
    "    output_dim = 2,   # embedding dimension\n",
    "    input_length = max_sequence_length  # number of inputs\n",
    "    )\n",
    "\n",
    "first_review_embed_rep = embedding_layer(X_train_vectorized[0])\n",
    "display(first_review_embed_rep)"
   ]
  },
  {
   "cell_type": "code",
   "execution_count": 11,
   "metadata": {
    "id": "jXiFgOojy5m-"
   },
   "outputs": [],
   "source": [
    "def build_model():\n",
    "  tf.keras.backend.clear_session()\n",
    "  tf.random.set_seed(0)\n",
    "\n",
    "  model = tf.keras.Sequential()\n",
    "  model.add(vectorize_layer)\n",
    "  model.add(tf.keras.layers.Embedding(\n",
    "      input_dim = vocab_size,  # size of feature vocabulary\n",
    "      output_dim = 2,  # embedding dimension\n",
    "      input_length = max_sequence_length  # number of inputs\n",
    "      ))\n",
    "\n",
    "  # Average over the sequence dimension, so each review is represented by \n",
    "  # 1 vector of size embedding_dimension\n",
    "  model.add(tf.keras.layers.GlobalAveragePooling1D()) \n",
    "\n",
    "  # Alternatively, we could concatenate the embedding representations of \n",
    "  # all tokens in the movie review\n",
    "  #model.add(tf.keras.layers.Flatten())\n",
    "\n",
    "  model.add(tf.keras.layers.Dense(\n",
    "      units=8,        \n",
    "      activation='relu'))\n",
    "\n",
    "  model.add(tf.keras.layers.Dense(\n",
    "      units=1,        \n",
    "      activation='sigmoid'))\n",
    "\n",
    "  model.compile(loss='binary_crossentropy', \n",
    "                optimizer='adam',\n",
    "                metrics=['accuracy'])\n",
    "  \n",
    "  return model"
   ]
  },
  {
   "cell_type": "code",
   "execution_count": 12,
   "metadata": {
    "id": "38BFoq44G0bG"
   },
   "outputs": [
    {
     "data": {
      "text/plain": [
       "[<keras.layers.preprocessing.text_vectorization.TextVectorization at 0x7fc1389b7280>,\n",
       " <keras.layers.embeddings.Embedding at 0x7fc118d8ab20>,\n",
       " <keras.layers.pooling.GlobalAveragePooling1D at 0x7fc118d6fb20>,\n",
       " <keras.layers.core.dense.Dense at 0x7fc118d95af0>,\n",
       " <keras.layers.core.dense.Dense at 0x7fc118d959d0>]"
      ]
     },
     "metadata": {},
     "output_type": "display_data"
    },
    {
     "name": "stdout",
     "output_type": "stream",
     "text": [
      "Model: \"sequential\"\n",
      "_________________________________________________________________\n",
      " Layer (type)                Output Shape              Param #   \n",
      "=================================================================\n",
      " text_vectorization (TextVec  (None, 6)                0         \n",
      " torization)                                                     \n",
      "                                                                 \n",
      " embedding (Embedding)       (None, 6, 2)              42        \n",
      "                                                                 \n",
      " global_average_pooling1d (G  (None, 2)                0         \n",
      " lobalAveragePooling1D)                                          \n",
      "                                                                 \n",
      " dense (Dense)               (None, 8)                 24        \n",
      "                                                                 \n",
      " dense_1 (Dense)             (None, 1)                 9         \n",
      "                                                                 \n",
      "=================================================================\n",
      "Total params: 75\n",
      "Trainable params: 75\n",
      "Non-trainable params: 0\n",
      "_________________________________________________________________\n"
     ]
    },
    {
     "data": {
      "text/plain": [
       "None"
      ]
     },
     "metadata": {},
     "output_type": "display_data"
    },
    {
     "data": {
      "text/plain": [
       "'Embeddings layer - shape: '"
      ]
     },
     "metadata": {},
     "output_type": "display_data"
    },
    {
     "data": {
      "text/plain": [
       "(21, 2)"
      ]
     },
     "metadata": {},
     "output_type": "display_data"
    },
    {
     "data": {
      "text/plain": [
       "'Embeddings layer - parameter matrix (before training): '"
      ]
     },
     "metadata": {},
     "output_type": "display_data"
    },
    {
     "data": {
      "text/plain": [
       "array([[-0.02080249, -0.02934336],\n",
       "       [ 0.00353907,  0.00612575],\n",
       "       [-0.00833255,  0.03078279],\n",
       "       [-0.00067749,  0.04981292],\n",
       "       [ 0.01967352, -0.03746264],\n",
       "       [ 0.02098167,  0.01624156],\n",
       "       [ 0.00722566, -0.01352465],\n",
       "       [-0.00794817,  0.0130057 ],\n",
       "       [ 0.0413813 ,  0.01616472],\n",
       "       [ 0.03334736, -0.0416042 ],\n",
       "       [-0.02202406, -0.04844768],\n",
       "       [ 0.02263736,  0.02655387],\n",
       "       [ 0.01798667,  0.00327279],\n",
       "       [ 0.02565141, -0.04525781],\n",
       "       [-0.04496286,  0.02517435],\n",
       "       [-0.03272872, -0.01880648],\n",
       "       [-0.02086261, -0.03994876],\n",
       "       [-0.03343292,  0.02696652],\n",
       "       [ 0.00856798,  0.04820097],\n",
       "       [ 0.04148327, -0.03583347],\n",
       "       [-0.04024345,  0.01062784]], dtype=float32)"
      ]
     },
     "metadata": {},
     "output_type": "display_data"
    }
   ],
   "source": [
    "model = build_model()\n",
    "\n",
    "# Display the model layers.\n",
    "display(model.layers)\n",
    "display(model.summary())\n",
    "\n",
    "# Retrieve the embeddings layer, which itself is wrapped in a list.\n",
    "embeddings = model.layers[1].get_weights()[0]\n",
    "display(\"Embeddings layer - shape: \", embeddings.shape)\n",
    "display(\"Embeddings layer - parameter matrix (before training): \", embeddings)"
   ]
  },
  {
   "cell_type": "code",
   "execution_count": 13,
   "metadata": {
    "id": "MebyIPtzOApO"
   },
   "outputs": [],
   "source": [
    "def plot_embeddings(model):\n",
    "  embeddings = model.layers[1].get_weights()[0]\n",
    "  plt.scatter(embeddings[:,0], embeddings[:,1])\n",
    "  for i, token in enumerate(vectorize_layer.get_vocabulary()):\n",
    "    plt.annotate(token, (embeddings[i]))\n",
    "  plt.show()"
   ]
  },
  {
   "cell_type": "code",
   "execution_count": 14,
   "metadata": {
    "id": "mWVOJsbyJ53A"
   },
   "outputs": [
    {
     "data": {
      "image/png": "[encoded data removed]",
      "text/plain": [
       "<Figure size 432x288 with 1 Axes>"
      ]
     },
     "metadata": {},
     "output_type": "display_data"
    }
   ],
   "source": [
    "plot_embeddings(model)"
   ]
  },
  {
   "cell_type": "code",
   "execution_count": 15,
   "metadata": {
    "id": "_rmbLCqU_72d"
   },
   "outputs": [
    {
     "data": {
      "text/plain": [
       "array(['This movie was amazing', 'I have seen it 8 times !',\n",
       "       'I fell asleep', 'I would not recommend it',\n",
       "       'It was absolutely awful', 'I would watch it again !'],\n",
       "      dtype='<U24')"
      ]
     },
     "metadata": {},
     "output_type": "display_data"
    },
    {
     "data": {
      "text/plain": [
       "array([[0.49993494],\n",
       "       [0.4996607 ],\n",
       "       [0.5028277 ],\n",
       "       [0.5002368 ],\n",
       "       [0.5008004 ],\n",
       "       [0.4990555 ]], dtype=float32)"
      ]
     },
     "metadata": {},
     "output_type": "display_data"
    }
   ],
   "source": [
    "display(X_train)\n",
    "display(model.predict(X_train))"
   ]
  },
  {
   "cell_type": "code",
   "execution_count": 16,
   "metadata": {
    "id": "IOheiJzMIGrS"
   },
   "outputs": [
    {
     "data": {
      "image/png": "[encoded data removed]",
      "text/plain": [
       "<Figure size 432x288 with 1 Axes>"
      ]
     },
     "metadata": {},
     "output_type": "display_data"
    }
   ],
   "source": [
    "history = model.fit(\n",
    "  x = X_train,  # our sparse padded training data\n",
    "  y = Y_train,  # corresponding binary labels\n",
    "  epochs=15,    # number of passes through the training data\n",
    "  verbose=0     # display some progress output during training\n",
    "  )\n",
    "\n",
    "plot_embeddings(model)"
   ]
  },
  {
   "cell_type": "code",
   "execution_count": 17,
   "metadata": {
    "id": "MycKjnpTK5nh"
   },
   "outputs": [
    {
     "data": {
      "text/plain": [
       "array(['This movie was amazing', 'I have seen it 8 times !',\n",
       "       'I fell asleep', 'I would not recommend it',\n",
       "       'It was absolutely awful', 'I would watch it again !'],\n",
       "      dtype='<U24')"
      ]
     },
     "metadata": {},
     "output_type": "display_data"
    },
    {
     "data": {
      "text/plain": [
       "array([[0.50098765],\n",
       "       [0.5007835 ],\n",
       "       [0.49886107],\n",
       "       [0.49937138],\n",
       "       [0.49927565],\n",
       "       [0.50067824]], dtype=float32)"
      ]
     },
     "metadata": {},
     "output_type": "display_data"
    }
   ],
   "source": [
    "display(X_train)\n",
    "display(model.predict(X_train))"
   ]
  },
  {
   "cell_type": "code",
   "execution_count": null,
   "metadata": {},
   "outputs": [],
   "source": []
  }
 ],
 "metadata": {
  "colab": {
   "authorship_tag": "ABX9TyPdgKagw6Y9Ql3IUcl6ZRZM",
   "collapsed_sections": [],
   "name": "Learned Embeddings for Text.ipynb",
   "provenance": [],
   "toc_visible": true
  },
  "kernelspec": {
   "display_name": "Python 3",
   "language": "python",
   "name": "python3"
  },
  "language_info": {
   "codemirror_mode": {
    "name": "ipython",
    "version": 3
   },
   "file_extension": ".py",
   "mimetype": "text/x-python",
   "name": "python",
   "nbconvert_exporter": "python",
   "pygments_lexer": "ipython3",
   "version": "3.8.3"
  }
 },
 "nbformat": 4,
 "nbformat_minor": 4
}
