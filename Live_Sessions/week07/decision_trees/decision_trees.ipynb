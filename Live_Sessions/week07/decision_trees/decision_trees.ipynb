{
 "cells": [
  {
   "cell_type": "markdown",
   "metadata": {},
   "source": [
    "## Week 7: The decision tree classfier; and two concepts: impurity(entropy) and information gain\n",
    "\n",
    "Instructor: Cornelia Ilin <br>\n",
    "Email: cilin@ischool.berkeley.edu <br>"
   ]
  },
  {
   "cell_type": "markdown",
   "metadata": {},
   "source": [
    "Citations: <br>\n",
    "    - Chapter 3: Python Machine Learning 3rd Edition by [RM](https://sebastianraschka.com), Packt Publishing Ltd. 2019 <br>"
   ]
  },
  {
   "cell_type": "markdown",
   "metadata": {},
   "source": [
    "#### ``Objectives``\n",
    " - short intro on decission tree learning.\n",
    " - experiments with entropy, information gain, and decision trees."
   ]
  },
  {
   "cell_type": "markdown",
   "metadata": {},
   "source": [
    "#### ``Decission tree learning``\n",
    " - used for classifying non-linearly separable data (can build complex decission bounderies by dividing the feature space into rectangles).\n",
    " - based on the features of the training set, the decission tree classifier learns a series of questions to infer the class labels.\n",
    " - can be used for both categorical and real numbered variables (if a real number, just define a cut-off value to ask a binary question).\n",
    " - we start at the tree root (contains all data) and split the data on the feature that results in the largest **Information Gain (IG)**.\n",
    " - using an iterative process, repeat the splitting procedure at each child node until you reach the leaf node (i.e., when the training examples at each node all belong to the same class).\n",
    " - be aware of overfitting issues! this can happen if the tree becomes too long! Make sure to **prune** the tree by setting a maximal depth of the tree."
   ]
  },
  {
   "cell_type": "markdown",
   "metadata": {},
   "source": [
    "### Step 1: Import packages"
   ]
  },
  {
   "cell_type": "code",
   "execution_count": 1,
   "metadata": {},
   "outputs": [],
   "source": [
    "import pandas as pd\n",
    "import numpy as np\n",
    "import matplotlib.pyplot as plt\n",
    "\n",
    "from sklearn.model_selection import train_test_split\n",
    "from sklearn import tree\n",
    "from sklearn.tree import DecisionTreeClassifier\n",
    "\n",
    "# For producing decision tree diagrams.\n",
    "from IPython.core.display import Image, display\n",
    "import pydot\n",
    "from pydotplus import graph_from_dot_data\n",
    "from sklearn.tree import export_graphviz\n",
    "\n",
    "# This tells matplotlib not to try opening a new window for each plot.\n",
    "%matplotlib inline\n",
    "\n",
    "from sklearn.datasets import load_iris"
   ]
  },
  {
   "cell_type": "markdown",
   "metadata": {},
   "source": [
    "### Step 2: Define working directories"
   ]
  },
  {
   "cell_type": "code",
   "execution_count": null,
   "metadata": {},
   "outputs": [],
   "source": []
  },
  {
   "cell_type": "markdown",
   "metadata": {},
   "source": [
    "### Step 3: Define classes"
   ]
  },
  {
   "cell_type": "code",
   "execution_count": null,
   "metadata": {},
   "outputs": [],
   "source": []
  },
  {
   "cell_type": "markdown",
   "metadata": {},
   "source": [
    "### Step 4: Define functions"
   ]
  },
  {
   "cell_type": "code",
   "execution_count": 2,
   "metadata": {},
   "outputs": [],
   "source": [
    "def entropy(distribution):\n",
    "    ''' Computes the entropy index\n",
    "    # param distribution: list containing distributions\n",
    "    # return entropy index\n",
    "    '''\n",
    "    entropy_index = 0.0\n",
    "    for probability in distribution:\n",
    "        logprob = -100.0  # log(0) = -inf so let's approximate it with -100 to avoid an error\n",
    "        if probability > 0.0: \n",
    "            logprob = np.log2(probability)\n",
    "        entropy_index -= probability * logprob\n",
    "        \n",
    "    return entropy_index"
   ]
  },
  {
   "cell_type": "code",
   "execution_count": 3,
   "metadata": {},
   "outputs": [],
   "source": [
    "def get_parent_distribution(labels):\n",
    "    ''' Computes parent distirbution\n",
    "    # param labels: << your turn to comment here >>\n",
    "    # return: <<your turn to comment here >>\n",
    "    '''\n",
    "    # Initialize counters for all labels to zero.\n",
    "    label_probs = np.array([0.0 for i in range(len(np.unique(labels)))])\n",
    "\n",
    "    # Iterate over labels in the training data and update counts.\n",
    "    for label in labels:\n",
    "        label_probs[label] += 1.0\n",
    "    \n",
    "    # Normalize to get a distribution.\n",
    "    label_probs /= label_probs.sum()\n",
    "    \n",
    "    return label_probs"
   ]
  },
  {
   "cell_type": "code",
   "execution_count": 4,
   "metadata": {},
   "outputs": [],
   "source": [
    "def information_gain(data, labels, feature, threshold=0):\n",
    "    ''' Computes information gain\n",
    "    # param data: an array of featurized examples\n",
    "    # param labels: an array of labels corresponding to the the data\n",
    "    # param feature: the feature to use to split the data\n",
    "    # param threshold: the feature value to use to split the data (the default threshold is good for binary features)\n",
    "    '''\n",
    "    # Get the initial entropy of the label distribution.\n",
    "    initial_entropy = entropy(get_parent_distribution(labels))\n",
    "    \n",
    "    # subset0 will contain the labels for which the feature is 0 and\n",
    "    # subset1 will contain the labels for which the feature is 1.\n",
    "    subset0, subset1 = [], []\n",
    "    for datum, label in zip(data, labels):\n",
    "        if datum[feature] > threshold:\n",
    "            subset1.append(label)\n",
    "        else: \n",
    "            subset0.append(label)\n",
    "    \n",
    "    # Compute the entropy of each subset.\n",
    "    subset0_entropy = entropy(get_parent_distribution(subset0))\n",
    "    subset1_entropy = entropy(get_parent_distribution(subset1))\n",
    "    \n",
    "    # Compute the final entropy by weighting each subset's entropy according to its size.\n",
    "    subset0_weight = 1.0 * len(subset0) / len(labels)\n",
    "    subset1_weight = 1.0 * len(subset1) / len(labels)\n",
    "    final_entropy = subset0_weight * subset0_entropy + subset1_weight * subset1_entropy\n",
    "    \n",
    "    # Finally, compute information gain as the difference between the initial and final entropy.\n",
    "    return initial_entropy - final_entropy"
   ]
  },
  {
   "cell_type": "code",
   "execution_count": 5,
   "metadata": {},
   "outputs": [],
   "source": [
    "def try_features_and_thresholds(data, labels):\n",
    "    ''' Computes thresholds for each features and returns the threshold that optimized information gain\n",
    "    # param labels: << your turn to comment here >>\n",
    "    # return: <<your turn to comment here >>\n",
    "    '''\n",
    "    print('feature', 'best_threshold', 'best_IG', 'feature name')\n",
    "    for feature in range(data.shape[1]):\n",
    "        # Choose a set of thresholds between the min- and max-valued feature, ignoring the min and max themselves.\n",
    "        thresholds = np.linspace(data[:,feature].min(), data[:,feature].max(), 20)[1:-1]\n",
    "\n",
    "        # Try each threshold and keep track of the best one for this feature.\n",
    "        best_threshold = 0\n",
    "        best_IG = 0\n",
    "        for threshold in thresholds:\n",
    "            IG = information_gain(data, labels, feature, threshold)\n",
    "            if IG > best_IG:\n",
    "                best_IG = IG\n",
    "                best_threshold = threshold\n",
    "\n",
    "        # Show the best threshold and information gain for this feature.\n",
    "        \n",
    "        print ('%d %.3f %.3f %s' %(feature, best_threshold, best_IG, features[feature]))"
   ]
  },
  {
   "cell_type": "markdown",
   "metadata": {},
   "source": [
    "---\n",
    "### Step 5: Read data\n",
    "---"
   ]
  },
  {
   "cell_type": "code",
   "execution_count": 6,
   "metadata": {},
   "outputs": [
    {
     "name": "stdout",
     "output_type": "stream",
     "text": [
      "Shape of df wine: (178, 14)\n",
      "Class labels: [1 2 3]\n",
      "\n"
     ]
    },
    {
     "data": {
      "text/html": [
       "<div>\n",
       "<style scoped>\n",
       "    .dataframe tbody tr th:only-of-type {\n",
       "        vertical-align: middle;\n",
       "    }\n",
       "\n",
       "    .dataframe tbody tr th {\n",
       "        vertical-align: top;\n",
       "    }\n",
       "\n",
       "    .dataframe thead th {\n",
       "        text-align: right;\n",
       "    }\n",
       "</style>\n",
       "<table border=\"1\" class=\"dataframe\">\n",
       "  <thead>\n",
       "    <tr style=\"text-align: right;\">\n",
       "      <th></th>\n",
       "      <th>class_label</th>\n",
       "      <th>alcohol</th>\n",
       "      <th>malic_acid</th>\n",
       "      <th>ash</th>\n",
       "      <th>alcalinity_of_ash</th>\n",
       "      <th>magnesium</th>\n",
       "      <th>total_pphenols</th>\n",
       "      <th>flavanoids</th>\n",
       "      <th>nonflavanoid_phenols</th>\n",
       "      <th>proanthocyanins</th>\n",
       "      <th>color_intensity</th>\n",
       "      <th>hue</th>\n",
       "      <th>OD280/OD315_of_diluted_wines</th>\n",
       "      <th>proline</th>\n",
       "    </tr>\n",
       "  </thead>\n",
       "  <tbody>\n",
       "    <tr>\n",
       "      <th>0</th>\n",
       "      <td>1</td>\n",
       "      <td>14.23</td>\n",
       "      <td>1.71</td>\n",
       "      <td>2.43</td>\n",
       "      <td>15.6</td>\n",
       "      <td>127</td>\n",
       "      <td>2.80</td>\n",
       "      <td>3.06</td>\n",
       "      <td>0.28</td>\n",
       "      <td>2.29</td>\n",
       "      <td>5.64</td>\n",
       "      <td>1.04</td>\n",
       "      <td>3.92</td>\n",
       "      <td>1065</td>\n",
       "    </tr>\n",
       "    <tr>\n",
       "      <th>1</th>\n",
       "      <td>1</td>\n",
       "      <td>13.20</td>\n",
       "      <td>1.78</td>\n",
       "      <td>2.14</td>\n",
       "      <td>11.2</td>\n",
       "      <td>100</td>\n",
       "      <td>2.65</td>\n",
       "      <td>2.76</td>\n",
       "      <td>0.26</td>\n",
       "      <td>1.28</td>\n",
       "      <td>4.38</td>\n",
       "      <td>1.05</td>\n",
       "      <td>3.40</td>\n",
       "      <td>1050</td>\n",
       "    </tr>\n",
       "    <tr>\n",
       "      <th>2</th>\n",
       "      <td>1</td>\n",
       "      <td>13.16</td>\n",
       "      <td>2.36</td>\n",
       "      <td>2.67</td>\n",
       "      <td>18.6</td>\n",
       "      <td>101</td>\n",
       "      <td>2.80</td>\n",
       "      <td>3.24</td>\n",
       "      <td>0.30</td>\n",
       "      <td>2.81</td>\n",
       "      <td>5.68</td>\n",
       "      <td>1.03</td>\n",
       "      <td>3.17</td>\n",
       "      <td>1185</td>\n",
       "    </tr>\n",
       "    <tr>\n",
       "      <th>3</th>\n",
       "      <td>1</td>\n",
       "      <td>14.37</td>\n",
       "      <td>1.95</td>\n",
       "      <td>2.50</td>\n",
       "      <td>16.8</td>\n",
       "      <td>113</td>\n",
       "      <td>3.85</td>\n",
       "      <td>3.49</td>\n",
       "      <td>0.24</td>\n",
       "      <td>2.18</td>\n",
       "      <td>7.80</td>\n",
       "      <td>0.86</td>\n",
       "      <td>3.45</td>\n",
       "      <td>1480</td>\n",
       "    </tr>\n",
       "    <tr>\n",
       "      <th>4</th>\n",
       "      <td>1</td>\n",
       "      <td>13.24</td>\n",
       "      <td>2.59</td>\n",
       "      <td>2.87</td>\n",
       "      <td>21.0</td>\n",
       "      <td>118</td>\n",
       "      <td>2.80</td>\n",
       "      <td>2.69</td>\n",
       "      <td>0.39</td>\n",
       "      <td>1.82</td>\n",
       "      <td>4.32</td>\n",
       "      <td>1.04</td>\n",
       "      <td>2.93</td>\n",
       "      <td>735</td>\n",
       "    </tr>\n",
       "  </tbody>\n",
       "</table>\n",
       "</div>"
      ],
      "text/plain": [
       "   class_label  alcohol  malic_acid   ash  alcalinity_of_ash  magnesium  \\\n",
       "0            1    14.23        1.71  2.43               15.6        127   \n",
       "1            1    13.20        1.78  2.14               11.2        100   \n",
       "2            1    13.16        2.36  2.67               18.6        101   \n",
       "3            1    14.37        1.95  2.50               16.8        113   \n",
       "4            1    13.24        2.59  2.87               21.0        118   \n",
       "\n",
       "   total_pphenols  flavanoids  nonflavanoid_phenols  proanthocyanins  \\\n",
       "0            2.80        3.06                  0.28             2.29   \n",
       "1            2.65        2.76                  0.26             1.28   \n",
       "2            2.80        3.24                  0.30             2.81   \n",
       "3            3.85        3.49                  0.24             2.18   \n",
       "4            2.80        2.69                  0.39             1.82   \n",
       "\n",
       "   color_intensity   hue  OD280/OD315_of_diluted_wines  proline  \n",
       "0             5.64  1.04                          3.92     1065  \n",
       "1             4.38  1.05                          3.40     1050  \n",
       "2             5.68  1.03                          3.17     1185  \n",
       "3             7.80  0.86                          3.45     1480  \n",
       "4             4.32  1.04                          2.93      735  "
      ]
     },
     "execution_count": 6,
     "metadata": {},
     "output_type": "execute_result"
    }
   ],
   "source": [
    "df = pd.read_csv('https://archive.ics.uci.edu/'\n",
    "                      'ml/machine-learning-databases/wine/wine.data',\n",
    "                      header=None)\n",
    "\n",
    "df.columns = ['class_label', 'alcohol', 'malic_acid', 'ash',\n",
    "              'alcalinity_of_ash', 'magnesium', 'total_pphenols',\n",
    "              'flavanoids', 'nonflavanoid_phenols', 'proanthocyanins',\n",
    "              'color_intensity', 'hue', 'OD280/OD315_of_diluted_wines',\n",
    "              'proline']\n",
    "\n",
    "print('Shape of df wine:', df.shape)\n",
    "print('Class labels:', df['class_label'].unique())\n",
    "print()\n",
    "df.head()"
   ]
  },
  {
   "cell_type": "markdown",
   "metadata": {},
   "source": [
    "---\n",
    "### Step 6: Data preprocessing\n",
    "---"
   ]
  },
  {
   "cell_type": "markdown",
   "metadata": {},
   "source": [
    "### Step 6.1 Rename class labels\n",
    "\n",
    "easier to iterate functions that iterate through labels (index starts at 0 in Python)"
   ]
  },
  {
   "cell_type": "code",
   "execution_count": 7,
   "metadata": {},
   "outputs": [
    {
     "name": "stdout",
     "output_type": "stream",
     "text": [
      "Class labels: [0 1 2]\n"
     ]
    }
   ],
   "source": [
    "class_mapping = {label: idx for idx, label in enumerate(np.unique(df.class_label))}\n",
    "class_mapping\n",
    "\n",
    "df['class_label'] = df.class_label.map(class_mapping)\n",
    "print('Class labels:', df.class_label.unique())"
   ]
  },
  {
   "cell_type": "markdown",
   "metadata": {},
   "source": [
    "#### Step 6.1 Data subseting\n",
    "\n",
    "Today we will be working with all class labels but only four features ['alcohol', 'malic_acid', 'ash', 'flavanoids']."
   ]
  },
  {
   "cell_type": "code",
   "execution_count": 8,
   "metadata": {},
   "outputs": [
    {
     "data": {
      "text/html": [
       "<div>\n",
       "<style scoped>\n",
       "    .dataframe tbody tr th:only-of-type {\n",
       "        vertical-align: middle;\n",
       "    }\n",
       "\n",
       "    .dataframe tbody tr th {\n",
       "        vertical-align: top;\n",
       "    }\n",
       "\n",
       "    .dataframe thead th {\n",
       "        text-align: right;\n",
       "    }\n",
       "</style>\n",
       "<table border=\"1\" class=\"dataframe\">\n",
       "  <thead>\n",
       "    <tr style=\"text-align: right;\">\n",
       "      <th></th>\n",
       "      <th>class_label</th>\n",
       "      <th>alcohol</th>\n",
       "      <th>malic_acid</th>\n",
       "      <th>ash</th>\n",
       "      <th>color_intensity</th>\n",
       "    </tr>\n",
       "  </thead>\n",
       "  <tbody>\n",
       "    <tr>\n",
       "      <th>0</th>\n",
       "      <td>0</td>\n",
       "      <td>14.23</td>\n",
       "      <td>1.71</td>\n",
       "      <td>2.43</td>\n",
       "      <td>5.64</td>\n",
       "    </tr>\n",
       "    <tr>\n",
       "      <th>1</th>\n",
       "      <td>0</td>\n",
       "      <td>13.20</td>\n",
       "      <td>1.78</td>\n",
       "      <td>2.14</td>\n",
       "      <td>4.38</td>\n",
       "    </tr>\n",
       "    <tr>\n",
       "      <th>2</th>\n",
       "      <td>0</td>\n",
       "      <td>13.16</td>\n",
       "      <td>2.36</td>\n",
       "      <td>2.67</td>\n",
       "      <td>5.68</td>\n",
       "    </tr>\n",
       "    <tr>\n",
       "      <th>3</th>\n",
       "      <td>0</td>\n",
       "      <td>14.37</td>\n",
       "      <td>1.95</td>\n",
       "      <td>2.50</td>\n",
       "      <td>7.80</td>\n",
       "    </tr>\n",
       "    <tr>\n",
       "      <th>4</th>\n",
       "      <td>0</td>\n",
       "      <td>13.24</td>\n",
       "      <td>2.59</td>\n",
       "      <td>2.87</td>\n",
       "      <td>4.32</td>\n",
       "    </tr>\n",
       "  </tbody>\n",
       "</table>\n",
       "</div>"
      ],
      "text/plain": [
       "   class_label  alcohol  malic_acid   ash  color_intensity\n",
       "0            0    14.23        1.71  2.43             5.64\n",
       "1            0    13.20        1.78  2.14             4.38\n",
       "2            0    13.16        2.36  2.67             5.68\n",
       "3            0    14.37        1.95  2.50             7.80\n",
       "4            0    13.24        2.59  2.87             4.32"
      ]
     },
     "execution_count": 8,
     "metadata": {},
     "output_type": "execute_result"
    }
   ],
   "source": [
    "labels = ['class_label']\n",
    "features = ['alcohol', 'malic_acid', 'ash', 'color_intensity']\n",
    "df = df[labels+features]\n",
    "df.head()"
   ]
  },
  {
   "cell_type": "markdown",
   "metadata": {},
   "source": [
    "Notice that the feature values are real valued. Let's look at histograms of each features."
   ]
  },
  {
   "cell_type": "code",
   "execution_count": 9,
   "metadata": {},
   "outputs": [
    {
     "data": {
      "image/png": "[encoded data removed]",
      "text/plain": [
       "<Figure size 1080x216 with 4 Axes>"
      ]
     },
     "metadata": {
      "needs_background": "light"
     },
     "output_type": "display_data"
    }
   ],
   "source": [
    "# Create a new figure and set the figsize argument so we get square-ish plots of the 4 features.\n",
    "plt.figure(figsize=(15, 3))\n",
    "\n",
    "# Iterate over the features, creating a subplot with a histogram for each one.\n",
    "for idx, feature in enumerate(features):\n",
    "    plt.subplot(1, 4, idx+1)\n",
    "    df[feature].hist(bins=10, grid=False)\n",
    "    plt.title(feature)"
   ]
  },
  {
   "cell_type": "markdown",
   "metadata": {},
   "source": [
    "#### Step 6.2 Binarize feature values"
   ]
  },
  {
   "cell_type": "markdown",
   "metadata": {},
   "source": [
    "To make things simple, let's binarize these feature values. That is, we'll treat each measurement as either \"low\"=0 or \"high\"=1. I'm just going to choose a threshold for each feature. Threshold = mean value of the feature."
   ]
  },
  {
   "cell_type": "code",
   "execution_count": 10,
   "metadata": {},
   "outputs": [
    {
     "name": "stdout",
     "output_type": "stream",
     "text": [
      "Binarize thresholds:\n",
      " [0.5168539325842697, 0.37640449438202245, 0.48314606741573035, 0.43820224719101125]\n"
     ]
    },
    {
     "data": {
      "text/html": [
       "<div>\n",
       "<style scoped>\n",
       "    .dataframe tbody tr th:only-of-type {\n",
       "        vertical-align: middle;\n",
       "    }\n",
       "\n",
       "    .dataframe tbody tr th {\n",
       "        vertical-align: top;\n",
       "    }\n",
       "\n",
       "    .dataframe thead th {\n",
       "        text-align: right;\n",
       "    }\n",
       "</style>\n",
       "<table border=\"1\" class=\"dataframe\">\n",
       "  <thead>\n",
       "    <tr style=\"text-align: right;\">\n",
       "      <th></th>\n",
       "      <th>class_label</th>\n",
       "      <th>alcohol</th>\n",
       "      <th>malic_acid</th>\n",
       "      <th>ash</th>\n",
       "      <th>color_intensity</th>\n",
       "    </tr>\n",
       "  </thead>\n",
       "  <tbody>\n",
       "    <tr>\n",
       "      <th>0</th>\n",
       "      <td>0</td>\n",
       "      <td>1</td>\n",
       "      <td>0</td>\n",
       "      <td>1</td>\n",
       "      <td>1</td>\n",
       "    </tr>\n",
       "    <tr>\n",
       "      <th>1</th>\n",
       "      <td>0</td>\n",
       "      <td>1</td>\n",
       "      <td>0</td>\n",
       "      <td>0</td>\n",
       "      <td>0</td>\n",
       "    </tr>\n",
       "    <tr>\n",
       "      <th>2</th>\n",
       "      <td>0</td>\n",
       "      <td>1</td>\n",
       "      <td>1</td>\n",
       "      <td>1</td>\n",
       "      <td>1</td>\n",
       "    </tr>\n",
       "    <tr>\n",
       "      <th>3</th>\n",
       "      <td>0</td>\n",
       "      <td>1</td>\n",
       "      <td>0</td>\n",
       "      <td>1</td>\n",
       "      <td>1</td>\n",
       "    </tr>\n",
       "    <tr>\n",
       "      <th>4</th>\n",
       "      <td>0</td>\n",
       "      <td>1</td>\n",
       "      <td>1</td>\n",
       "      <td>1</td>\n",
       "      <td>0</td>\n",
       "    </tr>\n",
       "  </tbody>\n",
       "</table>\n",
       "</div>"
      ],
      "text/plain": [
       "   class_label  alcohol  malic_acid  ash  color_intensity\n",
       "0            0        1           0    1                1\n",
       "1            0        1           0    0                0\n",
       "2            0        1           1    1                1\n",
       "3            0        1           0    1                1\n",
       "4            0        1           1    1                0"
      ]
     },
     "execution_count": 10,
     "metadata": {},
     "output_type": "execute_result"
    }
   ],
   "source": [
    "binarize_threshold = []\n",
    "df_b = df\n",
    "\n",
    "for feature in features:\n",
    "    df_b[feature] = np.where(df_b[feature] >= df_b[feature].mean(), 1, 0)\n",
    "    binarize_threshold.append(df_b[feature].mean())\n",
    "print('Binarize thresholds:\\n', binarize_threshold)\n",
    "df_b.head()"
   ]
  },
  {
   "cell_type": "code",
   "execution_count": 11,
   "metadata": {},
   "outputs": [
    {
     "data": {
      "image/png": "[encoded data removed]",
      "text/plain": [
       "<Figure size 1080x216 with 4 Axes>"
      ]
     },
     "metadata": {
      "needs_background": "light"
     },
     "output_type": "display_data"
    }
   ],
   "source": [
    "# Create a new figure and set the figsize argument so we get square-ish plots of the 4 features.\n",
    "plt.figure(figsize=(15, 3))\n",
    "\n",
    "# Iterate over the features, creating a subplot with a histogram for each one.\n",
    "for idx, feature in enumerate(features):\n",
    "    plt.subplot(1, 4, idx+1)\n",
    "    df_b[feature].hist(bins=10, grid=False)\n",
    "    plt.title(feature)"
   ]
  },
  {
   "cell_type": "markdown",
   "metadata": {},
   "source": [
    "Let's create a contingency (summary) table for the 'alcohol' feature, and let's see on a piece of paper how the decision tree algo works (see doc <span style=\"color:chocolate\">wine_math_example.pdf</span>).\n",
    "\n",
    "Note: read info at Step 7 first."
   ]
  },
  {
   "cell_type": "code",
   "execution_count": 12,
   "metadata": {},
   "outputs": [
    {
     "data": {
      "text/html": [
       "<div>\n",
       "<style scoped>\n",
       "    .dataframe tbody tr th:only-of-type {\n",
       "        vertical-align: middle;\n",
       "    }\n",
       "\n",
       "    .dataframe tbody tr th {\n",
       "        vertical-align: top;\n",
       "    }\n",
       "\n",
       "    .dataframe thead th {\n",
       "        text-align: right;\n",
       "    }\n",
       "</style>\n",
       "<table border=\"1\" class=\"dataframe\">\n",
       "  <thead>\n",
       "    <tr style=\"text-align: right;\">\n",
       "      <th>class_label</th>\n",
       "      <th>0</th>\n",
       "      <th>1</th>\n",
       "      <th>2</th>\n",
       "      <th>total</th>\n",
       "    </tr>\n",
       "    <tr>\n",
       "      <th>alcohol</th>\n",
       "      <th></th>\n",
       "      <th></th>\n",
       "      <th></th>\n",
       "      <th></th>\n",
       "    </tr>\n",
       "  </thead>\n",
       "  <tbody>\n",
       "    <tr>\n",
       "      <th>0</th>\n",
       "      <td>2</td>\n",
       "      <td>63</td>\n",
       "      <td>21</td>\n",
       "      <td>86</td>\n",
       "    </tr>\n",
       "    <tr>\n",
       "      <th>1</th>\n",
       "      <td>57</td>\n",
       "      <td>8</td>\n",
       "      <td>27</td>\n",
       "      <td>92</td>\n",
       "    </tr>\n",
       "  </tbody>\n",
       "</table>\n",
       "</div>"
      ],
      "text/plain": [
       "class_label   0   1   2  total\n",
       "alcohol                       \n",
       "0             2  63  21     86\n",
       "1            57   8  27     92"
      ]
     },
     "execution_count": 12,
     "metadata": {},
     "output_type": "execute_result"
    }
   ],
   "source": [
    "summary_table = pd.DataFrame(df_b.groupby(['class_label', 'alcohol']).agg({'alcohol':['count']}).reset_index())\n",
    "summary_table.columns=['class_label', 'alcohol', 'count']\n",
    "summary_table = pd.pivot(summary_table, index = \"alcohol\", columns = \"class_label\", values= 'count')\n",
    "summary_table['total'] = summary_table.loc[:, 0] + summary_table.loc[:, 1] + summary_table.loc[:, 2]\n",
    "summary_table"
   ]
  },
  {
   "cell_type": "markdown",
   "metadata": {},
   "source": [
    "#### Step 6.3 Split data into train and test sets"
   ]
  },
  {
   "cell_type": "code",
   "execution_count": 13,
   "metadata": {},
   "outputs": [],
   "source": [
    "# create X and y arrays for the non-binerized version and binerized version\n",
    "X = np.array(df.iloc[:, 1:])\n",
    "y = np.array(df.iloc[:, 0])\n",
    "\n",
    "X_b = np.array(df_b.iloc[:, 1:])\n",
    "y_b = np.array(df_b.iloc[:, 0])\n",
    "\n",
    "X_train, X_test, y_train, y_test = train_test_split(X, y, test_size=0.25,\n",
    "                                                    random_state=1, stratify=y)\n",
    "\n",
    "X_b_train, X_b_test, y_b_train, y_b_test = train_test_split(X_b, y_b, test_size=0.25,\n",
    "                                                    random_state=1, stratify=y_b)"
   ]
  },
  {
   "cell_type": "code",
   "execution_count": 14,
   "metadata": {},
   "outputs": [
    {
     "name": "stdout",
     "output_type": "stream",
     "text": [
      "Shape X_b_train:  (133, 4) \n",
      "Shape X_b_test:  (45, 4) \n",
      "Shape y_b_train:  (133,) \n",
      "Shape y_b_test: (45,)\n"
     ]
    }
   ],
   "source": [
    "print('Shape X_b_train: ', X_b_train.shape, '\\nShape X_b_test: ', X_b_test.shape,\n",
    "      '\\nShape y_b_train: ', y_b_train.shape, '\\nShape y_b_test:', y_b_test.shape)"
   ]
  },
  {
   "cell_type": "markdown",
   "metadata": {},
   "source": [
    "---\n",
    "### Step 7: Decission tree classifier\n",
    "---"
   ]
  },
  {
   "cell_type": "markdown",
   "metadata": {},
   "source": [
    "Based on the features in the wine dataset, the decission tree algo learns a series of questions to make predictions about class labels. \n",
    "\n",
    "The decission tree algo starts at the tree root (contains all data) and splits the data on the feature that results in the largest **Information Gain (IG)**.\n",
    "\n",
    "Using an iterative process, the algo repeats the splitting procedure at each child node until a leaf node is reached (i.e., when the training examples at each node all belong to the same class).\n",
    "\n",
    "---"
   ]
  },
  {
   "cell_type": "markdown",
   "metadata": {},
   "source": [
    "#### Question: How do we decide what are the most informative features (a.k.a., child nodes)? \n",
    "\n",
    "---"
   ]
  },
  {
   "cell_type": "markdown",
   "metadata": {},
   "source": [
    "**Objective**: maximize the **Information Gain (IG)** at each node split:\n",
    "\n",
    "$IG(D_p,f) = I(D_p) - \\sum_{j=1}^{m} \\frac{N_j}{N_p} I(D_j)$,\n",
    "\n",
    "where:\n",
    "- $D_p$ = dataset of the parent node\n",
    "- $D_j$ = dataset of the j_th child node\n",
    "- $f$ = f is the feature to perform the split\n",
    "- $I$ = our Impurity measure (we will use Entropy)\n",
    "- $N_p$ = total number of training examples at the parent node\n",
    "- $N_j$ = total number of training examples at the child j_th node\n",
    "\n",
    "So the IG is the difference between the impurity of the parent node and the sum of the child node impurities (the lower the impurities of the child nodes, the larger the information gain).\n",
    "\n",
    "For efficiency, most libraries (incl. scikit-learn) implement binary decission trees, meaning that each parent node is split into two child nodes: <br>\n",
    "$IG(D_p,f) = I(D_p) - [\\frac{N_j}{N_p} I(D_{left}) + \\frac{N_j}{N_p} I(D_{right})]$,"
   ]
  },
  {
   "cell_type": "markdown",
   "metadata": {},
   "source": [
    "We are missing only one thing, the definition of our impurity measure (**entropy**):\n",
    "\n",
    "$I(t) = -\\sum_{i=1}^{c} p(i|t) \\times log_2 p(i|t)$\n",
    "\n",
    "where:\n",
    "- $p(i|t)$ is the proportion of examples that belong to class $i$ for a particular node, $t$\n",
    "\n",
    "So the entropy is zero if all example at a node belong to the same class, and it's maximal if we have a uniform distribution (even split between class labels). In other words, entropy is a measure of uncertainty, and it is maximized when the distribution is uniform."
   ]
  },
  {
   "cell_type": "code",
   "execution_count": 15,
   "metadata": {},
   "outputs": [
    {
     "data": {
      "image/png": "[encoded data removed]",
      "text/plain": [
       "<Figure size 288x288 with 1 Axes>"
      ]
     },
     "metadata": {
      "needs_background": "light"
     },
     "output_type": "display_data"
    }
   ],
   "source": [
    "# Show a plot of the entropy, I(X), of a Bernoulli random variable X.\n",
    "p_values = np.linspace(0, 1, 50)\n",
    "entropies = [entropy([p, 1-p]) for p in p_values]  #Note: the entropy function is defined at the top\n",
    "plt.figure(figsize=(4,4))\n",
    "plt.plot(p_values, entropies, 'o')\n",
    "plt.xlabel('P(X=1)');\n",
    "plt.ylabel('I(X)');"
   ]
  },
  {
   "cell_type": "markdown",
   "metadata": {},
   "source": [
    "#### Step 7.1 Compute the impurity (entropy) of the parent dataset\n",
    "\n",
    "In other words, we are interested in the entropy of our distribution over labels. You may recall that the distribution in the training data is nearly uniform."
   ]
  },
  {
   "cell_type": "code",
   "execution_count": 16,
   "metadata": {},
   "outputs": [
    {
     "name": "stdout",
     "output_type": "stream",
     "text": [
      "Parent distribution [0.33082707 0.39849624 0.27067669]\n",
      "Parent entropy: 1.5672217184800328\n",
      "Uniform entropy: 1.584962500721156\n"
     ]
    }
   ],
   "source": [
    "label_probs = get_parent_distribution(y_b_train)\n",
    "print ('Parent distribution', label_probs)\n",
    "# Compare the label entropy to a uniform distribution.\n",
    "print ('Parent entropy:', entropy(label_probs))\n",
    "print ('Uniform entropy:', entropy([1./3, 1./3, 1./3]))"
   ]
  },
  {
   "cell_type": "markdown",
   "metadata": {},
   "source": [
    "#### Step 7.1 Compute the impurity of the child nodes"
   ]
  },
  {
   "cell_type": "markdown",
   "metadata": {},
   "source": [
    "In other words, we want to look at the entropy of each subset of the labels after splitting on each feature. \n",
    "\n",
    "Note: no code here because this step is included in the information_gain() function. I will leave it to you to split it in a separate function."
   ]
  },
  {
   "cell_type": "code",
   "execution_count": 17,
   "metadata": {},
   "outputs": [
    {
     "data": {
      "text/plain": [
       "['alcohol', 'malic_acid', 'ash', 'color_intensity']"
      ]
     },
     "execution_count": 17,
     "metadata": {},
     "output_type": "execute_result"
    }
   ],
   "source": [
    "features"
   ]
  },
  {
   "cell_type": "markdown",
   "metadata": {},
   "source": [
    "#### Step 7.2 Compute the information gain (IG) for each feature"
   ]
  },
  {
   "cell_type": "code",
   "execution_count": 18,
   "metadata": {},
   "outputs": [
    {
     "name": "stdout",
     "output_type": "stream",
     "text": [
      "0 0.501 alcohol\n",
      "1 0.293 malic_acid\n",
      "2 0.042 ash\n",
      "3 0.368 color_intensity\n"
     ]
    }
   ],
   "source": [
    "for feature in range(len(features)):\n",
    "    IG = information_gain(X_b_train, y_b_train, feature)\n",
    "    print ('%d %.3f %s' %(feature, IG, features[feature]))"
   ]
  },
  {
   "cell_type": "markdown",
   "metadata": {},
   "source": [
    "According to the information gain metric, alcohol is the most useful feature, followed by color intensity. Let's confirm that this agrees with the sklearn decision tree implementation. Actually, sklearn doesn't expose the information gain values. Instead, it stores the distribution of \"feature importances\", which reflects the value of each feature in the full decision tree. Let's train a decision tree with max_depth=1 so it will only choose a single feature. Let's also get the test accuracy with this \"decision stump\"."
   ]
  },
  {
   "cell_type": "code",
   "execution_count": 19,
   "metadata": {},
   "outputs": [
    {
     "name": "stdout",
     "output_type": "stream",
     "text": [
      "Using a decision stump -- a tree with depth 1:\n",
      "Features: ['alcohol', 'malic_acid', 'ash', 'color_intensity']\n",
      "Feature importances: [0.59825507 0.26302453 0.         0.13872039]\n",
      "Accuracy: 0.8222222222222222\n"
     ]
    },
    {
     "data": {
      "image/png": "[encoded data removed]",
      "text/plain": [
       "<Figure size 432x288 with 1 Axes>"
      ]
     },
     "metadata": {
      "needs_background": "light"
     },
     "output_type": "display_data"
    }
   ],
   "source": [
    "dt = DecisionTreeClassifier(criterion='entropy', max_depth=2)\n",
    "dt.fit(X_b_train, y_b_train)\n",
    "tree.plot_tree(dt)\n",
    "print ('Using a decision stump -- a tree with depth 1:')\n",
    "print('Features:', features)\n",
    "print ('Feature importances:', dt.feature_importances_)\n",
    "print ('Accuracy:', dt.score(X_b_test, y_b_test))"
   ]
  },
  {
   "cell_type": "markdown",
   "metadata": {},
   "source": [
    "Question: Are any of the child nodes pure when we use only one feature (max_depth=1)?"
   ]
  },
  {
   "cell_type": "markdown",
   "metadata": {},
   "source": [
    "---\n",
    "We've been using the binarized version of the wine features. Recall that we simply chose thresholds for each feature by taking the mean of each feature. Let's use **information gain (IG)** as a metric to choose a best feature and a best threshold."
   ]
  },
  {
   "cell_type": "code",
   "execution_count": 20,
   "metadata": {},
   "outputs": [
    {
     "name": "stdout",
     "output_type": "stream",
     "text": [
      "feature best_threshold best_IG feature name\n",
      "0 0.053 0.501 alcohol\n",
      "1 0.053 0.293 malic_acid\n",
      "2 0.053 0.042 ash\n",
      "3 0.053 0.368 color_intensity\n"
     ]
    }
   ],
   "source": [
    "try_features_and_thresholds(X_train, y_train)"
   ]
  },
  {
   "cell_type": "markdown",
   "metadata": {},
   "source": [
    "Let's try training actual decision trees (as opposed to stumps) with the original (non-binarized) data. You may need to install GraphViz before exporting the tree."
   ]
  },
  {
   "cell_type": "code",
   "execution_count": 21,
   "metadata": {},
   "outputs": [
    {
     "name": "stdout",
     "output_type": "stream",
     "text": [
      "Accuracy: 0.7777777777777778\n",
      "Features: ['alcohol', 'malic_acid', 'ash', 'color_intensity']\n",
      "Feature importances: [0.49734443 0.32480067 0.         0.1778549 ]\n"
     ]
    },
    {
     "data": {
      "image/png": "[encoded data removed]",
      "text/plain": [
       "<Figure size 432x288 with 1 Axes>"
      ]
     },
     "metadata": {
      "needs_background": "light"
     },
     "output_type": "display_data"
    }
   ],
   "source": [
    "# Train a decision tree classifier.\n",
    "dt = DecisionTreeClassifier(criterion='gini', max_depth=3)\n",
    "clf = dt.fit(X_train, y_train)\n",
    "print ('Accuracy:', dt.score(X_test, y_test))\n",
    "tree.plot_tree(clf);\n",
    "\n",
    "print('Features:', features)\n",
    "print ('Feature importances:', dt.feature_importances_)\n",
    "#tree.export_graphviz(clf)"
   ]
  },
  {
   "cell_type": "markdown",
   "metadata": {},
   "source": [
    "If you successfully output the tree, you should be able to see it here. The first split did not perfectly separate the classes. The next split iwas better at separating classes. At this point, we stop splitting because we don't have enough samples to be convinced that further splitting would generalize well (check what happens if you set the max_depth parameter >2.\n",
    "\n",
    "Note: a depth 3 tree gets 78% accuracy on the test data. A depth 2 gets 82%! Tree pruning, which is not implemented in sklearn, can be useful for choosing a depth that generalizes well."
   ]
  }
 ],
 "metadata": {
  "kernelspec": {
   "display_name": "Python 3",
   "language": "python",
   "name": "python3"
  },
  "language_info": {
   "codemirror_mode": {
    "name": "ipython",
    "version": 3
   },
   "file_extension": ".py",
   "mimetype": "text/x-python",
   "name": "python",
   "nbconvert_exporter": "python",
   "pygments_lexer": "ipython3",
   "version": "3.8.3"
  }
 },
 "nbformat": 4,
 "nbformat_minor": 4
}
